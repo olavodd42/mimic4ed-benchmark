{
 "cells": [
  {
   "cell_type": "markdown",
   "metadata": {},
   "source": [
    "## Modeling for predicting critical outcome at ED triage"
   ]
  },
  {
   "cell_type": "markdown",
   "metadata": {},
   "source": [
    "Work Flow:\n",
    "1. Task-specific filter\n",
    "2. Variable selection\n",
    "3. Modeling script\n",
    "4. Performance output\n"
   ]
  },
  {
   "cell_type": "markdown",
   "metadata": {},
   "source": [
    "### Load train and test"
   ]
  },
  {
   "cell_type": "code",
   "execution_count": 1,
   "metadata": {},
   "outputs": [
    {
     "name": "stderr",
     "output_type": "stream",
     "text": [
      "2025-08-17 16:38:23.297546: E external/local_xla/xla/stream_executor/cuda/cuda_fft.cc:485] Unable to register cuFFT factory: Attempting to register factory for plugin cuFFT when one has already been registered\n",
      "2025-08-17 16:38:23.311818: E external/local_xla/xla/stream_executor/cuda/cuda_dnn.cc:8454] Unable to register cuDNN factory: Attempting to register factory for plugin cuDNN when one has already been registered\n",
      "2025-08-17 16:38:23.315852: E external/local_xla/xla/stream_executor/cuda/cuda_blas.cc:1452] Unable to register cuBLAS factory: Attempting to register factory for plugin cuBLAS when one has already been registered\n",
      "2025-08-17 16:38:23.328403: I tensorflow/core/platform/cpu_feature_guard.cc:210] This TensorFlow binary is optimized to use available CPU instructions in performance-critical operations.\n",
      "To enable the following instructions: AVX2 FMA, in other operations, rebuild TensorFlow with the appropriate compiler flags.\n",
      "2025-08-17 16:38:24.292832: W tensorflow/compiler/tf2tensorrt/utils/py_utils.cc:38] TF-TRT Warning: Could not find TensorRT\n"
     ]
    },
    {
     "name": "stdout",
     "output_type": "stream",
     "text": [
      "Mixed precision ON\n"
     ]
    }
   ],
   "source": [
    "import os\n",
    "import time\n",
    "import random\n",
    "import tensorflow as tf\n",
    "import numpy as np\n",
    "import pandas as pd\n",
    "import math\n",
    "import tensorflow.keras as keras\n",
    "from ast import literal_eval\n",
    "\n",
    "from matplotlib import pyplot as plt\n",
    "from sklearn.preprocessing import LabelEncoder\n",
    "from tensorflow.keras import optimizers, metrics, layers, Model\n",
    "from tensorflow.keras.layers import Dense\n",
    "from tensorflow.keras.models import load_model\n",
    "from helpers import PlotROCCurve\n",
    "from dataset_path import output_path\n",
    "\n",
    "try:\n",
    "    tf.keras.mixed_precision.set_global_policy('mixed_float16')\n",
    "    print(\"Mixed precision ON\")\n",
    "except Exception as e:\n",
    "    print(\"Mixed precision OFF:\", e)\n",
    "    \n",
    "path = output_path\n",
    "output_path = os.path.join(path, \"Figure3\")\n",
    "\n",
    "df_train = pd.read_csv((os.path.join(path, 'train.csv')))\n",
    "df_test = pd.read_csv((os.path.join(path, 'test.csv')))\n",
    "confidence_interval = 95\n",
    "random_seed = 0"
   ]
  },
  {
   "cell_type": "code",
   "execution_count": 2,
   "metadata": {},
   "outputs": [],
   "source": [
    "random.seed(random_seed)\n",
    "np.random.seed(random_seed)"
   ]
  },
  {
   "cell_type": "code",
   "execution_count": 3,
   "metadata": {},
   "outputs": [
    {
     "data": {
      "application/vnd.microsoft.datawrangler.viewer.v0+json": {
       "columns": [
        {
         "name": "index",
         "rawType": "int64",
         "type": "integer"
        },
        {
         "name": "index",
         "rawType": "int64",
         "type": "integer"
        },
        {
         "name": "subject_id",
         "rawType": "int64",
         "type": "integer"
        },
        {
         "name": "hadm_id",
         "rawType": "float64",
         "type": "float"
        },
        {
         "name": "stay_id",
         "rawType": "int64",
         "type": "integer"
        },
        {
         "name": "intime",
         "rawType": "object",
         "type": "string"
        },
        {
         "name": "outtime",
         "rawType": "object",
         "type": "string"
        },
        {
         "name": "gender",
         "rawType": "object",
         "type": "string"
        },
        {
         "name": "race",
         "rawType": "object",
         "type": "string"
        },
        {
         "name": "arrival_transport",
         "rawType": "object",
         "type": "string"
        },
        {
         "name": "disposition",
         "rawType": "object",
         "type": "string"
        },
        {
         "name": "anchor_age",
         "rawType": "float64",
         "type": "float"
        },
        {
         "name": "anchor_year",
         "rawType": "float64",
         "type": "float"
        },
        {
         "name": "dod",
         "rawType": "object",
         "type": "unknown"
        },
        {
         "name": "admittime",
         "rawType": "object",
         "type": "unknown"
        },
        {
         "name": "dischtime",
         "rawType": "object",
         "type": "unknown"
        },
        {
         "name": "deathtime",
         "rawType": "object",
         "type": "unknown"
        },
        {
         "name": "ethnicity",
         "rawType": "object",
         "type": "unknown"
        },
        {
         "name": "edregtime",
         "rawType": "object",
         "type": "unknown"
        },
        {
         "name": "edouttime",
         "rawType": "object",
         "type": "unknown"
        },
        {
         "name": "insurance",
         "rawType": "object",
         "type": "unknown"
        },
        {
         "name": "in_year",
         "rawType": "int64",
         "type": "integer"
        },
        {
         "name": "age",
         "rawType": "float64",
         "type": "float"
        },
        {
         "name": "outcome_inhospital_mortality",
         "rawType": "bool",
         "type": "boolean"
        },
        {
         "name": "ed_los",
         "rawType": "object",
         "type": "string"
        },
        {
         "name": "intime_icu",
         "rawType": "object",
         "type": "unknown"
        },
        {
         "name": "time_to_icu_transfer",
         "rawType": "object",
         "type": "unknown"
        },
        {
         "name": "outcome_icu_transfer_12h",
         "rawType": "bool",
         "type": "boolean"
        },
        {
         "name": "outcome_hospitalization",
         "rawType": "bool",
         "type": "boolean"
        },
        {
         "name": "outcome_critical",
         "rawType": "bool",
         "type": "boolean"
        },
        {
         "name": "n_ed_30d",
         "rawType": "int64",
         "type": "integer"
        },
        {
         "name": "n_ed_90d",
         "rawType": "int64",
         "type": "integer"
        },
        {
         "name": "n_ed_365d",
         "rawType": "int64",
         "type": "integer"
        },
        {
         "name": "next_ed_visit_time",
         "rawType": "object",
         "type": "unknown"
        },
        {
         "name": "next_ed_visit_time_diff",
         "rawType": "object",
         "type": "unknown"
        },
        {
         "name": "outcome_ed_revisit_3d",
         "rawType": "bool",
         "type": "boolean"
        },
        {
         "name": "n_hosp_30d",
         "rawType": "int64",
         "type": "integer"
        },
        {
         "name": "n_hosp_90d",
         "rawType": "int64",
         "type": "integer"
        },
        {
         "name": "n_hosp_365d",
         "rawType": "int64",
         "type": "integer"
        },
        {
         "name": "n_icu_30d",
         "rawType": "int64",
         "type": "integer"
        },
        {
         "name": "n_icu_90d",
         "rawType": "int64",
         "type": "integer"
        },
        {
         "name": "n_icu_365d",
         "rawType": "int64",
         "type": "integer"
        },
        {
         "name": "ed_los_hours",
         "rawType": "float64",
         "type": "float"
        },
        {
         "name": "time_to_icu_transfer_hours",
         "rawType": "float64",
         "type": "float"
        },
        {
         "name": "next_ed_visit_time_diff_days",
         "rawType": "float64",
         "type": "float"
        },
        {
         "name": "triage_temperature",
         "rawType": "float64",
         "type": "float"
        },
        {
         "name": "triage_heartrate",
         "rawType": "float64",
         "type": "float"
        },
        {
         "name": "triage_resprate",
         "rawType": "float64",
         "type": "float"
        },
        {
         "name": "triage_o2sat",
         "rawType": "float64",
         "type": "float"
        },
        {
         "name": "triage_sbp",
         "rawType": "float64",
         "type": "float"
        },
        {
         "name": "triage_dbp",
         "rawType": "float64",
         "type": "float"
        },
        {
         "name": "triage_pain",
         "rawType": "float64",
         "type": "float"
        },
        {
         "name": "triage_acuity",
         "rawType": "float64",
         "type": "float"
        },
        {
         "name": "chiefcomplaint",
         "rawType": "object",
         "type": "string"
        },
        {
         "name": "chiefcom_chest_pain",
         "rawType": "bool",
         "type": "boolean"
        },
        {
         "name": "chiefcom_abdominal_pain",
         "rawType": "bool",
         "type": "boolean"
        },
        {
         "name": "chiefcom_headache",
         "rawType": "bool",
         "type": "boolean"
        },
        {
         "name": "chiefcom_shortness_of_breath",
         "rawType": "bool",
         "type": "boolean"
        },
        {
         "name": "chiefcom_back_pain",
         "rawType": "bool",
         "type": "boolean"
        },
        {
         "name": "chiefcom_cough",
         "rawType": "bool",
         "type": "boolean"
        },
        {
         "name": "chiefcom_nausea_vomiting",
         "rawType": "bool",
         "type": "boolean"
        },
        {
         "name": "chiefcom_fever_chills",
         "rawType": "bool",
         "type": "boolean"
        },
        {
         "name": "chiefcom_syncope",
         "rawType": "bool",
         "type": "boolean"
        },
        {
         "name": "chiefcom_dizziness",
         "rawType": "bool",
         "type": "boolean"
        },
        {
         "name": "cci_MI",
         "rawType": "int64",
         "type": "integer"
        },
        {
         "name": "cci_CHF",
         "rawType": "int64",
         "type": "integer"
        },
        {
         "name": "cci_PVD",
         "rawType": "int64",
         "type": "integer"
        },
        {
         "name": "cci_Stroke",
         "rawType": "int64",
         "type": "integer"
        },
        {
         "name": "cci_Dementia",
         "rawType": "int64",
         "type": "integer"
        },
        {
         "name": "cci_Pulmonary",
         "rawType": "int64",
         "type": "integer"
        },
        {
         "name": "cci_Rheumatic",
         "rawType": "int64",
         "type": "integer"
        },
        {
         "name": "cci_PUD",
         "rawType": "int64",
         "type": "integer"
        },
        {
         "name": "cci_Liver1",
         "rawType": "int64",
         "type": "integer"
        },
        {
         "name": "cci_DM1",
         "rawType": "int64",
         "type": "integer"
        },
        {
         "name": "cci_DM2",
         "rawType": "int64",
         "type": "integer"
        },
        {
         "name": "cci_Paralysis",
         "rawType": "int64",
         "type": "integer"
        },
        {
         "name": "cci_Renal",
         "rawType": "int64",
         "type": "integer"
        },
        {
         "name": "cci_Cancer1",
         "rawType": "int64",
         "type": "integer"
        },
        {
         "name": "cci_Liver2",
         "rawType": "int64",
         "type": "integer"
        },
        {
         "name": "cci_Cancer2",
         "rawType": "int64",
         "type": "integer"
        },
        {
         "name": "cci_HIV",
         "rawType": "int64",
         "type": "integer"
        },
        {
         "name": "eci_CHF",
         "rawType": "int64",
         "type": "integer"
        },
        {
         "name": "eci_Arrhythmia",
         "rawType": "int64",
         "type": "integer"
        },
        {
         "name": "eci_Valvular",
         "rawType": "int64",
         "type": "integer"
        },
        {
         "name": "eci_PHTN",
         "rawType": "int64",
         "type": "integer"
        },
        {
         "name": "eci_PVD",
         "rawType": "int64",
         "type": "integer"
        },
        {
         "name": "eci_HTN1",
         "rawType": "int64",
         "type": "integer"
        },
        {
         "name": "eci_HTN2",
         "rawType": "int64",
         "type": "integer"
        },
        {
         "name": "eci_Paralysis",
         "rawType": "int64",
         "type": "integer"
        },
        {
         "name": "eci_NeuroOther",
         "rawType": "int64",
         "type": "integer"
        },
        {
         "name": "eci_Pulmonary",
         "rawType": "int64",
         "type": "integer"
        },
        {
         "name": "eci_DM1",
         "rawType": "int64",
         "type": "integer"
        },
        {
         "name": "eci_DM2",
         "rawType": "int64",
         "type": "integer"
        },
        {
         "name": "eci_Hypothyroid",
         "rawType": "int64",
         "type": "integer"
        },
        {
         "name": "eci_Renal",
         "rawType": "int64",
         "type": "integer"
        },
        {
         "name": "eci_Liver",
         "rawType": "int64",
         "type": "integer"
        },
        {
         "name": "eci_PUD",
         "rawType": "int64",
         "type": "integer"
        },
        {
         "name": "eci_HIV",
         "rawType": "int64",
         "type": "integer"
        },
        {
         "name": "eci_Lymphoma",
         "rawType": "int64",
         "type": "integer"
        },
        {
         "name": "eci_Tumor2",
         "rawType": "int64",
         "type": "integer"
        },
        {
         "name": "eci_Tumor1",
         "rawType": "int64",
         "type": "integer"
        },
        {
         "name": "eci_Rheumatic",
         "rawType": "int64",
         "type": "integer"
        },
        {
         "name": "eci_Coagulopathy",
         "rawType": "int64",
         "type": "integer"
        },
        {
         "name": "eci_Obesity",
         "rawType": "int64",
         "type": "integer"
        },
        {
         "name": "eci_WeightLoss",
         "rawType": "int64",
         "type": "integer"
        },
        {
         "name": "eci_FluidsLytes",
         "rawType": "int64",
         "type": "integer"
        },
        {
         "name": "eci_BloodLoss",
         "rawType": "int64",
         "type": "integer"
        },
        {
         "name": "eci_Anemia",
         "rawType": "int64",
         "type": "integer"
        },
        {
         "name": "eci_Alcohol",
         "rawType": "int64",
         "type": "integer"
        },
        {
         "name": "eci_Drugs",
         "rawType": "int64",
         "type": "integer"
        },
        {
         "name": "eci_Psychoses",
         "rawType": "int64",
         "type": "integer"
        },
        {
         "name": "eci_Depression",
         "rawType": "int64",
         "type": "integer"
        },
        {
         "name": "ed_temperature_last",
         "rawType": "float64",
         "type": "float"
        },
        {
         "name": "ed_heartrate_last",
         "rawType": "float64",
         "type": "float"
        },
        {
         "name": "ed_resprate_last",
         "rawType": "float64",
         "type": "float"
        },
        {
         "name": "ed_o2sat_last",
         "rawType": "float64",
         "type": "float"
        },
        {
         "name": "ed_sbp_last",
         "rawType": "float64",
         "type": "float"
        },
        {
         "name": "ed_dbp_last",
         "rawType": "float64",
         "type": "float"
        },
        {
         "name": "ed_pain_last",
         "rawType": "float64",
         "type": "float"
        },
        {
         "name": "n_med",
         "rawType": "float64",
         "type": "float"
        },
        {
         "name": "n_medrecon",
         "rawType": "float64",
         "type": "float"
        },
        {
         "name": "triage_MAP",
         "rawType": "float64",
         "type": "float"
        },
        {
         "name": "score_CCI",
         "rawType": "int64",
         "type": "integer"
        },
        {
         "name": "score_CART",
         "rawType": "int64",
         "type": "integer"
        },
        {
         "name": "score_REMS",
         "rawType": "int64",
         "type": "integer"
        },
        {
         "name": "score_NEWS",
         "rawType": "int64",
         "type": "integer"
        },
        {
         "name": "score_NEWS2",
         "rawType": "int64",
         "type": "integer"
        },
        {
         "name": "score_MEWS",
         "rawType": "int64",
         "type": "integer"
        }
       ],
       "ref": "cf017bc9-8f38-4e0a-a5fa-02830e7eb8a4",
       "rows": [
        [
         "0",
         "90728",
         "12155170",
         null,
         "30810678",
         "2157-10-18 07:58:00",
         "2157-10-18 13:35:00",
         "M",
         "WHITE",
         "AMBULANCE",
         "HOME",
         "47.0",
         "2157.0",
         null,
         null,
         null,
         null,
         null,
         null,
         null,
         null,
         "2157",
         "47.0",
         "False",
         "0 days 05:37:00",
         null,
         null,
         "False",
         "False",
         "False",
         "0",
         "0",
         "0",
         null,
         null,
         "False",
         "0",
         "0",
         "0",
         "0",
         "0",
         "0",
         "5.62",
         null,
         null,
         "36.55555555555556",
         "87.0",
         "18.0",
         "97.0",
         "119.0",
         "83.0",
         "5.0",
         "3.0",
         "L Rib pain, SI",
         "False",
         "False",
         "False",
         "False",
         "False",
         "False",
         "False",
         "False",
         "False",
         "False",
         "0",
         "0",
         "0",
         "0",
         "0",
         "0",
         "0",
         "0",
         "0",
         "0",
         "0",
         "0",
         "0",
         "0",
         "0",
         "0",
         "0",
         "0",
         "0",
         "0",
         "0",
         "0",
         "0",
         "0",
         "0",
         "0",
         "0",
         "0",
         "0",
         "0",
         "0",
         "0",
         "0",
         "0",
         "0",
         "0",
         "0",
         "0",
         "0",
         "0",
         "0",
         "0",
         "0",
         "0",
         "0",
         "0",
         "0",
         "0",
         "36.55555555555556",
         "94.0",
         "18.0",
         "97.0",
         "139.0",
         "93.0",
         "5.0",
         "2.0",
         "12.0",
         "95.0",
         "0",
         "0",
         "2",
         "0",
         "0",
         "1"
        ],
        [
         "1",
         "84908",
         "12020576",
         null,
         "33335111",
         "2149-11-30 19:15:00",
         "2149-11-30 21:49:00",
         "M",
         "OTHER",
         "WALK IN",
         "HOME",
         "44.0",
         "2149.0",
         null,
         null,
         null,
         null,
         null,
         null,
         null,
         null,
         "2149",
         "44.0",
         "False",
         "0 days 02:34:00",
         null,
         null,
         "False",
         "False",
         "False",
         "0",
         "0",
         "0",
         "2149-12-19 19:58:00",
         "18 days 22:09:00",
         "False",
         "0",
         "0",
         "0",
         "0",
         "0",
         "0",
         "2.57",
         null,
         "18.92",
         "36.55555555555556",
         "64.0",
         "18.0",
         "100.0",
         "151.0",
         "93.0",
         "5.0",
         "3.0",
         "ABD PAIN",
         "False",
         "True",
         "False",
         "False",
         "False",
         "False",
         "False",
         "False",
         "False",
         "False",
         "0",
         "0",
         "0",
         "0",
         "0",
         "0",
         "0",
         "0",
         "0",
         "0",
         "0",
         "0",
         "0",
         "0",
         "0",
         "0",
         "0",
         "0",
         "0",
         "0",
         "0",
         "0",
         "0",
         "0",
         "0",
         "0",
         "0",
         "0",
         "0",
         "0",
         "0",
         "0",
         "0",
         "0",
         "0",
         "0",
         "0",
         "0",
         "0",
         "0",
         "0",
         "0",
         "0",
         "0",
         "0",
         "0",
         "0",
         "0",
         "36.11111111111112",
         "84.0",
         "13.0",
         "100.0",
         "127.0",
         "70.0",
         "0.0",
         "4.0",
         "0.0",
         "112.33333333333334",
         "0",
         "0",
         "4",
         "0",
         "0",
         "1"
        ],
        [
         "2",
         "375094",
         "18818507",
         null,
         "39510756",
         "2205-01-05 11:34:00",
         "2205-01-05 16:54:00",
         "M",
         "BLACK/AFRICAN AMERICAN",
         "WALK IN",
         "ELOPED",
         "44.0",
         "2198.0",
         null,
         null,
         null,
         null,
         "BLACK/AFRICAN AMERICAN",
         null,
         null,
         null,
         "2205",
         "51.0",
         "False",
         "0 days 05:20:00",
         null,
         null,
         "False",
         "False",
         "False",
         "0",
         "0",
         "2",
         "2205-09-24 07:27:00",
         "261 days 14:33:00",
         "False",
         "0",
         "0",
         "1",
         "0",
         "0",
         "0",
         "5.33",
         null,
         "261.61",
         "37.11111111111112",
         "74.0",
         "18.0",
         "98.0",
         "178.0",
         "103.0",
         "10.0",
         "3.0",
         "Headache",
         "False",
         "False",
         "True",
         "False",
         "False",
         "False",
         "False",
         "False",
         "False",
         "False",
         "0",
         "0",
         "0",
         "0",
         "0",
         "0",
         "0",
         "0",
         "0",
         "0",
         "0",
         "0",
         "0",
         "0",
         "0",
         "0",
         "0",
         "0",
         "1",
         "0",
         "0",
         "0",
         "0",
         "1",
         "0",
         "0",
         "0",
         "0",
         "0",
         "0",
         "0",
         "0",
         "0",
         "0",
         "0",
         "0",
         "0",
         "0",
         "0",
         "0",
         "0",
         "0",
         "0",
         "0",
         "1",
         "1",
         "0",
         "0",
         "36.66666666666667",
         "75.0",
         "16.0",
         "99.0",
         "146.0",
         "100.0",
         "0.0",
         "4.0",
         "6.0",
         "128.0",
         "1",
         "0",
         "4",
         "0",
         "0",
         "1"
        ],
        [
         "3",
         "211628",
         "14995724",
         "26467950.0",
         "34723899",
         "2123-12-06 11:51:00",
         "2123-12-06 17:56:00",
         "M",
         "WHITE",
         "AMBULANCE",
         "ADMITTED",
         "91.0",
         "2123.0",
         "2128-11-22",
         "2123-12-06 16:00:00",
         "2123-12-09 18:01:00",
         null,
         "WHITE",
         "2123-12-06 11:51:00",
         "2123-12-06 17:56:00",
         "Medicare",
         "2123",
         "91.0",
         "False",
         "0 days 06:05:00",
         null,
         null,
         "False",
         "True",
         "False",
         "0",
         "0",
         "0",
         "2126-03-14 12:24:00",
         "828 days 18:28:00",
         "False",
         "0",
         "0",
         "0",
         "0",
         "0",
         "0",
         "6.08",
         null,
         "828.77",
         "36.27777777777778",
         "66.0",
         "14.0",
         "96.0",
         "129.0",
         "53.0",
         "0.0",
         "3.0",
         "UNWITNESSED FALL ",
         "False",
         "False",
         "False",
         "False",
         "False",
         "False",
         "False",
         "False",
         "False",
         "False",
         "0",
         "0",
         "0",
         "0",
         "0",
         "0",
         "0",
         "0",
         "0",
         "0",
         "0",
         "0",
         "0",
         "0",
         "0",
         "0",
         "0",
         "0",
         "0",
         "0",
         "0",
         "0",
         "0",
         "0",
         "0",
         "0",
         "0",
         "0",
         "0",
         "0",
         "0",
         "0",
         "0",
         "0",
         "0",
         "0",
         "0",
         "0",
         "0",
         "0",
         "0",
         "0",
         "0",
         "0",
         "0",
         "0",
         "0",
         "0",
         "36.61111111111112",
         "60.0",
         "18.0",
         "94.0",
         "122.0",
         "66.0",
         "0.0",
         "2.0",
         "10.0",
         "78.33333333333334",
         "4",
         "9",
         "8",
         "0",
         "0",
         "0"
        ],
        [
         "4",
         "101301",
         "12406461",
         "23331394.0",
         "36115826",
         "2131-01-18 21:17:00",
         "2131-01-19 03:20:00",
         "F",
         "WHITE",
         "WALK IN",
         "ADMITTED",
         "23.0",
         "2125.0",
         null,
         "2131-01-19 01:40:00",
         "2131-02-13 18:30:00",
         null,
         "WHITE",
         "2131-01-18 21:17:00",
         "2131-01-19 03:20:00",
         "Medicare",
         "2131",
         "29.0",
         "False",
         "0 days 06:03:00",
         null,
         null,
         "False",
         "True",
         "False",
         "1",
         "3",
         "12",
         "2131-03-02 20:56:00",
         "42 days 17:36:00",
         "False",
         "1",
         "3",
         "10",
         "0",
         "0",
         "0",
         "6.05",
         null,
         "42.73",
         "38.16666666666667",
         "133.0",
         "18.0",
         "100.0",
         "136.0",
         "89.0",
         "7.0",
         "2.0",
         "Fever",
         "False",
         "False",
         "False",
         "False",
         "False",
         "False",
         "False",
         "True",
         "False",
         "False",
         "0",
         "0",
         "0",
         "0",
         "0",
         "0",
         "0",
         "1",
         "0",
         "0",
         "0",
         "0",
         "0",
         "0",
         "0",
         "0",
         "0",
         "0",
         "1",
         "1",
         "0",
         "0",
         "0",
         "0",
         "0",
         "0",
         "0",
         "0",
         "0",
         "0",
         "0",
         "0",
         "1",
         "0",
         "0",
         "0",
         "0",
         "0",
         "1",
         "0",
         "1",
         "1",
         "1",
         "1",
         "0",
         "0",
         "0",
         "0",
         "37.11111111111112",
         "86.0",
         "18.0",
         "100.0",
         "127.0",
         "79.0",
         "0.0",
         "2.0",
         "13.0",
         "104.66666666666669",
         "1",
         "4",
         "2",
         "4",
         "4",
         "4"
        ]
       ],
       "shape": {
        "columns": 127,
        "rows": 5
       }
      },
      "text/html": [
       "<div>\n",
       "<style scoped>\n",
       "    .dataframe tbody tr th:only-of-type {\n",
       "        vertical-align: middle;\n",
       "    }\n",
       "\n",
       "    .dataframe tbody tr th {\n",
       "        vertical-align: top;\n",
       "    }\n",
       "\n",
       "    .dataframe thead th {\n",
       "        text-align: right;\n",
       "    }\n",
       "</style>\n",
       "<table border=\"1\" class=\"dataframe\">\n",
       "  <thead>\n",
       "    <tr style=\"text-align: right;\">\n",
       "      <th></th>\n",
       "      <th>index</th>\n",
       "      <th>subject_id</th>\n",
       "      <th>hadm_id</th>\n",
       "      <th>stay_id</th>\n",
       "      <th>intime</th>\n",
       "      <th>outtime</th>\n",
       "      <th>gender</th>\n",
       "      <th>race</th>\n",
       "      <th>arrival_transport</th>\n",
       "      <th>disposition</th>\n",
       "      <th>anchor_age</th>\n",
       "      <th>anchor_year</th>\n",
       "      <th>dod</th>\n",
       "      <th>admittime</th>\n",
       "      <th>dischtime</th>\n",
       "      <th>deathtime</th>\n",
       "      <th>ethnicity</th>\n",
       "      <th>edregtime</th>\n",
       "      <th>edouttime</th>\n",
       "      <th>insurance</th>\n",
       "      <th>in_year</th>\n",
       "      <th>age</th>\n",
       "      <th>outcome_inhospital_mortality</th>\n",
       "      <th>ed_los</th>\n",
       "      <th>intime_icu</th>\n",
       "      <th>time_to_icu_transfer</th>\n",
       "      <th>outcome_icu_transfer_12h</th>\n",
       "      <th>outcome_hospitalization</th>\n",
       "      <th>outcome_critical</th>\n",
       "      <th>n_ed_30d</th>\n",
       "      <th>n_ed_90d</th>\n",
       "      <th>n_ed_365d</th>\n",
       "      <th>next_ed_visit_time</th>\n",
       "      <th>next_ed_visit_time_diff</th>\n",
       "      <th>outcome_ed_revisit_3d</th>\n",
       "      <th>n_hosp_30d</th>\n",
       "      <th>n_hosp_90d</th>\n",
       "      <th>n_hosp_365d</th>\n",
       "      <th>n_icu_30d</th>\n",
       "      <th>n_icu_90d</th>\n",
       "      <th>n_icu_365d</th>\n",
       "      <th>ed_los_hours</th>\n",
       "      <th>time_to_icu_transfer_hours</th>\n",
       "      <th>next_ed_visit_time_diff_days</th>\n",
       "      <th>triage_temperature</th>\n",
       "      <th>triage_heartrate</th>\n",
       "      <th>triage_resprate</th>\n",
       "      <th>triage_o2sat</th>\n",
       "      <th>triage_sbp</th>\n",
       "      <th>triage_dbp</th>\n",
       "      <th>...</th>\n",
       "      <th>cci_Liver2</th>\n",
       "      <th>cci_Cancer2</th>\n",
       "      <th>cci_HIV</th>\n",
       "      <th>eci_CHF</th>\n",
       "      <th>eci_Arrhythmia</th>\n",
       "      <th>eci_Valvular</th>\n",
       "      <th>eci_PHTN</th>\n",
       "      <th>eci_PVD</th>\n",
       "      <th>eci_HTN1</th>\n",
       "      <th>eci_HTN2</th>\n",
       "      <th>eci_Paralysis</th>\n",
       "      <th>eci_NeuroOther</th>\n",
       "      <th>eci_Pulmonary</th>\n",
       "      <th>eci_DM1</th>\n",
       "      <th>eci_DM2</th>\n",
       "      <th>eci_Hypothyroid</th>\n",
       "      <th>eci_Renal</th>\n",
       "      <th>eci_Liver</th>\n",
       "      <th>eci_PUD</th>\n",
       "      <th>eci_HIV</th>\n",
       "      <th>eci_Lymphoma</th>\n",
       "      <th>eci_Tumor2</th>\n",
       "      <th>eci_Tumor1</th>\n",
       "      <th>eci_Rheumatic</th>\n",
       "      <th>eci_Coagulopathy</th>\n",
       "      <th>eci_Obesity</th>\n",
       "      <th>eci_WeightLoss</th>\n",
       "      <th>eci_FluidsLytes</th>\n",
       "      <th>eci_BloodLoss</th>\n",
       "      <th>eci_Anemia</th>\n",
       "      <th>eci_Alcohol</th>\n",
       "      <th>eci_Drugs</th>\n",
       "      <th>eci_Psychoses</th>\n",
       "      <th>eci_Depression</th>\n",
       "      <th>ed_temperature_last</th>\n",
       "      <th>ed_heartrate_last</th>\n",
       "      <th>ed_resprate_last</th>\n",
       "      <th>ed_o2sat_last</th>\n",
       "      <th>ed_sbp_last</th>\n",
       "      <th>ed_dbp_last</th>\n",
       "      <th>ed_pain_last</th>\n",
       "      <th>n_med</th>\n",
       "      <th>n_medrecon</th>\n",
       "      <th>triage_MAP</th>\n",
       "      <th>score_CCI</th>\n",
       "      <th>score_CART</th>\n",
       "      <th>score_REMS</th>\n",
       "      <th>score_NEWS</th>\n",
       "      <th>score_NEWS2</th>\n",
       "      <th>score_MEWS</th>\n",
       "    </tr>\n",
       "  </thead>\n",
       "  <tbody>\n",
       "    <tr>\n",
       "      <th>0</th>\n",
       "      <td>90728</td>\n",
       "      <td>12155170</td>\n",
       "      <td>NaN</td>\n",
       "      <td>30810678</td>\n",
       "      <td>2157-10-18 07:58:00</td>\n",
       "      <td>2157-10-18 13:35:00</td>\n",
       "      <td>M</td>\n",
       "      <td>WHITE</td>\n",
       "      <td>AMBULANCE</td>\n",
       "      <td>HOME</td>\n",
       "      <td>47.0</td>\n",
       "      <td>2157.0</td>\n",
       "      <td>NaN</td>\n",
       "      <td>NaN</td>\n",
       "      <td>NaN</td>\n",
       "      <td>NaN</td>\n",
       "      <td>NaN</td>\n",
       "      <td>NaN</td>\n",
       "      <td>NaN</td>\n",
       "      <td>NaN</td>\n",
       "      <td>2157</td>\n",
       "      <td>47.0</td>\n",
       "      <td>False</td>\n",
       "      <td>0 days 05:37:00</td>\n",
       "      <td>NaN</td>\n",
       "      <td>NaN</td>\n",
       "      <td>False</td>\n",
       "      <td>False</td>\n",
       "      <td>False</td>\n",
       "      <td>0</td>\n",
       "      <td>0</td>\n",
       "      <td>0</td>\n",
       "      <td>NaN</td>\n",
       "      <td>NaN</td>\n",
       "      <td>False</td>\n",
       "      <td>0</td>\n",
       "      <td>0</td>\n",
       "      <td>0</td>\n",
       "      <td>0</td>\n",
       "      <td>0</td>\n",
       "      <td>0</td>\n",
       "      <td>5.62</td>\n",
       "      <td>NaN</td>\n",
       "      <td>NaN</td>\n",
       "      <td>36.555556</td>\n",
       "      <td>87.0</td>\n",
       "      <td>18.0</td>\n",
       "      <td>97.0</td>\n",
       "      <td>119.0</td>\n",
       "      <td>83.0</td>\n",
       "      <td>...</td>\n",
       "      <td>0</td>\n",
       "      <td>0</td>\n",
       "      <td>0</td>\n",
       "      <td>0</td>\n",
       "      <td>0</td>\n",
       "      <td>0</td>\n",
       "      <td>0</td>\n",
       "      <td>0</td>\n",
       "      <td>0</td>\n",
       "      <td>0</td>\n",
       "      <td>0</td>\n",
       "      <td>0</td>\n",
       "      <td>0</td>\n",
       "      <td>0</td>\n",
       "      <td>0</td>\n",
       "      <td>0</td>\n",
       "      <td>0</td>\n",
       "      <td>0</td>\n",
       "      <td>0</td>\n",
       "      <td>0</td>\n",
       "      <td>0</td>\n",
       "      <td>0</td>\n",
       "      <td>0</td>\n",
       "      <td>0</td>\n",
       "      <td>0</td>\n",
       "      <td>0</td>\n",
       "      <td>0</td>\n",
       "      <td>0</td>\n",
       "      <td>0</td>\n",
       "      <td>0</td>\n",
       "      <td>0</td>\n",
       "      <td>0</td>\n",
       "      <td>0</td>\n",
       "      <td>0</td>\n",
       "      <td>36.555556</td>\n",
       "      <td>94.0</td>\n",
       "      <td>18.0</td>\n",
       "      <td>97.0</td>\n",
       "      <td>139.0</td>\n",
       "      <td>93.0</td>\n",
       "      <td>5.0</td>\n",
       "      <td>2.0</td>\n",
       "      <td>12.0</td>\n",
       "      <td>95.000000</td>\n",
       "      <td>0</td>\n",
       "      <td>0</td>\n",
       "      <td>2</td>\n",
       "      <td>0</td>\n",
       "      <td>0</td>\n",
       "      <td>1</td>\n",
       "    </tr>\n",
       "    <tr>\n",
       "      <th>1</th>\n",
       "      <td>84908</td>\n",
       "      <td>12020576</td>\n",
       "      <td>NaN</td>\n",
       "      <td>33335111</td>\n",
       "      <td>2149-11-30 19:15:00</td>\n",
       "      <td>2149-11-30 21:49:00</td>\n",
       "      <td>M</td>\n",
       "      <td>OTHER</td>\n",
       "      <td>WALK IN</td>\n",
       "      <td>HOME</td>\n",
       "      <td>44.0</td>\n",
       "      <td>2149.0</td>\n",
       "      <td>NaN</td>\n",
       "      <td>NaN</td>\n",
       "      <td>NaN</td>\n",
       "      <td>NaN</td>\n",
       "      <td>NaN</td>\n",
       "      <td>NaN</td>\n",
       "      <td>NaN</td>\n",
       "      <td>NaN</td>\n",
       "      <td>2149</td>\n",
       "      <td>44.0</td>\n",
       "      <td>False</td>\n",
       "      <td>0 days 02:34:00</td>\n",
       "      <td>NaN</td>\n",
       "      <td>NaN</td>\n",
       "      <td>False</td>\n",
       "      <td>False</td>\n",
       "      <td>False</td>\n",
       "      <td>0</td>\n",
       "      <td>0</td>\n",
       "      <td>0</td>\n",
       "      <td>2149-12-19 19:58:00</td>\n",
       "      <td>18 days 22:09:00</td>\n",
       "      <td>False</td>\n",
       "      <td>0</td>\n",
       "      <td>0</td>\n",
       "      <td>0</td>\n",
       "      <td>0</td>\n",
       "      <td>0</td>\n",
       "      <td>0</td>\n",
       "      <td>2.57</td>\n",
       "      <td>NaN</td>\n",
       "      <td>18.92</td>\n",
       "      <td>36.555556</td>\n",
       "      <td>64.0</td>\n",
       "      <td>18.0</td>\n",
       "      <td>100.0</td>\n",
       "      <td>151.0</td>\n",
       "      <td>93.0</td>\n",
       "      <td>...</td>\n",
       "      <td>0</td>\n",
       "      <td>0</td>\n",
       "      <td>0</td>\n",
       "      <td>0</td>\n",
       "      <td>0</td>\n",
       "      <td>0</td>\n",
       "      <td>0</td>\n",
       "      <td>0</td>\n",
       "      <td>0</td>\n",
       "      <td>0</td>\n",
       "      <td>0</td>\n",
       "      <td>0</td>\n",
       "      <td>0</td>\n",
       "      <td>0</td>\n",
       "      <td>0</td>\n",
       "      <td>0</td>\n",
       "      <td>0</td>\n",
       "      <td>0</td>\n",
       "      <td>0</td>\n",
       "      <td>0</td>\n",
       "      <td>0</td>\n",
       "      <td>0</td>\n",
       "      <td>0</td>\n",
       "      <td>0</td>\n",
       "      <td>0</td>\n",
       "      <td>0</td>\n",
       "      <td>0</td>\n",
       "      <td>0</td>\n",
       "      <td>0</td>\n",
       "      <td>0</td>\n",
       "      <td>0</td>\n",
       "      <td>0</td>\n",
       "      <td>0</td>\n",
       "      <td>0</td>\n",
       "      <td>36.111111</td>\n",
       "      <td>84.0</td>\n",
       "      <td>13.0</td>\n",
       "      <td>100.0</td>\n",
       "      <td>127.0</td>\n",
       "      <td>70.0</td>\n",
       "      <td>0.0</td>\n",
       "      <td>4.0</td>\n",
       "      <td>0.0</td>\n",
       "      <td>112.333333</td>\n",
       "      <td>0</td>\n",
       "      <td>0</td>\n",
       "      <td>4</td>\n",
       "      <td>0</td>\n",
       "      <td>0</td>\n",
       "      <td>1</td>\n",
       "    </tr>\n",
       "    <tr>\n",
       "      <th>2</th>\n",
       "      <td>375094</td>\n",
       "      <td>18818507</td>\n",
       "      <td>NaN</td>\n",
       "      <td>39510756</td>\n",
       "      <td>2205-01-05 11:34:00</td>\n",
       "      <td>2205-01-05 16:54:00</td>\n",
       "      <td>M</td>\n",
       "      <td>BLACK/AFRICAN AMERICAN</td>\n",
       "      <td>WALK IN</td>\n",
       "      <td>ELOPED</td>\n",
       "      <td>44.0</td>\n",
       "      <td>2198.0</td>\n",
       "      <td>NaN</td>\n",
       "      <td>NaN</td>\n",
       "      <td>NaN</td>\n",
       "      <td>NaN</td>\n",
       "      <td>BLACK/AFRICAN AMERICAN</td>\n",
       "      <td>NaN</td>\n",
       "      <td>NaN</td>\n",
       "      <td>NaN</td>\n",
       "      <td>2205</td>\n",
       "      <td>51.0</td>\n",
       "      <td>False</td>\n",
       "      <td>0 days 05:20:00</td>\n",
       "      <td>NaN</td>\n",
       "      <td>NaN</td>\n",
       "      <td>False</td>\n",
       "      <td>False</td>\n",
       "      <td>False</td>\n",
       "      <td>0</td>\n",
       "      <td>0</td>\n",
       "      <td>2</td>\n",
       "      <td>2205-09-24 07:27:00</td>\n",
       "      <td>261 days 14:33:00</td>\n",
       "      <td>False</td>\n",
       "      <td>0</td>\n",
       "      <td>0</td>\n",
       "      <td>1</td>\n",
       "      <td>0</td>\n",
       "      <td>0</td>\n",
       "      <td>0</td>\n",
       "      <td>5.33</td>\n",
       "      <td>NaN</td>\n",
       "      <td>261.61</td>\n",
       "      <td>37.111111</td>\n",
       "      <td>74.0</td>\n",
       "      <td>18.0</td>\n",
       "      <td>98.0</td>\n",
       "      <td>178.0</td>\n",
       "      <td>103.0</td>\n",
       "      <td>...</td>\n",
       "      <td>0</td>\n",
       "      <td>0</td>\n",
       "      <td>0</td>\n",
       "      <td>0</td>\n",
       "      <td>1</td>\n",
       "      <td>0</td>\n",
       "      <td>0</td>\n",
       "      <td>0</td>\n",
       "      <td>0</td>\n",
       "      <td>1</td>\n",
       "      <td>0</td>\n",
       "      <td>0</td>\n",
       "      <td>0</td>\n",
       "      <td>0</td>\n",
       "      <td>0</td>\n",
       "      <td>0</td>\n",
       "      <td>0</td>\n",
       "      <td>0</td>\n",
       "      <td>0</td>\n",
       "      <td>0</td>\n",
       "      <td>0</td>\n",
       "      <td>0</td>\n",
       "      <td>0</td>\n",
       "      <td>0</td>\n",
       "      <td>0</td>\n",
       "      <td>0</td>\n",
       "      <td>0</td>\n",
       "      <td>0</td>\n",
       "      <td>0</td>\n",
       "      <td>0</td>\n",
       "      <td>1</td>\n",
       "      <td>1</td>\n",
       "      <td>0</td>\n",
       "      <td>0</td>\n",
       "      <td>36.666667</td>\n",
       "      <td>75.0</td>\n",
       "      <td>16.0</td>\n",
       "      <td>99.0</td>\n",
       "      <td>146.0</td>\n",
       "      <td>100.0</td>\n",
       "      <td>0.0</td>\n",
       "      <td>4.0</td>\n",
       "      <td>6.0</td>\n",
       "      <td>128.000000</td>\n",
       "      <td>1</td>\n",
       "      <td>0</td>\n",
       "      <td>4</td>\n",
       "      <td>0</td>\n",
       "      <td>0</td>\n",
       "      <td>1</td>\n",
       "    </tr>\n",
       "    <tr>\n",
       "      <th>3</th>\n",
       "      <td>211628</td>\n",
       "      <td>14995724</td>\n",
       "      <td>26467950.0</td>\n",
       "      <td>34723899</td>\n",
       "      <td>2123-12-06 11:51:00</td>\n",
       "      <td>2123-12-06 17:56:00</td>\n",
       "      <td>M</td>\n",
       "      <td>WHITE</td>\n",
       "      <td>AMBULANCE</td>\n",
       "      <td>ADMITTED</td>\n",
       "      <td>91.0</td>\n",
       "      <td>2123.0</td>\n",
       "      <td>2128-11-22</td>\n",
       "      <td>2123-12-06 16:00:00</td>\n",
       "      <td>2123-12-09 18:01:00</td>\n",
       "      <td>NaN</td>\n",
       "      <td>WHITE</td>\n",
       "      <td>2123-12-06 11:51:00</td>\n",
       "      <td>2123-12-06 17:56:00</td>\n",
       "      <td>Medicare</td>\n",
       "      <td>2123</td>\n",
       "      <td>91.0</td>\n",
       "      <td>False</td>\n",
       "      <td>0 days 06:05:00</td>\n",
       "      <td>NaN</td>\n",
       "      <td>NaN</td>\n",
       "      <td>False</td>\n",
       "      <td>True</td>\n",
       "      <td>False</td>\n",
       "      <td>0</td>\n",
       "      <td>0</td>\n",
       "      <td>0</td>\n",
       "      <td>2126-03-14 12:24:00</td>\n",
       "      <td>828 days 18:28:00</td>\n",
       "      <td>False</td>\n",
       "      <td>0</td>\n",
       "      <td>0</td>\n",
       "      <td>0</td>\n",
       "      <td>0</td>\n",
       "      <td>0</td>\n",
       "      <td>0</td>\n",
       "      <td>6.08</td>\n",
       "      <td>NaN</td>\n",
       "      <td>828.77</td>\n",
       "      <td>36.277778</td>\n",
       "      <td>66.0</td>\n",
       "      <td>14.0</td>\n",
       "      <td>96.0</td>\n",
       "      <td>129.0</td>\n",
       "      <td>53.0</td>\n",
       "      <td>...</td>\n",
       "      <td>0</td>\n",
       "      <td>0</td>\n",
       "      <td>0</td>\n",
       "      <td>0</td>\n",
       "      <td>0</td>\n",
       "      <td>0</td>\n",
       "      <td>0</td>\n",
       "      <td>0</td>\n",
       "      <td>0</td>\n",
       "      <td>0</td>\n",
       "      <td>0</td>\n",
       "      <td>0</td>\n",
       "      <td>0</td>\n",
       "      <td>0</td>\n",
       "      <td>0</td>\n",
       "      <td>0</td>\n",
       "      <td>0</td>\n",
       "      <td>0</td>\n",
       "      <td>0</td>\n",
       "      <td>0</td>\n",
       "      <td>0</td>\n",
       "      <td>0</td>\n",
       "      <td>0</td>\n",
       "      <td>0</td>\n",
       "      <td>0</td>\n",
       "      <td>0</td>\n",
       "      <td>0</td>\n",
       "      <td>0</td>\n",
       "      <td>0</td>\n",
       "      <td>0</td>\n",
       "      <td>0</td>\n",
       "      <td>0</td>\n",
       "      <td>0</td>\n",
       "      <td>0</td>\n",
       "      <td>36.611111</td>\n",
       "      <td>60.0</td>\n",
       "      <td>18.0</td>\n",
       "      <td>94.0</td>\n",
       "      <td>122.0</td>\n",
       "      <td>66.0</td>\n",
       "      <td>0.0</td>\n",
       "      <td>2.0</td>\n",
       "      <td>10.0</td>\n",
       "      <td>78.333333</td>\n",
       "      <td>4</td>\n",
       "      <td>9</td>\n",
       "      <td>8</td>\n",
       "      <td>0</td>\n",
       "      <td>0</td>\n",
       "      <td>0</td>\n",
       "    </tr>\n",
       "    <tr>\n",
       "      <th>4</th>\n",
       "      <td>101301</td>\n",
       "      <td>12406461</td>\n",
       "      <td>23331394.0</td>\n",
       "      <td>36115826</td>\n",
       "      <td>2131-01-18 21:17:00</td>\n",
       "      <td>2131-01-19 03:20:00</td>\n",
       "      <td>F</td>\n",
       "      <td>WHITE</td>\n",
       "      <td>WALK IN</td>\n",
       "      <td>ADMITTED</td>\n",
       "      <td>23.0</td>\n",
       "      <td>2125.0</td>\n",
       "      <td>NaN</td>\n",
       "      <td>2131-01-19 01:40:00</td>\n",
       "      <td>2131-02-13 18:30:00</td>\n",
       "      <td>NaN</td>\n",
       "      <td>WHITE</td>\n",
       "      <td>2131-01-18 21:17:00</td>\n",
       "      <td>2131-01-19 03:20:00</td>\n",
       "      <td>Medicare</td>\n",
       "      <td>2131</td>\n",
       "      <td>29.0</td>\n",
       "      <td>False</td>\n",
       "      <td>0 days 06:03:00</td>\n",
       "      <td>NaN</td>\n",
       "      <td>NaN</td>\n",
       "      <td>False</td>\n",
       "      <td>True</td>\n",
       "      <td>False</td>\n",
       "      <td>1</td>\n",
       "      <td>3</td>\n",
       "      <td>12</td>\n",
       "      <td>2131-03-02 20:56:00</td>\n",
       "      <td>42 days 17:36:00</td>\n",
       "      <td>False</td>\n",
       "      <td>1</td>\n",
       "      <td>3</td>\n",
       "      <td>10</td>\n",
       "      <td>0</td>\n",
       "      <td>0</td>\n",
       "      <td>0</td>\n",
       "      <td>6.05</td>\n",
       "      <td>NaN</td>\n",
       "      <td>42.73</td>\n",
       "      <td>38.166667</td>\n",
       "      <td>133.0</td>\n",
       "      <td>18.0</td>\n",
       "      <td>100.0</td>\n",
       "      <td>136.0</td>\n",
       "      <td>89.0</td>\n",
       "      <td>...</td>\n",
       "      <td>0</td>\n",
       "      <td>0</td>\n",
       "      <td>0</td>\n",
       "      <td>0</td>\n",
       "      <td>1</td>\n",
       "      <td>1</td>\n",
       "      <td>0</td>\n",
       "      <td>0</td>\n",
       "      <td>0</td>\n",
       "      <td>0</td>\n",
       "      <td>0</td>\n",
       "      <td>0</td>\n",
       "      <td>0</td>\n",
       "      <td>0</td>\n",
       "      <td>0</td>\n",
       "      <td>0</td>\n",
       "      <td>0</td>\n",
       "      <td>0</td>\n",
       "      <td>1</td>\n",
       "      <td>0</td>\n",
       "      <td>0</td>\n",
       "      <td>0</td>\n",
       "      <td>0</td>\n",
       "      <td>0</td>\n",
       "      <td>1</td>\n",
       "      <td>0</td>\n",
       "      <td>1</td>\n",
       "      <td>1</td>\n",
       "      <td>1</td>\n",
       "      <td>1</td>\n",
       "      <td>0</td>\n",
       "      <td>0</td>\n",
       "      <td>0</td>\n",
       "      <td>0</td>\n",
       "      <td>37.111111</td>\n",
       "      <td>86.0</td>\n",
       "      <td>18.0</td>\n",
       "      <td>100.0</td>\n",
       "      <td>127.0</td>\n",
       "      <td>79.0</td>\n",
       "      <td>0.0</td>\n",
       "      <td>2.0</td>\n",
       "      <td>13.0</td>\n",
       "      <td>104.666667</td>\n",
       "      <td>1</td>\n",
       "      <td>4</td>\n",
       "      <td>2</td>\n",
       "      <td>4</td>\n",
       "      <td>4</td>\n",
       "      <td>4</td>\n",
       "    </tr>\n",
       "  </tbody>\n",
       "</table>\n",
       "<p>5 rows × 127 columns</p>\n",
       "</div>"
      ],
      "text/plain": [
       "    index  subject_id     hadm_id   stay_id               intime  \\\n",
       "0   90728    12155170         NaN  30810678  2157-10-18 07:58:00   \n",
       "1   84908    12020576         NaN  33335111  2149-11-30 19:15:00   \n",
       "2  375094    18818507         NaN  39510756  2205-01-05 11:34:00   \n",
       "3  211628    14995724  26467950.0  34723899  2123-12-06 11:51:00   \n",
       "4  101301    12406461  23331394.0  36115826  2131-01-18 21:17:00   \n",
       "\n",
       "               outtime gender                    race arrival_transport  \\\n",
       "0  2157-10-18 13:35:00      M                   WHITE         AMBULANCE   \n",
       "1  2149-11-30 21:49:00      M                   OTHER           WALK IN   \n",
       "2  2205-01-05 16:54:00      M  BLACK/AFRICAN AMERICAN           WALK IN   \n",
       "3  2123-12-06 17:56:00      M                   WHITE         AMBULANCE   \n",
       "4  2131-01-19 03:20:00      F                   WHITE           WALK IN   \n",
       "\n",
       "  disposition  anchor_age  anchor_year         dod            admittime  \\\n",
       "0        HOME        47.0       2157.0         NaN                  NaN   \n",
       "1        HOME        44.0       2149.0         NaN                  NaN   \n",
       "2      ELOPED        44.0       2198.0         NaN                  NaN   \n",
       "3    ADMITTED        91.0       2123.0  2128-11-22  2123-12-06 16:00:00   \n",
       "4    ADMITTED        23.0       2125.0         NaN  2131-01-19 01:40:00   \n",
       "\n",
       "             dischtime deathtime               ethnicity            edregtime  \\\n",
       "0                  NaN       NaN                     NaN                  NaN   \n",
       "1                  NaN       NaN                     NaN                  NaN   \n",
       "2                  NaN       NaN  BLACK/AFRICAN AMERICAN                  NaN   \n",
       "3  2123-12-09 18:01:00       NaN                   WHITE  2123-12-06 11:51:00   \n",
       "4  2131-02-13 18:30:00       NaN                   WHITE  2131-01-18 21:17:00   \n",
       "\n",
       "             edouttime insurance  in_year   age  outcome_inhospital_mortality  \\\n",
       "0                  NaN       NaN     2157  47.0                         False   \n",
       "1                  NaN       NaN     2149  44.0                         False   \n",
       "2                  NaN       NaN     2205  51.0                         False   \n",
       "3  2123-12-06 17:56:00  Medicare     2123  91.0                         False   \n",
       "4  2131-01-19 03:20:00  Medicare     2131  29.0                         False   \n",
       "\n",
       "            ed_los intime_icu time_to_icu_transfer  outcome_icu_transfer_12h  \\\n",
       "0  0 days 05:37:00        NaN                  NaN                     False   \n",
       "1  0 days 02:34:00        NaN                  NaN                     False   \n",
       "2  0 days 05:20:00        NaN                  NaN                     False   \n",
       "3  0 days 06:05:00        NaN                  NaN                     False   \n",
       "4  0 days 06:03:00        NaN                  NaN                     False   \n",
       "\n",
       "   outcome_hospitalization  outcome_critical  n_ed_30d  n_ed_90d  n_ed_365d  \\\n",
       "0                    False             False         0         0          0   \n",
       "1                    False             False         0         0          0   \n",
       "2                    False             False         0         0          2   \n",
       "3                     True             False         0         0          0   \n",
       "4                     True             False         1         3         12   \n",
       "\n",
       "    next_ed_visit_time next_ed_visit_time_diff  outcome_ed_revisit_3d  \\\n",
       "0                  NaN                     NaN                  False   \n",
       "1  2149-12-19 19:58:00        18 days 22:09:00                  False   \n",
       "2  2205-09-24 07:27:00       261 days 14:33:00                  False   \n",
       "3  2126-03-14 12:24:00       828 days 18:28:00                  False   \n",
       "4  2131-03-02 20:56:00        42 days 17:36:00                  False   \n",
       "\n",
       "   n_hosp_30d  n_hosp_90d  n_hosp_365d  n_icu_30d  n_icu_90d  n_icu_365d  \\\n",
       "0           0           0            0          0          0           0   \n",
       "1           0           0            0          0          0           0   \n",
       "2           0           0            1          0          0           0   \n",
       "3           0           0            0          0          0           0   \n",
       "4           1           3           10          0          0           0   \n",
       "\n",
       "   ed_los_hours  time_to_icu_transfer_hours  next_ed_visit_time_diff_days  \\\n",
       "0          5.62                         NaN                           NaN   \n",
       "1          2.57                         NaN                         18.92   \n",
       "2          5.33                         NaN                        261.61   \n",
       "3          6.08                         NaN                        828.77   \n",
       "4          6.05                         NaN                         42.73   \n",
       "\n",
       "   triage_temperature  triage_heartrate  triage_resprate  triage_o2sat  \\\n",
       "0           36.555556              87.0             18.0          97.0   \n",
       "1           36.555556              64.0             18.0         100.0   \n",
       "2           37.111111              74.0             18.0          98.0   \n",
       "3           36.277778              66.0             14.0          96.0   \n",
       "4           38.166667             133.0             18.0         100.0   \n",
       "\n",
       "   triage_sbp  triage_dbp  ...  cci_Liver2  cci_Cancer2 cci_HIV  eci_CHF  \\\n",
       "0       119.0        83.0  ...           0            0       0        0   \n",
       "1       151.0        93.0  ...           0            0       0        0   \n",
       "2       178.0       103.0  ...           0            0       0        0   \n",
       "3       129.0        53.0  ...           0            0       0        0   \n",
       "4       136.0        89.0  ...           0            0       0        0   \n",
       "\n",
       "   eci_Arrhythmia  eci_Valvular  eci_PHTN  eci_PVD  eci_HTN1  eci_HTN2  \\\n",
       "0               0             0         0        0         0         0   \n",
       "1               0             0         0        0         0         0   \n",
       "2               1             0         0        0         0         1   \n",
       "3               0             0         0        0         0         0   \n",
       "4               1             1         0        0         0         0   \n",
       "\n",
       "   eci_Paralysis  eci_NeuroOther  eci_Pulmonary  eci_DM1  eci_DM2  \\\n",
       "0              0               0              0        0        0   \n",
       "1              0               0              0        0        0   \n",
       "2              0               0              0        0        0   \n",
       "3              0               0              0        0        0   \n",
       "4              0               0              0        0        0   \n",
       "\n",
       "   eci_Hypothyroid  eci_Renal  eci_Liver  eci_PUD  eci_HIV  eci_Lymphoma  \\\n",
       "0                0          0          0        0        0             0   \n",
       "1                0          0          0        0        0             0   \n",
       "2                0          0          0        0        0             0   \n",
       "3                0          0          0        0        0             0   \n",
       "4                0          0          0        1        0             0   \n",
       "\n",
       "   eci_Tumor2  eci_Tumor1  eci_Rheumatic  eci_Coagulopathy  eci_Obesity  \\\n",
       "0           0           0              0                 0            0   \n",
       "1           0           0              0                 0            0   \n",
       "2           0           0              0                 0            0   \n",
       "3           0           0              0                 0            0   \n",
       "4           0           0              0                 1            0   \n",
       "\n",
       "   eci_WeightLoss  eci_FluidsLytes  eci_BloodLoss  eci_Anemia  eci_Alcohol  \\\n",
       "0               0                0              0           0            0   \n",
       "1               0                0              0           0            0   \n",
       "2               0                0              0           0            1   \n",
       "3               0                0              0           0            0   \n",
       "4               1                1              1           1            0   \n",
       "\n",
       "   eci_Drugs  eci_Psychoses  eci_Depression  ed_temperature_last  \\\n",
       "0          0              0               0            36.555556   \n",
       "1          0              0               0            36.111111   \n",
       "2          1              0               0            36.666667   \n",
       "3          0              0               0            36.611111   \n",
       "4          0              0               0            37.111111   \n",
       "\n",
       "   ed_heartrate_last  ed_resprate_last  ed_o2sat_last  ed_sbp_last  \\\n",
       "0               94.0              18.0           97.0        139.0   \n",
       "1               84.0              13.0          100.0        127.0   \n",
       "2               75.0              16.0           99.0        146.0   \n",
       "3               60.0              18.0           94.0        122.0   \n",
       "4               86.0              18.0          100.0        127.0   \n",
       "\n",
       "   ed_dbp_last  ed_pain_last  n_med  n_medrecon  triage_MAP  score_CCI  \\\n",
       "0         93.0           5.0    2.0        12.0   95.000000          0   \n",
       "1         70.0           0.0    4.0         0.0  112.333333          0   \n",
       "2        100.0           0.0    4.0         6.0  128.000000          1   \n",
       "3         66.0           0.0    2.0        10.0   78.333333          4   \n",
       "4         79.0           0.0    2.0        13.0  104.666667          1   \n",
       "\n",
       "   score_CART  score_REMS  score_NEWS  score_NEWS2  score_MEWS  \n",
       "0           0           2           0            0           1  \n",
       "1           0           4           0            0           1  \n",
       "2           0           4           0            0           1  \n",
       "3           9           8           0            0           0  \n",
       "4           4           2           4            4           4  \n",
       "\n",
       "[5 rows x 127 columns]"
      ]
     },
     "execution_count": 3,
     "metadata": {},
     "output_type": "execute_result"
    }
   ],
   "source": [
    "pd.set_option('display.max_columns', 100) \n",
    "pd.set_option('display.max_rows', 100) \n",
    "\n",
    "df_train.head()"
   ]
  },
  {
   "cell_type": "markdown",
   "metadata": {},
   "source": [
    "### 1. Task-specific filter: no task-specific exclusion needed"
   ]
  },
  {
   "cell_type": "code",
   "execution_count": 4,
   "metadata": {},
   "outputs": [
    {
     "name": "stdout",
     "output_type": "stream",
     "text": [
      "training size = 334420 , testing size = 83605\n"
     ]
    }
   ],
   "source": [
    "print('training size =', len(df_train), ', testing size =', len(df_test))"
   ]
  },
  {
   "cell_type": "markdown",
   "metadata": {},
   "source": [
    "### 2. Variable Selection"
   ]
  },
  {
   "cell_type": "code",
   "execution_count": 5,
   "metadata": {},
   "outputs": [],
   "source": [
    "variable = [\"age\", \"gender\", \n",
    "            \n",
    "            \"n_ed_30d\", \"n_ed_90d\", \"n_ed_365d\", \"n_hosp_30d\", \"n_hosp_90d\", \n",
    "            \"n_hosp_365d\", \"n_icu_30d\", \"n_icu_90d\", \"n_icu_365d\", \n",
    "            \n",
    "            \"triage_temperature\", \"triage_heartrate\", \"triage_resprate\", \n",
    "            \"triage_o2sat\", \"triage_sbp\", \"triage_dbp\", \"triage_pain\", \"triage_acuity\",\n",
    "            \n",
    "            \"chiefcom_chest_pain\", \"chiefcom_abdominal_pain\", \"chiefcom_headache\",\n",
    "            \"chiefcom_shortness_of_breath\", \"chiefcom_back_pain\", \"chiefcom_cough\", \n",
    "            \"chiefcom_nausea_vomiting\", \"chiefcom_fever_chills\", \"chiefcom_syncope\", \n",
    "            \"chiefcom_dizziness\", \n",
    "            \n",
    "            \"cci_MI\", \"cci_CHF\", \"cci_PVD\", \"cci_Stroke\", \"cci_Dementia\", \n",
    "            \"cci_Pulmonary\", \"cci_Rheumatic\", \"cci_PUD\", \"cci_Liver1\", \"cci_DM1\", \n",
    "            \"cci_DM2\", \"cci_Paralysis\", \"cci_Renal\", \"cci_Cancer1\", \"cci_Liver2\", \n",
    "            \"cci_Cancer2\", \"cci_HIV\", \n",
    "            \n",
    "            \"eci_Arrhythmia\", \"eci_Valvular\", \"eci_PHTN\",  \"eci_HTN1\", \"eci_HTN2\", \n",
    "            \"eci_NeuroOther\", \"eci_Hypothyroid\", \"eci_Lymphoma\", \"eci_Coagulopathy\", \n",
    "            \"eci_Obesity\", \"eci_WeightLoss\", \"eci_FluidsLytes\", \"eci_BloodLoss\",\n",
    "            \"eci_Anemia\", \"eci_Alcohol\", \"eci_Drugs\",\"eci_Psychoses\", \"eci_Depression\"]\n",
    "\n",
    "outcome = \"outcome_critical\""
   ]
  },
  {
   "cell_type": "code",
   "execution_count": 6,
   "metadata": {},
   "outputs": [],
   "source": [
    "X_train = df_train[variable].copy()\n",
    "y_train = df_train[outcome].copy()\n",
    "X_test = df_test[variable].copy()\n",
    "y_test = df_test[outcome].copy()"
   ]
  },
  {
   "cell_type": "code",
   "execution_count": 7,
   "metadata": {},
   "outputs": [
    {
     "data": {
      "application/vnd.microsoft.datawrangler.viewer.v0+json": {
       "columns": [
        {
         "name": "index",
         "rawType": "int64",
         "type": "integer"
        },
        {
         "name": "outcome_critical",
         "rawType": "bool",
         "type": "boolean"
        }
       ],
       "ref": "9cddd1b7-097f-40a0-b41b-9b3b2f075ab2",
       "rows": [
        [
         "0",
         "False"
        ],
        [
         "1",
         "False"
        ],
        [
         "2",
         "False"
        ],
        [
         "3",
         "False"
        ],
        [
         "4",
         "False"
        ]
       ],
       "shape": {
        "columns": 1,
        "rows": 5
       }
      },
      "text/plain": [
       "0    False\n",
       "1    False\n",
       "2    False\n",
       "3    False\n",
       "4    False\n",
       "Name: outcome_critical, dtype: bool"
      ]
     },
     "execution_count": 7,
     "metadata": {},
     "output_type": "execute_result"
    }
   ],
   "source": [
    "y_train.head()"
   ]
  },
  {
   "cell_type": "code",
   "execution_count": 8,
   "metadata": {},
   "outputs": [
    {
     "data": {
      "application/vnd.microsoft.datawrangler.viewer.v0+json": {
       "columns": [
        {
         "name": "index",
         "rawType": "int64",
         "type": "integer"
        },
        {
         "name": "age",
         "rawType": "object",
         "type": "unknown"
        },
        {
         "name": "gender",
         "rawType": "object",
         "type": "unknown"
        },
        {
         "name": "n_ed_30d",
         "rawType": "object",
         "type": "unknown"
        },
        {
         "name": "n_ed_90d",
         "rawType": "object",
         "type": "unknown"
        },
        {
         "name": "n_ed_365d",
         "rawType": "object",
         "type": "unknown"
        },
        {
         "name": "n_hosp_30d",
         "rawType": "object",
         "type": "unknown"
        },
        {
         "name": "n_hosp_90d",
         "rawType": "object",
         "type": "unknown"
        },
        {
         "name": "n_hosp_365d",
         "rawType": "object",
         "type": "unknown"
        },
        {
         "name": "n_icu_30d",
         "rawType": "object",
         "type": "unknown"
        },
        {
         "name": "n_icu_90d",
         "rawType": "object",
         "type": "unknown"
        },
        {
         "name": "n_icu_365d",
         "rawType": "object",
         "type": "unknown"
        },
        {
         "name": "triage_temperature",
         "rawType": "object",
         "type": "unknown"
        },
        {
         "name": "triage_heartrate",
         "rawType": "object",
         "type": "unknown"
        },
        {
         "name": "triage_resprate",
         "rawType": "object",
         "type": "unknown"
        },
        {
         "name": "triage_o2sat",
         "rawType": "object",
         "type": "unknown"
        },
        {
         "name": "triage_sbp",
         "rawType": "object",
         "type": "unknown"
        },
        {
         "name": "triage_dbp",
         "rawType": "object",
         "type": "unknown"
        },
        {
         "name": "triage_pain",
         "rawType": "object",
         "type": "unknown"
        },
        {
         "name": "triage_acuity",
         "rawType": "object",
         "type": "unknown"
        },
        {
         "name": "chiefcom_chest_pain",
         "rawType": "object",
         "type": "unknown"
        },
        {
         "name": "chiefcom_abdominal_pain",
         "rawType": "object",
         "type": "unknown"
        },
        {
         "name": "chiefcom_headache",
         "rawType": "object",
         "type": "unknown"
        },
        {
         "name": "chiefcom_shortness_of_breath",
         "rawType": "object",
         "type": "unknown"
        },
        {
         "name": "chiefcom_back_pain",
         "rawType": "object",
         "type": "unknown"
        },
        {
         "name": "chiefcom_cough",
         "rawType": "object",
         "type": "unknown"
        },
        {
         "name": "chiefcom_nausea_vomiting",
         "rawType": "object",
         "type": "unknown"
        },
        {
         "name": "chiefcom_fever_chills",
         "rawType": "object",
         "type": "unknown"
        },
        {
         "name": "chiefcom_syncope",
         "rawType": "object",
         "type": "unknown"
        },
        {
         "name": "chiefcom_dizziness",
         "rawType": "object",
         "type": "unknown"
        },
        {
         "name": "cci_MI",
         "rawType": "object",
         "type": "unknown"
        },
        {
         "name": "cci_CHF",
         "rawType": "object",
         "type": "unknown"
        },
        {
         "name": "cci_PVD",
         "rawType": "object",
         "type": "unknown"
        },
        {
         "name": "cci_Stroke",
         "rawType": "object",
         "type": "unknown"
        },
        {
         "name": "cci_Dementia",
         "rawType": "object",
         "type": "unknown"
        },
        {
         "name": "cci_Pulmonary",
         "rawType": "object",
         "type": "unknown"
        },
        {
         "name": "cci_Rheumatic",
         "rawType": "object",
         "type": "unknown"
        },
        {
         "name": "cci_PUD",
         "rawType": "object",
         "type": "unknown"
        },
        {
         "name": "cci_Liver1",
         "rawType": "object",
         "type": "unknown"
        },
        {
         "name": "cci_DM1",
         "rawType": "object",
         "type": "unknown"
        },
        {
         "name": "cci_DM2",
         "rawType": "object",
         "type": "unknown"
        },
        {
         "name": "cci_Paralysis",
         "rawType": "object",
         "type": "unknown"
        },
        {
         "name": "cci_Renal",
         "rawType": "object",
         "type": "unknown"
        },
        {
         "name": "cci_Cancer1",
         "rawType": "object",
         "type": "unknown"
        },
        {
         "name": "cci_Liver2",
         "rawType": "object",
         "type": "unknown"
        },
        {
         "name": "cci_Cancer2",
         "rawType": "object",
         "type": "unknown"
        },
        {
         "name": "cci_HIV",
         "rawType": "object",
         "type": "unknown"
        },
        {
         "name": "eci_Arrhythmia",
         "rawType": "object",
         "type": "unknown"
        },
        {
         "name": "eci_Valvular",
         "rawType": "object",
         "type": "unknown"
        },
        {
         "name": "eci_PHTN",
         "rawType": "object",
         "type": "unknown"
        },
        {
         "name": "eci_HTN1",
         "rawType": "object",
         "type": "unknown"
        },
        {
         "name": "eci_HTN2",
         "rawType": "object",
         "type": "unknown"
        },
        {
         "name": "eci_NeuroOther",
         "rawType": "object",
         "type": "unknown"
        },
        {
         "name": "eci_Hypothyroid",
         "rawType": "object",
         "type": "unknown"
        },
        {
         "name": "eci_Lymphoma",
         "rawType": "object",
         "type": "unknown"
        },
        {
         "name": "eci_Coagulopathy",
         "rawType": "object",
         "type": "unknown"
        },
        {
         "name": "eci_Obesity",
         "rawType": "object",
         "type": "unknown"
        },
        {
         "name": "eci_WeightLoss",
         "rawType": "object",
         "type": "unknown"
        },
        {
         "name": "eci_FluidsLytes",
         "rawType": "object",
         "type": "unknown"
        },
        {
         "name": "eci_BloodLoss",
         "rawType": "object",
         "type": "unknown"
        },
        {
         "name": "eci_Anemia",
         "rawType": "object",
         "type": "unknown"
        },
        {
         "name": "eci_Alcohol",
         "rawType": "object",
         "type": "unknown"
        },
        {
         "name": "eci_Drugs",
         "rawType": "object",
         "type": "unknown"
        },
        {
         "name": "eci_Psychoses",
         "rawType": "object",
         "type": "unknown"
        },
        {
         "name": "eci_Depression",
         "rawType": "object",
         "type": "unknown"
        }
       ],
       "ref": "d140d9c1-08db-4008-ba6a-f4eeb09dcf2c",
       "rows": [
        [
         "0",
         "float64",
         "object",
         "int64",
         "int64",
         "int64",
         "int64",
         "int64",
         "int64",
         "int64",
         "int64",
         "int64",
         "float64",
         "float64",
         "float64",
         "float64",
         "float64",
         "float64",
         "float64",
         "float64",
         "bool",
         "bool",
         "bool",
         "bool",
         "bool",
         "bool",
         "bool",
         "bool",
         "bool",
         "bool",
         "int64",
         "int64",
         "int64",
         "int64",
         "int64",
         "int64",
         "int64",
         "int64",
         "int64",
         "int64",
         "int64",
         "int64",
         "int64",
         "int64",
         "int64",
         "int64",
         "int64",
         "int64",
         "int64",
         "int64",
         "int64",
         "int64",
         "int64",
         "int64",
         "int64",
         "int64",
         "int64",
         "int64",
         "int64",
         "int64",
         "int64",
         "int64",
         "int64",
         "int64",
         "int64"
        ]
       ],
       "shape": {
        "columns": 64,
        "rows": 1
       }
      },
      "text/html": [
       "<div>\n",
       "<style scoped>\n",
       "    .dataframe tbody tr th:only-of-type {\n",
       "        vertical-align: middle;\n",
       "    }\n",
       "\n",
       "    .dataframe tbody tr th {\n",
       "        vertical-align: top;\n",
       "    }\n",
       "\n",
       "    .dataframe thead th {\n",
       "        text-align: right;\n",
       "    }\n",
       "</style>\n",
       "<table border=\"1\" class=\"dataframe\">\n",
       "  <thead>\n",
       "    <tr style=\"text-align: right;\">\n",
       "      <th></th>\n",
       "      <th>age</th>\n",
       "      <th>gender</th>\n",
       "      <th>n_ed_30d</th>\n",
       "      <th>n_ed_90d</th>\n",
       "      <th>n_ed_365d</th>\n",
       "      <th>n_hosp_30d</th>\n",
       "      <th>n_hosp_90d</th>\n",
       "      <th>n_hosp_365d</th>\n",
       "      <th>n_icu_30d</th>\n",
       "      <th>n_icu_90d</th>\n",
       "      <th>n_icu_365d</th>\n",
       "      <th>triage_temperature</th>\n",
       "      <th>triage_heartrate</th>\n",
       "      <th>triage_resprate</th>\n",
       "      <th>triage_o2sat</th>\n",
       "      <th>triage_sbp</th>\n",
       "      <th>triage_dbp</th>\n",
       "      <th>triage_pain</th>\n",
       "      <th>triage_acuity</th>\n",
       "      <th>chiefcom_chest_pain</th>\n",
       "      <th>chiefcom_abdominal_pain</th>\n",
       "      <th>chiefcom_headache</th>\n",
       "      <th>chiefcom_shortness_of_breath</th>\n",
       "      <th>chiefcom_back_pain</th>\n",
       "      <th>chiefcom_cough</th>\n",
       "      <th>chiefcom_nausea_vomiting</th>\n",
       "      <th>chiefcom_fever_chills</th>\n",
       "      <th>chiefcom_syncope</th>\n",
       "      <th>chiefcom_dizziness</th>\n",
       "      <th>cci_MI</th>\n",
       "      <th>cci_CHF</th>\n",
       "      <th>cci_PVD</th>\n",
       "      <th>cci_Stroke</th>\n",
       "      <th>cci_Dementia</th>\n",
       "      <th>cci_Pulmonary</th>\n",
       "      <th>cci_Rheumatic</th>\n",
       "      <th>cci_PUD</th>\n",
       "      <th>cci_Liver1</th>\n",
       "      <th>cci_DM1</th>\n",
       "      <th>cci_DM2</th>\n",
       "      <th>cci_Paralysis</th>\n",
       "      <th>cci_Renal</th>\n",
       "      <th>cci_Cancer1</th>\n",
       "      <th>cci_Liver2</th>\n",
       "      <th>cci_Cancer2</th>\n",
       "      <th>cci_HIV</th>\n",
       "      <th>eci_Arrhythmia</th>\n",
       "      <th>eci_Valvular</th>\n",
       "      <th>eci_PHTN</th>\n",
       "      <th>eci_HTN1</th>\n",
       "      <th>eci_HTN2</th>\n",
       "      <th>eci_NeuroOther</th>\n",
       "      <th>eci_Hypothyroid</th>\n",
       "      <th>eci_Lymphoma</th>\n",
       "      <th>eci_Coagulopathy</th>\n",
       "      <th>eci_Obesity</th>\n",
       "      <th>eci_WeightLoss</th>\n",
       "      <th>eci_FluidsLytes</th>\n",
       "      <th>eci_BloodLoss</th>\n",
       "      <th>eci_Anemia</th>\n",
       "      <th>eci_Alcohol</th>\n",
       "      <th>eci_Drugs</th>\n",
       "      <th>eci_Psychoses</th>\n",
       "      <th>eci_Depression</th>\n",
       "    </tr>\n",
       "  </thead>\n",
       "  <tbody>\n",
       "    <tr>\n",
       "      <th>0</th>\n",
       "      <td>float64</td>\n",
       "      <td>object</td>\n",
       "      <td>int64</td>\n",
       "      <td>int64</td>\n",
       "      <td>int64</td>\n",
       "      <td>int64</td>\n",
       "      <td>int64</td>\n",
       "      <td>int64</td>\n",
       "      <td>int64</td>\n",
       "      <td>int64</td>\n",
       "      <td>int64</td>\n",
       "      <td>float64</td>\n",
       "      <td>float64</td>\n",
       "      <td>float64</td>\n",
       "      <td>float64</td>\n",
       "      <td>float64</td>\n",
       "      <td>float64</td>\n",
       "      <td>float64</td>\n",
       "      <td>float64</td>\n",
       "      <td>bool</td>\n",
       "      <td>bool</td>\n",
       "      <td>bool</td>\n",
       "      <td>bool</td>\n",
       "      <td>bool</td>\n",
       "      <td>bool</td>\n",
       "      <td>bool</td>\n",
       "      <td>bool</td>\n",
       "      <td>bool</td>\n",
       "      <td>bool</td>\n",
       "      <td>int64</td>\n",
       "      <td>int64</td>\n",
       "      <td>int64</td>\n",
       "      <td>int64</td>\n",
       "      <td>int64</td>\n",
       "      <td>int64</td>\n",
       "      <td>int64</td>\n",
       "      <td>int64</td>\n",
       "      <td>int64</td>\n",
       "      <td>int64</td>\n",
       "      <td>int64</td>\n",
       "      <td>int64</td>\n",
       "      <td>int64</td>\n",
       "      <td>int64</td>\n",
       "      <td>int64</td>\n",
       "      <td>int64</td>\n",
       "      <td>int64</td>\n",
       "      <td>int64</td>\n",
       "      <td>int64</td>\n",
       "      <td>int64</td>\n",
       "      <td>int64</td>\n",
       "      <td>int64</td>\n",
       "      <td>int64</td>\n",
       "      <td>int64</td>\n",
       "      <td>int64</td>\n",
       "      <td>int64</td>\n",
       "      <td>int64</td>\n",
       "      <td>int64</td>\n",
       "      <td>int64</td>\n",
       "      <td>int64</td>\n",
       "      <td>int64</td>\n",
       "      <td>int64</td>\n",
       "      <td>int64</td>\n",
       "      <td>int64</td>\n",
       "      <td>int64</td>\n",
       "    </tr>\n",
       "  </tbody>\n",
       "</table>\n",
       "</div>"
      ],
      "text/plain": [
       "       age  gender n_ed_30d n_ed_90d n_ed_365d n_hosp_30d n_hosp_90d  \\\n",
       "0  float64  object    int64    int64     int64      int64      int64   \n",
       "\n",
       "  n_hosp_365d n_icu_30d n_icu_90d n_icu_365d triage_temperature  \\\n",
       "0       int64     int64     int64      int64            float64   \n",
       "\n",
       "  triage_heartrate triage_resprate triage_o2sat triage_sbp triage_dbp  \\\n",
       "0          float64         float64      float64    float64    float64   \n",
       "\n",
       "  triage_pain triage_acuity chiefcom_chest_pain chiefcom_abdominal_pain  \\\n",
       "0     float64       float64                bool                    bool   \n",
       "\n",
       "  chiefcom_headache chiefcom_shortness_of_breath chiefcom_back_pain  \\\n",
       "0              bool                         bool               bool   \n",
       "\n",
       "  chiefcom_cough chiefcom_nausea_vomiting chiefcom_fever_chills  \\\n",
       "0           bool                     bool                  bool   \n",
       "\n",
       "  chiefcom_syncope chiefcom_dizziness cci_MI cci_CHF cci_PVD cci_Stroke  \\\n",
       "0             bool               bool  int64   int64   int64      int64   \n",
       "\n",
       "  cci_Dementia cci_Pulmonary cci_Rheumatic cci_PUD cci_Liver1 cci_DM1 cci_DM2  \\\n",
       "0        int64         int64         int64   int64      int64   int64   int64   \n",
       "\n",
       "  cci_Paralysis cci_Renal cci_Cancer1 cci_Liver2 cci_Cancer2 cci_HIV  \\\n",
       "0         int64     int64       int64      int64       int64   int64   \n",
       "\n",
       "  eci_Arrhythmia eci_Valvular eci_PHTN eci_HTN1 eci_HTN2 eci_NeuroOther  \\\n",
       "0          int64        int64    int64    int64    int64          int64   \n",
       "\n",
       "  eci_Hypothyroid eci_Lymphoma eci_Coagulopathy eci_Obesity eci_WeightLoss  \\\n",
       "0           int64        int64            int64       int64          int64   \n",
       "\n",
       "  eci_FluidsLytes eci_BloodLoss eci_Anemia eci_Alcohol eci_Drugs  \\\n",
       "0           int64         int64      int64       int64     int64   \n",
       "\n",
       "  eci_Psychoses eci_Depression  \n",
       "0         int64          int64  "
      ]
     },
     "execution_count": 8,
     "metadata": {},
     "output_type": "execute_result"
    }
   ],
   "source": [
    "X_train.dtypes.to_frame().T"
   ]
  },
  {
   "cell_type": "code",
   "execution_count": 9,
   "metadata": {},
   "outputs": [],
   "source": [
    "encoder = LabelEncoder()\n",
    "X_train['gender'] = encoder.fit_transform(X_train['gender'])\n",
    "X_test['gender'] = encoder.transform(X_test['gender'])"
   ]
  },
  {
   "cell_type": "code",
   "execution_count": 10,
   "metadata": {},
   "outputs": [
    {
     "name": "stdout",
     "output_type": "stream",
     "text": [
      "class ratio\n",
      "positive : negative = 0.0632135488034794 : 1\n"
     ]
    }
   ],
   "source": [
    "print('class ratio')\n",
    "ratio = y_train.sum()/(~y_train).sum()\n",
    "print('positive : negative =', ratio, ': 1')"
   ]
  },
  {
   "cell_type": "markdown",
   "metadata": {},
   "source": [
    "### 3.  Modeling script"
   ]
  },
  {
   "cell_type": "code",
   "execution_count": 11,
   "metadata": {},
   "outputs": [],
   "source": [
    "# Containers for all results\n",
    "result_list = []"
   ]
  },
  {
   "cell_type": "code",
   "execution_count": 12,
   "metadata": {},
   "outputs": [
    {
     "name": "stdout",
     "output_type": "stream",
     "text": [
      "Logistic Regression:\n"
     ]
    },
    {
     "name": "stderr",
     "output_type": "stream",
     "text": [
      "/home/olavo-dalberto/gpt_ed_assistant/.venv/lib/python3.11/site-packages/sklearn/linear_model/_logistic.py:469: ConvergenceWarning: lbfgs failed to converge (status=1):\n",
      "STOP: TOTAL NO. OF ITERATIONS REACHED LIMIT.\n",
      "\n",
      "Increase the number of iterations (max_iter) or scale the data as shown in:\n",
      "    https://scikit-learn.org/stable/modules/preprocessing.html\n",
      "Please also refer to the documentation for alternative solver options:\n",
      "    https://scikit-learn.org/stable/modules/linear_model.html#logistic-regression\n",
      "  n_iter_i = _check_optimize_result(\n"
     ]
    },
    {
     "name": "stdout",
     "output_type": "stream",
     "text": [
      "Training time: 8.461064338684082 seconds\n",
      "AUC: 0.8688591508088657\n",
      "AUPRC: 0.3380403955543497\n",
      "Sensitivity: 0.7943588717743548\n",
      "Specificity: 0.7834898099381726\n",
      "Score thresold: 0.06456396820203736\n",
      "2.5 97.5\n"
     ]
    },
    {
     "data": {
      "image/png": "[encoded data removed]",
      "text/plain": [
       "<Figure size 640x480 with 1 Axes>"
      ]
     },
     "metadata": {},
     "output_type": "display_data"
    },
    {
     "data": {
      "image/png": "[encoded data removed]",
      "text/plain": [
       "<Figure size 640x480 with 1 Axes>"
      ]
     },
     "metadata": {},
     "output_type": "display_data"
    }
   ],
   "source": [
    "print(\"Logistic Regression:\")\n",
    "from sklearn.linear_model import LogisticRegression\n",
    "logreg=LogisticRegression(random_state=random_seed)\n",
    "start = time.time()\n",
    "logreg.fit(X_train,y_train)\n",
    "runtime = time.time()-start\n",
    "import pickle\n",
    "with open('task2_logreg.pickle', 'wb') as model_dump:\n",
    "    pickle.dump(logreg, model_dump)\n",
    "print('Training time:', runtime, 'seconds')\n",
    "probs = logreg.predict_proba(X_test)\n",
    "result = PlotROCCurve(probs[:,1], y_test, ci=confidence_interval, random_seed=random_seed)\n",
    "\n",
    "results = [\"LR\"]\n",
    "results.extend(result)\n",
    "results.append(runtime)\n",
    "result_list.append(results)"
   ]
  },
  {
   "cell_type": "code",
   "execution_count": 13,
   "metadata": {},
   "outputs": [
    {
     "name": "stdout",
     "output_type": "stream",
     "text": [
      "RandomForest:\n",
      "Training time: 48.9382061958313 seconds\n",
      "AUC: 0.8744577630891417\n",
      "AUPRC: 0.3833579215334083\n",
      "Sensitivity: 0.7985597119423885\n",
      "Specificity: 0.7924967559728265\n",
      "Score thresold: 0.08\n",
      "2.5 97.5\n"
     ]
    },
    {
     "data": {
      "image/png": "[encoded data removed]",
      "text/plain": [
       "<Figure size 640x480 with 1 Axes>"
      ]
     },
     "metadata": {},
     "output_type": "display_data"
    },
    {
     "data": {
      "image/png": "[encoded data removed]",
      "text/plain": [
       "<Figure size 640x480 with 1 Axes>"
      ]
     },
     "metadata": {},
     "output_type": "display_data"
    },
    {
     "name": "stdout",
     "output_type": "stream",
     "text": [
      "[0.09988771 0.01484144 0.00639996 0.01029735 0.01890328 0.00624516\n",
      " 0.01004576 0.01701025 0.00334314 0.00666583 0.01223075 0.07557815\n",
      " 0.09340216 0.05578665 0.04932532 0.10036198 0.08335404 0.04104724\n",
      " 0.09287841 0.00590166 0.00623576 0.0039156  0.00170974 0.00214944\n",
      " 0.00241476 0.00304118 0.00484791 0.00353635 0.00308946 0.00520585\n",
      " 0.00569814 0.00501543 0.00501183 0.00287619 0.00734197 0.00268722\n",
      " 0.00277066 0.00474289 0.00743372 0.00477266 0.0025056  0.00501743\n",
      " 0.00544903 0.00297326 0.0037729  0.00115899 0.00720277 0.00481232\n",
      " 0.00451416 0.00505307 0.0087219  0.00593746 0.00559495 0.00177965\n",
      " 0.00543044 0.00553953 0.00470989 0.00699239 0.00227147 0.00454754\n",
      " 0.00487287 0.00362613 0.00261583 0.00689743]\n"
     ]
    }
   ],
   "source": [
    "print(\"RandomForest:\")\n",
    "from sklearn.ensemble import RandomForestClassifier\n",
    "rf= RandomForestClassifier(random_state=random_seed)\n",
    "start = time.time()\n",
    "rf.fit(X_train,y_train)\n",
    "runtime = time.time()-start\n",
    "print('Training time:', runtime, 'seconds')\n",
    "probs = rf.predict_proba(X_test)\n",
    "result = PlotROCCurve(probs[:,1],y_test, ci=confidence_interval, random_seed=random_seed)\n",
    "importances = rf.feature_importances_\n",
    "print(importances)\n",
    "\n",
    "results = [\"RF\"]\n",
    "results.extend(result)\n",
    "results.append(runtime)\n",
    "result_list.append(results)"
   ]
  },
  {
   "cell_type": "code",
   "execution_count": 14,
   "metadata": {},
   "outputs": [
    {
     "name": "stdout",
     "output_type": "stream",
     "text": [
      "GradientBoosting:\n",
      "Training time: 55.10559058189392 seconds\n",
      "AUC: 0.8832271339391151\n",
      "AUPRC: 0.4008583884482887\n",
      "Sensitivity: 0.8149629925985197\n",
      "Specificity: 0.789430832251991\n",
      "Score thresold: 0.06313583755467111\n",
      "2.5 97.5\n"
     ]
    },
    {
     "data": {
      "image/png": "[encoded data removed]",
      "text/plain": [
       "<Figure size 640x480 with 1 Axes>"
      ]
     },
     "metadata": {},
     "output_type": "display_data"
    },
    {
     "data": {
      "image/png": "[encoded data removed]",
      "text/plain": [
       "<Figure size 640x480 with 1 Axes>"
      ]
     },
     "metadata": {},
     "output_type": "display_data"
    }
   ],
   "source": [
    "print(\"GradientBoosting:\")\n",
    "from sklearn.ensemble import GradientBoostingClassifier\n",
    "gb = GradientBoostingClassifier(random_state=random_seed)\n",
    "start = time.time()\n",
    "gb.fit(X_train, y_train)\n",
    "runtime = time.time()-start\n",
    "print('Training time:', runtime, 'seconds')\n",
    "probs = gb.predict_proba(X_test)\n",
    "result = PlotROCCurve(probs[:,1],y_test, ci=confidence_interval, random_seed=random_seed)\n",
    "\n",
    "results = [\"GB\"]\n",
    "results.extend(result)\n",
    "results.append(runtime)\n",
    "result_list.append(results)"
   ]
  },
  {
   "cell_type": "code",
   "execution_count": 15,
   "metadata": {},
   "outputs": [],
   "source": [
    "from tensorflow.keras.saving import register_keras_serializable\n",
    "\n",
    "@register_keras_serializable(package=\"custom\", name=\"MLP\")\n",
    "class MLP(tf.keras.Model):\n",
    "    def __init__(self, **kwargs):\n",
    "        super().__init__(**kwargs)\n",
    "        self.dense_1 = Dense(128, activation='relu')\n",
    "        self.dense_2 = Dense(64, activation='relu')\n",
    "        self.classifier = Dense(1, activation='sigmoid')\n",
    "\n",
    "    def call(self, x):\n",
    "        x = self.dense_1(x)\n",
    "        x = self.dense_2(x)\n",
    "        return self.classifier(x)\n",
    "\n",
    "    def get_config(self):\n",
    "        config = super().get_config()\n",
    "        return config"
   ]
  },
  {
   "cell_type": "code",
   "execution_count": 16,
   "metadata": {},
   "outputs": [
    {
     "name": "stdout",
     "output_type": "stream",
     "text": [
      "Epoch 1/20\n"
     ]
    },
    {
     "name": "stderr",
     "output_type": "stream",
     "text": [
      "WARNING: All log messages before absl::InitializeLog() is called are written to STDERR\n",
      "I0000 00:00:1755459626.331152  166793 cuda_executor.cc:1015] successful NUMA node read from SysFS had negative value (-1), but there must be at least one NUMA node, so returning NUMA node zero. See more at https://github.com/torvalds/linux/blob/v6.0/Documentation/ABI/testing/sysfs-bus-pci#L344-L355\n",
      "2025-08-17 16:40:26.725053: W tensorflow/core/common_runtime/gpu/gpu_device.cc:2343] Cannot dlopen some GPU libraries. Please make sure the missing libraries mentioned above are installed properly if you would like to use GPU. Follow the guide at https://www.tensorflow.org/install/gpu for how to download and setup the required libraries for your platform.\n",
      "Skipping registering GPU devices...\n"
     ]
    },
    {
     "name": "stdout",
     "output_type": "stream",
     "text": [
      "\u001b[1m1673/1673\u001b[0m \u001b[32m━━━━━━━━━━━━━━━━━━━━\u001b[0m\u001b[37m\u001b[0m \u001b[1m5s\u001b[0m 2ms/step - AUC: 0.4997 - accuracy: 0.9372 - auprc: 0.0592 - loss: 0.9744 - precision: 0.0508 - recall: 0.0032 - true_negatives: 313359.0000 - true_positives: 63.0000\n",
      "Epoch 2/20\n",
      "\u001b[1m1673/1673\u001b[0m \u001b[32m━━━━━━━━━━━━━━━━━━━━\u001b[0m\u001b[37m\u001b[0m \u001b[1m3s\u001b[0m 2ms/step - AUC: 0.5000 - accuracy: 0.9405 - auprc: 0.0595 - loss: 0.9583 - precision: 0.0000e+00 - recall: 0.0000e+00 - true_negatives: 314537.0000 - true_positives: 0.0000e+00\n",
      "Epoch 3/20\n",
      "\u001b[1m1673/1673\u001b[0m \u001b[32m━━━━━━━━━━━━━━━━━━━━\u001b[0m\u001b[37m\u001b[0m \u001b[1m3s\u001b[0m 2ms/step - AUC: 0.5000 - accuracy: 0.9405 - auprc: 0.0595 - loss: 0.9583 - precision: 0.0000e+00 - recall: 0.0000e+00 - true_negatives: 314537.0000 - true_positives: 0.0000e+00\n",
      "Epoch 4/20\n",
      "\u001b[1m1673/1673\u001b[0m \u001b[32m━━━━━━━━━━━━━━━━━━━━\u001b[0m\u001b[37m\u001b[0m \u001b[1m3s\u001b[0m 2ms/step - AUC: 0.5000 - accuracy: 0.9405 - auprc: 0.0595 - loss: 0.9583 - precision: 0.0000e+00 - recall: 0.0000e+00 - true_negatives: 314537.0000 - true_positives: 0.0000e+00\n",
      "Epoch 5/20\n",
      "\u001b[1m1673/1673\u001b[0m \u001b[32m━━━━━━━━━━━━━━━━━━━━\u001b[0m\u001b[37m\u001b[0m \u001b[1m3s\u001b[0m 2ms/step - AUC: 0.5000 - accuracy: 0.9405 - auprc: 0.0595 - loss: 0.9583 - precision: 0.0000e+00 - recall: 0.0000e+00 - true_negatives: 314537.0000 - true_positives: 0.0000e+00\n",
      "Epoch 6/20\n",
      "\u001b[1m1673/1673\u001b[0m \u001b[32m━━━━━━━━━━━━━━━━━━━━\u001b[0m\u001b[37m\u001b[0m \u001b[1m3s\u001b[0m 2ms/step - AUC: 0.5000 - accuracy: 0.9405 - auprc: 0.0595 - loss: 0.9583 - precision: 0.0000e+00 - recall: 0.0000e+00 - true_negatives: 314537.0000 - true_positives: 0.0000e+00\n",
      "Epoch 7/20\n",
      "\u001b[1m1673/1673\u001b[0m \u001b[32m━━━━━━━━━━━━━━━━━━━━\u001b[0m\u001b[37m\u001b[0m \u001b[1m3s\u001b[0m 2ms/step - AUC: 0.5000 - accuracy: 0.9405 - auprc: 0.0595 - loss: 0.9583 - precision: 0.0000e+00 - recall: 0.0000e+00 - true_negatives: 314537.0000 - true_positives: 0.0000e+00\n",
      "Epoch 8/20\n",
      "\u001b[1m1673/1673\u001b[0m \u001b[32m━━━━━━━━━━━━━━━━━━━━\u001b[0m\u001b[37m\u001b[0m \u001b[1m3s\u001b[0m 2ms/step - AUC: 0.5000 - accuracy: 0.9405 - auprc: 0.0595 - loss: 0.9583 - precision: 0.0000e+00 - recall: 0.0000e+00 - true_negatives: 314537.0000 - true_positives: 0.0000e+00\n",
      "Epoch 9/20\n",
      "\u001b[1m1673/1673\u001b[0m \u001b[32m━━━━━━━━━━━━━━━━━━━━\u001b[0m\u001b[37m\u001b[0m \u001b[1m3s\u001b[0m 2ms/step - AUC: 0.5000 - accuracy: 0.9405 - auprc: 0.0595 - loss: 0.9583 - precision: 0.0000e+00 - recall: 0.0000e+00 - true_negatives: 314537.0000 - true_positives: 0.0000e+00\n",
      "Epoch 10/20\n",
      "\u001b[1m1673/1673\u001b[0m \u001b[32m━━━━━━━━━━━━━━━━━━━━\u001b[0m\u001b[37m\u001b[0m \u001b[1m3s\u001b[0m 2ms/step - AUC: 0.5000 - accuracy: 0.9405 - auprc: 0.0595 - loss: 0.9583 - precision: 0.0000e+00 - recall: 0.0000e+00 - true_negatives: 314537.0000 - true_positives: 0.0000e+00\n",
      "Epoch 11/20\n",
      "\u001b[1m1673/1673\u001b[0m \u001b[32m━━━━━━━━━━━━━━━━━━━━\u001b[0m\u001b[37m\u001b[0m \u001b[1m3s\u001b[0m 2ms/step - AUC: 0.5000 - accuracy: 0.9405 - auprc: 0.0595 - loss: 0.9583 - precision: 0.0000e+00 - recall: 0.0000e+00 - true_negatives: 314537.0000 - true_positives: 0.0000e+00\n",
      "Epoch 12/20\n",
      "\u001b[1m1673/1673\u001b[0m \u001b[32m━━━━━━━━━━━━━━━━━━━━\u001b[0m\u001b[37m\u001b[0m \u001b[1m3s\u001b[0m 2ms/step - AUC: 0.5000 - accuracy: 0.9405 - auprc: 0.0595 - loss: 0.9583 - precision: 0.0000e+00 - recall: 0.0000e+00 - true_negatives: 314537.0000 - true_positives: 0.0000e+00\n",
      "Epoch 13/20\n",
      "\u001b[1m1673/1673\u001b[0m \u001b[32m━━━━━━━━━━━━━━━━━━━━\u001b[0m\u001b[37m\u001b[0m \u001b[1m3s\u001b[0m 2ms/step - AUC: 0.5000 - accuracy: 0.9405 - auprc: 0.0595 - loss: 0.9583 - precision: 0.0000e+00 - recall: 0.0000e+00 - true_negatives: 314537.0000 - true_positives: 0.0000e+00\n",
      "Epoch 14/20\n",
      "\u001b[1m1673/1673\u001b[0m \u001b[32m━━━━━━━━━━━━━━━━━━━━\u001b[0m\u001b[37m\u001b[0m \u001b[1m3s\u001b[0m 2ms/step - AUC: 0.5000 - accuracy: 0.9405 - auprc: 0.0595 - loss: 0.9583 - precision: 0.0000e+00 - recall: 0.0000e+00 - true_negatives: 314537.0000 - true_positives: 0.0000e+00\n",
      "Epoch 15/20\n",
      "\u001b[1m1673/1673\u001b[0m \u001b[32m━━━━━━━━━━━━━━━━━━━━\u001b[0m\u001b[37m\u001b[0m \u001b[1m3s\u001b[0m 2ms/step - AUC: 0.5000 - accuracy: 0.9405 - auprc: 0.0595 - loss: 0.9583 - precision: 0.0000e+00 - recall: 0.0000e+00 - true_negatives: 314537.0000 - true_positives: 0.0000e+00\n",
      "Epoch 16/20\n",
      "\u001b[1m1673/1673\u001b[0m \u001b[32m━━━━━━━━━━━━━━━━━━━━\u001b[0m\u001b[37m\u001b[0m \u001b[1m3s\u001b[0m 2ms/step - AUC: 0.5000 - accuracy: 0.9405 - auprc: 0.0595 - loss: 0.9583 - precision: 0.0000e+00 - recall: 0.0000e+00 - true_negatives: 314537.0000 - true_positives: 0.0000e+00\n",
      "Epoch 17/20\n",
      "\u001b[1m1673/1673\u001b[0m \u001b[32m━━━━━━━━━━━━━━━━━━━━\u001b[0m\u001b[37m\u001b[0m \u001b[1m3s\u001b[0m 2ms/step - AUC: 0.5000 - accuracy: 0.9405 - auprc: 0.0595 - loss: 0.9583 - precision: 0.0000e+00 - recall: 0.0000e+00 - true_negatives: 314537.0000 - true_positives: 0.0000e+00\n",
      "Epoch 18/20\n",
      "\u001b[1m1673/1673\u001b[0m \u001b[32m━━━━━━━━━━━━━━━━━━━━\u001b[0m\u001b[37m\u001b[0m \u001b[1m3s\u001b[0m 2ms/step - AUC: 0.5000 - accuracy: 0.9405 - auprc: 0.0595 - loss: 0.9583 - precision: 0.0000e+00 - recall: 0.0000e+00 - true_negatives: 314537.0000 - true_positives: 0.0000e+00\n",
      "Epoch 19/20\n",
      "\u001b[1m1673/1673\u001b[0m \u001b[32m━━━━━━━━━━━━━━━━━━━━\u001b[0m\u001b[37m\u001b[0m \u001b[1m3s\u001b[0m 2ms/step - AUC: 0.5000 - accuracy: 0.9405 - auprc: 0.0595 - loss: 0.9583 - precision: 0.0000e+00 - recall: 0.0000e+00 - true_negatives: 314537.0000 - true_positives: 0.0000e+00\n",
      "Epoch 20/20\n",
      "\u001b[1m1673/1673\u001b[0m \u001b[32m━━━━━━━━━━━━━━━━━━━━\u001b[0m\u001b[37m\u001b[0m \u001b[1m3s\u001b[0m 2ms/step - AUC: 0.5000 - accuracy: 0.9405 - auprc: 0.0595 - loss: 0.9583 - precision: 0.0000e+00 - recall: 0.0000e+00 - true_negatives: 314537.0000 - true_positives: 0.0000e+00\n",
      "Training time: 60.7138991355896 seconds\n"
     ]
    }
   ],
   "source": [
    "# skip this cell if not retraining\n",
    "mlp = MLP()\n",
    "mlp.compile(\n",
    "    loss='binary_crossentropy',\n",
    "    optimizer=optimizers.Adam(learning_rate=0.001),\n",
    "    metrics=[\n",
    "        'accuracy',\n",
    "        metrics.AUC(name='AUC'),\n",
    "        metrics.AUC(name='auprc', curve='PR'),\n",
    "        metrics.TruePositives(),\n",
    "        metrics.TrueNegatives(),\n",
    "        metrics.Precision(),\n",
    "        metrics.Recall()\n",
    "    ]\n",
    ")\n",
    "start = time.time()\n",
    "mlp.fit(X_train.astype(np.float32), y_train, batch_size=200, epochs=20)\n",
    "runtime = time.time() - start\n",
    "print('Training time:', runtime, 'seconds')\n",
    "mlp.save('critical_triage_mlp.keras')"
   ]
  },
  {
   "cell_type": "code",
   "execution_count": 17,
   "metadata": {},
   "outputs": [
    {
     "name": "stdout",
     "output_type": "stream",
     "text": [
      "MLP:\n",
      "\u001b[1m2613/2613\u001b[0m \u001b[32m━━━━━━━━━━━━━━━━━━━━\u001b[0m\u001b[37m\u001b[0m \u001b[1m1s\u001b[0m 503us/step\n",
      "AUC: 0.4999936391624049\n",
      "AUPRC: 0.05979307457687937\n",
      "Sensitivity: 0.0\n",
      "Specificity: 1.0\n",
      "Score thresold: inf\n",
      "2.5 97.5\n"
     ]
    },
    {
     "data": {
      "image/png": "[encoded data removed]",
      "text/plain": [
       "<Figure size 640x480 with 1 Axes>"
      ]
     },
     "metadata": {},
     "output_type": "display_data"
    },
    {
     "data": {
      "image/png": "[encoded data removed]",
      "text/plain": [
       "<Figure size 640x480 with 1 Axes>"
      ]
     },
     "metadata": {},
     "output_type": "display_data"
    }
   ],
   "source": [
    "print(\"MLP:\")\n",
    "mlp = load_model('critical_triage_mlp.keras')\n",
    "probs = mlp.predict(X_test.astype(np.float32))\n",
    "result = PlotROCCurve(probs,y_test, ci=confidence_interval, random_seed=random_seed)\n",
    "results = [\"MLP\"]\n",
    "results.extend(result)\n",
    "results.append(runtime)\n",
    "result_list.append(results)"
   ]
  },
  {
   "cell_type": "code",
   "execution_count": 18,
   "metadata": {},
   "outputs": [],
   "source": [
    "def get_score_performance(s, random_seed=0):\n",
    "    print(s)\n",
    "    score = np.array(df_test[s])\n",
    "    result = PlotROCCurve(score,y_test, ci=confidence_interval, random_seed=random_seed)\n",
    "    runtime = 0\n",
    "    results = [s]\n",
    "    results.extend(result)\n",
    "    results.append(runtime)\n",
    "    result_list.append(results)\n"
   ]
  },
  {
   "cell_type": "code",
   "execution_count": 19,
   "metadata": {},
   "outputs": [
    {
     "name": "stdout",
     "output_type": "stream",
     "text": [
      "ESI\n",
      "AUC: 0.8062646585241532\n",
      "AUPRC: 0.19954909486573122\n",
      "Sensitivity: 0.8765753150630126\n",
      "Specificity: 0.6397857669897973\n",
      "Score thresold: -2.0\n",
      "2.5 97.5\n"
     ]
    },
    {
     "data": {
      "image/png": "[encoded data removed]",
      "text/plain": [
       "<Figure size 640x480 with 1 Axes>"
      ]
     },
     "metadata": {},
     "output_type": "display_data"
    },
    {
     "data": {
      "image/png": "[encoded data removed]",
      "text/plain": [
       "<Figure size 640x480 with 1 Axes>"
      ]
     },
     "metadata": {},
     "output_type": "display_data"
    }
   ],
   "source": [
    "df_test[\"ESI\"] = -df_test[\"triage_acuity\"]\n",
    "get_score_performance(\"ESI\", random_seed=random_seed)"
   ]
  },
  {
   "cell_type": "code",
   "execution_count": 20,
   "metadata": {
    "scrolled": true
   },
   "outputs": [
    {
     "name": "stdout",
     "output_type": "stream",
     "text": [
      "score_NEWS\n",
      "AUC: 0.6408746344846915\n",
      "AUPRC: 0.1575073689891738\n",
      "Sensitivity: 0.46949389877975595\n",
      "Specificity: 0.7957153397959443\n",
      "Score thresold: 2.0\n",
      "2.5 97.5\n"
     ]
    },
    {
     "data": {
      "image/png": "[encoded data removed]",
      "text/plain": [
       "<Figure size 640x480 with 1 Axes>"
      ]
     },
     "metadata": {},
     "output_type": "display_data"
    },
    {
     "data": {
      "image/png": "[encoded data removed]",
      "text/plain": [
       "<Figure size 640x480 with 1 Axes>"
      ]
     },
     "metadata": {},
     "output_type": "display_data"
    }
   ],
   "source": [
    "get_score_performance(\"score_NEWS\", random_seed=random_seed)"
   ]
  },
  {
   "cell_type": "code",
   "execution_count": 21,
   "metadata": {},
   "outputs": [
    {
     "name": "stdout",
     "output_type": "stream",
     "text": [
      "score_NEWS2\n",
      "AUC: 0.6272065279910929\n",
      "AUPRC: 0.14309106464981608\n",
      "Sensitivity: 0.42768553710742147\n",
      "Specificity: 0.8233468183090349\n",
      "Score thresold: 2.0\n",
      "2.5 97.5\n"
     ]
    },
    {
     "data": {
      "image/png": "[encoded data removed]",
      "text/plain": [
       "<Figure size 640x480 with 1 Axes>"
      ]
     },
     "metadata": {},
     "output_type": "display_data"
    },
    {
     "data": {
      "image/png": "[encoded data removed]",
      "text/plain": [
       "<Figure size 640x480 with 1 Axes>"
      ]
     },
     "metadata": {},
     "output_type": "display_data"
    }
   ],
   "source": [
    "get_score_performance(\"score_NEWS2\", random_seed=random_seed)"
   ]
  },
  {
   "cell_type": "code",
   "execution_count": 22,
   "metadata": {},
   "outputs": [
    {
     "name": "stdout",
     "output_type": "stream",
     "text": [
      "score_REMS\n",
      "AUC: 0.6923937862401374\n",
      "AUPRC: 0.11613937314535928\n",
      "Sensitivity: 0.6879375875175034\n",
      "Specificity: 0.6137699412258606\n",
      "Score thresold: 5.0\n",
      "2.5 97.5\n"
     ]
    },
    {
     "data": {
      "image/png": "[encoded data removed]",
      "text/plain": [
       "<Figure size 640x480 with 1 Axes>"
      ]
     },
     "metadata": {},
     "output_type": "display_data"
    },
    {
     "data": {
      "image/png": "[encoded data removed]",
      "text/plain": [
       "<Figure size 640x480 with 1 Axes>"
      ]
     },
     "metadata": {},
     "output_type": "display_data"
    }
   ],
   "source": [
    "get_score_performance(\"score_REMS\", random_seed=random_seed)"
   ]
  },
  {
   "cell_type": "code",
   "execution_count": 23,
   "metadata": {},
   "outputs": [
    {
     "name": "stdout",
     "output_type": "stream",
     "text": [
      "score_MEWS\n",
      "AUC: 0.6263511333923402\n",
      "AUPRC: 0.11539084186381711\n",
      "Sensitivity: 0.4520904180836167\n",
      "Specificity: 0.7720784672925731\n",
      "Score thresold: 2.0\n",
      "2.5 97.5\n"
     ]
    },
    {
     "data": {
      "image/png": "[encoded data removed]",
      "text/plain": [
       "<Figure size 640x480 with 1 Axes>"
      ]
     },
     "metadata": {},
     "output_type": "display_data"
    },
    {
     "data": {
      "image/png": "[encoded data removed]",
      "text/plain": [
       "<Figure size 640x480 with 1 Axes>"
      ]
     },
     "metadata": {},
     "output_type": "display_data"
    }
   ],
   "source": [
    "get_score_performance(\"score_MEWS\", random_seed=random_seed)"
   ]
  },
  {
   "cell_type": "code",
   "execution_count": 24,
   "metadata": {},
   "outputs": [
    {
     "name": "stdout",
     "output_type": "stream",
     "text": [
      "score_CART\n",
      "AUC: 0.7148543733121353\n",
      "AUPRC: 0.15675383285882336\n",
      "Sensitivity: 0.6033206641328266\n",
      "Specificity: 0.727794315955525\n",
      "Score thresold: 6.0\n",
      "2.5 97.5\n"
     ]
    },
    {
     "data": {
      "image/png": "[encoded data removed]",
      "text/plain": [
       "<Figure size 640x480 with 1 Axes>"
      ]
     },
     "metadata": {},
     "output_type": "display_data"
    },
    {
     "data": {
      "image/png": "[encoded data removed]",
      "text/plain": [
       "<Figure size 640x480 with 1 Axes>"
      ]
     },
     "metadata": {},
     "output_type": "display_data"
    }
   ],
   "source": [
    "get_score_performance(\"score_CART\", random_seed=random_seed)"
   ]
  },
  {
   "cell_type": "code",
   "execution_count": 25,
   "metadata": {},
   "outputs": [],
   "source": [
    "from embedding import *"
   ]
  },
  {
   "cell_type": "code",
   "execution_count": 26,
   "metadata": {},
   "outputs": [
    {
     "name": "stdout",
     "output_type": "stream",
     "text": [
      "Med2Vec:\n"
     ]
    }
   ],
   "source": [
    "print(\"Med2Vec:\")\n",
    "version = 'v10'\n",
    "batch_size=200\n",
    "vocab_size = vocabulary_map[version]\n",
    "df_icd_encode = pd.read_csv(os.path.join(path, 'icd_list_dataset_'+version+'.csv'))\n",
    "df_train_embed = pd.merge(df_train, df_icd_encode[['stay_id', 'icd_encoded_list']], how='left', on='stay_id')\n",
    "df_test_embed = pd.merge(df_test, df_icd_encode[['stay_id', 'icd_encoded_list']], how='left', on='stay_id')\n",
    "\n",
    "train_gen, test_gen = setup_embedding_data(df_train_embed, df_test_embed, X_train, y_train, X_test, y_test, batch_size)"
   ]
  },
  {
   "cell_type": "code",
   "execution_count": 27,
   "metadata": {},
   "outputs": [
    {
     "name": "stdout",
     "output_type": "stream",
     "text": [
      "Policy: <DTypePolicy \"float32\">\n"
     ]
    }
   ],
   "source": [
    "tf.keras.mixed_precision.set_global_policy('float32')\n",
    "print(\"Policy:\", tf.keras.mixed_precision.global_policy())"
   ]
  },
  {
   "cell_type": "code",
   "execution_count": 28,
   "metadata": {},
   "outputs": [
    {
     "ename": "ValueError",
     "evalue": "Cannot convert '64' to a shape.",
     "output_type": "error",
     "traceback": [
      "\u001b[31m---------------------------------------------------------------------------\u001b[39m",
      "\u001b[31mValueError\u001b[39m                                Traceback (most recent call last)",
      "\u001b[36mCell\u001b[39m\u001b[36m \u001b[39m\u001b[32mIn[28]\u001b[39m\u001b[32m, line 8\u001b[39m\n\u001b[32m      6\u001b[39m         model = keras.models.load_model(load_model)\n\u001b[32m      7\u001b[39m \u001b[38;5;28;01melse\u001b[39;00m:\n\u001b[32m----> \u001b[39m\u001b[32m8\u001b[39m         model = \u001b[43mcreate_embedding_model\u001b[49m\u001b[43m(\u001b[49m\u001b[43mvocab_size\u001b[49m\u001b[43m,\u001b[49m\u001b[43m \u001b[49m\u001b[38;5;28;43mlen\u001b[39;49m\u001b[43m(\u001b[49m\u001b[43mvariable\u001b[49m\u001b[43m)\u001b[49m\u001b[43m)\u001b[49m\n\u001b[32m      9\u001b[39m model.summary()\n\u001b[32m     10\u001b[39m model.compile(loss=\u001b[33m'\u001b[39m\u001b[33mbinary_crossentropy\u001b[39m\u001b[33m'\u001b[39m, \n\u001b[32m     11\u001b[39m         optimizer=optimizers.Adam(learning_rate=\u001b[32m0.001\u001b[39m, decay=\u001b[32m0.01\u001b[39m), \n\u001b[32m     12\u001b[39m         metrics=[\u001b[33m'\u001b[39m\u001b[33maccuracy\u001b[39m\u001b[33m'\u001b[39m, metrics.AUC(name=\u001b[33m'\u001b[39m\u001b[33mAUC\u001b[39m\u001b[33m'\u001b[39m), metrics.AUC(name=\u001b[33m'\u001b[39m\u001b[33maucpr\u001b[39m\u001b[33m'\u001b[39m, curve=\u001b[33m'\u001b[39m\u001b[33mPR\u001b[39m\u001b[33m'\u001b[39m), \n\u001b[32m     13\u001b[39m                     metrics.TruePositives(), metrics.TrueNegatives(), metrics.Precision(), metrics.Recall()])\n",
      "\u001b[36mFile \u001b[39m\u001b[32m/mnt/dados/gpt_ed_assistant/mimic4ed-benchmark/Benchmark_scripts/embedding.py:41\u001b[39m, in \u001b[36mcreate_embedding_model\u001b[39m\u001b[34m(vocabulary, demographic_size, embedding_dim)\u001b[39m\n\u001b[32m     39\u001b[39m \u001b[38;5;28;01mdef\u001b[39;00m\u001b[38;5;250m \u001b[39m\u001b[34mcreate_embedding_model\u001b[39m(vocabulary, demographic_size, embedding_dim=\u001b[32m1024\u001b[39m):\n\u001b[32m     40\u001b[39m     \u001b[38;5;66;03m# Receive the user as an input.\u001b[39;00m\n\u001b[32m---> \u001b[39m\u001b[32m41\u001b[39m     demograph_input = \u001b[43mlayers\u001b[49m\u001b[43m.\u001b[49m\u001b[43mInput\u001b[49m\u001b[43m(\u001b[49m\u001b[43mname\u001b[49m\u001b[43m=\u001b[49m\u001b[33;43m\"\u001b[39;49m\u001b[33;43mdemograph_input\u001b[39;49m\u001b[33;43m\"\u001b[39;49m\u001b[43m,\u001b[49m\u001b[43m \u001b[49m\u001b[43mshape\u001b[49m\u001b[43m=\u001b[49m\u001b[43m(\u001b[49m\u001b[43mdemographic_size\u001b[49m\u001b[43m)\u001b[49m\u001b[43m)\u001b[49m\n\u001b[32m     42\u001b[39m     icd_input = layers.Input(name=\u001b[33m\"\u001b[39m\u001b[33micd_input\u001b[39m\u001b[33m\"\u001b[39m, shape=(vocabulary))\n\u001b[32m     43\u001b[39m     \u001b[38;5;66;03m# Get user embedding.\u001b[39;00m\n",
      "\u001b[36mFile \u001b[39m\u001b[32m~/gpt_ed_assistant/.venv/lib/python3.11/site-packages/keras/src/layers/core/input_layer.py:209\u001b[39m, in \u001b[36mInput\u001b[39m\u001b[34m(shape, batch_size, dtype, sparse, ragged, batch_shape, name, tensor, optional)\u001b[39m\n\u001b[32m    144\u001b[39m \u001b[38;5;129m@keras_export\u001b[39m([\u001b[33m\"\u001b[39m\u001b[33mkeras.layers.Input\u001b[39m\u001b[33m\"\u001b[39m, \u001b[33m\"\u001b[39m\u001b[33mkeras.Input\u001b[39m\u001b[33m\"\u001b[39m])\n\u001b[32m    145\u001b[39m \u001b[38;5;28;01mdef\u001b[39;00m\u001b[38;5;250m \u001b[39m\u001b[34mInput\u001b[39m(\n\u001b[32m    146\u001b[39m     shape=\u001b[38;5;28;01mNone\u001b[39;00m,\n\u001b[32m   (...)\u001b[39m\u001b[32m    154\u001b[39m     optional=\u001b[38;5;28;01mFalse\u001b[39;00m,\n\u001b[32m    155\u001b[39m ):\n\u001b[32m    156\u001b[39m \u001b[38;5;250m    \u001b[39m\u001b[33;03m\"\"\"Used to instantiate a Keras tensor.\u001b[39;00m\n\u001b[32m    157\u001b[39m \n\u001b[32m    158\u001b[39m \u001b[33;03m    A Keras tensor is a symbolic tensor-like object, which we augment with\u001b[39;00m\n\u001b[32m   (...)\u001b[39m\u001b[32m    207\u001b[39m \u001b[33;03m    ```\u001b[39;00m\n\u001b[32m    208\u001b[39m \u001b[33;03m    \"\"\"\u001b[39;00m\n\u001b[32m--> \u001b[39m\u001b[32m209\u001b[39m     layer = \u001b[43mInputLayer\u001b[49m\u001b[43m(\u001b[49m\n\u001b[32m    210\u001b[39m \u001b[43m        \u001b[49m\u001b[43mshape\u001b[49m\u001b[43m=\u001b[49m\u001b[43mshape\u001b[49m\u001b[43m,\u001b[49m\n\u001b[32m    211\u001b[39m \u001b[43m        \u001b[49m\u001b[43mbatch_size\u001b[49m\u001b[43m=\u001b[49m\u001b[43mbatch_size\u001b[49m\u001b[43m,\u001b[49m\n\u001b[32m    212\u001b[39m \u001b[43m        \u001b[49m\u001b[43mdtype\u001b[49m\u001b[43m=\u001b[49m\u001b[43mdtype\u001b[49m\u001b[43m,\u001b[49m\n\u001b[32m    213\u001b[39m \u001b[43m        \u001b[49m\u001b[43msparse\u001b[49m\u001b[43m=\u001b[49m\u001b[43msparse\u001b[49m\u001b[43m,\u001b[49m\n\u001b[32m    214\u001b[39m \u001b[43m        \u001b[49m\u001b[43mragged\u001b[49m\u001b[43m=\u001b[49m\u001b[43mragged\u001b[49m\u001b[43m,\u001b[49m\n\u001b[32m    215\u001b[39m \u001b[43m        \u001b[49m\u001b[43mbatch_shape\u001b[49m\u001b[43m=\u001b[49m\u001b[43mbatch_shape\u001b[49m\u001b[43m,\u001b[49m\n\u001b[32m    216\u001b[39m \u001b[43m        \u001b[49m\u001b[43mname\u001b[49m\u001b[43m=\u001b[49m\u001b[43mname\u001b[49m\u001b[43m,\u001b[49m\n\u001b[32m    217\u001b[39m \u001b[43m        \u001b[49m\u001b[43minput_tensor\u001b[49m\u001b[43m=\u001b[49m\u001b[43mtensor\u001b[49m\u001b[43m,\u001b[49m\n\u001b[32m    218\u001b[39m \u001b[43m        \u001b[49m\u001b[43moptional\u001b[49m\u001b[43m=\u001b[49m\u001b[43moptional\u001b[49m\u001b[43m,\u001b[49m\n\u001b[32m    219\u001b[39m \u001b[43m    \u001b[49m\u001b[43m)\u001b[49m\n\u001b[32m    220\u001b[39m     \u001b[38;5;28;01mreturn\u001b[39;00m layer.output\n",
      "\u001b[36mFile \u001b[39m\u001b[32m~/gpt_ed_assistant/.venv/lib/python3.11/site-packages/keras/src/layers/core/input_layer.py:92\u001b[39m, in \u001b[36mInputLayer.__init__\u001b[39m\u001b[34m(self, shape, batch_size, dtype, sparse, ragged, batch_shape, input_tensor, optional, name, **kwargs)\u001b[39m\n\u001b[32m     89\u001b[39m         \u001b[38;5;28;01mraise\u001b[39;00m \u001b[38;5;167;01mValueError\u001b[39;00m(\u001b[33m\"\u001b[39m\u001b[33mYou must pass a `shape` argument.\u001b[39m\u001b[33m\"\u001b[39m)\n\u001b[32m     91\u001b[39m     \u001b[38;5;28;01mif\u001b[39;00m shape \u001b[38;5;129;01mis\u001b[39;00m \u001b[38;5;129;01mnot\u001b[39;00m \u001b[38;5;28;01mNone\u001b[39;00m:\n\u001b[32m---> \u001b[39m\u001b[32m92\u001b[39m         shape = \u001b[43mbackend\u001b[49m\u001b[43m.\u001b[49m\u001b[43mstandardize_shape\u001b[49m\u001b[43m(\u001b[49m\u001b[43mshape\u001b[49m\u001b[43m)\u001b[49m\n\u001b[32m     93\u001b[39m         batch_shape = (batch_size,) + shape\n\u001b[32m     95\u001b[39m \u001b[38;5;28mself\u001b[39m._batch_shape = backend.standardize_shape(batch_shape)\n",
      "\u001b[36mFile \u001b[39m\u001b[32m~/gpt_ed_assistant/.venv/lib/python3.11/site-packages/keras/src/backend/common/variables.py:592\u001b[39m, in \u001b[36mstandardize_shape\u001b[39m\u001b[34m(shape)\u001b[39m\n\u001b[32m    590\u001b[39m     \u001b[38;5;28;01mraise\u001b[39;00m \u001b[38;5;167;01mValueError\u001b[39;00m(\u001b[33m\"\u001b[39m\u001b[33mUndefined shapes are not supported.\u001b[39m\u001b[33m\"\u001b[39m)\n\u001b[32m    591\u001b[39m \u001b[38;5;28;01mif\u001b[39;00m \u001b[38;5;129;01mnot\u001b[39;00m \u001b[38;5;28mhasattr\u001b[39m(shape, \u001b[33m\"\u001b[39m\u001b[33m__iter__\u001b[39m\u001b[33m\"\u001b[39m):\n\u001b[32m--> \u001b[39m\u001b[32m592\u001b[39m     \u001b[38;5;28;01mraise\u001b[39;00m \u001b[38;5;167;01mValueError\u001b[39;00m(\u001b[33mf\u001b[39m\u001b[33m\"\u001b[39m\u001b[33mCannot convert \u001b[39m\u001b[33m'\u001b[39m\u001b[38;5;132;01m{\u001b[39;00mshape\u001b[38;5;132;01m}\u001b[39;00m\u001b[33m'\u001b[39m\u001b[33m to a shape.\u001b[39m\u001b[33m\"\u001b[39m)\n\u001b[32m    593\u001b[39m \u001b[38;5;28;01mif\u001b[39;00m config.backend() == \u001b[33m\"\u001b[39m\u001b[33mtensorflow\u001b[39m\u001b[33m\"\u001b[39m:\n\u001b[32m    594\u001b[39m     \u001b[38;5;28;01mif\u001b[39;00m \u001b[38;5;28misinstance\u001b[39m(shape, tf.TensorShape):\n\u001b[32m    595\u001b[39m         \u001b[38;5;66;03m# `tf.TensorShape` may contain `Dimension` objects.\u001b[39;00m\n\u001b[32m    596\u001b[39m         \u001b[38;5;66;03m# We need to convert the items in it to either int or `None`\u001b[39;00m\n",
      "\u001b[31mValueError\u001b[39m: Cannot convert '64' to a shape."
     ]
    }
   ],
   "source": [
    "# To train from scratch, set load_model to None\n",
    "load_model = None#\"embedding_critical_\"+version \n",
    "save_model = \"embedding_critical_\"+version\n",
    "\n",
    "if load_model:\n",
    "        model = keras.models.load_model(load_model)\n",
    "else:\n",
    "        model = create_embedding_model(vocab_size, len(variable))\n",
    "model.summary()\n",
    "model.compile(loss='binary_crossentropy', \n",
    "        optimizer=optimizers.Adam(learning_rate=0.001, decay=0.01), \n",
    "        metrics=['accuracy', metrics.AUC(name='AUC'), metrics.AUC(name='aucpr', curve='PR'), \n",
    "                    metrics.TruePositives(), metrics.TrueNegatives(), metrics.Precision(), metrics.Recall()])\n",
    "runtime = 1063.299 # to be updated\n",
    "if not load_model:\n",
    "        start = time.time()\n",
    "        model.fit(train_gen, epochs=100, class_weight={1:ratio, 0:1}, verbose=1)\n",
    "        runtime = time.time()-start\n",
    "        print('Training time:', runtime, 'seconds')\n",
    "if save_model:\n",
    "        keras.models.save_model(model, save_model)\n",
    "output = model.predict(test_gen)\n",
    "result = PlotROCCurve(output,y_test, ci=confidence_interval, random_seed=random_seed)\n",
    "\n",
    "results = [\"Med2Vec\"]\n",
    "results.extend(result)\n",
    "results.append(runtime)\n",
    "result_list.append(results)\n"
   ]
  },
  {
   "cell_type": "code",
   "execution_count": null,
   "metadata": {},
   "outputs": [
    {
     "data": {
      "text/html": [
       "<pre style=\"white-space:pre;overflow-x:auto;line-height:normal;font-family:Menlo,'DejaVu Sans Mono',consolas,'Courier New',monospace\"><span style=\"font-weight: bold\">Model: \"med2vec_cls\"</span>\n",
       "</pre>\n"
      ],
      "text/plain": [
       "\u001b[1mModel: \"med2vec_cls\"\u001b[0m\n"
      ]
     },
     "metadata": {},
     "output_type": "display_data"
    },
    {
     "data": {
      "text/html": [
       "<pre style=\"white-space:pre;overflow-x:auto;line-height:normal;font-family:Menlo,'DejaVu Sans Mono',consolas,'Courier New',monospace\">┏━━━━━━━━━━━━━━━━━━━━━┳━━━━━━━━━━━━━━━━━━━┳━━━━━━━━━━━━┳━━━━━━━━━━━━━━━━━━━┓\n",
       "┃<span style=\"font-weight: bold\"> Layer (type)        </span>┃<span style=\"font-weight: bold\"> Output Shape      </span>┃<span style=\"font-weight: bold\">    Param # </span>┃<span style=\"font-weight: bold\"> Connected to      </span>┃\n",
       "┡━━━━━━━━━━━━━━━━━━━━━╇━━━━━━━━━━━━━━━━━━━╇━━━━━━━━━━━━╇━━━━━━━━━━━━━━━━━━━┩\n",
       "│ icd_input           │ (<span style=\"color: #00d7ff; text-decoration-color: #00d7ff\">None</span>, <span style=\"color: #00d7ff; text-decoration-color: #00d7ff\">None</span>)      │          <span style=\"color: #00af00; text-decoration-color: #00af00\">0</span> │ -                 │\n",
       "│ (<span style=\"color: #0087ff; text-decoration-color: #0087ff\">InputLayer</span>)        │                   │            │                   │\n",
       "├─────────────────────┼───────────────────┼────────────┼───────────────────┤\n",
       "│ demograph_input     │ (<span style=\"color: #00d7ff; text-decoration-color: #00d7ff\">None</span>, <span style=\"color: #00af00; text-decoration-color: #00af00\">64</span>)        │          <span style=\"color: #00af00; text-decoration-color: #00af00\">0</span> │ -                 │\n",
       "│ (<span style=\"color: #0087ff; text-decoration-color: #0087ff\">InputLayer</span>)        │                   │            │                   │\n",
       "├─────────────────────┼───────────────────┼────────────┼───────────────────┤\n",
       "│ icd_emb (<span style=\"color: #0087ff; text-decoration-color: #0087ff\">Embedding</span>) │ (<span style=\"color: #00d7ff; text-decoration-color: #00d7ff\">None</span>, <span style=\"color: #00d7ff; text-decoration-color: #00d7ff\">None</span>, <span style=\"color: #00af00; text-decoration-color: #00af00\">128</span>) │  <span style=\"color: #00af00; text-decoration-color: #00af00\">3,656,192</span> │ icd_input[<span style=\"color: #00af00; text-decoration-color: #00af00\">0</span>][<span style=\"color: #00af00; text-decoration-color: #00af00\">0</span>]   │\n",
       "├─────────────────────┼───────────────────┼────────────┼───────────────────┤\n",
       "│ not_equal           │ (<span style=\"color: #00d7ff; text-decoration-color: #00d7ff\">None</span>, <span style=\"color: #00d7ff; text-decoration-color: #00d7ff\">None</span>)      │          <span style=\"color: #00af00; text-decoration-color: #00af00\">0</span> │ icd_input[<span style=\"color: #00af00; text-decoration-color: #00af00\">0</span>][<span style=\"color: #00af00; text-decoration-color: #00af00\">0</span>]   │\n",
       "│ (<span style=\"color: #0087ff; text-decoration-color: #0087ff\">NotEqual</span>)          │                   │            │                   │\n",
       "├─────────────────────┼───────────────────┼────────────┼───────────────────┤\n",
       "│ dense_6 (<span style=\"color: #0087ff; text-decoration-color: #0087ff\">Dense</span>)     │ (<span style=\"color: #00d7ff; text-decoration-color: #00d7ff\">None</span>, <span style=\"color: #00af00; text-decoration-color: #00af00\">128</span>)       │      <span style=\"color: #00af00; text-decoration-color: #00af00\">8,320</span> │ demograph_input[<span style=\"color: #00af00; text-decoration-color: #00af00\">…</span> │\n",
       "├─────────────────────┼───────────────────┼────────────┼───────────────────┤\n",
       "│ global_average_poo… │ (<span style=\"color: #00d7ff; text-decoration-color: #00d7ff\">None</span>, <span style=\"color: #00af00; text-decoration-color: #00af00\">128</span>)       │          <span style=\"color: #00af00; text-decoration-color: #00af00\">0</span> │ icd_emb[<span style=\"color: #00af00; text-decoration-color: #00af00\">0</span>][<span style=\"color: #00af00; text-decoration-color: #00af00\">0</span>],    │\n",
       "│ (<span style=\"color: #0087ff; text-decoration-color: #0087ff\">GlobalAveragePool…</span> │                   │            │ not_equal[<span style=\"color: #00af00; text-decoration-color: #00af00\">0</span>][<span style=\"color: #00af00; text-decoration-color: #00af00\">0</span>]   │\n",
       "├─────────────────────┼───────────────────┼────────────┼───────────────────┤\n",
       "│ concatenate         │ (<span style=\"color: #00d7ff; text-decoration-color: #00d7ff\">None</span>, <span style=\"color: #00af00; text-decoration-color: #00af00\">256</span>)       │          <span style=\"color: #00af00; text-decoration-color: #00af00\">0</span> │ dense_6[<span style=\"color: #00af00; text-decoration-color: #00af00\">0</span>][<span style=\"color: #00af00; text-decoration-color: #00af00\">0</span>],    │\n",
       "│ (<span style=\"color: #0087ff; text-decoration-color: #0087ff\">Concatenate</span>)       │                   │            │ global_average_p… │\n",
       "├─────────────────────┼───────────────────┼────────────┼───────────────────┤\n",
       "│ dense_7 (<span style=\"color: #0087ff; text-decoration-color: #0087ff\">Dense</span>)     │ (<span style=\"color: #00d7ff; text-decoration-color: #00d7ff\">None</span>, <span style=\"color: #00af00; text-decoration-color: #00af00\">128</span>)       │     <span style=\"color: #00af00; text-decoration-color: #00af00\">32,896</span> │ concatenate[<span style=\"color: #00af00; text-decoration-color: #00af00\">0</span>][<span style=\"color: #00af00; text-decoration-color: #00af00\">0</span>] │\n",
       "├─────────────────────┼───────────────────┼────────────┼───────────────────┤\n",
       "│ dense_8 (<span style=\"color: #0087ff; text-decoration-color: #0087ff\">Dense</span>)     │ (<span style=\"color: #00d7ff; text-decoration-color: #00d7ff\">None</span>, <span style=\"color: #00af00; text-decoration-color: #00af00\">64</span>)        │      <span style=\"color: #00af00; text-decoration-color: #00af00\">8,256</span> │ dense_7[<span style=\"color: #00af00; text-decoration-color: #00af00\">0</span>][<span style=\"color: #00af00; text-decoration-color: #00af00\">0</span>]     │\n",
       "├─────────────────────┼───────────────────┼────────────┼───────────────────┤\n",
       "│ dense_9 (<span style=\"color: #0087ff; text-decoration-color: #0087ff\">Dense</span>)     │ (<span style=\"color: #00d7ff; text-decoration-color: #00d7ff\">None</span>, <span style=\"color: #00af00; text-decoration-color: #00af00\">1</span>)         │         <span style=\"color: #00af00; text-decoration-color: #00af00\">65</span> │ dense_8[<span style=\"color: #00af00; text-decoration-color: #00af00\">0</span>][<span style=\"color: #00af00; text-decoration-color: #00af00\">0</span>]     │\n",
       "└─────────────────────┴───────────────────┴────────────┴───────────────────┘\n",
       "</pre>\n"
      ],
      "text/plain": [
       "┏━━━━━━━━━━━━━━━━━━━━━┳━━━━━━━━━━━━━━━━━━━┳━━━━━━━━━━━━┳━━━━━━━━━━━━━━━━━━━┓\n",
       "┃\u001b[1m \u001b[0m\u001b[1mLayer (type)       \u001b[0m\u001b[1m \u001b[0m┃\u001b[1m \u001b[0m\u001b[1mOutput Shape     \u001b[0m\u001b[1m \u001b[0m┃\u001b[1m \u001b[0m\u001b[1m   Param #\u001b[0m\u001b[1m \u001b[0m┃\u001b[1m \u001b[0m\u001b[1mConnected to     \u001b[0m\u001b[1m \u001b[0m┃\n",
       "┡━━━━━━━━━━━━━━━━━━━━━╇━━━━━━━━━━━━━━━━━━━╇━━━━━━━━━━━━╇━━━━━━━━━━━━━━━━━━━┩\n",
       "│ icd_input           │ (\u001b[38;5;45mNone\u001b[0m, \u001b[38;5;45mNone\u001b[0m)      │          \u001b[38;5;34m0\u001b[0m │ -                 │\n",
       "│ (\u001b[38;5;33mInputLayer\u001b[0m)        │                   │            │                   │\n",
       "├─────────────────────┼───────────────────┼────────────┼───────────────────┤\n",
       "│ demograph_input     │ (\u001b[38;5;45mNone\u001b[0m, \u001b[38;5;34m64\u001b[0m)        │          \u001b[38;5;34m0\u001b[0m │ -                 │\n",
       "│ (\u001b[38;5;33mInputLayer\u001b[0m)        │                   │            │                   │\n",
       "├─────────────────────┼───────────────────┼────────────┼───────────────────┤\n",
       "│ icd_emb (\u001b[38;5;33mEmbedding\u001b[0m) │ (\u001b[38;5;45mNone\u001b[0m, \u001b[38;5;45mNone\u001b[0m, \u001b[38;5;34m128\u001b[0m) │  \u001b[38;5;34m3,656,192\u001b[0m │ icd_input[\u001b[38;5;34m0\u001b[0m][\u001b[38;5;34m0\u001b[0m]   │\n",
       "├─────────────────────┼───────────────────┼────────────┼───────────────────┤\n",
       "│ not_equal           │ (\u001b[38;5;45mNone\u001b[0m, \u001b[38;5;45mNone\u001b[0m)      │          \u001b[38;5;34m0\u001b[0m │ icd_input[\u001b[38;5;34m0\u001b[0m][\u001b[38;5;34m0\u001b[0m]   │\n",
       "│ (\u001b[38;5;33mNotEqual\u001b[0m)          │                   │            │                   │\n",
       "├─────────────────────┼───────────────────┼────────────┼───────────────────┤\n",
       "│ dense_6 (\u001b[38;5;33mDense\u001b[0m)     │ (\u001b[38;5;45mNone\u001b[0m, \u001b[38;5;34m128\u001b[0m)       │      \u001b[38;5;34m8,320\u001b[0m │ demograph_input[\u001b[38;5;34m…\u001b[0m │\n",
       "├─────────────────────┼───────────────────┼────────────┼───────────────────┤\n",
       "│ global_average_poo… │ (\u001b[38;5;45mNone\u001b[0m, \u001b[38;5;34m128\u001b[0m)       │          \u001b[38;5;34m0\u001b[0m │ icd_emb[\u001b[38;5;34m0\u001b[0m][\u001b[38;5;34m0\u001b[0m],    │\n",
       "│ (\u001b[38;5;33mGlobalAveragePool…\u001b[0m │                   │            │ not_equal[\u001b[38;5;34m0\u001b[0m][\u001b[38;5;34m0\u001b[0m]   │\n",
       "├─────────────────────┼───────────────────┼────────────┼───────────────────┤\n",
       "│ concatenate         │ (\u001b[38;5;45mNone\u001b[0m, \u001b[38;5;34m256\u001b[0m)       │          \u001b[38;5;34m0\u001b[0m │ dense_6[\u001b[38;5;34m0\u001b[0m][\u001b[38;5;34m0\u001b[0m],    │\n",
       "│ (\u001b[38;5;33mConcatenate\u001b[0m)       │                   │            │ global_average_p… │\n",
       "├─────────────────────┼───────────────────┼────────────┼───────────────────┤\n",
       "│ dense_7 (\u001b[38;5;33mDense\u001b[0m)     │ (\u001b[38;5;45mNone\u001b[0m, \u001b[38;5;34m128\u001b[0m)       │     \u001b[38;5;34m32,896\u001b[0m │ concatenate[\u001b[38;5;34m0\u001b[0m][\u001b[38;5;34m0\u001b[0m] │\n",
       "├─────────────────────┼───────────────────┼────────────┼───────────────────┤\n",
       "│ dense_8 (\u001b[38;5;33mDense\u001b[0m)     │ (\u001b[38;5;45mNone\u001b[0m, \u001b[38;5;34m64\u001b[0m)        │      \u001b[38;5;34m8,256\u001b[0m │ dense_7[\u001b[38;5;34m0\u001b[0m][\u001b[38;5;34m0\u001b[0m]     │\n",
       "├─────────────────────┼───────────────────┼────────────┼───────────────────┤\n",
       "│ dense_9 (\u001b[38;5;33mDense\u001b[0m)     │ (\u001b[38;5;45mNone\u001b[0m, \u001b[38;5;34m1\u001b[0m)         │         \u001b[38;5;34m65\u001b[0m │ dense_8[\u001b[38;5;34m0\u001b[0m][\u001b[38;5;34m0\u001b[0m]     │\n",
       "└─────────────────────┴───────────────────┴────────────┴───────────────────┘\n"
      ]
     },
     "metadata": {},
     "output_type": "display_data"
    },
    {
     "data": {
      "text/html": [
       "<pre style=\"white-space:pre;overflow-x:auto;line-height:normal;font-family:Menlo,'DejaVu Sans Mono',consolas,'Courier New',monospace\"><span style=\"font-weight: bold\"> Total params: </span><span style=\"color: #00af00; text-decoration-color: #00af00\">3,705,729</span> (14.14 MB)\n",
       "</pre>\n"
      ],
      "text/plain": [
       "\u001b[1m Total params: \u001b[0m\u001b[38;5;34m3,705,729\u001b[0m (14.14 MB)\n"
      ]
     },
     "metadata": {},
     "output_type": "display_data"
    },
    {
     "data": {
      "text/html": [
       "<pre style=\"white-space:pre;overflow-x:auto;line-height:normal;font-family:Menlo,'DejaVu Sans Mono',consolas,'Courier New',monospace\"><span style=\"font-weight: bold\"> Trainable params: </span><span style=\"color: #00af00; text-decoration-color: #00af00\">3,705,729</span> (14.14 MB)\n",
       "</pre>\n"
      ],
      "text/plain": [
       "\u001b[1m Trainable params: \u001b[0m\u001b[38;5;34m3,705,729\u001b[0m (14.14 MB)\n"
      ]
     },
     "metadata": {},
     "output_type": "display_data"
    },
    {
     "data": {
      "text/html": [
       "<pre style=\"white-space:pre;overflow-x:auto;line-height:normal;font-family:Menlo,'DejaVu Sans Mono',consolas,'Courier New',monospace\"><span style=\"font-weight: bold\"> Non-trainable params: </span><span style=\"color: #00af00; text-decoration-color: #00af00\">0</span> (0.00 B)\n",
       "</pre>\n"
      ],
      "text/plain": [
       "\u001b[1m Non-trainable params: \u001b[0m\u001b[38;5;34m0\u001b[0m (0.00 B)\n"
      ]
     },
     "metadata": {},
     "output_type": "display_data"
    },
    {
     "name": "stdout",
     "output_type": "stream",
     "text": [
      "class_weight {0: 1.0, 1: 15.8193934516924}\n",
      "Epoch 1/50\n"
     ]
    },
    {
     "name": "stderr",
     "output_type": "stream",
     "text": [
      "/home/olavo-dalberto/gpt_ed_assistant/.venv/lib/python3.11/site-packages/keras/src/trainers/data_adapters/py_dataset_adapter.py:121: UserWarning: Your `PyDataset` class should call `super().__init__(**kwargs)` in its constructor. `**kwargs` can include `workers`, `use_multiprocessing`, `max_queue_size`. Do not pass these arguments to `fit()`, as they will be ignored.\n",
      "  self._warn_if_super_not_called()\n"
     ]
    },
    {
     "name": "stdout",
     "output_type": "stream",
     "text": [
      "\u001b[1m1673/1673\u001b[0m \u001b[32m━━━━━━━━━━━━━━━━━━━━\u001b[0m\u001b[37m\u001b[0m \u001b[1m110s\u001b[0m 65ms/step - AUC: 2.6144e-08 - AUPRC: 1.6741e-05 - Precision: 0.0000e+00 - Recall: 0.0000e+00 - TN: 314527.0000 - TP: 0.0000e+00 - accuracy: 0.9405 - loss: nan\n",
      "Epoch 2/50\n",
      "\u001b[1m1673/1673\u001b[0m \u001b[32m━━━━━━━━━━━━━━━━━━━━\u001b[0m\u001b[37m\u001b[0m \u001b[1m108s\u001b[0m 65ms/step - AUC: 0.0000e+00 - AUPRC: 0.0000e+00 - Precision: 0.0000e+00 - Recall: 0.0000e+00 - TN: 314537.0000 - TP: 0.0000e+00 - accuracy: 0.9405 - loss: nan\n",
      "Epoch 3/50\n",
      "\u001b[1m1673/1673\u001b[0m \u001b[32m━━━━━━━━━━━━━━━━━━━━\u001b[0m\u001b[37m\u001b[0m \u001b[1m109s\u001b[0m 65ms/step - AUC: 0.0000e+00 - AUPRC: 0.0000e+00 - Precision: 0.0000e+00 - Recall: 0.0000e+00 - TN: 314537.0000 - TP: 0.0000e+00 - accuracy: 0.9405 - loss: nan\n",
      "Epoch 4/50\n",
      "\u001b[1m1673/1673\u001b[0m \u001b[32m━━━━━━━━━━━━━━━━━━━━\u001b[0m\u001b[37m\u001b[0m \u001b[1m109s\u001b[0m 65ms/step - AUC: 0.0000e+00 - AUPRC: 0.0000e+00 - Precision: 0.0000e+00 - Recall: 0.0000e+00 - TN: 314537.0000 - TP: 0.0000e+00 - accuracy: 0.9405 - loss: nan\n",
      "Epoch 5/50\n",
      "\u001b[1m1673/1673\u001b[0m \u001b[32m━━━━━━━━━━━━━━━━━━━━\u001b[0m\u001b[37m\u001b[0m \u001b[1m110s\u001b[0m 65ms/step - AUC: 0.0000e+00 - AUPRC: 0.0000e+00 - Precision: 0.0000e+00 - Recall: 0.0000e+00 - TN: 314537.0000 - TP: 0.0000e+00 - accuracy: 0.9405 - loss: nan\n",
      "Epoch 6/50\n",
      "\u001b[1m1673/1673\u001b[0m \u001b[32m━━━━━━━━━━━━━━━━━━━━\u001b[0m\u001b[37m\u001b[0m \u001b[1m110s\u001b[0m 66ms/step - AUC: 0.0000e+00 - AUPRC: 0.0000e+00 - Precision: 0.0000e+00 - Recall: 0.0000e+00 - TN: 314537.0000 - TP: 0.0000e+00 - accuracy: 0.9405 - loss: nan\n",
      "Epoch 7/50\n",
      "\u001b[1m1673/1673\u001b[0m \u001b[32m━━━━━━━━━━━━━━━━━━━━\u001b[0m\u001b[37m\u001b[0m \u001b[1m111s\u001b[0m 66ms/step - AUC: 0.0000e+00 - AUPRC: 0.0000e+00 - Precision: 0.0000e+00 - Recall: 0.0000e+00 - TN: 314537.0000 - TP: 0.0000e+00 - accuracy: 0.9405 - loss: nan\n",
      "Epoch 8/50\n",
      "\u001b[1m1673/1673\u001b[0m \u001b[32m━━━━━━━━━━━━━━━━━━━━\u001b[0m\u001b[37m\u001b[0m \u001b[1m111s\u001b[0m 66ms/step - AUC: 0.0000e+00 - AUPRC: 0.0000e+00 - Precision: 0.0000e+00 - Recall: 0.0000e+00 - TN: 314537.0000 - TP: 0.0000e+00 - accuracy: 0.9405 - loss: nan\n",
      "Epoch 9/50\n",
      "\u001b[1m1673/1673\u001b[0m \u001b[32m━━━━━━━━━━━━━━━━━━━━\u001b[0m\u001b[37m\u001b[0m \u001b[1m111s\u001b[0m 66ms/step - AUC: 0.0000e+00 - AUPRC: 0.0000e+00 - Precision: 0.0000e+00 - Recall: 0.0000e+00 - TN: 314537.0000 - TP: 0.0000e+00 - accuracy: 0.9405 - loss: nan\n",
      "Epoch 10/50\n",
      "\u001b[1m1673/1673\u001b[0m \u001b[32m━━━━━━━━━━━━━━━━━━━━\u001b[0m\u001b[37m\u001b[0m \u001b[1m110s\u001b[0m 66ms/step - AUC: 0.0000e+00 - AUPRC: 0.0000e+00 - Precision: 0.0000e+00 - Recall: 0.0000e+00 - TN: 314537.0000 - TP: 0.0000e+00 - accuracy: 0.9405 - loss: nan\n",
      "Epoch 11/50\n",
      "\u001b[1m1673/1673\u001b[0m \u001b[32m━━━━━━━━━━━━━━━━━━━━\u001b[0m\u001b[37m\u001b[0m \u001b[1m111s\u001b[0m 66ms/step - AUC: 0.0000e+00 - AUPRC: 0.0000e+00 - Precision: 0.0000e+00 - Recall: 0.0000e+00 - TN: 314537.0000 - TP: 0.0000e+00 - accuracy: 0.9405 - loss: nan\n",
      "Epoch 12/50\n",
      "\u001b[1m1673/1673\u001b[0m \u001b[32m━━━━━━━━━━━━━━━━━━━━\u001b[0m\u001b[37m\u001b[0m \u001b[1m112s\u001b[0m 67ms/step - AUC: 0.0000e+00 - AUPRC: 0.0000e+00 - Precision: 0.0000e+00 - Recall: 0.0000e+00 - TN: 314537.0000 - TP: 0.0000e+00 - accuracy: 0.9405 - loss: nan\n",
      "Epoch 13/50\n",
      "\u001b[1m1673/1673\u001b[0m \u001b[32m━━━━━━━━━━━━━━━━━━━━\u001b[0m\u001b[37m\u001b[0m \u001b[1m111s\u001b[0m 67ms/step - AUC: 0.0000e+00 - AUPRC: 0.0000e+00 - Precision: 0.0000e+00 - Recall: 0.0000e+00 - TN: 314537.0000 - TP: 0.0000e+00 - accuracy: 0.9405 - loss: nan\n",
      "Epoch 14/50\n",
      "\u001b[1m1673/1673\u001b[0m \u001b[32m━━━━━━━━━━━━━━━━━━━━\u001b[0m\u001b[37m\u001b[0m \u001b[1m111s\u001b[0m 66ms/step - AUC: 0.0000e+00 - AUPRC: 0.0000e+00 - Precision: 0.0000e+00 - Recall: 0.0000e+00 - TN: 314537.0000 - TP: 0.0000e+00 - accuracy: 0.9405 - loss: nan\n",
      "Epoch 15/50\n",
      "\u001b[1m1673/1673\u001b[0m \u001b[32m━━━━━━━━━━━━━━━━━━━━\u001b[0m\u001b[37m\u001b[0m \u001b[1m111s\u001b[0m 67ms/step - AUC: 0.0000e+00 - AUPRC: 0.0000e+00 - Precision: 0.0000e+00 - Recall: 0.0000e+00 - TN: 314537.0000 - TP: 0.0000e+00 - accuracy: 0.9405 - loss: nan\n",
      "Epoch 16/50\n",
      "\u001b[1m1673/1673\u001b[0m \u001b[32m━━━━━━━━━━━━━━━━━━━━\u001b[0m\u001b[37m\u001b[0m \u001b[1m112s\u001b[0m 67ms/step - AUC: 0.0000e+00 - AUPRC: 0.0000e+00 - Precision: 0.0000e+00 - Recall: 0.0000e+00 - TN: 314537.0000 - TP: 0.0000e+00 - accuracy: 0.9405 - loss: nan\n",
      "Epoch 17/50\n",
      "\u001b[1m1673/1673\u001b[0m \u001b[32m━━━━━━━━━━━━━━━━━━━━\u001b[0m\u001b[37m\u001b[0m \u001b[1m112s\u001b[0m 67ms/step - AUC: 0.0000e+00 - AUPRC: 0.0000e+00 - Precision: 0.0000e+00 - Recall: 0.0000e+00 - TN: 314537.0000 - TP: 0.0000e+00 - accuracy: 0.9405 - loss: nan\n",
      "Epoch 18/50\n",
      "\u001b[1m1673/1673\u001b[0m \u001b[32m━━━━━━━━━━━━━━━━━━━━\u001b[0m\u001b[37m\u001b[0m \u001b[1m112s\u001b[0m 67ms/step - AUC: 0.0000e+00 - AUPRC: 0.0000e+00 - Precision: 0.0000e+00 - Recall: 0.0000e+00 - TN: 314537.0000 - TP: 0.0000e+00 - accuracy: 0.9405 - loss: nan\n",
      "Epoch 19/50\n",
      "\u001b[1m1673/1673\u001b[0m \u001b[32m━━━━━━━━━━━━━━━━━━━━\u001b[0m\u001b[37m\u001b[0m \u001b[1m112s\u001b[0m 67ms/step - AUC: 0.0000e+00 - AUPRC: 0.0000e+00 - Precision: 0.0000e+00 - Recall: 0.0000e+00 - TN: 314537.0000 - TP: 0.0000e+00 - accuracy: 0.9405 - loss: nan\n",
      "Epoch 20/50\n",
      "\u001b[1m1673/1673\u001b[0m \u001b[32m━━━━━━━━━━━━━━━━━━━━\u001b[0m\u001b[37m\u001b[0m \u001b[1m112s\u001b[0m 67ms/step - AUC: 0.0000e+00 - AUPRC: 0.0000e+00 - Precision: 0.0000e+00 - Recall: 0.0000e+00 - TN: 314537.0000 - TP: 0.0000e+00 - accuracy: 0.9405 - loss: nan\n",
      "Epoch 21/50\n",
      "\u001b[1m1673/1673\u001b[0m \u001b[32m━━━━━━━━━━━━━━━━━━━━\u001b[0m\u001b[37m\u001b[0m \u001b[1m116s\u001b[0m 69ms/step - AUC: 0.0000e+00 - AUPRC: 0.0000e+00 - Precision: 0.0000e+00 - Recall: 0.0000e+00 - TN: 314537.0000 - TP: 0.0000e+00 - accuracy: 0.9405 - loss: nan\n",
      "Epoch 22/50\n",
      "\u001b[1m  46/1673\u001b[0m \u001b[37m━━━━━━━━━━━━━━━━━━━━\u001b[0m \u001b[1m2:12\u001b[0m 81ms/step - AUC: 0.0000e+00 - AUPRC: 0.0000e+00 - Precision: 0.0000e+00 - Recall: 0.0000e+00 - TN: 4430.3042 - TP: 0.0000e+00 - accuracy: 0.9426 - loss: nan"
     ]
    },
    {
     "ename": "KeyboardInterrupt",
     "evalue": "",
     "output_type": "error",
     "traceback": [
      "\u001b[31m---------------------------------------------------------------------------\u001b[39m",
      "\u001b[31mKeyboardInterrupt\u001b[39m                         Traceback (most recent call last)",
      "\u001b[36mCell\u001b[39m\u001b[36m \u001b[39m\u001b[32mIn[31]\u001b[39m\u001b[32m, line 34\u001b[39m\n\u001b[32m     31\u001b[39m \u001b[38;5;28mprint\u001b[39m(\u001b[33m\"\u001b[39m\u001b[33mclass_weight\u001b[39m\u001b[33m\"\u001b[39m, class_weight)\n\u001b[32m     33\u001b[39m start = time.time()\n\u001b[32m---> \u001b[39m\u001b[32m34\u001b[39m hist = \u001b[43mmodel\u001b[49m\u001b[43m.\u001b[49m\u001b[43mfit\u001b[49m\u001b[43m(\u001b[49m\u001b[43mtrain_gen\u001b[49m\u001b[43m,\u001b[49m\u001b[43m \u001b[49m\u001b[43mepochs\u001b[49m\u001b[43m=\u001b[49m\u001b[32;43m50\u001b[39;49m\u001b[43m,\u001b[49m\u001b[43m \u001b[49m\u001b[43mclass_weight\u001b[49m\u001b[43m=\u001b[49m\u001b[43mclass_weight\u001b[49m\u001b[43m,\u001b[49m\u001b[43m \u001b[49m\u001b[43mverbose\u001b[49m\u001b[43m=\u001b[49m\u001b[32;43m1\u001b[39;49m\u001b[43m)\u001b[49m\n\u001b[32m     35\u001b[39m runtime = time.time() - start\n\u001b[32m     36\u001b[39m \u001b[38;5;28mprint\u001b[39m(\u001b[33m'\u001b[39m\u001b[33mTraining time:\u001b[39m\u001b[33m'\u001b[39m, runtime, \u001b[33m'\u001b[39m\u001b[33mseconds\u001b[39m\u001b[33m'\u001b[39m)\n",
      "\u001b[36mFile \u001b[39m\u001b[32m~/gpt_ed_assistant/.venv/lib/python3.11/site-packages/keras/src/utils/traceback_utils.py:117\u001b[39m, in \u001b[36mfilter_traceback.<locals>.error_handler\u001b[39m\u001b[34m(*args, **kwargs)\u001b[39m\n\u001b[32m    115\u001b[39m filtered_tb = \u001b[38;5;28;01mNone\u001b[39;00m\n\u001b[32m    116\u001b[39m \u001b[38;5;28;01mtry\u001b[39;00m:\n\u001b[32m--> \u001b[39m\u001b[32m117\u001b[39m     \u001b[38;5;28;01mreturn\u001b[39;00m \u001b[43mfn\u001b[49m\u001b[43m(\u001b[49m\u001b[43m*\u001b[49m\u001b[43margs\u001b[49m\u001b[43m,\u001b[49m\u001b[43m \u001b[49m\u001b[43m*\u001b[49m\u001b[43m*\u001b[49m\u001b[43mkwargs\u001b[49m\u001b[43m)\u001b[49m\n\u001b[32m    118\u001b[39m \u001b[38;5;28;01mexcept\u001b[39;00m \u001b[38;5;167;01mException\u001b[39;00m \u001b[38;5;28;01mas\u001b[39;00m e:\n\u001b[32m    119\u001b[39m     filtered_tb = _process_traceback_frames(e.__traceback__)\n",
      "\u001b[36mFile \u001b[39m\u001b[32m~/gpt_ed_assistant/.venv/lib/python3.11/site-packages/keras/src/backend/tensorflow/trainer.py:377\u001b[39m, in \u001b[36mTensorFlowTrainer.fit\u001b[39m\u001b[34m(self, x, y, batch_size, epochs, verbose, callbacks, validation_split, validation_data, shuffle, class_weight, sample_weight, initial_epoch, steps_per_epoch, validation_steps, validation_batch_size, validation_freq)\u001b[39m\n\u001b[32m    375\u001b[39m \u001b[38;5;28;01mfor\u001b[39;00m begin_step, end_step, iterator \u001b[38;5;129;01min\u001b[39;00m epoch_iterator:\n\u001b[32m    376\u001b[39m     callbacks.on_train_batch_begin(begin_step)\n\u001b[32m--> \u001b[39m\u001b[32m377\u001b[39m     logs = \u001b[38;5;28;43mself\u001b[39;49m\u001b[43m.\u001b[49m\u001b[43mtrain_function\u001b[49m\u001b[43m(\u001b[49m\u001b[43miterator\u001b[49m\u001b[43m)\u001b[49m\n\u001b[32m    378\u001b[39m     callbacks.on_train_batch_end(end_step, logs)\n\u001b[32m    379\u001b[39m     \u001b[38;5;28;01mif\u001b[39;00m \u001b[38;5;28mself\u001b[39m.stop_training:\n",
      "\u001b[36mFile \u001b[39m\u001b[32m~/gpt_ed_assistant/.venv/lib/python3.11/site-packages/keras/src/backend/tensorflow/trainer.py:220\u001b[39m, in \u001b[36mTensorFlowTrainer._make_function.<locals>.function\u001b[39m\u001b[34m(iterator)\u001b[39m\n\u001b[32m    216\u001b[39m \u001b[38;5;28;01mdef\u001b[39;00m\u001b[38;5;250m \u001b[39m\u001b[34mfunction\u001b[39m(iterator):\n\u001b[32m    217\u001b[39m     \u001b[38;5;28;01mif\u001b[39;00m \u001b[38;5;28misinstance\u001b[39m(\n\u001b[32m    218\u001b[39m         iterator, (tf.data.Iterator, tf.distribute.DistributedIterator)\n\u001b[32m    219\u001b[39m     ):\n\u001b[32m--> \u001b[39m\u001b[32m220\u001b[39m         opt_outputs = \u001b[43mmulti_step_on_iterator\u001b[49m\u001b[43m(\u001b[49m\u001b[43miterator\u001b[49m\u001b[43m)\u001b[49m\n\u001b[32m    221\u001b[39m         \u001b[38;5;28;01mif\u001b[39;00m \u001b[38;5;129;01mnot\u001b[39;00m opt_outputs.has_value():\n\u001b[32m    222\u001b[39m             \u001b[38;5;28;01mraise\u001b[39;00m \u001b[38;5;167;01mStopIteration\u001b[39;00m\n",
      "\u001b[36mFile \u001b[39m\u001b[32m~/gpt_ed_assistant/.venv/lib/python3.11/site-packages/tensorflow/python/util/traceback_utils.py:150\u001b[39m, in \u001b[36mfilter_traceback.<locals>.error_handler\u001b[39m\u001b[34m(*args, **kwargs)\u001b[39m\n\u001b[32m    148\u001b[39m filtered_tb = \u001b[38;5;28;01mNone\u001b[39;00m\n\u001b[32m    149\u001b[39m \u001b[38;5;28;01mtry\u001b[39;00m:\n\u001b[32m--> \u001b[39m\u001b[32m150\u001b[39m   \u001b[38;5;28;01mreturn\u001b[39;00m \u001b[43mfn\u001b[49m\u001b[43m(\u001b[49m\u001b[43m*\u001b[49m\u001b[43margs\u001b[49m\u001b[43m,\u001b[49m\u001b[43m \u001b[49m\u001b[43m*\u001b[49m\u001b[43m*\u001b[49m\u001b[43mkwargs\u001b[49m\u001b[43m)\u001b[49m\n\u001b[32m    151\u001b[39m \u001b[38;5;28;01mexcept\u001b[39;00m \u001b[38;5;167;01mException\u001b[39;00m \u001b[38;5;28;01mas\u001b[39;00m e:\n\u001b[32m    152\u001b[39m   filtered_tb = _process_traceback_frames(e.__traceback__)\n",
      "\u001b[36mFile \u001b[39m\u001b[32m~/gpt_ed_assistant/.venv/lib/python3.11/site-packages/tensorflow/python/eager/polymorphic_function/polymorphic_function.py:833\u001b[39m, in \u001b[36mFunction.__call__\u001b[39m\u001b[34m(self, *args, **kwds)\u001b[39m\n\u001b[32m    830\u001b[39m compiler = \u001b[33m\"\u001b[39m\u001b[33mxla\u001b[39m\u001b[33m\"\u001b[39m \u001b[38;5;28;01mif\u001b[39;00m \u001b[38;5;28mself\u001b[39m._jit_compile \u001b[38;5;28;01melse\u001b[39;00m \u001b[33m\"\u001b[39m\u001b[33mnonXla\u001b[39m\u001b[33m\"\u001b[39m\n\u001b[32m    832\u001b[39m \u001b[38;5;28;01mwith\u001b[39;00m OptionalXlaContext(\u001b[38;5;28mself\u001b[39m._jit_compile):\n\u001b[32m--> \u001b[39m\u001b[32m833\u001b[39m   result = \u001b[38;5;28;43mself\u001b[39;49m\u001b[43m.\u001b[49m\u001b[43m_call\u001b[49m\u001b[43m(\u001b[49m\u001b[43m*\u001b[49m\u001b[43margs\u001b[49m\u001b[43m,\u001b[49m\u001b[43m \u001b[49m\u001b[43m*\u001b[49m\u001b[43m*\u001b[49m\u001b[43mkwds\u001b[49m\u001b[43m)\u001b[49m\n\u001b[32m    835\u001b[39m new_tracing_count = \u001b[38;5;28mself\u001b[39m.experimental_get_tracing_count()\n\u001b[32m    836\u001b[39m without_tracing = (tracing_count == new_tracing_count)\n",
      "\u001b[36mFile \u001b[39m\u001b[32m~/gpt_ed_assistant/.venv/lib/python3.11/site-packages/tensorflow/python/eager/polymorphic_function/polymorphic_function.py:878\u001b[39m, in \u001b[36mFunction._call\u001b[39m\u001b[34m(self, *args, **kwds)\u001b[39m\n\u001b[32m    875\u001b[39m \u001b[38;5;28mself\u001b[39m._lock.release()\n\u001b[32m    876\u001b[39m \u001b[38;5;66;03m# In this case we have not created variables on the first call. So we can\u001b[39;00m\n\u001b[32m    877\u001b[39m \u001b[38;5;66;03m# run the first trace but we should fail if variables are created.\u001b[39;00m\n\u001b[32m--> \u001b[39m\u001b[32m878\u001b[39m results = \u001b[43mtracing_compilation\u001b[49m\u001b[43m.\u001b[49m\u001b[43mcall_function\u001b[49m\u001b[43m(\u001b[49m\n\u001b[32m    879\u001b[39m \u001b[43m    \u001b[49m\u001b[43margs\u001b[49m\u001b[43m,\u001b[49m\u001b[43m \u001b[49m\u001b[43mkwds\u001b[49m\u001b[43m,\u001b[49m\u001b[43m \u001b[49m\u001b[38;5;28;43mself\u001b[39;49m\u001b[43m.\u001b[49m\u001b[43m_variable_creation_config\u001b[49m\n\u001b[32m    880\u001b[39m \u001b[43m\u001b[49m\u001b[43m)\u001b[49m\n\u001b[32m    881\u001b[39m \u001b[38;5;28;01mif\u001b[39;00m \u001b[38;5;28mself\u001b[39m._created_variables:\n\u001b[32m    882\u001b[39m   \u001b[38;5;28;01mraise\u001b[39;00m \u001b[38;5;167;01mValueError\u001b[39;00m(\u001b[33m\"\u001b[39m\u001b[33mCreating variables on a non-first call to a function\u001b[39m\u001b[33m\"\u001b[39m\n\u001b[32m    883\u001b[39m                    \u001b[33m\"\u001b[39m\u001b[33m decorated with tf.function.\u001b[39m\u001b[33m\"\u001b[39m)\n",
      "\u001b[36mFile \u001b[39m\u001b[32m~/gpt_ed_assistant/.venv/lib/python3.11/site-packages/tensorflow/python/eager/polymorphic_function/tracing_compilation.py:139\u001b[39m, in \u001b[36mcall_function\u001b[39m\u001b[34m(args, kwargs, tracing_options)\u001b[39m\n\u001b[32m    137\u001b[39m bound_args = function.function_type.bind(*args, **kwargs)\n\u001b[32m    138\u001b[39m flat_inputs = function.function_type.unpack_inputs(bound_args)\n\u001b[32m--> \u001b[39m\u001b[32m139\u001b[39m \u001b[38;5;28;01mreturn\u001b[39;00m \u001b[43mfunction\u001b[49m\u001b[43m.\u001b[49m\u001b[43m_call_flat\u001b[49m\u001b[43m(\u001b[49m\u001b[43m  \u001b[49m\u001b[38;5;66;43;03m# pylint: disable=protected-access\u001b[39;49;00m\n\u001b[32m    140\u001b[39m \u001b[43m    \u001b[49m\u001b[43mflat_inputs\u001b[49m\u001b[43m,\u001b[49m\u001b[43m \u001b[49m\u001b[43mcaptured_inputs\u001b[49m\u001b[43m=\u001b[49m\u001b[43mfunction\u001b[49m\u001b[43m.\u001b[49m\u001b[43mcaptured_inputs\u001b[49m\n\u001b[32m    141\u001b[39m \u001b[43m\u001b[49m\u001b[43m)\u001b[49m\n",
      "\u001b[36mFile \u001b[39m\u001b[32m~/gpt_ed_assistant/.venv/lib/python3.11/site-packages/tensorflow/python/eager/polymorphic_function/concrete_function.py:1322\u001b[39m, in \u001b[36mConcreteFunction._call_flat\u001b[39m\u001b[34m(self, tensor_inputs, captured_inputs)\u001b[39m\n\u001b[32m   1318\u001b[39m possible_gradient_type = gradients_util.PossibleTapeGradientTypes(args)\n\u001b[32m   1319\u001b[39m \u001b[38;5;28;01mif\u001b[39;00m (possible_gradient_type == gradients_util.POSSIBLE_GRADIENT_TYPES_NONE\n\u001b[32m   1320\u001b[39m     \u001b[38;5;129;01mand\u001b[39;00m executing_eagerly):\n\u001b[32m   1321\u001b[39m   \u001b[38;5;66;03m# No tape is watching; skip to running the function.\u001b[39;00m\n\u001b[32m-> \u001b[39m\u001b[32m1322\u001b[39m   \u001b[38;5;28;01mreturn\u001b[39;00m \u001b[38;5;28;43mself\u001b[39;49m\u001b[43m.\u001b[49m\u001b[43m_inference_function\u001b[49m\u001b[43m.\u001b[49m\u001b[43mcall_preflattened\u001b[49m\u001b[43m(\u001b[49m\u001b[43margs\u001b[49m\u001b[43m)\u001b[49m\n\u001b[32m   1323\u001b[39m forward_backward = \u001b[38;5;28mself\u001b[39m._select_forward_and_backward_functions(\n\u001b[32m   1324\u001b[39m     args,\n\u001b[32m   1325\u001b[39m     possible_gradient_type,\n\u001b[32m   1326\u001b[39m     executing_eagerly)\n\u001b[32m   1327\u001b[39m forward_function, args_with_tangents = forward_backward.forward()\n",
      "\u001b[36mFile \u001b[39m\u001b[32m~/gpt_ed_assistant/.venv/lib/python3.11/site-packages/tensorflow/python/eager/polymorphic_function/atomic_function.py:216\u001b[39m, in \u001b[36mAtomicFunction.call_preflattened\u001b[39m\u001b[34m(self, args)\u001b[39m\n\u001b[32m    214\u001b[39m \u001b[38;5;28;01mdef\u001b[39;00m\u001b[38;5;250m \u001b[39m\u001b[34mcall_preflattened\u001b[39m(\u001b[38;5;28mself\u001b[39m, args: Sequence[core.Tensor]) -> Any:\n\u001b[32m    215\u001b[39m \u001b[38;5;250m  \u001b[39m\u001b[33;03m\"\"\"Calls with flattened tensor inputs and returns the structured output.\"\"\"\u001b[39;00m\n\u001b[32m--> \u001b[39m\u001b[32m216\u001b[39m   flat_outputs = \u001b[38;5;28;43mself\u001b[39;49m\u001b[43m.\u001b[49m\u001b[43mcall_flat\u001b[49m\u001b[43m(\u001b[49m\u001b[43m*\u001b[49m\u001b[43margs\u001b[49m\u001b[43m)\u001b[49m\n\u001b[32m    217\u001b[39m   \u001b[38;5;28;01mreturn\u001b[39;00m \u001b[38;5;28mself\u001b[39m.function_type.pack_output(flat_outputs)\n",
      "\u001b[36mFile \u001b[39m\u001b[32m~/gpt_ed_assistant/.venv/lib/python3.11/site-packages/tensorflow/python/eager/polymorphic_function/atomic_function.py:251\u001b[39m, in \u001b[36mAtomicFunction.call_flat\u001b[39m\u001b[34m(self, *args)\u001b[39m\n\u001b[32m    249\u001b[39m \u001b[38;5;28;01mwith\u001b[39;00m record.stop_recording():\n\u001b[32m    250\u001b[39m   \u001b[38;5;28;01mif\u001b[39;00m \u001b[38;5;28mself\u001b[39m._bound_context.executing_eagerly():\n\u001b[32m--> \u001b[39m\u001b[32m251\u001b[39m     outputs = \u001b[38;5;28;43mself\u001b[39;49m\u001b[43m.\u001b[49m\u001b[43m_bound_context\u001b[49m\u001b[43m.\u001b[49m\u001b[43mcall_function\u001b[49m\u001b[43m(\u001b[49m\n\u001b[32m    252\u001b[39m \u001b[43m        \u001b[49m\u001b[38;5;28;43mself\u001b[39;49m\u001b[43m.\u001b[49m\u001b[43mname\u001b[49m\u001b[43m,\u001b[49m\n\u001b[32m    253\u001b[39m \u001b[43m        \u001b[49m\u001b[38;5;28;43mlist\u001b[39;49m\u001b[43m(\u001b[49m\u001b[43margs\u001b[49m\u001b[43m)\u001b[49m\u001b[43m,\u001b[49m\n\u001b[32m    254\u001b[39m \u001b[43m        \u001b[49m\u001b[38;5;28;43mlen\u001b[39;49m\u001b[43m(\u001b[49m\u001b[38;5;28;43mself\u001b[39;49m\u001b[43m.\u001b[49m\u001b[43mfunction_type\u001b[49m\u001b[43m.\u001b[49m\u001b[43mflat_outputs\u001b[49m\u001b[43m)\u001b[49m\u001b[43m,\u001b[49m\n\u001b[32m    255\u001b[39m \u001b[43m    \u001b[49m\u001b[43m)\u001b[49m\n\u001b[32m    256\u001b[39m   \u001b[38;5;28;01melse\u001b[39;00m:\n\u001b[32m    257\u001b[39m     outputs = make_call_op_in_graph(\n\u001b[32m    258\u001b[39m         \u001b[38;5;28mself\u001b[39m,\n\u001b[32m    259\u001b[39m         \u001b[38;5;28mlist\u001b[39m(args),\n\u001b[32m    260\u001b[39m         \u001b[38;5;28mself\u001b[39m._bound_context.function_call_options.as_attrs(),\n\u001b[32m    261\u001b[39m     )\n",
      "\u001b[36mFile \u001b[39m\u001b[32m~/gpt_ed_assistant/.venv/lib/python3.11/site-packages/tensorflow/python/eager/context.py:1552\u001b[39m, in \u001b[36mContext.call_function\u001b[39m\u001b[34m(self, name, tensor_inputs, num_outputs)\u001b[39m\n\u001b[32m   1550\u001b[39m cancellation_context = cancellation.context()\n\u001b[32m   1551\u001b[39m \u001b[38;5;28;01mif\u001b[39;00m cancellation_context \u001b[38;5;129;01mis\u001b[39;00m \u001b[38;5;28;01mNone\u001b[39;00m:\n\u001b[32m-> \u001b[39m\u001b[32m1552\u001b[39m   outputs = \u001b[43mexecute\u001b[49m\u001b[43m.\u001b[49m\u001b[43mexecute\u001b[49m\u001b[43m(\u001b[49m\n\u001b[32m   1553\u001b[39m \u001b[43m      \u001b[49m\u001b[43mname\u001b[49m\u001b[43m.\u001b[49m\u001b[43mdecode\u001b[49m\u001b[43m(\u001b[49m\u001b[33;43m\"\u001b[39;49m\u001b[33;43mutf-8\u001b[39;49m\u001b[33;43m\"\u001b[39;49m\u001b[43m)\u001b[49m\u001b[43m,\u001b[49m\n\u001b[32m   1554\u001b[39m \u001b[43m      \u001b[49m\u001b[43mnum_outputs\u001b[49m\u001b[43m=\u001b[49m\u001b[43mnum_outputs\u001b[49m\u001b[43m,\u001b[49m\n\u001b[32m   1555\u001b[39m \u001b[43m      \u001b[49m\u001b[43minputs\u001b[49m\u001b[43m=\u001b[49m\u001b[43mtensor_inputs\u001b[49m\u001b[43m,\u001b[49m\n\u001b[32m   1556\u001b[39m \u001b[43m      \u001b[49m\u001b[43mattrs\u001b[49m\u001b[43m=\u001b[49m\u001b[43mattrs\u001b[49m\u001b[43m,\u001b[49m\n\u001b[32m   1557\u001b[39m \u001b[43m      \u001b[49m\u001b[43mctx\u001b[49m\u001b[43m=\u001b[49m\u001b[38;5;28;43mself\u001b[39;49m\u001b[43m,\u001b[49m\n\u001b[32m   1558\u001b[39m \u001b[43m  \u001b[49m\u001b[43m)\u001b[49m\n\u001b[32m   1559\u001b[39m \u001b[38;5;28;01melse\u001b[39;00m:\n\u001b[32m   1560\u001b[39m   outputs = execute.execute_with_cancellation(\n\u001b[32m   1561\u001b[39m       name.decode(\u001b[33m\"\u001b[39m\u001b[33mutf-8\u001b[39m\u001b[33m\"\u001b[39m),\n\u001b[32m   1562\u001b[39m       num_outputs=num_outputs,\n\u001b[32m   (...)\u001b[39m\u001b[32m   1566\u001b[39m       cancellation_manager=cancellation_context,\n\u001b[32m   1567\u001b[39m   )\n",
      "\u001b[36mFile \u001b[39m\u001b[32m~/gpt_ed_assistant/.venv/lib/python3.11/site-packages/tensorflow/python/eager/execute.py:53\u001b[39m, in \u001b[36mquick_execute\u001b[39m\u001b[34m(op_name, num_outputs, inputs, attrs, ctx, name)\u001b[39m\n\u001b[32m     51\u001b[39m \u001b[38;5;28;01mtry\u001b[39;00m:\n\u001b[32m     52\u001b[39m   ctx.ensure_initialized()\n\u001b[32m---> \u001b[39m\u001b[32m53\u001b[39m   tensors = \u001b[43mpywrap_tfe\u001b[49m\u001b[43m.\u001b[49m\u001b[43mTFE_Py_Execute\u001b[49m\u001b[43m(\u001b[49m\u001b[43mctx\u001b[49m\u001b[43m.\u001b[49m\u001b[43m_handle\u001b[49m\u001b[43m,\u001b[49m\u001b[43m \u001b[49m\u001b[43mdevice_name\u001b[49m\u001b[43m,\u001b[49m\u001b[43m \u001b[49m\u001b[43mop_name\u001b[49m\u001b[43m,\u001b[49m\n\u001b[32m     54\u001b[39m \u001b[43m                                      \u001b[49m\u001b[43minputs\u001b[49m\u001b[43m,\u001b[49m\u001b[43m \u001b[49m\u001b[43mattrs\u001b[49m\u001b[43m,\u001b[49m\u001b[43m \u001b[49m\u001b[43mnum_outputs\u001b[49m\u001b[43m)\u001b[49m\n\u001b[32m     55\u001b[39m \u001b[38;5;28;01mexcept\u001b[39;00m core._NotOkStatusException \u001b[38;5;28;01mas\u001b[39;00m e:\n\u001b[32m     56\u001b[39m   \u001b[38;5;28;01mif\u001b[39;00m name \u001b[38;5;129;01mis\u001b[39;00m \u001b[38;5;129;01mnot\u001b[39;00m \u001b[38;5;28;01mNone\u001b[39;00m:\n",
      "\u001b[31mKeyboardInterrupt\u001b[39m: "
     ]
    }
   ],
   "source": [
    "demo_size = X_train_np.shape[1]  # deve ser len(variable) ou 64 no seu caso\n",
    "\n",
    "model = create_embedding_model(vocab_size=vocab_size, demo_size=X_train_np.shape[1], emb_dim=128, hid=128)\n",
    "\n",
    "loss_obj = tf.keras.losses.BinaryCrossentropy(\n",
    "    from_logits=False, label_smoothing=1e-3  # suaviza e evita saturação dura\n",
    ")\n",
    "opt = optimizers.Adam(learning_rate=5e-5, clipnorm=1.0)  # LR menor + clip\n",
    "\n",
    "\n",
    "model.compile(\n",
    "    loss=loss_obj,\n",
    "    optimizer=opt,\n",
    "    metrics=[\n",
    "        'accuracy',\n",
    "        metrics.AUC(name='AUC'),\n",
    "        metrics.AUC(name='AUPRC', curve='PR'),\n",
    "        metrics.Precision(name='Precision'),\n",
    "        metrics.Recall(name='Recall'),\n",
    "        metrics.TruePositives(name='TP'),\n",
    "        metrics.TrueNegatives(name='TN'),\n",
    "    ],\n",
    ")\n",
    "model.summary()\n",
    "\n",
    "# Desbalanceamento (positivos são raros)\n",
    "pos = float(y_train_np.sum())\n",
    "neg = float(len(y_train_np) - pos)\n",
    "ratio = (neg / max(pos, 1.0)) if pos > 0 else 1.0\n",
    "ratio = float(min(ratio, 50.0))  # CAP em 50\n",
    "class_weight = {0: 1.0, 1: ratio}\n",
    "print(\"class_weight\", class_weight)\n",
    "\n",
    "start = time.time()\n",
    "hist = model.fit(train_gen, epochs=50, class_weight=class_weight, verbose=1)\n",
    "runtime = time.time() - start\n",
    "print('Training time:', runtime, 'seconds')\n"
   ]
  },
  {
   "cell_type": "code",
   "execution_count": null,
   "metadata": {},
   "outputs": [
    {
     "ename": "NameError",
     "evalue": "name 'max_idx' is not defined",
     "output_type": "error",
     "traceback": [
      "\u001b[31m---------------------------------------------------------------------------\u001b[39m",
      "\u001b[31mNameError\u001b[39m                                 Traceback (most recent call last)",
      "\u001b[36mCell\u001b[39m\u001b[36m \u001b[39m\u001b[32mIn[33]\u001b[39m\u001b[32m, line 1\u001b[39m\n\u001b[32m----> \u001b[39m\u001b[32m1\u001b[39m \u001b[43mmax_idx\u001b[49m\n",
      "\u001b[31mNameError\u001b[39m: name 'max_idx' is not defined"
     ]
    }
   ],
   "source": [
    "probs = model.predict(test_gen, verbose=0).ravel().astype('float32')\n",
    "\n",
    "# Se você já tem o helper:\n",
    "# result = PlotROCCurve(probs, y_test_np, ci=confidence_interval, random_seed=random_seed)\n",
    "# results = [\"Med2Vec\"]; results.extend(result); results.append(runtime)\n",
    "# result_list.append(results)\n",
    "\n",
    "# Ou, sem helper, calcule rapidamente AUROC/AUPRC:\n",
    "from sklearn.metrics import roc_auc_score, average_precision_score\n",
    "print(\"AUROC:\", roc_auc_score(y_test_np, probs))\n",
    "print(\"AUPRC:\", average_precision_score(y_test_np, probs))\n"
   ]
  },
  {
   "cell_type": "markdown",
   "metadata": {},
   "source": [
    "### 4. Performance output"
   ]
  },
  {
   "cell_type": "code",
   "execution_count": 26,
   "metadata": {},
   "outputs": [
    {
     "data": {
      "application/vnd.microsoft.datawrangler.viewer.v0+json": {
       "columns": [
        {
         "name": "index",
         "rawType": "int64",
         "type": "integer"
        },
        {
         "name": "Model",
         "rawType": "object",
         "type": "string"
        },
        {
         "name": "Threshold",
         "rawType": "float64",
         "type": "float"
        },
        {
         "name": "AUROC",
         "rawType": "object",
         "type": "string"
        },
        {
         "name": "AUPRC",
         "rawType": "object",
         "type": "string"
        },
        {
         "name": "Sensitivity",
         "rawType": "object",
         "type": "string"
        },
        {
         "name": "Specificity",
         "rawType": "object",
         "type": "string"
        },
        {
         "name": "Runtime",
         "rawType": "float64",
         "type": "float"
        }
       ],
       "ref": "7111b250-dd34-44af-81e9-0f4c39caf70f",
       "rows": [
        [
         "0",
         "LR",
         "0.065",
         "0.869 (0.866-0.874)",
         "0.338 (0.326-0.345)",
         "0.794 (0.781-0.813)",
         "0.783 (0.762-0.801)",
         "10.006"
        ],
        [
         "1",
         "RF",
         "0.08",
         "0.874 (0.872-0.88)",
         "0.383 (0.372-0.394)",
         "0.799 (0.792-0.825)",
         "0.792 (0.767-0.794)",
         "50.894"
        ],
        [
         "2",
         "GB",
         "0.063",
         "0.883 (0.881-0.888)",
         "0.401 (0.392-0.413)",
         "0.815 (0.792-0.826)",
         "0.789 (0.784-0.812)",
         "58.349"
        ],
        [
         "3",
         "MLP",
         "0.096",
         "0.884 (0.881-0.889)",
         "0.391 (0.381-0.402)",
         "0.81 (0.802-0.827)",
         "0.798 (0.792-0.803)",
         "51.679"
        ],
        [
         "4",
         "ESI",
         "-2.0",
         "0.806 (0.802-0.811)",
         "0.2 (0.194-0.206)",
         "0.877 (0.873-0.888)",
         "0.64 (0.638-0.644)",
         "0.0"
        ],
        [
         "5",
         "score_NEWS",
         "2.0",
         "0.641 (0.633-0.65)",
         "0.158 (0.151-0.165)",
         "0.469 (0.456-0.483)",
         "0.796 (0.793-0.798)",
         "0.0"
        ],
        [
         "6",
         "score_NEWS2",
         "2.0",
         "0.627 (0.619-0.635)",
         "0.143 (0.138-0.151)",
         "0.428 (0.415-0.44)",
         "0.823 (0.821-0.826)",
         "0.0"
        ],
        [
         "7",
         "score_REMS",
         "5.0",
         "0.692 (0.687-0.701)",
         "0.116 (0.113-0.121)",
         "0.688 (0.678-0.701)",
         "0.614 (0.611-0.617)",
         "0.0"
        ],
        [
         "8",
         "score_MEWS",
         "2.0",
         "0.626 (0.62-0.631)",
         "0.115 (0.112-0.121)",
         "0.452 (0.441-0.46)",
         "0.772 (0.769-0.775)",
         "0.0"
        ],
        [
         "9",
         "score_CART",
         "6.0",
         "0.715 (0.711-0.724)",
         "0.157 (0.15-0.165)",
         "0.603 (0.594-0.618)",
         "0.728 (0.725-0.73)",
         "0.0"
        ]
       ],
       "shape": {
        "columns": 7,
        "rows": 10
       }
      },
      "text/html": [
       "<div>\n",
       "<style scoped>\n",
       "    .dataframe tbody tr th:only-of-type {\n",
       "        vertical-align: middle;\n",
       "    }\n",
       "\n",
       "    .dataframe tbody tr th {\n",
       "        vertical-align: top;\n",
       "    }\n",
       "\n",
       "    .dataframe thead th {\n",
       "        text-align: right;\n",
       "    }\n",
       "</style>\n",
       "<table border=\"1\" class=\"dataframe\">\n",
       "  <thead>\n",
       "    <tr style=\"text-align: right;\">\n",
       "      <th></th>\n",
       "      <th>Model</th>\n",
       "      <th>Threshold</th>\n",
       "      <th>AUROC</th>\n",
       "      <th>AUPRC</th>\n",
       "      <th>Sensitivity</th>\n",
       "      <th>Specificity</th>\n",
       "      <th>Runtime</th>\n",
       "    </tr>\n",
       "  </thead>\n",
       "  <tbody>\n",
       "    <tr>\n",
       "      <th>0</th>\n",
       "      <td>LR</td>\n",
       "      <td>0.065</td>\n",
       "      <td>0.869 (0.866-0.874)</td>\n",
       "      <td>0.338 (0.326-0.345)</td>\n",
       "      <td>0.794 (0.781-0.813)</td>\n",
       "      <td>0.783 (0.762-0.801)</td>\n",
       "      <td>10.006</td>\n",
       "    </tr>\n",
       "    <tr>\n",
       "      <th>1</th>\n",
       "      <td>RF</td>\n",
       "      <td>0.080</td>\n",
       "      <td>0.874 (0.872-0.88)</td>\n",
       "      <td>0.383 (0.372-0.394)</td>\n",
       "      <td>0.799 (0.792-0.825)</td>\n",
       "      <td>0.792 (0.767-0.794)</td>\n",
       "      <td>50.894</td>\n",
       "    </tr>\n",
       "    <tr>\n",
       "      <th>2</th>\n",
       "      <td>GB</td>\n",
       "      <td>0.063</td>\n",
       "      <td>0.883 (0.881-0.888)</td>\n",
       "      <td>0.401 (0.392-0.413)</td>\n",
       "      <td>0.815 (0.792-0.826)</td>\n",
       "      <td>0.789 (0.784-0.812)</td>\n",
       "      <td>58.349</td>\n",
       "    </tr>\n",
       "    <tr>\n",
       "      <th>3</th>\n",
       "      <td>MLP</td>\n",
       "      <td>0.096</td>\n",
       "      <td>0.884 (0.881-0.889)</td>\n",
       "      <td>0.391 (0.381-0.402)</td>\n",
       "      <td>0.81 (0.802-0.827)</td>\n",
       "      <td>0.798 (0.792-0.803)</td>\n",
       "      <td>51.679</td>\n",
       "    </tr>\n",
       "    <tr>\n",
       "      <th>4</th>\n",
       "      <td>ESI</td>\n",
       "      <td>-2.000</td>\n",
       "      <td>0.806 (0.802-0.811)</td>\n",
       "      <td>0.2 (0.194-0.206)</td>\n",
       "      <td>0.877 (0.873-0.888)</td>\n",
       "      <td>0.64 (0.638-0.644)</td>\n",
       "      <td>0.000</td>\n",
       "    </tr>\n",
       "    <tr>\n",
       "      <th>5</th>\n",
       "      <td>score_NEWS</td>\n",
       "      <td>2.000</td>\n",
       "      <td>0.641 (0.633-0.65)</td>\n",
       "      <td>0.158 (0.151-0.165)</td>\n",
       "      <td>0.469 (0.456-0.483)</td>\n",
       "      <td>0.796 (0.793-0.798)</td>\n",
       "      <td>0.000</td>\n",
       "    </tr>\n",
       "    <tr>\n",
       "      <th>6</th>\n",
       "      <td>score_NEWS2</td>\n",
       "      <td>2.000</td>\n",
       "      <td>0.627 (0.619-0.635)</td>\n",
       "      <td>0.143 (0.138-0.151)</td>\n",
       "      <td>0.428 (0.415-0.44)</td>\n",
       "      <td>0.823 (0.821-0.826)</td>\n",
       "      <td>0.000</td>\n",
       "    </tr>\n",
       "    <tr>\n",
       "      <th>7</th>\n",
       "      <td>score_REMS</td>\n",
       "      <td>5.000</td>\n",
       "      <td>0.692 (0.687-0.701)</td>\n",
       "      <td>0.116 (0.113-0.121)</td>\n",
       "      <td>0.688 (0.678-0.701)</td>\n",
       "      <td>0.614 (0.611-0.617)</td>\n",
       "      <td>0.000</td>\n",
       "    </tr>\n",
       "    <tr>\n",
       "      <th>8</th>\n",
       "      <td>score_MEWS</td>\n",
       "      <td>2.000</td>\n",
       "      <td>0.626 (0.62-0.631)</td>\n",
       "      <td>0.115 (0.112-0.121)</td>\n",
       "      <td>0.452 (0.441-0.46)</td>\n",
       "      <td>0.772 (0.769-0.775)</td>\n",
       "      <td>0.000</td>\n",
       "    </tr>\n",
       "    <tr>\n",
       "      <th>9</th>\n",
       "      <td>score_CART</td>\n",
       "      <td>6.000</td>\n",
       "      <td>0.715 (0.711-0.724)</td>\n",
       "      <td>0.157 (0.15-0.165)</td>\n",
       "      <td>0.603 (0.594-0.618)</td>\n",
       "      <td>0.728 (0.725-0.73)</td>\n",
       "      <td>0.000</td>\n",
       "    </tr>\n",
       "  </tbody>\n",
       "</table>\n",
       "</div>"
      ],
      "text/plain": [
       "         Model  Threshold                AUROC                AUPRC  \\\n",
       "0           LR      0.065  0.869 (0.866-0.874)  0.338 (0.326-0.345)   \n",
       "1           RF      0.080   0.874 (0.872-0.88)  0.383 (0.372-0.394)   \n",
       "2           GB      0.063  0.883 (0.881-0.888)  0.401 (0.392-0.413)   \n",
       "3          MLP      0.096  0.884 (0.881-0.889)  0.391 (0.381-0.402)   \n",
       "4          ESI     -2.000  0.806 (0.802-0.811)    0.2 (0.194-0.206)   \n",
       "5   score_NEWS      2.000   0.641 (0.633-0.65)  0.158 (0.151-0.165)   \n",
       "6  score_NEWS2      2.000  0.627 (0.619-0.635)  0.143 (0.138-0.151)   \n",
       "7   score_REMS      5.000  0.692 (0.687-0.701)  0.116 (0.113-0.121)   \n",
       "8   score_MEWS      2.000   0.626 (0.62-0.631)  0.115 (0.112-0.121)   \n",
       "9   score_CART      6.000  0.715 (0.711-0.724)   0.157 (0.15-0.165)   \n",
       "\n",
       "           Sensitivity          Specificity  Runtime  \n",
       "0  0.794 (0.781-0.813)  0.783 (0.762-0.801)   10.006  \n",
       "1  0.799 (0.792-0.825)  0.792 (0.767-0.794)   50.894  \n",
       "2  0.815 (0.792-0.826)  0.789 (0.784-0.812)   58.349  \n",
       "3   0.81 (0.802-0.827)  0.798 (0.792-0.803)   51.679  \n",
       "4  0.877 (0.873-0.888)   0.64 (0.638-0.644)    0.000  \n",
       "5  0.469 (0.456-0.483)  0.796 (0.793-0.798)    0.000  \n",
       "6   0.428 (0.415-0.44)  0.823 (0.821-0.826)    0.000  \n",
       "7  0.688 (0.678-0.701)  0.614 (0.611-0.617)    0.000  \n",
       "8   0.452 (0.441-0.46)  0.772 (0.769-0.775)    0.000  \n",
       "9  0.603 (0.594-0.618)   0.728 (0.725-0.73)    0.000  "
      ]
     },
     "execution_count": 26,
     "metadata": {},
     "output_type": "execute_result"
    }
   ],
   "source": [
    "result_df = pd.DataFrame(result_list, columns=['Model', 'auroc', 'ap', 'sensitivity', 'specificity', 'threshold', \n",
    "                                               'lower_auroc', 'upper_auroc', 'std_auroc', 'lower_ap', 'upper_ap', \n",
    "                                               'std_ap', 'lower_sensitivity', 'upper_sensitivity', 'std_sensitivity', \n",
    "                                               'lower_specificity', 'upper_specificity', 'std_specificity', 'runtime'])\n",
    "result_df.to_csv(os.path.join(path, 'result_critical_triage.csv'), index=False)\n",
    "\n",
    "result_df = result_df.round(3)\n",
    "formatted_result_df = pd.DataFrame()\n",
    "formatted_result_df[['Model', 'Threshold']] = result_df[['Model', 'threshold']]\n",
    "formatted_result_df['AUROC'] = result_df['auroc'].astype(str) + ' (' + result_df['lower_auroc'].astype(str) + \\\n",
    "                               '-' + result_df['upper_auroc'].astype(str) + ')'\n",
    "formatted_result_df['AUPRC'] = result_df['ap'].astype(str) + ' (' + result_df['lower_ap'].astype(str) + \\\n",
    "                               '-' + result_df['upper_ap'].astype(str) + ')'\n",
    "formatted_result_df['Sensitivity'] = result_df['sensitivity'].astype(str) + ' (' + result_df['lower_sensitivity'].astype(str) + \\\n",
    "                                     '-' + result_df['upper_sensitivity'].astype(str) + ')'\n",
    "formatted_result_df['Specificity'] = result_df['specificity'].astype(str) + ' (' + result_df['lower_specificity'].astype(str) + \\\n",
    "                                     '-' + result_df['upper_specificity'].astype(str) + ')'\n",
    "formatted_result_df[['Runtime']] = result_df[['runtime']]\n",
    "formatted_result_df.to_csv(os.path.join(path, 'task2.csv'), index=False)\n",
    "formatted_result_df"
   ]
  },
  {
   "cell_type": "code",
   "execution_count": 27,
   "metadata": {},
   "outputs": [
    {
     "data": {
      "image/png": "[encoded data removed]",
      "text/plain": [
       "<Figure size 640x480 with 1 Axes>"
      ]
     },
     "metadata": {},
     "output_type": "display_data"
    }
   ],
   "source": [
    "from helpers import plot_confidence_interval\n",
    "plot_confidence_interval(result_df, metric='auroc', ci=confidence_interval, name = \"AUROC\", \n",
    "                         my_file = 'AUROC_critical.eps', my_path = output_path) "
   ]
  },
  {
   "cell_type": "code",
   "execution_count": 28,
   "metadata": {},
   "outputs": [
    {
     "data": {
      "image/png": "[encoded data removed]",
      "text/plain": [
       "<Figure size 640x480 with 1 Axes>"
      ]
     },
     "metadata": {},
     "output_type": "display_data"
    }
   ],
   "source": [
    "plot_confidence_interval(result_df, metric='ap', ci=confidence_interval, name = \"AUPRC\", \n",
    "                         my_file = 'AUPRC_critical.eps', my_path = output_path)"
   ]
  },
  {
   "cell_type": "code",
   "execution_count": 29,
   "metadata": {},
   "outputs": [
    {
     "data": {
      "application/vnd.microsoft.datawrangler.viewer.v0+json": {
       "columns": [
        {
         "name": "index",
         "rawType": "int64",
         "type": "integer"
        },
        {
         "name": "Variable",
         "rawType": "object",
         "type": "string"
        },
        {
         "name": "Importance",
         "rawType": "float64",
         "type": "float"
        }
       ],
       "ref": "60e466af-982b-4cd7-b673-bece947e49b4",
       "rows": [
        [
         "15",
         "triage_sbp",
         "0.10036197538103402"
        ],
        [
         "0",
         "age",
         "0.09988770770848009"
        ],
        [
         "12",
         "triage_heartrate",
         "0.09340215538093076"
        ],
        [
         "18",
         "triage_acuity",
         "0.09287841420569806"
        ],
        [
         "16",
         "triage_dbp",
         "0.0833540421146517"
        ],
        [
         "11",
         "triage_temperature",
         "0.07557814613511775"
        ],
        [
         "13",
         "triage_resprate",
         "0.05578665046570782"
        ],
        [
         "14",
         "triage_o2sat",
         "0.04932531529067064"
        ],
        [
         "17",
         "triage_pain",
         "0.04104723839433879"
        ],
        [
         "4",
         "n_ed_365d",
         "0.018903281612830662"
        ],
        [
         "7",
         "n_hosp_365d",
         "0.017010250063142038"
        ],
        [
         "1",
         "gender",
         "0.01484143801128687"
        ],
        [
         "10",
         "n_icu_365d",
         "0.012230745207636647"
        ],
        [
         "3",
         "n_ed_90d",
         "0.010297346523687254"
        ],
        [
         "6",
         "n_hosp_90d",
         "0.010045755675400649"
        ],
        [
         "50",
         "eci_HTN2",
         "0.008721902387599477"
        ],
        [
         "38",
         "cci_DM1",
         "0.00743372228032507"
        ],
        [
         "34",
         "cci_Pulmonary",
         "0.007341971847632832"
        ],
        [
         "46",
         "eci_Arrhythmia",
         "0.0072027677079175125"
        ],
        [
         "57",
         "eci_FluidsLytes",
         "0.006992385891070163"
        ],
        [
         "63",
         "eci_Depression",
         "0.006897432485146571"
        ],
        [
         "9",
         "n_icu_90d",
         "0.00666583213775911"
        ],
        [
         "2",
         "n_ed_30d",
         "0.00639996110179643"
        ],
        [
         "5",
         "n_hosp_30d",
         "0.006245163753658946"
        ],
        [
         "20",
         "chiefcom_abdominal_pain",
         "0.006235763507690315"
        ],
        [
         "51",
         "eci_NeuroOther",
         "0.005937462264074664"
        ],
        [
         "19",
         "chiefcom_chest_pain",
         "0.0059016620323961285"
        ],
        [
         "30",
         "cci_CHF",
         "0.005698138812207821"
        ],
        [
         "52",
         "eci_Hypothyroid",
         "0.00559494955999656"
        ],
        [
         "55",
         "eci_Obesity",
         "0.005539525691584902"
        ],
        [
         "42",
         "cci_Cancer1",
         "0.005449033213597945"
        ],
        [
         "54",
         "eci_Coagulopathy",
         "0.005430435996320134"
        ],
        [
         "29",
         "cci_MI",
         "0.005205849346856195"
        ],
        [
         "49",
         "eci_HTN1",
         "0.005053066053897818"
        ],
        [
         "41",
         "cci_Renal",
         "0.0050174294312452326"
        ],
        [
         "31",
         "cci_PVD",
         "0.005015430889654147"
        ],
        [
         "32",
         "cci_Stroke",
         "0.0050118267869701085"
        ],
        [
         "60",
         "eci_Alcohol",
         "0.004872869497443449"
        ],
        [
         "26",
         "chiefcom_fever_chills",
         "0.0048479127794386415"
        ],
        [
         "47",
         "eci_Valvular",
         "0.004812316534641901"
        ],
        [
         "39",
         "cci_DM2",
         "0.004772657271641817"
        ],
        [
         "37",
         "cci_Liver1",
         "0.004742893811212166"
        ],
        [
         "56",
         "eci_WeightLoss",
         "0.004709888576467219"
        ],
        [
         "59",
         "eci_Anemia",
         "0.004547543673157937"
        ],
        [
         "48",
         "eci_PHTN",
         "0.004514157582437739"
        ],
        [
         "21",
         "chiefcom_headache",
         "0.003915602172810191"
        ],
        [
         "44",
         "cci_Cancer2",
         "0.003772903659977315"
        ],
        [
         "61",
         "eci_Drugs",
         "0.0036261297868710727"
        ],
        [
         "27",
         "chiefcom_syncope",
         "0.003536350549664022"
        ],
        [
         "8",
         "n_icu_30d",
         "0.003343140219259418"
        ]
       ],
       "shape": {
        "columns": 2,
        "rows": 64
       }
      },
      "text/html": [
       "<div>\n",
       "<style scoped>\n",
       "    .dataframe tbody tr th:only-of-type {\n",
       "        vertical-align: middle;\n",
       "    }\n",
       "\n",
       "    .dataframe tbody tr th {\n",
       "        vertical-align: top;\n",
       "    }\n",
       "\n",
       "    .dataframe thead th {\n",
       "        text-align: right;\n",
       "    }\n",
       "</style>\n",
       "<table border=\"1\" class=\"dataframe\">\n",
       "  <thead>\n",
       "    <tr style=\"text-align: right;\">\n",
       "      <th></th>\n",
       "      <th>Variable</th>\n",
       "      <th>Importance</th>\n",
       "    </tr>\n",
       "  </thead>\n",
       "  <tbody>\n",
       "    <tr>\n",
       "      <th>15</th>\n",
       "      <td>triage_sbp</td>\n",
       "      <td>0.100362</td>\n",
       "    </tr>\n",
       "    <tr>\n",
       "      <th>0</th>\n",
       "      <td>age</td>\n",
       "      <td>0.099888</td>\n",
       "    </tr>\n",
       "    <tr>\n",
       "      <th>12</th>\n",
       "      <td>triage_heartrate</td>\n",
       "      <td>0.093402</td>\n",
       "    </tr>\n",
       "    <tr>\n",
       "      <th>18</th>\n",
       "      <td>triage_acuity</td>\n",
       "      <td>0.092878</td>\n",
       "    </tr>\n",
       "    <tr>\n",
       "      <th>16</th>\n",
       "      <td>triage_dbp</td>\n",
       "      <td>0.083354</td>\n",
       "    </tr>\n",
       "    <tr>\n",
       "      <th>11</th>\n",
       "      <td>triage_temperature</td>\n",
       "      <td>0.075578</td>\n",
       "    </tr>\n",
       "    <tr>\n",
       "      <th>13</th>\n",
       "      <td>triage_resprate</td>\n",
       "      <td>0.055787</td>\n",
       "    </tr>\n",
       "    <tr>\n",
       "      <th>14</th>\n",
       "      <td>triage_o2sat</td>\n",
       "      <td>0.049325</td>\n",
       "    </tr>\n",
       "    <tr>\n",
       "      <th>17</th>\n",
       "      <td>triage_pain</td>\n",
       "      <td>0.041047</td>\n",
       "    </tr>\n",
       "    <tr>\n",
       "      <th>4</th>\n",
       "      <td>n_ed_365d</td>\n",
       "      <td>0.018903</td>\n",
       "    </tr>\n",
       "    <tr>\n",
       "      <th>7</th>\n",
       "      <td>n_hosp_365d</td>\n",
       "      <td>0.017010</td>\n",
       "    </tr>\n",
       "    <tr>\n",
       "      <th>1</th>\n",
       "      <td>gender</td>\n",
       "      <td>0.014841</td>\n",
       "    </tr>\n",
       "    <tr>\n",
       "      <th>10</th>\n",
       "      <td>n_icu_365d</td>\n",
       "      <td>0.012231</td>\n",
       "    </tr>\n",
       "    <tr>\n",
       "      <th>3</th>\n",
       "      <td>n_ed_90d</td>\n",
       "      <td>0.010297</td>\n",
       "    </tr>\n",
       "    <tr>\n",
       "      <th>6</th>\n",
       "      <td>n_hosp_90d</td>\n",
       "      <td>0.010046</td>\n",
       "    </tr>\n",
       "    <tr>\n",
       "      <th>50</th>\n",
       "      <td>eci_HTN2</td>\n",
       "      <td>0.008722</td>\n",
       "    </tr>\n",
       "    <tr>\n",
       "      <th>38</th>\n",
       "      <td>cci_DM1</td>\n",
       "      <td>0.007434</td>\n",
       "    </tr>\n",
       "    <tr>\n",
       "      <th>34</th>\n",
       "      <td>cci_Pulmonary</td>\n",
       "      <td>0.007342</td>\n",
       "    </tr>\n",
       "    <tr>\n",
       "      <th>46</th>\n",
       "      <td>eci_Arrhythmia</td>\n",
       "      <td>0.007203</td>\n",
       "    </tr>\n",
       "    <tr>\n",
       "      <th>57</th>\n",
       "      <td>eci_FluidsLytes</td>\n",
       "      <td>0.006992</td>\n",
       "    </tr>\n",
       "    <tr>\n",
       "      <th>63</th>\n",
       "      <td>eci_Depression</td>\n",
       "      <td>0.006897</td>\n",
       "    </tr>\n",
       "    <tr>\n",
       "      <th>9</th>\n",
       "      <td>n_icu_90d</td>\n",
       "      <td>0.006666</td>\n",
       "    </tr>\n",
       "    <tr>\n",
       "      <th>2</th>\n",
       "      <td>n_ed_30d</td>\n",
       "      <td>0.006400</td>\n",
       "    </tr>\n",
       "    <tr>\n",
       "      <th>5</th>\n",
       "      <td>n_hosp_30d</td>\n",
       "      <td>0.006245</td>\n",
       "    </tr>\n",
       "    <tr>\n",
       "      <th>20</th>\n",
       "      <td>chiefcom_abdominal_pain</td>\n",
       "      <td>0.006236</td>\n",
       "    </tr>\n",
       "    <tr>\n",
       "      <th>51</th>\n",
       "      <td>eci_NeuroOther</td>\n",
       "      <td>0.005937</td>\n",
       "    </tr>\n",
       "    <tr>\n",
       "      <th>19</th>\n",
       "      <td>chiefcom_chest_pain</td>\n",
       "      <td>0.005902</td>\n",
       "    </tr>\n",
       "    <tr>\n",
       "      <th>30</th>\n",
       "      <td>cci_CHF</td>\n",
       "      <td>0.005698</td>\n",
       "    </tr>\n",
       "    <tr>\n",
       "      <th>52</th>\n",
       "      <td>eci_Hypothyroid</td>\n",
       "      <td>0.005595</td>\n",
       "    </tr>\n",
       "    <tr>\n",
       "      <th>55</th>\n",
       "      <td>eci_Obesity</td>\n",
       "      <td>0.005540</td>\n",
       "    </tr>\n",
       "    <tr>\n",
       "      <th>42</th>\n",
       "      <td>cci_Cancer1</td>\n",
       "      <td>0.005449</td>\n",
       "    </tr>\n",
       "    <tr>\n",
       "      <th>54</th>\n",
       "      <td>eci_Coagulopathy</td>\n",
       "      <td>0.005430</td>\n",
       "    </tr>\n",
       "    <tr>\n",
       "      <th>29</th>\n",
       "      <td>cci_MI</td>\n",
       "      <td>0.005206</td>\n",
       "    </tr>\n",
       "    <tr>\n",
       "      <th>49</th>\n",
       "      <td>eci_HTN1</td>\n",
       "      <td>0.005053</td>\n",
       "    </tr>\n",
       "    <tr>\n",
       "      <th>41</th>\n",
       "      <td>cci_Renal</td>\n",
       "      <td>0.005017</td>\n",
       "    </tr>\n",
       "    <tr>\n",
       "      <th>31</th>\n",
       "      <td>cci_PVD</td>\n",
       "      <td>0.005015</td>\n",
       "    </tr>\n",
       "    <tr>\n",
       "      <th>32</th>\n",
       "      <td>cci_Stroke</td>\n",
       "      <td>0.005012</td>\n",
       "    </tr>\n",
       "    <tr>\n",
       "      <th>60</th>\n",
       "      <td>eci_Alcohol</td>\n",
       "      <td>0.004873</td>\n",
       "    </tr>\n",
       "    <tr>\n",
       "      <th>26</th>\n",
       "      <td>chiefcom_fever_chills</td>\n",
       "      <td>0.004848</td>\n",
       "    </tr>\n",
       "    <tr>\n",
       "      <th>47</th>\n",
       "      <td>eci_Valvular</td>\n",
       "      <td>0.004812</td>\n",
       "    </tr>\n",
       "    <tr>\n",
       "      <th>39</th>\n",
       "      <td>cci_DM2</td>\n",
       "      <td>0.004773</td>\n",
       "    </tr>\n",
       "    <tr>\n",
       "      <th>37</th>\n",
       "      <td>cci_Liver1</td>\n",
       "      <td>0.004743</td>\n",
       "    </tr>\n",
       "    <tr>\n",
       "      <th>56</th>\n",
       "      <td>eci_WeightLoss</td>\n",
       "      <td>0.004710</td>\n",
       "    </tr>\n",
       "    <tr>\n",
       "      <th>59</th>\n",
       "      <td>eci_Anemia</td>\n",
       "      <td>0.004548</td>\n",
       "    </tr>\n",
       "    <tr>\n",
       "      <th>48</th>\n",
       "      <td>eci_PHTN</td>\n",
       "      <td>0.004514</td>\n",
       "    </tr>\n",
       "    <tr>\n",
       "      <th>21</th>\n",
       "      <td>chiefcom_headache</td>\n",
       "      <td>0.003916</td>\n",
       "    </tr>\n",
       "    <tr>\n",
       "      <th>44</th>\n",
       "      <td>cci_Cancer2</td>\n",
       "      <td>0.003773</td>\n",
       "    </tr>\n",
       "    <tr>\n",
       "      <th>61</th>\n",
       "      <td>eci_Drugs</td>\n",
       "      <td>0.003626</td>\n",
       "    </tr>\n",
       "    <tr>\n",
       "      <th>27</th>\n",
       "      <td>chiefcom_syncope</td>\n",
       "      <td>0.003536</td>\n",
       "    </tr>\n",
       "    <tr>\n",
       "      <th>8</th>\n",
       "      <td>n_icu_30d</td>\n",
       "      <td>0.003343</td>\n",
       "    </tr>\n",
       "    <tr>\n",
       "      <th>28</th>\n",
       "      <td>chiefcom_dizziness</td>\n",
       "      <td>0.003089</td>\n",
       "    </tr>\n",
       "    <tr>\n",
       "      <th>25</th>\n",
       "      <td>chiefcom_nausea_vomiting</td>\n",
       "      <td>0.003041</td>\n",
       "    </tr>\n",
       "    <tr>\n",
       "      <th>43</th>\n",
       "      <td>cci_Liver2</td>\n",
       "      <td>0.002973</td>\n",
       "    </tr>\n",
       "    <tr>\n",
       "      <th>33</th>\n",
       "      <td>cci_Dementia</td>\n",
       "      <td>0.002876</td>\n",
       "    </tr>\n",
       "    <tr>\n",
       "      <th>36</th>\n",
       "      <td>cci_PUD</td>\n",
       "      <td>0.002771</td>\n",
       "    </tr>\n",
       "    <tr>\n",
       "      <th>35</th>\n",
       "      <td>cci_Rheumatic</td>\n",
       "      <td>0.002687</td>\n",
       "    </tr>\n",
       "    <tr>\n",
       "      <th>62</th>\n",
       "      <td>eci_Psychoses</td>\n",
       "      <td>0.002616</td>\n",
       "    </tr>\n",
       "    <tr>\n",
       "      <th>40</th>\n",
       "      <td>cci_Paralysis</td>\n",
       "      <td>0.002506</td>\n",
       "    </tr>\n",
       "    <tr>\n",
       "      <th>24</th>\n",
       "      <td>chiefcom_cough</td>\n",
       "      <td>0.002415</td>\n",
       "    </tr>\n",
       "    <tr>\n",
       "      <th>58</th>\n",
       "      <td>eci_BloodLoss</td>\n",
       "      <td>0.002271</td>\n",
       "    </tr>\n",
       "    <tr>\n",
       "      <th>23</th>\n",
       "      <td>chiefcom_back_pain</td>\n",
       "      <td>0.002149</td>\n",
       "    </tr>\n",
       "    <tr>\n",
       "      <th>53</th>\n",
       "      <td>eci_Lymphoma</td>\n",
       "      <td>0.001780</td>\n",
       "    </tr>\n",
       "    <tr>\n",
       "      <th>22</th>\n",
       "      <td>chiefcom_shortness_of_breath</td>\n",
       "      <td>0.001710</td>\n",
       "    </tr>\n",
       "    <tr>\n",
       "      <th>45</th>\n",
       "      <td>cci_HIV</td>\n",
       "      <td>0.001159</td>\n",
       "    </tr>\n",
       "  </tbody>\n",
       "</table>\n",
       "</div>"
      ],
      "text/plain": [
       "                        Variable  Importance\n",
       "15                    triage_sbp    0.100362\n",
       "0                            age    0.099888\n",
       "12              triage_heartrate    0.093402\n",
       "18                 triage_acuity    0.092878\n",
       "16                    triage_dbp    0.083354\n",
       "11            triage_temperature    0.075578\n",
       "13               triage_resprate    0.055787\n",
       "14                  triage_o2sat    0.049325\n",
       "17                   triage_pain    0.041047\n",
       "4                      n_ed_365d    0.018903\n",
       "7                    n_hosp_365d    0.017010\n",
       "1                         gender    0.014841\n",
       "10                    n_icu_365d    0.012231\n",
       "3                       n_ed_90d    0.010297\n",
       "6                     n_hosp_90d    0.010046\n",
       "50                      eci_HTN2    0.008722\n",
       "38                       cci_DM1    0.007434\n",
       "34                 cci_Pulmonary    0.007342\n",
       "46                eci_Arrhythmia    0.007203\n",
       "57               eci_FluidsLytes    0.006992\n",
       "63                eci_Depression    0.006897\n",
       "9                      n_icu_90d    0.006666\n",
       "2                       n_ed_30d    0.006400\n",
       "5                     n_hosp_30d    0.006245\n",
       "20       chiefcom_abdominal_pain    0.006236\n",
       "51                eci_NeuroOther    0.005937\n",
       "19           chiefcom_chest_pain    0.005902\n",
       "30                       cci_CHF    0.005698\n",
       "52               eci_Hypothyroid    0.005595\n",
       "55                   eci_Obesity    0.005540\n",
       "42                   cci_Cancer1    0.005449\n",
       "54              eci_Coagulopathy    0.005430\n",
       "29                        cci_MI    0.005206\n",
       "49                      eci_HTN1    0.005053\n",
       "41                     cci_Renal    0.005017\n",
       "31                       cci_PVD    0.005015\n",
       "32                    cci_Stroke    0.005012\n",
       "60                   eci_Alcohol    0.004873\n",
       "26         chiefcom_fever_chills    0.004848\n",
       "47                  eci_Valvular    0.004812\n",
       "39                       cci_DM2    0.004773\n",
       "37                    cci_Liver1    0.004743\n",
       "56                eci_WeightLoss    0.004710\n",
       "59                    eci_Anemia    0.004548\n",
       "48                      eci_PHTN    0.004514\n",
       "21             chiefcom_headache    0.003916\n",
       "44                   cci_Cancer2    0.003773\n",
       "61                     eci_Drugs    0.003626\n",
       "27              chiefcom_syncope    0.003536\n",
       "8                      n_icu_30d    0.003343\n",
       "28            chiefcom_dizziness    0.003089\n",
       "25      chiefcom_nausea_vomiting    0.003041\n",
       "43                    cci_Liver2    0.002973\n",
       "33                  cci_Dementia    0.002876\n",
       "36                       cci_PUD    0.002771\n",
       "35                 cci_Rheumatic    0.002687\n",
       "62                 eci_Psychoses    0.002616\n",
       "40                 cci_Paralysis    0.002506\n",
       "24                chiefcom_cough    0.002415\n",
       "58                 eci_BloodLoss    0.002271\n",
       "23            chiefcom_back_pain    0.002149\n",
       "53                  eci_Lymphoma    0.001780\n",
       "22  chiefcom_shortness_of_breath    0.001710\n",
       "45                       cci_HIV    0.001159"
      ]
     },
     "execution_count": 29,
     "metadata": {},
     "output_type": "execute_result"
    }
   ],
   "source": [
    "importance_df = pd.DataFrame(zip(variable, importances), columns=['Variable','Importance'])\n",
    "importance_df.to_csv(os.path.join(path, 'importances_critical_triage.csv'))\n",
    "importance_df.sort_values(by='Importance', axis=0,ascending=False)"
   ]
  },
  {
   "cell_type": "code",
   "execution_count": null,
   "metadata": {},
   "outputs": [],
   "source": []
  }
 ],
 "metadata": {
  "kernelspec": {
   "display_name": ".venv",
   "language": "python",
   "name": "python3"
  },
  "language_info": {
   "codemirror_mode": {
    "name": "ipython",
    "version": 3
   },
   "file_extension": ".py",
   "mimetype": "text/x-python",
   "name": "python",
   "nbconvert_exporter": "python",
   "pygments_lexer": "ipython3",
   "version": "3.11.9"
  }
 },
 "nbformat": 4,
 "nbformat_minor": 4
}
