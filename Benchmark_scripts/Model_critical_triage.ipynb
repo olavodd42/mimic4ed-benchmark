{
 "cells": [
  {
   "cell_type": "markdown",
   "metadata": {},
   "source": [
    "## Modeling for predicting critical outcome at ED disposition"
   ]
  },
  {
   "cell_type": "markdown",
   "metadata": {},
   "source": [
    "Flow:\n",
    "1. task-specific filter: exclude ED death cases for train and test\n",
    "2. variable selection\n",
    "3. Modeling script\n",
    "4. Performance output\n"
   ]
  },
  {
   "cell_type": "markdown",
   "metadata": {},
   "source": [
    "### Load train and test"
   ]
  },
  {
   "cell_type": "code",
   "execution_count": 20,
   "metadata": {},
   "outputs": [],
   "source": [
    "import pandas as pd\n",
    "import numpy as np\n",
    "import os\n",
    "from helpers import PlotROCCurve\n",
    "from sklearn.preprocessing import LabelEncoder\n",
    "import time\n",
    "\n",
    "#path = 'C:/Users/XFE/Documents/mimic4ed-benchmark/data_processed/'\n",
    "path = '/home/jun/data/MIMIC/mimiciv/1.0/processed'\n",
    "\n",
    "df_train = pd.read_csv((os.path.join(path, 'train.csv')))\n",
    "df_test = pd.read_csv((os.path.join(path, 'test.csv')))\n",
    "confidence_interval = 0.95"
   ]
  },
  {
   "cell_type": "code",
   "execution_count": 21,
   "metadata": {},
   "outputs": [
    {
     "data": {
      "text/html": [
       "<div>\n",
       "<style scoped>\n",
       "    .dataframe tbody tr th:only-of-type {\n",
       "        vertical-align: middle;\n",
       "    }\n",
       "\n",
       "    .dataframe tbody tr th {\n",
       "        vertical-align: top;\n",
       "    }\n",
       "\n",
       "    .dataframe thead th {\n",
       "        text-align: right;\n",
       "    }\n",
       "</style>\n",
       "<table border=\"1\" class=\"dataframe\">\n",
       "  <thead>\n",
       "    <tr style=\"text-align: right;\">\n",
       "      <th></th>\n",
       "      <th>index</th>\n",
       "      <th>subject_id</th>\n",
       "      <th>hadm_id</th>\n",
       "      <th>stay_id</th>\n",
       "      <th>intime</th>\n",
       "      <th>outtime</th>\n",
       "      <th>anchor_age</th>\n",
       "      <th>gender</th>\n",
       "      <th>anchor_year</th>\n",
       "      <th>dod</th>\n",
       "      <th>admittime</th>\n",
       "      <th>dischtime</th>\n",
       "      <th>deathtime</th>\n",
       "      <th>ethnicity</th>\n",
       "      <th>edregtime</th>\n",
       "      <th>edouttime</th>\n",
       "      <th>insurance</th>\n",
       "      <th>in_year</th>\n",
       "      <th>age</th>\n",
       "      <th>outcome_inhospital_mortality</th>\n",
       "      <th>ed_death</th>\n",
       "      <th>before_ed_mortality</th>\n",
       "      <th>ed_los</th>\n",
       "      <th>intime_icu</th>\n",
       "      <th>time_to_icu_transfer</th>\n",
       "      <th>outcome_icu_transfer_12h</th>\n",
       "      <th>outcome_hospitalization</th>\n",
       "      <th>outcome_critical</th>\n",
       "      <th>n_ed_30d</th>\n",
       "      <th>n_ed_90d</th>\n",
       "      <th>n_ed_365d</th>\n",
       "      <th>next_ed_visit_time</th>\n",
       "      <th>next_ed_visit_time_diff</th>\n",
       "      <th>outcome_ed_revisit_3d</th>\n",
       "      <th>n_hosp_30d</th>\n",
       "      <th>n_hosp_90d</th>\n",
       "      <th>n_hosp_365d</th>\n",
       "      <th>n_icu_30d</th>\n",
       "      <th>n_icu_90d</th>\n",
       "      <th>n_icu_365d</th>\n",
       "      <th>ed_los_hours</th>\n",
       "      <th>time_to_icu_transfer_hours</th>\n",
       "      <th>next_ed_visit_time_diff_days</th>\n",
       "      <th>triage_temperature</th>\n",
       "      <th>triage_heartrate</th>\n",
       "      <th>triage_resprate</th>\n",
       "      <th>triage_o2sat</th>\n",
       "      <th>triage_sbp</th>\n",
       "      <th>triage_dbp</th>\n",
       "      <th>triage_pain</th>\n",
       "      <th>...</th>\n",
       "      <th>cci_HIV</th>\n",
       "      <th>eci_CHF</th>\n",
       "      <th>eci_Arrhythmia</th>\n",
       "      <th>eci_Valvular</th>\n",
       "      <th>eci_PHTN</th>\n",
       "      <th>eci_PVD</th>\n",
       "      <th>eci_HTN1</th>\n",
       "      <th>eci_HTN2</th>\n",
       "      <th>eci_Paralysis</th>\n",
       "      <th>eci_NeuroOther</th>\n",
       "      <th>eci_Pulmonary</th>\n",
       "      <th>eci_DM1</th>\n",
       "      <th>eci_DM2</th>\n",
       "      <th>eci_Hypothyroid</th>\n",
       "      <th>eci_Renal</th>\n",
       "      <th>eci_Liver</th>\n",
       "      <th>eci_PUD</th>\n",
       "      <th>eci_HIV</th>\n",
       "      <th>eci_Lymphoma</th>\n",
       "      <th>eci_Tumor2</th>\n",
       "      <th>eci_Tumor1</th>\n",
       "      <th>eci_Rheumatic</th>\n",
       "      <th>eci_Coagulopathy</th>\n",
       "      <th>eci_Obesity</th>\n",
       "      <th>eci_WeightLoss</th>\n",
       "      <th>eci_FluidsLytes</th>\n",
       "      <th>eci_BloodLoss</th>\n",
       "      <th>eci_Anemia</th>\n",
       "      <th>eci_Alcohol</th>\n",
       "      <th>eci_Drugs</th>\n",
       "      <th>eci_Psychoses</th>\n",
       "      <th>eci_Depression</th>\n",
       "      <th>ed_temperature_last</th>\n",
       "      <th>ed_heartrate_last</th>\n",
       "      <th>ed_resprate_last</th>\n",
       "      <th>ed_o2sat_last</th>\n",
       "      <th>ed_sbp_last</th>\n",
       "      <th>ed_dbp_last</th>\n",
       "      <th>ed_pain_last</th>\n",
       "      <th>n_med</th>\n",
       "      <th>n_medrecon</th>\n",
       "      <th>triage_MAP</th>\n",
       "      <th>score_CART</th>\n",
       "      <th>score_REMS</th>\n",
       "      <th>score_NEWS</th>\n",
       "      <th>score_NEWS2</th>\n",
       "      <th>score_MEWS</th>\n",
       "      <th>score_SERP2d</th>\n",
       "      <th>score_SERP7d</th>\n",
       "      <th>score_SERP30d</th>\n",
       "    </tr>\n",
       "  </thead>\n",
       "  <tbody>\n",
       "    <tr>\n",
       "      <th>0</th>\n",
       "      <td>215414</td>\n",
       "      <td>18566742</td>\n",
       "      <td>27103162.0</td>\n",
       "      <td>38538786</td>\n",
       "      <td>2135-07-16 16:08:00</td>\n",
       "      <td>2135-07-17 01:49:00</td>\n",
       "      <td>58</td>\n",
       "      <td>F</td>\n",
       "      <td>2132</td>\n",
       "      <td>NaN</td>\n",
       "      <td>2135-07-17 00:20:00</td>\n",
       "      <td>2135-07-18 18:20:00</td>\n",
       "      <td>NaN</td>\n",
       "      <td>HISPANIC/LATINO</td>\n",
       "      <td>2135-07-16 16:08:00</td>\n",
       "      <td>2135-07-17 01:49:00</td>\n",
       "      <td>Other</td>\n",
       "      <td>2135</td>\n",
       "      <td>61</td>\n",
       "      <td>False</td>\n",
       "      <td>False</td>\n",
       "      <td>False</td>\n",
       "      <td>0 days 09:41:00</td>\n",
       "      <td>NaN</td>\n",
       "      <td>NaN</td>\n",
       "      <td>False</td>\n",
       "      <td>True</td>\n",
       "      <td>False</td>\n",
       "      <td>0</td>\n",
       "      <td>0</td>\n",
       "      <td>0</td>\n",
       "      <td>2136-07-30 17:08:00</td>\n",
       "      <td>379 days 15:19:00</td>\n",
       "      <td>False</td>\n",
       "      <td>0</td>\n",
       "      <td>0</td>\n",
       "      <td>0</td>\n",
       "      <td>0</td>\n",
       "      <td>0</td>\n",
       "      <td>0</td>\n",
       "      <td>9.68</td>\n",
       "      <td>NaN</td>\n",
       "      <td>379.64</td>\n",
       "      <td>37.166667</td>\n",
       "      <td>93.0</td>\n",
       "      <td>16.0</td>\n",
       "      <td>100.0</td>\n",
       "      <td>160.0</td>\n",
       "      <td>66.0</td>\n",
       "      <td>4.167576</td>\n",
       "      <td>...</td>\n",
       "      <td>0</td>\n",
       "      <td>0</td>\n",
       "      <td>0</td>\n",
       "      <td>0</td>\n",
       "      <td>0</td>\n",
       "      <td>0</td>\n",
       "      <td>0</td>\n",
       "      <td>1</td>\n",
       "      <td>0</td>\n",
       "      <td>0</td>\n",
       "      <td>0</td>\n",
       "      <td>0</td>\n",
       "      <td>0</td>\n",
       "      <td>0</td>\n",
       "      <td>0</td>\n",
       "      <td>0</td>\n",
       "      <td>0</td>\n",
       "      <td>0</td>\n",
       "      <td>0</td>\n",
       "      <td>0</td>\n",
       "      <td>0</td>\n",
       "      <td>0</td>\n",
       "      <td>0</td>\n",
       "      <td>0</td>\n",
       "      <td>0</td>\n",
       "      <td>0</td>\n",
       "      <td>0</td>\n",
       "      <td>0</td>\n",
       "      <td>0</td>\n",
       "      <td>0</td>\n",
       "      <td>0</td>\n",
       "      <td>0</td>\n",
       "      <td>36.760621</td>\n",
       "      <td>78.220568</td>\n",
       "      <td>17.260731</td>\n",
       "      <td>98.141378</td>\n",
       "      <td>127.427849</td>\n",
       "      <td>73.556876</td>\n",
       "      <td>2.127651</td>\n",
       "      <td>5.0</td>\n",
       "      <td>2.0</td>\n",
       "      <td>97.333333</td>\n",
       "      <td>4</td>\n",
       "      <td>3</td>\n",
       "      <td>1</td>\n",
       "      <td>1</td>\n",
       "      <td>1</td>\n",
       "      <td>16</td>\n",
       "      <td>21</td>\n",
       "      <td>16</td>\n",
       "    </tr>\n",
       "    <tr>\n",
       "      <th>1</th>\n",
       "      <td>205452</td>\n",
       "      <td>16853729</td>\n",
       "      <td>NaN</td>\n",
       "      <td>30043998</td>\n",
       "      <td>2178-01-25 05:09:00</td>\n",
       "      <td>2178-01-25 07:05:00</td>\n",
       "      <td>91</td>\n",
       "      <td>F</td>\n",
       "      <td>2169</td>\n",
       "      <td>NaN</td>\n",
       "      <td>NaN</td>\n",
       "      <td>NaN</td>\n",
       "      <td>NaN</td>\n",
       "      <td>OTHER</td>\n",
       "      <td>NaN</td>\n",
       "      <td>NaN</td>\n",
       "      <td>NaN</td>\n",
       "      <td>2178</td>\n",
       "      <td>100</td>\n",
       "      <td>False</td>\n",
       "      <td>False</td>\n",
       "      <td>False</td>\n",
       "      <td>0 days 01:56:00</td>\n",
       "      <td>NaN</td>\n",
       "      <td>NaN</td>\n",
       "      <td>False</td>\n",
       "      <td>False</td>\n",
       "      <td>False</td>\n",
       "      <td>0</td>\n",
       "      <td>1</td>\n",
       "      <td>7</td>\n",
       "      <td>2178-03-11 09:43:00</td>\n",
       "      <td>45 days 02:38:00</td>\n",
       "      <td>False</td>\n",
       "      <td>0</td>\n",
       "      <td>0</td>\n",
       "      <td>5</td>\n",
       "      <td>0</td>\n",
       "      <td>0</td>\n",
       "      <td>0</td>\n",
       "      <td>1.93</td>\n",
       "      <td>NaN</td>\n",
       "      <td>45.11</td>\n",
       "      <td>36.666667</td>\n",
       "      <td>76.0</td>\n",
       "      <td>20.0</td>\n",
       "      <td>95.0</td>\n",
       "      <td>165.0</td>\n",
       "      <td>95.0</td>\n",
       "      <td>4.167576</td>\n",
       "      <td>...</td>\n",
       "      <td>0</td>\n",
       "      <td>0</td>\n",
       "      <td>0</td>\n",
       "      <td>0</td>\n",
       "      <td>0</td>\n",
       "      <td>0</td>\n",
       "      <td>1</td>\n",
       "      <td>1</td>\n",
       "      <td>0</td>\n",
       "      <td>1</td>\n",
       "      <td>0</td>\n",
       "      <td>1</td>\n",
       "      <td>1</td>\n",
       "      <td>0</td>\n",
       "      <td>0</td>\n",
       "      <td>0</td>\n",
       "      <td>0</td>\n",
       "      <td>0</td>\n",
       "      <td>0</td>\n",
       "      <td>0</td>\n",
       "      <td>0</td>\n",
       "      <td>0</td>\n",
       "      <td>0</td>\n",
       "      <td>0</td>\n",
       "      <td>0</td>\n",
       "      <td>1</td>\n",
       "      <td>0</td>\n",
       "      <td>0</td>\n",
       "      <td>0</td>\n",
       "      <td>0</td>\n",
       "      <td>0</td>\n",
       "      <td>0</td>\n",
       "      <td>36.777778</td>\n",
       "      <td>75.000000</td>\n",
       "      <td>18.000000</td>\n",
       "      <td>97.000000</td>\n",
       "      <td>133.000000</td>\n",
       "      <td>80.000000</td>\n",
       "      <td>2.127651</td>\n",
       "      <td>2.0</td>\n",
       "      <td>3.0</td>\n",
       "      <td>118.333333</td>\n",
       "      <td>9</td>\n",
       "      <td>8</td>\n",
       "      <td>1</td>\n",
       "      <td>0</td>\n",
       "      <td>1</td>\n",
       "      <td>28</td>\n",
       "      <td>33</td>\n",
       "      <td>29</td>\n",
       "    </tr>\n",
       "    <tr>\n",
       "      <th>2</th>\n",
       "      <td>200705</td>\n",
       "      <td>16026698</td>\n",
       "      <td>NaN</td>\n",
       "      <td>39475313</td>\n",
       "      <td>2128-10-19 20:01:00</td>\n",
       "      <td>2128-10-19 20:16:00</td>\n",
       "      <td>23</td>\n",
       "      <td>M</td>\n",
       "      <td>2128</td>\n",
       "      <td>NaN</td>\n",
       "      <td>NaN</td>\n",
       "      <td>NaN</td>\n",
       "      <td>NaN</td>\n",
       "      <td>NaN</td>\n",
       "      <td>NaN</td>\n",
       "      <td>NaN</td>\n",
       "      <td>NaN</td>\n",
       "      <td>2128</td>\n",
       "      <td>23</td>\n",
       "      <td>False</td>\n",
       "      <td>False</td>\n",
       "      <td>False</td>\n",
       "      <td>0 days 00:15:00</td>\n",
       "      <td>NaN</td>\n",
       "      <td>NaN</td>\n",
       "      <td>False</td>\n",
       "      <td>False</td>\n",
       "      <td>False</td>\n",
       "      <td>0</td>\n",
       "      <td>0</td>\n",
       "      <td>1</td>\n",
       "      <td>2129-01-05 21:12:00</td>\n",
       "      <td>78 days 00:56:00</td>\n",
       "      <td>False</td>\n",
       "      <td>0</td>\n",
       "      <td>0</td>\n",
       "      <td>0</td>\n",
       "      <td>0</td>\n",
       "      <td>0</td>\n",
       "      <td>0</td>\n",
       "      <td>0.25</td>\n",
       "      <td>NaN</td>\n",
       "      <td>78.04</td>\n",
       "      <td>37.222222</td>\n",
       "      <td>125.0</td>\n",
       "      <td>22.0</td>\n",
       "      <td>99.0</td>\n",
       "      <td>156.0</td>\n",
       "      <td>96.0</td>\n",
       "      <td>7.000000</td>\n",
       "      <td>...</td>\n",
       "      <td>0</td>\n",
       "      <td>0</td>\n",
       "      <td>0</td>\n",
       "      <td>0</td>\n",
       "      <td>0</td>\n",
       "      <td>0</td>\n",
       "      <td>0</td>\n",
       "      <td>0</td>\n",
       "      <td>0</td>\n",
       "      <td>0</td>\n",
       "      <td>0</td>\n",
       "      <td>0</td>\n",
       "      <td>0</td>\n",
       "      <td>0</td>\n",
       "      <td>0</td>\n",
       "      <td>0</td>\n",
       "      <td>0</td>\n",
       "      <td>0</td>\n",
       "      <td>0</td>\n",
       "      <td>0</td>\n",
       "      <td>0</td>\n",
       "      <td>0</td>\n",
       "      <td>0</td>\n",
       "      <td>0</td>\n",
       "      <td>0</td>\n",
       "      <td>0</td>\n",
       "      <td>0</td>\n",
       "      <td>0</td>\n",
       "      <td>0</td>\n",
       "      <td>0</td>\n",
       "      <td>0</td>\n",
       "      <td>0</td>\n",
       "      <td>36.833333</td>\n",
       "      <td>95.000000</td>\n",
       "      <td>18.000000</td>\n",
       "      <td>100.000000</td>\n",
       "      <td>143.000000</td>\n",
       "      <td>82.000000</td>\n",
       "      <td>7.000000</td>\n",
       "      <td>1.0</td>\n",
       "      <td>1.0</td>\n",
       "      <td>116.000000</td>\n",
       "      <td>12</td>\n",
       "      <td>4</td>\n",
       "      <td>4</td>\n",
       "      <td>4</td>\n",
       "      <td>4</td>\n",
       "      <td>18</td>\n",
       "      <td>20</td>\n",
       "      <td>17</td>\n",
       "    </tr>\n",
       "    <tr>\n",
       "      <th>3</th>\n",
       "      <td>87038</td>\n",
       "      <td>15398519</td>\n",
       "      <td>25237915.0</td>\n",
       "      <td>35495155</td>\n",
       "      <td>2147-06-15 09:50:00</td>\n",
       "      <td>2147-06-15 15:55:00</td>\n",
       "      <td>57</td>\n",
       "      <td>M</td>\n",
       "      <td>2136</td>\n",
       "      <td>NaN</td>\n",
       "      <td>2147-06-15 14:00:00</td>\n",
       "      <td>2147-06-16 16:45:00</td>\n",
       "      <td>NaN</td>\n",
       "      <td>BLACK/AFRICAN AMERICAN</td>\n",
       "      <td>2147-06-15 09:50:00</td>\n",
       "      <td>2147-06-15 15:55:00</td>\n",
       "      <td>Medicare</td>\n",
       "      <td>2147</td>\n",
       "      <td>68</td>\n",
       "      <td>False</td>\n",
       "      <td>False</td>\n",
       "      <td>False</td>\n",
       "      <td>0 days 06:05:00</td>\n",
       "      <td>NaN</td>\n",
       "      <td>NaN</td>\n",
       "      <td>False</td>\n",
       "      <td>True</td>\n",
       "      <td>False</td>\n",
       "      <td>0</td>\n",
       "      <td>2</td>\n",
       "      <td>5</td>\n",
       "      <td>2147-07-01 10:46:00</td>\n",
       "      <td>15 days 18:51:00</td>\n",
       "      <td>False</td>\n",
       "      <td>0</td>\n",
       "      <td>2</td>\n",
       "      <td>5</td>\n",
       "      <td>0</td>\n",
       "      <td>0</td>\n",
       "      <td>1</td>\n",
       "      <td>6.08</td>\n",
       "      <td>NaN</td>\n",
       "      <td>15.79</td>\n",
       "      <td>37.166667</td>\n",
       "      <td>110.0</td>\n",
       "      <td>22.0</td>\n",
       "      <td>92.0</td>\n",
       "      <td>122.0</td>\n",
       "      <td>89.0</td>\n",
       "      <td>7.000000</td>\n",
       "      <td>...</td>\n",
       "      <td>1</td>\n",
       "      <td>0</td>\n",
       "      <td>1</td>\n",
       "      <td>1</td>\n",
       "      <td>1</td>\n",
       "      <td>0</td>\n",
       "      <td>1</td>\n",
       "      <td>1</td>\n",
       "      <td>0</td>\n",
       "      <td>0</td>\n",
       "      <td>1</td>\n",
       "      <td>0</td>\n",
       "      <td>0</td>\n",
       "      <td>0</td>\n",
       "      <td>1</td>\n",
       "      <td>1</td>\n",
       "      <td>0</td>\n",
       "      <td>1</td>\n",
       "      <td>0</td>\n",
       "      <td>0</td>\n",
       "      <td>0</td>\n",
       "      <td>0</td>\n",
       "      <td>0</td>\n",
       "      <td>0</td>\n",
       "      <td>0</td>\n",
       "      <td>1</td>\n",
       "      <td>0</td>\n",
       "      <td>0</td>\n",
       "      <td>1</td>\n",
       "      <td>1</td>\n",
       "      <td>0</td>\n",
       "      <td>0</td>\n",
       "      <td>36.777778</td>\n",
       "      <td>106.000000</td>\n",
       "      <td>20.000000</td>\n",
       "      <td>92.000000</td>\n",
       "      <td>96.000000</td>\n",
       "      <td>75.000000</td>\n",
       "      <td>0.000000</td>\n",
       "      <td>7.0</td>\n",
       "      <td>10.0</td>\n",
       "      <td>100.000000</td>\n",
       "      <td>16</td>\n",
       "      <td>7</td>\n",
       "      <td>5</td>\n",
       "      <td>3</td>\n",
       "      <td>3</td>\n",
       "      <td>36</td>\n",
       "      <td>36</td>\n",
       "      <td>31</td>\n",
       "    </tr>\n",
       "    <tr>\n",
       "      <th>4</th>\n",
       "      <td>373626</td>\n",
       "      <td>16787687</td>\n",
       "      <td>23674090.0</td>\n",
       "      <td>31087259</td>\n",
       "      <td>2181-03-20 10:38:00</td>\n",
       "      <td>2181-03-21 12:55:00</td>\n",
       "      <td>87</td>\n",
       "      <td>F</td>\n",
       "      <td>2176</td>\n",
       "      <td>NaN</td>\n",
       "      <td>2181-03-20 22:01:00</td>\n",
       "      <td>2181-03-21 12:55:00</td>\n",
       "      <td>NaN</td>\n",
       "      <td>BLACK/AFRICAN AMERICAN</td>\n",
       "      <td>2181-03-20 10:38:00</td>\n",
       "      <td>2181-03-21 12:55:00</td>\n",
       "      <td>Medicare</td>\n",
       "      <td>2181</td>\n",
       "      <td>92</td>\n",
       "      <td>False</td>\n",
       "      <td>False</td>\n",
       "      <td>False</td>\n",
       "      <td>1 days 02:17:00</td>\n",
       "      <td>NaN</td>\n",
       "      <td>NaN</td>\n",
       "      <td>False</td>\n",
       "      <td>True</td>\n",
       "      <td>False</td>\n",
       "      <td>0</td>\n",
       "      <td>0</td>\n",
       "      <td>2</td>\n",
       "      <td>2181-04-06 09:43:00</td>\n",
       "      <td>15 days 20:48:00</td>\n",
       "      <td>False</td>\n",
       "      <td>0</td>\n",
       "      <td>0</td>\n",
       "      <td>2</td>\n",
       "      <td>0</td>\n",
       "      <td>0</td>\n",
       "      <td>0</td>\n",
       "      <td>26.28</td>\n",
       "      <td>NaN</td>\n",
       "      <td>15.87</td>\n",
       "      <td>37.111111</td>\n",
       "      <td>90.0</td>\n",
       "      <td>14.0</td>\n",
       "      <td>99.0</td>\n",
       "      <td>125.0</td>\n",
       "      <td>68.0</td>\n",
       "      <td>3.000000</td>\n",
       "      <td>...</td>\n",
       "      <td>0</td>\n",
       "      <td>1</td>\n",
       "      <td>0</td>\n",
       "      <td>0</td>\n",
       "      <td>0</td>\n",
       "      <td>0</td>\n",
       "      <td>1</td>\n",
       "      <td>0</td>\n",
       "      <td>0</td>\n",
       "      <td>1</td>\n",
       "      <td>1</td>\n",
       "      <td>1</td>\n",
       "      <td>1</td>\n",
       "      <td>0</td>\n",
       "      <td>1</td>\n",
       "      <td>0</td>\n",
       "      <td>0</td>\n",
       "      <td>0</td>\n",
       "      <td>0</td>\n",
       "      <td>0</td>\n",
       "      <td>0</td>\n",
       "      <td>0</td>\n",
       "      <td>1</td>\n",
       "      <td>1</td>\n",
       "      <td>0</td>\n",
       "      <td>1</td>\n",
       "      <td>0</td>\n",
       "      <td>1</td>\n",
       "      <td>0</td>\n",
       "      <td>0</td>\n",
       "      <td>0</td>\n",
       "      <td>0</td>\n",
       "      <td>36.666667</td>\n",
       "      <td>74.000000</td>\n",
       "      <td>18.000000</td>\n",
       "      <td>98.000000</td>\n",
       "      <td>100.000000</td>\n",
       "      <td>59.000000</td>\n",
       "      <td>0.000000</td>\n",
       "      <td>6.0</td>\n",
       "      <td>13.0</td>\n",
       "      <td>87.000000</td>\n",
       "      <td>9</td>\n",
       "      <td>6</td>\n",
       "      <td>0</td>\n",
       "      <td>0</td>\n",
       "      <td>0</td>\n",
       "      <td>32</td>\n",
       "      <td>36</td>\n",
       "      <td>31</td>\n",
       "    </tr>\n",
       "  </tbody>\n",
       "</table>\n",
       "<p>5 rows × 128 columns</p>\n",
       "</div>"
      ],
      "text/plain": [
       "    index  subject_id     hadm_id   stay_id               intime  \\\n",
       "0  215414    18566742  27103162.0  38538786  2135-07-16 16:08:00   \n",
       "1  205452    16853729         NaN  30043998  2178-01-25 05:09:00   \n",
       "2  200705    16026698         NaN  39475313  2128-10-19 20:01:00   \n",
       "3   87038    15398519  25237915.0  35495155  2147-06-15 09:50:00   \n",
       "4  373626    16787687  23674090.0  31087259  2181-03-20 10:38:00   \n",
       "\n",
       "               outtime  anchor_age gender  anchor_year  dod  \\\n",
       "0  2135-07-17 01:49:00          58      F         2132  NaN   \n",
       "1  2178-01-25 07:05:00          91      F         2169  NaN   \n",
       "2  2128-10-19 20:16:00          23      M         2128  NaN   \n",
       "3  2147-06-15 15:55:00          57      M         2136  NaN   \n",
       "4  2181-03-21 12:55:00          87      F         2176  NaN   \n",
       "\n",
       "             admittime            dischtime deathtime               ethnicity  \\\n",
       "0  2135-07-17 00:20:00  2135-07-18 18:20:00       NaN         HISPANIC/LATINO   \n",
       "1                  NaN                  NaN       NaN                   OTHER   \n",
       "2                  NaN                  NaN       NaN                     NaN   \n",
       "3  2147-06-15 14:00:00  2147-06-16 16:45:00       NaN  BLACK/AFRICAN AMERICAN   \n",
       "4  2181-03-20 22:01:00  2181-03-21 12:55:00       NaN  BLACK/AFRICAN AMERICAN   \n",
       "\n",
       "             edregtime            edouttime insurance  in_year  age  \\\n",
       "0  2135-07-16 16:08:00  2135-07-17 01:49:00     Other     2135   61   \n",
       "1                  NaN                  NaN       NaN     2178  100   \n",
       "2                  NaN                  NaN       NaN     2128   23   \n",
       "3  2147-06-15 09:50:00  2147-06-15 15:55:00  Medicare     2147   68   \n",
       "4  2181-03-20 10:38:00  2181-03-21 12:55:00  Medicare     2181   92   \n",
       "\n",
       "   outcome_inhospital_mortality  ed_death  before_ed_mortality  \\\n",
       "0                         False     False                False   \n",
       "1                         False     False                False   \n",
       "2                         False     False                False   \n",
       "3                         False     False                False   \n",
       "4                         False     False                False   \n",
       "\n",
       "            ed_los intime_icu time_to_icu_transfer  outcome_icu_transfer_12h  \\\n",
       "0  0 days 09:41:00        NaN                  NaN                     False   \n",
       "1  0 days 01:56:00        NaN                  NaN                     False   \n",
       "2  0 days 00:15:00        NaN                  NaN                     False   \n",
       "3  0 days 06:05:00        NaN                  NaN                     False   \n",
       "4  1 days 02:17:00        NaN                  NaN                     False   \n",
       "\n",
       "   outcome_hospitalization  outcome_critical  n_ed_30d  n_ed_90d  n_ed_365d  \\\n",
       "0                     True             False         0         0          0   \n",
       "1                    False             False         0         1          7   \n",
       "2                    False             False         0         0          1   \n",
       "3                     True             False         0         2          5   \n",
       "4                     True             False         0         0          2   \n",
       "\n",
       "    next_ed_visit_time next_ed_visit_time_diff  outcome_ed_revisit_3d  \\\n",
       "0  2136-07-30 17:08:00       379 days 15:19:00                  False   \n",
       "1  2178-03-11 09:43:00        45 days 02:38:00                  False   \n",
       "2  2129-01-05 21:12:00        78 days 00:56:00                  False   \n",
       "3  2147-07-01 10:46:00        15 days 18:51:00                  False   \n",
       "4  2181-04-06 09:43:00        15 days 20:48:00                  False   \n",
       "\n",
       "   n_hosp_30d  n_hosp_90d  n_hosp_365d  n_icu_30d  n_icu_90d  n_icu_365d  \\\n",
       "0           0           0            0          0          0           0   \n",
       "1           0           0            5          0          0           0   \n",
       "2           0           0            0          0          0           0   \n",
       "3           0           2            5          0          0           1   \n",
       "4           0           0            2          0          0           0   \n",
       "\n",
       "   ed_los_hours  time_to_icu_transfer_hours  next_ed_visit_time_diff_days  \\\n",
       "0          9.68                         NaN                        379.64   \n",
       "1          1.93                         NaN                         45.11   \n",
       "2          0.25                         NaN                         78.04   \n",
       "3          6.08                         NaN                         15.79   \n",
       "4         26.28                         NaN                         15.87   \n",
       "\n",
       "   triage_temperature  triage_heartrate  triage_resprate  triage_o2sat  \\\n",
       "0           37.166667              93.0             16.0         100.0   \n",
       "1           36.666667              76.0             20.0          95.0   \n",
       "2           37.222222             125.0             22.0          99.0   \n",
       "3           37.166667             110.0             22.0          92.0   \n",
       "4           37.111111              90.0             14.0          99.0   \n",
       "\n",
       "   triage_sbp  triage_dbp  triage_pain  ...  cci_HIV eci_CHF  eci_Arrhythmia  \\\n",
       "0       160.0        66.0     4.167576  ...        0       0               0   \n",
       "1       165.0        95.0     4.167576  ...        0       0               0   \n",
       "2       156.0        96.0     7.000000  ...        0       0               0   \n",
       "3       122.0        89.0     7.000000  ...        1       0               1   \n",
       "4       125.0        68.0     3.000000  ...        0       1               0   \n",
       "\n",
       "   eci_Valvular  eci_PHTN  eci_PVD  eci_HTN1  eci_HTN2  eci_Paralysis  \\\n",
       "0             0         0        0         0         1              0   \n",
       "1             0         0        0         1         1              0   \n",
       "2             0         0        0         0         0              0   \n",
       "3             1         1        0         1         1              0   \n",
       "4             0         0        0         1         0              0   \n",
       "\n",
       "   eci_NeuroOther  eci_Pulmonary  eci_DM1  eci_DM2  eci_Hypothyroid  \\\n",
       "0               0              0        0        0                0   \n",
       "1               1              0        1        1                0   \n",
       "2               0              0        0        0                0   \n",
       "3               0              1        0        0                0   \n",
       "4               1              1        1        1                0   \n",
       "\n",
       "   eci_Renal  eci_Liver  eci_PUD  eci_HIV  eci_Lymphoma  eci_Tumor2  \\\n",
       "0          0          0        0        0             0           0   \n",
       "1          0          0        0        0             0           0   \n",
       "2          0          0        0        0             0           0   \n",
       "3          1          1        0        1             0           0   \n",
       "4          1          0        0        0             0           0   \n",
       "\n",
       "   eci_Tumor1  eci_Rheumatic  eci_Coagulopathy  eci_Obesity  eci_WeightLoss  \\\n",
       "0           0              0                 0            0               0   \n",
       "1           0              0                 0            0               0   \n",
       "2           0              0                 0            0               0   \n",
       "3           0              0                 0            0               0   \n",
       "4           0              0                 1            1               0   \n",
       "\n",
       "   eci_FluidsLytes  eci_BloodLoss  eci_Anemia  eci_Alcohol  eci_Drugs  \\\n",
       "0                0              0           0            0          0   \n",
       "1                1              0           0            0          0   \n",
       "2                0              0           0            0          0   \n",
       "3                1              0           0            1          1   \n",
       "4                1              0           1            0          0   \n",
       "\n",
       "   eci_Psychoses  eci_Depression  ed_temperature_last  ed_heartrate_last  \\\n",
       "0              0               0            36.760621          78.220568   \n",
       "1              0               0            36.777778          75.000000   \n",
       "2              0               0            36.833333          95.000000   \n",
       "3              0               0            36.777778         106.000000   \n",
       "4              0               0            36.666667          74.000000   \n",
       "\n",
       "   ed_resprate_last  ed_o2sat_last  ed_sbp_last  ed_dbp_last  ed_pain_last  \\\n",
       "0         17.260731      98.141378   127.427849    73.556876      2.127651   \n",
       "1         18.000000      97.000000   133.000000    80.000000      2.127651   \n",
       "2         18.000000     100.000000   143.000000    82.000000      7.000000   \n",
       "3         20.000000      92.000000    96.000000    75.000000      0.000000   \n",
       "4         18.000000      98.000000   100.000000    59.000000      0.000000   \n",
       "\n",
       "   n_med  n_medrecon  triage_MAP  score_CART  score_REMS  score_NEWS  \\\n",
       "0    5.0         2.0   97.333333           4           3           1   \n",
       "1    2.0         3.0  118.333333           9           8           1   \n",
       "2    1.0         1.0  116.000000          12           4           4   \n",
       "3    7.0        10.0  100.000000          16           7           5   \n",
       "4    6.0        13.0   87.000000           9           6           0   \n",
       "\n",
       "   score_NEWS2  score_MEWS  score_SERP2d  score_SERP7d  score_SERP30d  \n",
       "0            1           1            16            21             16  \n",
       "1            0           1            28            33             29  \n",
       "2            4           4            18            20             17  \n",
       "3            3           3            36            36             31  \n",
       "4            0           0            32            36             31  \n",
       "\n",
       "[5 rows x 128 columns]"
      ]
     },
     "execution_count": 21,
     "metadata": {},
     "output_type": "execute_result"
    }
   ],
   "source": [
    "pd.set_option('display.max_columns', 100) \n",
    "df_train.head()"
   ]
  },
  {
   "cell_type": "code",
   "execution_count": 22,
   "metadata": {},
   "outputs": [],
   "source": [
    "#revise time range + function name"
   ]
  },
  {
   "cell_type": "markdown",
   "metadata": {},
   "source": [
    "### 1. task-specific filter: exclude ED death cases for train and test"
   ]
  },
  {
   "cell_type": "code",
   "execution_count": 23,
   "metadata": {},
   "outputs": [],
   "source": [
    "df_train = df_train[df_train['ed_death'] == False]\n",
    "df_test = df_test[df_test['ed_death'] == False]"
   ]
  },
  {
   "cell_type": "markdown",
   "metadata": {},
   "source": [
    "### 2. Variable Selection"
   ]
  },
  {
   "cell_type": "code",
   "execution_count": 24,
   "metadata": {},
   "outputs": [],
   "source": [
    "variable = [\"age\", \"gender\", \n",
    "            \n",
    "            \"n_ed_30d\", \"n_ed_90d\", \"n_ed_365d\", \"n_hosp_30d\", \"n_hosp_90d\", \n",
    "            \"n_hosp_365d\", \"n_icu_30d\", \"n_icu_90d\", \"n_icu_365d\", \n",
    "            \n",
    "            \"triage_temperature\", \"triage_heartrate\", \"triage_resprate\", \n",
    "            \"triage_o2sat\", \"triage_sbp\", \"triage_dbp\", \"triage_pain\", \"triage_acuity\",\n",
    "            \n",
    "            \"chiefcom_chest_pain\", \"chiefcom_abdominal_pain\", \"chiefcom_headache\",\n",
    "            \"chiefcom_shortness_of_breath\", \"chiefcom_back_pain\", \"chiefcom_cough\", \n",
    "            \"chiefcom_nausea_vomiting\", \"chiefcom_fever_chills\", \"chiefcom_syncope\", \n",
    "            \"chiefcom_dizziness\", \n",
    "            \n",
    "            \"cci_MI\", \"cci_CHF\", \"cci_PVD\", \"cci_Stroke\", \"cci_Dementia\", \n",
    "            \"cci_Pulmonary\", \"cci_Rheumatic\", \"cci_PUD\", \"cci_Liver1\", \"cci_DM1\", \n",
    "            \"cci_DM2\", \"cci_Paralysis\", \"cci_Renal\", \"cci_Cancer1\", \"cci_Liver2\", \n",
    "            \"cci_Cancer2\", \"cci_HIV\", \n",
    "            \n",
    "            \"eci_Arrhythmia\", \"eci_Valvular\", \"eci_PHTN\",  \"eci_HTN1\", \"eci_HTN2\", \n",
    "            \"eci_NeuroOther\", \"eci_Hypothyroid\", \"eci_Lymphoma\", \"eci_Coagulopathy\", \n",
    "            \"eci_Obesity\", \"eci_WeightLoss\", \"eci_FluidsLytes\", \"eci_BloodLoss\",\n",
    "            \"eci_Anemia\", \"eci_Alcohol\", \"eci_Drugs\",\"eci_Psychoses\", \"eci_Depression\"]\n",
    "\n",
    "outcome = \"outcome_critical\""
   ]
  },
  {
   "cell_type": "code",
   "execution_count": 25,
   "metadata": {},
   "outputs": [],
   "source": [
    "X_train = df_train[variable].copy()\n",
    "y_train = df_train[outcome].copy()\n",
    "X_test = df_test[variable].copy()\n",
    "y_test = df_test[outcome].copy()"
   ]
  },
  {
   "cell_type": "code",
   "execution_count": 26,
   "metadata": {},
   "outputs": [
    {
     "data": {
      "text/html": [
       "<div>\n",
       "<style scoped>\n",
       "    .dataframe tbody tr th:only-of-type {\n",
       "        vertical-align: middle;\n",
       "    }\n",
       "\n",
       "    .dataframe tbody tr th {\n",
       "        vertical-align: top;\n",
       "    }\n",
       "\n",
       "    .dataframe thead th {\n",
       "        text-align: right;\n",
       "    }\n",
       "</style>\n",
       "<table border=\"1\" class=\"dataframe\">\n",
       "  <thead>\n",
       "    <tr style=\"text-align: right;\">\n",
       "      <th></th>\n",
       "      <th>age</th>\n",
       "      <th>gender</th>\n",
       "      <th>n_ed_30d</th>\n",
       "      <th>n_ed_90d</th>\n",
       "      <th>n_ed_365d</th>\n",
       "      <th>n_hosp_30d</th>\n",
       "      <th>n_hosp_90d</th>\n",
       "      <th>n_hosp_365d</th>\n",
       "      <th>n_icu_30d</th>\n",
       "      <th>n_icu_90d</th>\n",
       "      <th>n_icu_365d</th>\n",
       "      <th>triage_temperature</th>\n",
       "      <th>triage_heartrate</th>\n",
       "      <th>triage_resprate</th>\n",
       "      <th>triage_o2sat</th>\n",
       "      <th>triage_sbp</th>\n",
       "      <th>triage_dbp</th>\n",
       "      <th>triage_pain</th>\n",
       "      <th>triage_acuity</th>\n",
       "      <th>chiefcom_chest_pain</th>\n",
       "      <th>chiefcom_abdominal_pain</th>\n",
       "      <th>chiefcom_headache</th>\n",
       "      <th>chiefcom_shortness_of_breath</th>\n",
       "      <th>chiefcom_back_pain</th>\n",
       "      <th>chiefcom_cough</th>\n",
       "      <th>chiefcom_nausea_vomiting</th>\n",
       "      <th>chiefcom_fever_chills</th>\n",
       "      <th>chiefcom_syncope</th>\n",
       "      <th>chiefcom_dizziness</th>\n",
       "      <th>cci_MI</th>\n",
       "      <th>cci_CHF</th>\n",
       "      <th>cci_PVD</th>\n",
       "      <th>cci_Stroke</th>\n",
       "      <th>cci_Dementia</th>\n",
       "      <th>cci_Pulmonary</th>\n",
       "      <th>cci_Rheumatic</th>\n",
       "      <th>cci_PUD</th>\n",
       "      <th>cci_Liver1</th>\n",
       "      <th>cci_DM1</th>\n",
       "      <th>cci_DM2</th>\n",
       "      <th>cci_Paralysis</th>\n",
       "      <th>cci_Renal</th>\n",
       "      <th>cci_Cancer1</th>\n",
       "      <th>cci_Liver2</th>\n",
       "      <th>cci_Cancer2</th>\n",
       "      <th>cci_HIV</th>\n",
       "      <th>eci_Arrhythmia</th>\n",
       "      <th>eci_Valvular</th>\n",
       "      <th>eci_PHTN</th>\n",
       "      <th>eci_HTN1</th>\n",
       "      <th>eci_HTN2</th>\n",
       "      <th>eci_NeuroOther</th>\n",
       "      <th>eci_Hypothyroid</th>\n",
       "      <th>eci_Lymphoma</th>\n",
       "      <th>eci_Coagulopathy</th>\n",
       "      <th>eci_Obesity</th>\n",
       "      <th>eci_WeightLoss</th>\n",
       "      <th>eci_FluidsLytes</th>\n",
       "      <th>eci_BloodLoss</th>\n",
       "      <th>eci_Anemia</th>\n",
       "      <th>eci_Alcohol</th>\n",
       "      <th>eci_Drugs</th>\n",
       "      <th>eci_Psychoses</th>\n",
       "      <th>eci_Depression</th>\n",
       "    </tr>\n",
       "  </thead>\n",
       "  <tbody>\n",
       "    <tr>\n",
       "      <th>0</th>\n",
       "      <td>int64</td>\n",
       "      <td>object</td>\n",
       "      <td>int64</td>\n",
       "      <td>int64</td>\n",
       "      <td>int64</td>\n",
       "      <td>int64</td>\n",
       "      <td>int64</td>\n",
       "      <td>int64</td>\n",
       "      <td>int64</td>\n",
       "      <td>int64</td>\n",
       "      <td>int64</td>\n",
       "      <td>float64</td>\n",
       "      <td>float64</td>\n",
       "      <td>float64</td>\n",
       "      <td>float64</td>\n",
       "      <td>float64</td>\n",
       "      <td>float64</td>\n",
       "      <td>float64</td>\n",
       "      <td>float64</td>\n",
       "      <td>bool</td>\n",
       "      <td>bool</td>\n",
       "      <td>bool</td>\n",
       "      <td>bool</td>\n",
       "      <td>bool</td>\n",
       "      <td>bool</td>\n",
       "      <td>bool</td>\n",
       "      <td>bool</td>\n",
       "      <td>bool</td>\n",
       "      <td>bool</td>\n",
       "      <td>int64</td>\n",
       "      <td>int64</td>\n",
       "      <td>int64</td>\n",
       "      <td>int64</td>\n",
       "      <td>int64</td>\n",
       "      <td>int64</td>\n",
       "      <td>int64</td>\n",
       "      <td>int64</td>\n",
       "      <td>int64</td>\n",
       "      <td>int64</td>\n",
       "      <td>int64</td>\n",
       "      <td>int64</td>\n",
       "      <td>int64</td>\n",
       "      <td>int64</td>\n",
       "      <td>int64</td>\n",
       "      <td>int64</td>\n",
       "      <td>int64</td>\n",
       "      <td>int64</td>\n",
       "      <td>int64</td>\n",
       "      <td>int64</td>\n",
       "      <td>int64</td>\n",
       "      <td>int64</td>\n",
       "      <td>int64</td>\n",
       "      <td>int64</td>\n",
       "      <td>int64</td>\n",
       "      <td>int64</td>\n",
       "      <td>int64</td>\n",
       "      <td>int64</td>\n",
       "      <td>int64</td>\n",
       "      <td>int64</td>\n",
       "      <td>int64</td>\n",
       "      <td>int64</td>\n",
       "      <td>int64</td>\n",
       "      <td>int64</td>\n",
       "      <td>int64</td>\n",
       "    </tr>\n",
       "  </tbody>\n",
       "</table>\n",
       "</div>"
      ],
      "text/plain": [
       "     age  gender n_ed_30d n_ed_90d n_ed_365d n_hosp_30d n_hosp_90d  \\\n",
       "0  int64  object    int64    int64     int64      int64      int64   \n",
       "\n",
       "  n_hosp_365d n_icu_30d n_icu_90d n_icu_365d triage_temperature  \\\n",
       "0       int64     int64     int64      int64            float64   \n",
       "\n",
       "  triage_heartrate triage_resprate triage_o2sat triage_sbp triage_dbp  \\\n",
       "0          float64         float64      float64    float64    float64   \n",
       "\n",
       "  triage_pain triage_acuity chiefcom_chest_pain chiefcom_abdominal_pain  \\\n",
       "0     float64       float64                bool                    bool   \n",
       "\n",
       "  chiefcom_headache chiefcom_shortness_of_breath chiefcom_back_pain  \\\n",
       "0              bool                         bool               bool   \n",
       "\n",
       "  chiefcom_cough chiefcom_nausea_vomiting chiefcom_fever_chills  \\\n",
       "0           bool                     bool                  bool   \n",
       "\n",
       "  chiefcom_syncope chiefcom_dizziness cci_MI cci_CHF cci_PVD cci_Stroke  \\\n",
       "0             bool               bool  int64   int64   int64      int64   \n",
       "\n",
       "  cci_Dementia cci_Pulmonary cci_Rheumatic cci_PUD cci_Liver1 cci_DM1 cci_DM2  \\\n",
       "0        int64         int64         int64   int64      int64   int64   int64   \n",
       "\n",
       "  cci_Paralysis cci_Renal cci_Cancer1 cci_Liver2 cci_Cancer2 cci_HIV  \\\n",
       "0         int64     int64       int64      int64       int64   int64   \n",
       "\n",
       "  eci_Arrhythmia eci_Valvular eci_PHTN eci_HTN1 eci_HTN2 eci_NeuroOther  \\\n",
       "0          int64        int64    int64    int64    int64          int64   \n",
       "\n",
       "  eci_Hypothyroid eci_Lymphoma eci_Coagulopathy eci_Obesity eci_WeightLoss  \\\n",
       "0           int64        int64            int64       int64          int64   \n",
       "\n",
       "  eci_FluidsLytes eci_BloodLoss eci_Anemia eci_Alcohol eci_Drugs  \\\n",
       "0           int64         int64      int64       int64     int64   \n",
       "\n",
       "  eci_Psychoses eci_Depression  \n",
       "0         int64          int64  "
      ]
     },
     "execution_count": 26,
     "metadata": {},
     "output_type": "execute_result"
    }
   ],
   "source": [
    "X_train.dtypes.to_frame().T"
   ]
  },
  {
   "cell_type": "code",
   "execution_count": 27,
   "metadata": {},
   "outputs": [],
   "source": [
    "encoder = LabelEncoder()\n",
    "X_train['gender'] = encoder.fit_transform(X_train['gender'])\n",
    "X_test['gender'] = encoder.transform(X_test['gender'])"
   ]
  },
  {
   "cell_type": "code",
   "execution_count": 28,
   "metadata": {},
   "outputs": [
    {
     "name": "stdout",
     "output_type": "stream",
     "text": [
      "class ratio\n",
      "positive : negative = 0.07053365376014503 : 1\n"
     ]
    }
   ],
   "source": [
    "print('class ratio')\n",
    "print('positive : negative =', y_train.sum()/(~y_train).sum(), ': 1')"
   ]
  },
  {
   "cell_type": "markdown",
   "metadata": {},
   "source": [
    "### 3.  Modeling script"
   ]
  },
  {
   "cell_type": "code",
   "execution_count": 29,
   "metadata": {},
   "outputs": [],
   "source": [
    "# Containers for all results\n",
    "result_list = []"
   ]
  },
  {
   "cell_type": "code",
   "execution_count": 30,
   "metadata": {},
   "outputs": [
    {
     "name": "stdout",
     "output_type": "stream",
     "text": [
      "Logistic Regression:\n"
     ]
    },
    {
     "name": "stderr",
     "output_type": "stream",
     "text": [
      "/home/jun/virtualenvs/env/lib/python3.8/site-packages/sklearn/linear_model/_logistic.py:763: ConvergenceWarning: lbfgs failed to converge (status=1):\n",
      "STOP: TOTAL NO. of ITERATIONS REACHED LIMIT.\n",
      "\n",
      "Increase the number of iterations (max_iter) or scale the data as shown in:\n",
      "    https://scikit-learn.org/stable/modules/preprocessing.html\n",
      "Please also refer to the documentation for alternative solver options:\n",
      "    https://scikit-learn.org/stable/modules/linear_model.html#logistic-regression\n",
      "  n_iter_i = _check_optimize_result(\n"
     ]
    },
    {
     "name": "stdout",
     "output_type": "stream",
     "text": [
      "Training time: 5.964929819107056 seconds\n",
      "AUC: 0.844728597513773\n",
      "AP(AUPRC): 0.31846220162093547\n",
      "Sensitivity: 0.7859311740890689\n",
      "Specificity: 0.7292919171676686\n",
      "Score thresold: 0.058781732026283055\n"
     ]
    },
    {
     "name": "stderr",
     "output_type": "stream",
     "text": [
      "No handles with labels found to put in legend.\n"
     ]
    },
    {
     "data": {
      "image/png": "[encoded data removed]",
      "text/plain": [
       "<Figure size 432x288 with 1 Axes>"
      ]
     },
     "metadata": {
      "needs_background": "light"
     },
     "output_type": "display_data"
    },
    {
     "data": {
      "image/png": "[encoded data removed]",
      "text/plain": [
       "<Figure size 432x288 with 1 Axes>"
      ]
     },
     "metadata": {
      "needs_background": "light"
     },
     "output_type": "display_data"
    }
   ],
   "source": [
    "print(\"Logistic Regression:\")\n",
    "from sklearn.linear_model import LogisticRegression\n",
    "logreg=LogisticRegression()\n",
    "start = time.time()\n",
    "logreg.fit(X_train,y_train)\n",
    "runtime = time.time()-start\n",
    "print('Training time:', runtime, 'seconds')\n",
    "probs = logreg.predict_proba(X_test)\n",
    "result = PlotROCCurve(probs[:,1],y_test)\n",
    "\n",
    "results = [\"LR\"]\n",
    "results.extend(result)\n",
    "results.append(runtime)\n",
    "result_list.append(results)\n",
    "\n"
   ]
  },
  {
   "cell_type": "code",
   "execution_count": 31,
   "metadata": {},
   "outputs": [
    {
     "name": "stdout",
     "output_type": "stream",
     "text": [
      "MLP:\n",
      "Training time: 711.0269622802734 seconds\n",
      "AUC: 0.886624791498684\n",
      "AP(AUPRC): 0.40904758355519616\n",
      "Sensitivity: 0.8152834008097166\n",
      "Specificity: 0.8015316346979674\n",
      "Score thresold: 0.06821413653934191\n"
     ]
    },
    {
     "name": "stderr",
     "output_type": "stream",
     "text": [
      "No handles with labels found to put in legend.\n"
     ]
    },
    {
     "data": {
      "image/png": "[encoded data removed]",
      "text/plain": [
       "<Figure size 432x288 with 1 Axes>"
      ]
     },
     "metadata": {
      "needs_background": "light"
     },
     "output_type": "display_data"
    },
    {
     "data": {
      "image/png": "[encoded data removed]",
      "text/plain": [
       "<Figure size 432x288 with 1 Axes>"
      ]
     },
     "metadata": {
      "needs_background": "light"
     },
     "output_type": "display_data"
    }
   ],
   "source": [
    "print(\"MLP:\")\n",
    "from sklearn.neural_network import MLPClassifier\n",
    "mlp = MLPClassifier()\n",
    "start = time.time()\n",
    "mlp.fit(X_train,y_train)\n",
    "runtime = time.time()-start\n",
    "print('Training time:', runtime, 'seconds')\n",
    "probs = mlp.predict_proba(X_test)\n",
    "result = PlotROCCurve(probs[:,1],y_test)\n",
    "\n",
    "results = [\"MLP\"]\n",
    "results.extend(result)\n",
    "results.append(runtime)\n",
    "result_list.append(results)\n"
   ]
  },
  {
   "cell_type": "code",
   "execution_count": 32,
   "metadata": {},
   "outputs": [
    {
     "name": "stdout",
     "output_type": "stream",
     "text": [
      "RandomForest:\n",
      "Training time: 58.979466676712036 seconds\n",
      "AUC: 0.8856493008992087\n",
      "AP(AUPRC): 0.41983609115225384\n",
      "Sensitivity: 0.8073549257759784\n",
      "Specificity: 0.8086291630880809\n",
      "Score thresold: 0.08152446230901375\n"
     ]
    },
    {
     "name": "stderr",
     "output_type": "stream",
     "text": [
      "No handles with labels found to put in legend.\n"
     ]
    },
    {
     "data": {
      "image/png": "[encoded data removed]",
      "text/plain": [
       "<Figure size 432x288 with 1 Axes>"
      ]
     },
     "metadata": {
      "needs_background": "light"
     },
     "output_type": "display_data"
    },
    {
     "data": {
      "image/png": "[encoded data removed]",
      "text/plain": [
       "<Figure size 432x288 with 1 Axes>"
      ]
     },
     "metadata": {
      "needs_background": "light"
     },
     "output_type": "display_data"
    },
    {
     "name": "stdout",
     "output_type": "stream",
     "text": [
      "[0.1016132  0.01436934 0.00640979 0.01020071 0.01910898 0.0062614\n",
      " 0.00982402 0.01670882 0.00328795 0.00637774 0.01164235 0.0759727\n",
      " 0.09254575 0.05510171 0.06622985 0.09583725 0.08177721 0.04537456\n",
      " 0.08487792 0.00564516 0.00607638 0.00368913 0.0014948  0.00215964\n",
      " 0.00226419 0.00276289 0.00450693 0.00323777 0.00284212 0.00506386\n",
      " 0.00555667 0.0049009  0.00497213 0.00282021 0.00725396 0.00269819\n",
      " 0.00266921 0.0046514  0.00719626 0.00471767 0.00240214 0.00489452\n",
      " 0.00536206 0.00282567 0.00378696 0.00105264 0.00692726 0.0046459\n",
      " 0.00436143 0.00473219 0.00872772 0.00590441 0.00547505 0.00165402\n",
      " 0.00528146 0.00549544 0.00450648 0.00690601 0.00218177 0.00434304\n",
      " 0.00474502 0.00371032 0.00252798 0.00684978]\n"
     ]
    }
   ],
   "source": [
    "print(\"RandomForest:\")\n",
    "from sklearn.ensemble import RandomForestClassifier\n",
    "rf= RandomForestClassifier()\n",
    "start = time.time()\n",
    "rf.fit(X_train,y_train)\n",
    "runtime = time.time()-start\n",
    "print('Training time:', runtime, 'seconds')\n",
    "probs = rf.predict_proba(X_test)\n",
    "result = PlotROCCurve(probs[:,1],y_test)\n",
    "importances = rf.feature_importances_\n",
    "print(importances)\n",
    "\n",
    "results = [\"RF\"]\n",
    "results.extend(result)\n",
    "results.append(runtime)\n",
    "result_list.append(results)"
   ]
  },
  {
   "cell_type": "code",
   "execution_count": 33,
   "metadata": {},
   "outputs": [
    {
     "name": "stdout",
     "output_type": "stream",
     "text": [
      "GradientBoosting:\n",
      "Training time: 68.71127223968506 seconds\n",
      "AUC: 0.8936031966896327\n",
      "AP(AUPRC): 0.43713527537888847\n",
      "Sensitivity: 0.8242240215924427\n",
      "Specificity: 0.8042275026242962\n",
      "Score thresold: 0.07080459175735267\n"
     ]
    },
    {
     "name": "stderr",
     "output_type": "stream",
     "text": [
      "No handles with labels found to put in legend.\n"
     ]
    },
    {
     "data": {
      "image/png": "[encoded data removed]",
      "text/plain": [
       "<Figure size 432x288 with 1 Axes>"
      ]
     },
     "metadata": {
      "needs_background": "light"
     },
     "output_type": "display_data"
    },
    {
     "data": {
      "image/png": "[encoded data removed]",
      "text/plain": [
       "<Figure size 432x288 with 1 Axes>"
      ]
     },
     "metadata": {
      "needs_background": "light"
     },
     "output_type": "display_data"
    }
   ],
   "source": [
    "print(\"GradientBoosting:\")\n",
    "from sklearn.ensemble import GradientBoostingClassifier\n",
    "gb = GradientBoostingClassifier()\n",
    "start = time.time()\n",
    "gb.fit(X_train, y_train)\n",
    "runtime = time.time()-start\n",
    "print('Training time:', runtime, 'seconds')\n",
    "probs = gb.predict_proba(X_test)\n",
    "result = PlotROCCurve(probs[:,1],y_test)\n",
    "\n",
    "results = [\"GB\"]\n",
    "results.extend(result)\n",
    "results.append(runtime)\n",
    "result_list.append(results)"
   ]
  },
  {
   "cell_type": "code",
   "execution_count": 34,
   "metadata": {},
   "outputs": [
    {
     "data": {
      "text/plain": [
       "'\\nprint(\"Support Vector Machine:\")\\nfrom sklearn.svm import SVC\\nsvc=SVC()\\nstart = time.time()\\nsvc.fit(X_train,y_train)\\nruntime = time.time()-start\\nprint(\\'Training time:\\', runtime, \\'seconds\\')\\nprobs = svc.predict_proba(X_test)\\nresult = PlotROCCurve(probs[:,1],y_test, ci=confidence_interval)\\n\\nresults = [\"SVM\"]\\nresults.extend(result)\\nresults.append(runtime)\\nresult_list.append(results)\\n'"
      ]
     },
     "execution_count": 34,
     "metadata": {},
     "output_type": "execute_result"
    }
   ],
   "source": [
    "# Temporal skip\n",
    "'''\n",
    "print(\"Support Vector Machine:\")\n",
    "from sklearn.svm import SVC\n",
    "svc=SVC()\n",
    "start = time.time()\n",
    "svc.fit(X_train,y_train)\n",
    "runtime = time.time()-start\n",
    "print('Training time:', runtime, 'seconds')\n",
    "probs = svc.predict_proba(X_test)\n",
    "result = PlotROCCurve(probs[:,1],y_test, ci=confidence_interval)\n",
    "\n",
    "results = [\"SVM\"]\n",
    "results.extend(result)\n",
    "results.append(runtime)\n",
    "result_list.append(results)\n",
    "'''"
   ]
  },
  {
   "cell_type": "code",
   "execution_count": 35,
   "metadata": {},
   "outputs": [],
   "source": [
    "def get_score_performance(s):\n",
    "    print(s)\n",
    "    score = np.array(df_test[s])\n",
    "    result = PlotROCCurve(score,y_test, ci=confidence_interval)\n",
    "    runtime = 0\n",
    "    results = [s]\n",
    "    results.extend(result)\n",
    "    results.append(runtime)\n",
    "    result_list.append(results)\n"
   ]
  },
  {
   "cell_type": "code",
   "execution_count": 36,
   "metadata": {},
   "outputs": [
    {
     "name": "stdout",
     "output_type": "stream",
     "text": [
      "esi\n",
      "AUC: 0.789784020478139\n",
      "AP(AUPRC): 0.1944936375006208\n",
      "Sensitivity: 0.8959176788124157\n",
      "Specificity: 0.6333142475427045\n",
      "Score thresold: -2.6248987751080204\n"
     ]
    },
    {
     "name": "stderr",
     "output_type": "stream",
     "text": [
      "No handles with labels found to put in legend.\n"
     ]
    },
    {
     "data": {
      "image/png": "[encoded data removed]",
      "text/plain": [
       "<Figure size 432x288 with 1 Axes>"
      ]
     },
     "metadata": {
      "needs_background": "light"
     },
     "output_type": "display_data"
    },
    {
     "data": {
      "image/png": "[encoded data removed]",
      "text/plain": [
       "<Figure size 432x288 with 1 Axes>"
      ]
     },
     "metadata": {
      "needs_background": "light"
     },
     "output_type": "display_data"
    }
   ],
   "source": [
    "df_test[\"esi\"] = -df_test[\"triage_acuity\"]\n",
    "get_score_performance(\"esi\")"
   ]
  },
  {
   "cell_type": "code",
   "execution_count": 37,
   "metadata": {
    "scrolled": true
   },
   "outputs": [
    {
     "name": "stdout",
     "output_type": "stream",
     "text": [
      "score_NEWS\n",
      "AUC: 0.6002591746052351\n",
      "AP(AUPRC): 0.1525796637565012\n",
      "Sensitivity: 0.4144736842105263\n",
      "Specificity: 0.7993129115373605\n",
      "Score thresold: 2\n"
     ]
    },
    {
     "name": "stderr",
     "output_type": "stream",
     "text": [
      "No handles with labels found to put in legend.\n"
     ]
    },
    {
     "data": {
      "image/png": "[encoded data removed]",
      "text/plain": [
       "<Figure size 432x288 with 1 Axes>"
      ]
     },
     "metadata": {
      "needs_background": "light"
     },
     "output_type": "display_data"
    },
    {
     "data": {
      "image/png": "[encoded data removed]",
      "text/plain": [
       "<Figure size 432x288 with 1 Axes>"
      ]
     },
     "metadata": {
      "needs_background": "light"
     },
     "output_type": "display_data"
    }
   ],
   "source": [
    "get_score_performance(\"score_NEWS\")"
   ]
  },
  {
   "cell_type": "code",
   "execution_count": 38,
   "metadata": {},
   "outputs": [
    {
     "name": "stdout",
     "output_type": "stream",
     "text": [
      "score_NEWS2\n",
      "AUC: 0.587080282037631\n",
      "AP(AUPRC): 0.13968412809478523\n",
      "Sensitivity: 0.37449392712550605\n",
      "Specificity: 0.8263789483729364\n",
      "Score thresold: 2\n"
     ]
    },
    {
     "name": "stderr",
     "output_type": "stream",
     "text": [
      "No handles with labels found to put in legend.\n"
     ]
    },
    {
     "data": {
      "image/png": "[encoded data removed]",
      "text/plain": [
       "<Figure size 432x288 with 1 Axes>"
      ]
     },
     "metadata": {
      "needs_background": "light"
     },
     "output_type": "display_data"
    },
    {
     "data": {
      "image/png": "[encoded data removed]",
      "text/plain": [
       "<Figure size 432x288 with 1 Axes>"
      ]
     },
     "metadata": {
      "needs_background": "light"
     },
     "output_type": "display_data"
    }
   ],
   "source": [
    "get_score_performance(\"score_NEWS2\")"
   ]
  },
  {
   "cell_type": "code",
   "execution_count": 39,
   "metadata": {},
   "outputs": [
    {
     "name": "stdout",
     "output_type": "stream",
     "text": [
      "score_REMS\n",
      "AUC: 0.6638998005167845\n",
      "AP(AUPRC): 0.11202249052255793\n",
      "Sensitivity: 0.645748987854251\n",
      "Specificity: 0.6163517511212901\n",
      "Score thresold: 5\n"
     ]
    },
    {
     "name": "stderr",
     "output_type": "stream",
     "text": [
      "No handles with labels found to put in legend.\n"
     ]
    },
    {
     "data": {
      "image/png": "[encoded data removed]",
      "text/plain": [
       "<Figure size 432x288 with 1 Axes>"
      ]
     },
     "metadata": {
      "needs_background": "light"
     },
     "output_type": "display_data"
    },
    {
     "data": {
      "image/png": "[encoded data removed]",
      "text/plain": [
       "<Figure size 432x288 with 1 Axes>"
      ]
     },
     "metadata": {
      "needs_background": "light"
     },
     "output_type": "display_data"
    }
   ],
   "source": [
    "get_score_performance(\"score_REMS\")"
   ]
  },
  {
   "cell_type": "code",
   "execution_count": 40,
   "metadata": {},
   "outputs": [
    {
     "name": "stdout",
     "output_type": "stream",
     "text": [
      "score_MEWS\n",
      "AUC: 0.6056137210559542\n",
      "AP(AUPRC): 0.11437508107058239\n",
      "Sensitivity: 0.40468960863697706\n",
      "Specificity: 0.7761356045424181\n",
      "Score thresold: 2\n"
     ]
    },
    {
     "name": "stderr",
     "output_type": "stream",
     "text": [
      "No handles with labels found to put in legend.\n"
     ]
    },
    {
     "data": {
      "image/png": "[encoded data removed]",
      "text/plain": [
       "<Figure size 432x288 with 1 Axes>"
      ]
     },
     "metadata": {
      "needs_background": "light"
     },
     "output_type": "display_data"
    },
    {
     "data": {
      "image/png": "[encoded data removed]",
      "text/plain": [
       "<Figure size 432x288 with 1 Axes>"
      ]
     },
     "metadata": {
      "needs_background": "light"
     },
     "output_type": "display_data"
    }
   ],
   "source": [
    "get_score_performance(\"score_MEWS\")"
   ]
  },
  {
   "cell_type": "code",
   "execution_count": 41,
   "metadata": {},
   "outputs": [
    {
     "name": "stdout",
     "output_type": "stream",
     "text": [
      "score_CART\n",
      "AUC: 0.6923679410907155\n",
      "AP(AUPRC): 0.15759081132763783\n",
      "Sensitivity: 0.5588731443994602\n",
      "Specificity: 0.7325603588128637\n",
      "Score thresold: 6\n"
     ]
    },
    {
     "name": "stderr",
     "output_type": "stream",
     "text": [
      "No handles with labels found to put in legend.\n"
     ]
    },
    {
     "data": {
      "image/png": "[encoded data removed]",
      "text/plain": [
       "<Figure size 432x288 with 1 Axes>"
      ]
     },
     "metadata": {
      "needs_background": "light"
     },
     "output_type": "display_data"
    },
    {
     "data": {
      "image/png": "[encoded data removed]",
      "text/plain": [
       "<Figure size 432x288 with 1 Axes>"
      ]
     },
     "metadata": {
      "needs_background": "light"
     },
     "output_type": "display_data"
    }
   ],
   "source": [
    "get_score_performance(\"score_CART\")"
   ]
  },
  {
   "cell_type": "code",
   "execution_count": null,
   "metadata": {},
   "outputs": [],
   "source": []
  },
  {
   "cell_type": "code",
   "execution_count": null,
   "metadata": {},
   "outputs": [],
   "source": []
  },
  {
   "cell_type": "markdown",
   "metadata": {},
   "source": [
    "### 4. Performance output"
   ]
  },
  {
   "cell_type": "code",
   "execution_count": 42,
   "metadata": {},
   "outputs": [
    {
     "data": {
      "text/html": [
       "<div>\n",
       "<style scoped>\n",
       "    .dataframe tbody tr th:only-of-type {\n",
       "        vertical-align: middle;\n",
       "    }\n",
       "\n",
       "    .dataframe tbody tr th {\n",
       "        vertical-align: top;\n",
       "    }\n",
       "\n",
       "    .dataframe thead th {\n",
       "        text-align: right;\n",
       "    }\n",
       "</style>\n",
       "<table border=\"1\" class=\"dataframe\">\n",
       "  <thead>\n",
       "    <tr style=\"text-align: right;\">\n",
       "      <th></th>\n",
       "      <th>Model</th>\n",
       "      <th>roc_auc</th>\n",
       "      <th>average_precision</th>\n",
       "      <th>sensitivity</th>\n",
       "      <th>specificity</th>\n",
       "      <th>threshold</th>\n",
       "      <th>average_precision</th>\n",
       "      <th>lower_auroc</th>\n",
       "      <th>upper_auroc</th>\n",
       "      <th>lower_ap</th>\n",
       "      <th>upper_ap</th>\n",
       "      <th>lower_sensitivity</th>\n",
       "      <th>upper_sensitivity</th>\n",
       "      <th>lower_specificity</th>\n",
       "      <th>upper_specificity</th>\n",
       "      <th>runtime</th>\n",
       "    </tr>\n",
       "  </thead>\n",
       "  <tbody>\n",
       "    <tr>\n",
       "      <th>0</th>\n",
       "      <td>LR</td>\n",
       "      <td>0.844729</td>\n",
       "      <td>0.318462</td>\n",
       "      <td>0.785931</td>\n",
       "      <td>0.729292</td>\n",
       "      <td>0.058782</td>\n",
       "      <td>0.318462</td>\n",
       "      <td>0.844691</td>\n",
       "      <td>0.844985</td>\n",
       "      <td>0.318665</td>\n",
       "      <td>0.319452</td>\n",
       "      <td>0.770010</td>\n",
       "      <td>0.772244</td>\n",
       "      <td>0.741538</td>\n",
       "      <td>0.742889</td>\n",
       "      <td>5.964930</td>\n",
       "    </tr>\n",
       "    <tr>\n",
       "      <th>1</th>\n",
       "      <td>MLP</td>\n",
       "      <td>0.886625</td>\n",
       "      <td>0.409048</td>\n",
       "      <td>0.815283</td>\n",
       "      <td>0.801532</td>\n",
       "      <td>0.068214</td>\n",
       "      <td>0.409048</td>\n",
       "      <td>0.886518</td>\n",
       "      <td>0.886774</td>\n",
       "      <td>0.409213</td>\n",
       "      <td>0.410045</td>\n",
       "      <td>0.819026</td>\n",
       "      <td>0.819750</td>\n",
       "      <td>0.799187</td>\n",
       "      <td>0.799940</td>\n",
       "      <td>711.026962</td>\n",
       "    </tr>\n",
       "    <tr>\n",
       "      <th>2</th>\n",
       "      <td>RF</td>\n",
       "      <td>0.885649</td>\n",
       "      <td>0.419836</td>\n",
       "      <td>0.807355</td>\n",
       "      <td>0.808629</td>\n",
       "      <td>0.081524</td>\n",
       "      <td>0.419836</td>\n",
       "      <td>0.885525</td>\n",
       "      <td>0.885819</td>\n",
       "      <td>0.419740</td>\n",
       "      <td>0.420734</td>\n",
       "      <td>0.807565</td>\n",
       "      <td>0.808185</td>\n",
       "      <td>0.808494</td>\n",
       "      <td>0.808670</td>\n",
       "      <td>58.979467</td>\n",
       "    </tr>\n",
       "    <tr>\n",
       "      <th>3</th>\n",
       "      <td>GB</td>\n",
       "      <td>0.893603</td>\n",
       "      <td>0.437135</td>\n",
       "      <td>0.824224</td>\n",
       "      <td>0.804228</td>\n",
       "      <td>0.070805</td>\n",
       "      <td>0.437135</td>\n",
       "      <td>0.893609</td>\n",
       "      <td>0.893842</td>\n",
       "      <td>0.436852</td>\n",
       "      <td>0.437833</td>\n",
       "      <td>0.821290</td>\n",
       "      <td>0.822329</td>\n",
       "      <td>0.806366</td>\n",
       "      <td>0.807850</td>\n",
       "      <td>68.711272</td>\n",
       "    </tr>\n",
       "    <tr>\n",
       "      <th>4</th>\n",
       "      <td>esi</td>\n",
       "      <td>0.789784</td>\n",
       "      <td>0.194494</td>\n",
       "      <td>0.895918</td>\n",
       "      <td>0.633314</td>\n",
       "      <td>-2.624899</td>\n",
       "      <td>0.194494</td>\n",
       "      <td>0.789667</td>\n",
       "      <td>0.790042</td>\n",
       "      <td>0.194101</td>\n",
       "      <td>0.194601</td>\n",
       "      <td>0.895857</td>\n",
       "      <td>0.896285</td>\n",
       "      <td>0.633064</td>\n",
       "      <td>0.633264</td>\n",
       "      <td>0.000000</td>\n",
       "    </tr>\n",
       "  </tbody>\n",
       "</table>\n",
       "</div>"
      ],
      "text/plain": [
       "  Model   roc_auc  average_precision  sensitivity  specificity  threshold  \\\n",
       "0    LR  0.844729           0.318462     0.785931     0.729292   0.058782   \n",
       "1   MLP  0.886625           0.409048     0.815283     0.801532   0.068214   \n",
       "2    RF  0.885649           0.419836     0.807355     0.808629   0.081524   \n",
       "3    GB  0.893603           0.437135     0.824224     0.804228   0.070805   \n",
       "4   esi  0.789784           0.194494     0.895918     0.633314  -2.624899   \n",
       "\n",
       "   average_precision  lower_auroc  upper_auroc  lower_ap  upper_ap  \\\n",
       "0           0.318462     0.844691     0.844985  0.318665  0.319452   \n",
       "1           0.409048     0.886518     0.886774  0.409213  0.410045   \n",
       "2           0.419836     0.885525     0.885819  0.419740  0.420734   \n",
       "3           0.437135     0.893609     0.893842  0.436852  0.437833   \n",
       "4           0.194494     0.789667     0.790042  0.194101  0.194601   \n",
       "\n",
       "   lower_sensitivity  upper_sensitivity  lower_specificity  upper_specificity  \\\n",
       "0           0.770010           0.772244           0.741538           0.742889   \n",
       "1           0.819026           0.819750           0.799187           0.799940   \n",
       "2           0.807565           0.808185           0.808494           0.808670   \n",
       "3           0.821290           0.822329           0.806366           0.807850   \n",
       "4           0.895857           0.896285           0.633064           0.633264   \n",
       "\n",
       "      runtime  \n",
       "0    5.964930  \n",
       "1  711.026962  \n",
       "2   58.979467  \n",
       "3   68.711272  \n",
       "4    0.000000  "
      ]
     },
     "execution_count": 42,
     "metadata": {},
     "output_type": "execute_result"
    }
   ],
   "source": [
    "#result_df = pd.read_csv(os.path.join(path, 'result_critical_triage.csv'))\n",
    "result_df = pd.DataFrame(result_list, columns=['Model', 'roc_auc', 'average_precision', 'sensitivity', 'specificity', 'threshold', 'average_precision', 'lower_auroc', 'upper_auroc', 'lower_ap', 'upper_ap', 'lower_sensitivity', 'upper_sensitivity', 'lower_specificity', 'upper_specificity', 'runtime'])\n",
    "result_df.to_csv(os.path.join(path, 'result_critical_triage.csv'), index=False)\n",
    "result_df.head()"
   ]
  },
  {
   "cell_type": "markdown",
   "metadata": {},
   "source": []
  },
  {
   "cell_type": "code",
   "execution_count": 43,
   "metadata": {},
   "outputs": [
    {
     "data": {
      "image/png": "[encoded data removed]",
      "text/plain": [
       "<Figure size 432x288 with 1 Axes>"
      ]
     },
     "metadata": {
      "needs_background": "light"
     },
     "output_type": "display_data"
    }
   ],
   "source": [
    "from helpers import plot_confidence_interval\n",
    "plot_confidence_interval(result_df)"
   ]
  },
  {
   "cell_type": "code",
   "execution_count": 44,
   "metadata": {},
   "outputs": [
    {
     "data": {
      "text/html": [
       "<div>\n",
       "<style scoped>\n",
       "    .dataframe tbody tr th:only-of-type {\n",
       "        vertical-align: middle;\n",
       "    }\n",
       "\n",
       "    .dataframe tbody tr th {\n",
       "        vertical-align: top;\n",
       "    }\n",
       "\n",
       "    .dataframe thead th {\n",
       "        text-align: right;\n",
       "    }\n",
       "</style>\n",
       "<table border=\"1\" class=\"dataframe\">\n",
       "  <thead>\n",
       "    <tr style=\"text-align: right;\">\n",
       "      <th></th>\n",
       "      <th>Variable</th>\n",
       "      <th>Importance</th>\n",
       "    </tr>\n",
       "  </thead>\n",
       "  <tbody>\n",
       "    <tr>\n",
       "      <th>0</th>\n",
       "      <td>age</td>\n",
       "      <td>0.101613</td>\n",
       "    </tr>\n",
       "    <tr>\n",
       "      <th>15</th>\n",
       "      <td>triage_sbp</td>\n",
       "      <td>0.095837</td>\n",
       "    </tr>\n",
       "    <tr>\n",
       "      <th>12</th>\n",
       "      <td>triage_heartrate</td>\n",
       "      <td>0.092546</td>\n",
       "    </tr>\n",
       "    <tr>\n",
       "      <th>18</th>\n",
       "      <td>triage_acuity</td>\n",
       "      <td>0.084878</td>\n",
       "    </tr>\n",
       "    <tr>\n",
       "      <th>16</th>\n",
       "      <td>triage_dbp</td>\n",
       "      <td>0.081777</td>\n",
       "    </tr>\n",
       "    <tr>\n",
       "      <th>...</th>\n",
       "      <td>...</td>\n",
       "      <td>...</td>\n",
       "    </tr>\n",
       "    <tr>\n",
       "      <th>58</th>\n",
       "      <td>eci_BloodLoss</td>\n",
       "      <td>0.002182</td>\n",
       "    </tr>\n",
       "    <tr>\n",
       "      <th>23</th>\n",
       "      <td>chiefcom_back_pain</td>\n",
       "      <td>0.002160</td>\n",
       "    </tr>\n",
       "    <tr>\n",
       "      <th>53</th>\n",
       "      <td>eci_Lymphoma</td>\n",
       "      <td>0.001654</td>\n",
       "    </tr>\n",
       "    <tr>\n",
       "      <th>22</th>\n",
       "      <td>chiefcom_shortness_of_breath</td>\n",
       "      <td>0.001495</td>\n",
       "    </tr>\n",
       "    <tr>\n",
       "      <th>45</th>\n",
       "      <td>cci_HIV</td>\n",
       "      <td>0.001053</td>\n",
       "    </tr>\n",
       "  </tbody>\n",
       "</table>\n",
       "<p>64 rows × 2 columns</p>\n",
       "</div>"
      ],
      "text/plain": [
       "                        Variable  Importance\n",
       "0                            age    0.101613\n",
       "15                    triage_sbp    0.095837\n",
       "12              triage_heartrate    0.092546\n",
       "18                 triage_acuity    0.084878\n",
       "16                    triage_dbp    0.081777\n",
       "..                           ...         ...\n",
       "58                 eci_BloodLoss    0.002182\n",
       "23            chiefcom_back_pain    0.002160\n",
       "53                  eci_Lymphoma    0.001654\n",
       "22  chiefcom_shortness_of_breath    0.001495\n",
       "45                       cci_HIV    0.001053\n",
       "\n",
       "[64 rows x 2 columns]"
      ]
     },
     "execution_count": 44,
     "metadata": {},
     "output_type": "execute_result"
    }
   ],
   "source": [
    "importance_df = pd.DataFrame(zip(variable, importances), columns=['Variable','Importance'])\n",
    "importance_df.to_csv(os.path.join(path, 'importances_critical_triage.csv'))\n",
    "importance_df.sort_values(by='Importance', axis=0,ascending=False)"
   ]
  }
 ],
 "metadata": {
  "interpreter": {
   "hash": "cf9f7c42999d1346969e890247ad220cd768e54a9022ee81cbe62d07cccdebca"
  },
  "kernelspec": {
   "display_name": "Python 3",
   "language": "python",
   "name": "python3"
  },
  "language_info": {
   "codemirror_mode": {
    "name": "ipython",
    "version": 3
   },
   "file_extension": ".py",
   "mimetype": "text/x-python",
   "name": "python",
   "nbconvert_exporter": "python",
   "pygments_lexer": "ipython3",
   "version": "3.8.5"
  }
 },
 "nbformat": 4,
 "nbformat_minor": 4
}
