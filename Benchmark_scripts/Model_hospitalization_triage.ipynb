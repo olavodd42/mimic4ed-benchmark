{
 "cells": [
  {
   "cell_type": "markdown",
   "metadata": {},
   "source": [
    "## Modeling for predicting hospitalization at ED triage"
   ]
  },
  {
   "cell_type": "markdown",
   "metadata": {},
   "source": [
    "Work Flow:\n",
    "1. Task-specific filter\n",
    "2. Variable selection\n",
    "3. Modeling script\n",
    "4. Performance output\n"
   ]
  },
  {
   "cell_type": "markdown",
   "metadata": {},
   "source": [
    "### Load train and test"
   ]
  },
  {
   "cell_type": "code",
   "execution_count": 1,
   "metadata": {},
   "outputs": [],
   "source": [
    "import pandas as pd\n",
    "import numpy as np\n",
    "import os\n",
    "from helpers import PlotROCCurve\n",
    "from sklearn.preprocessing import LabelEncoder\n",
    "import time\n",
    "\n",
    "#path = 'C:/Users/XFE/Documents/mimic4ed-benchmark/data_processed/'\n",
    "#path = '/home/jun/data/MIMIC/mimiciv/1.0/processed'\n",
    "path = '/Users/siqili/Desktop/National University of Singapore/Liu Nan - WP_MIMIC_Benchmark'\n",
    "output_path = '/Users/siqili/Desktop/National University of Singapore/Liu Nan - WP_MIMIC_Benchmark/Figure3/'\n",
    "df_train = pd.read_csv((os.path.join(path, 'train.csv')))\n",
    "df_test = pd.read_csv((os.path.join(path, 'test.csv')))\n",
    "confidence_interval = 95"
   ]
  },
  {
   "cell_type": "code",
   "execution_count": 2,
   "metadata": {},
   "outputs": [
    {
     "data": {
      "text/html": [
       "<div>\n",
       "<style scoped>\n",
       "    .dataframe tbody tr th:only-of-type {\n",
       "        vertical-align: middle;\n",
       "    }\n",
       "\n",
       "    .dataframe tbody tr th {\n",
       "        vertical-align: top;\n",
       "    }\n",
       "\n",
       "    .dataframe thead th {\n",
       "        text-align: right;\n",
       "    }\n",
       "</style>\n",
       "<table border=\"1\" class=\"dataframe\">\n",
       "  <thead>\n",
       "    <tr style=\"text-align: right;\">\n",
       "      <th></th>\n",
       "      <th>index</th>\n",
       "      <th>subject_id</th>\n",
       "      <th>hadm_id</th>\n",
       "      <th>stay_id</th>\n",
       "      <th>intime</th>\n",
       "      <th>outtime</th>\n",
       "      <th>anchor_age</th>\n",
       "      <th>gender</th>\n",
       "      <th>anchor_year</th>\n",
       "      <th>dod</th>\n",
       "      <th>admittime</th>\n",
       "      <th>dischtime</th>\n",
       "      <th>deathtime</th>\n",
       "      <th>ethnicity</th>\n",
       "      <th>edregtime</th>\n",
       "      <th>edouttime</th>\n",
       "      <th>insurance</th>\n",
       "      <th>in_year</th>\n",
       "      <th>age</th>\n",
       "      <th>outcome_inhospital_mortality</th>\n",
       "      <th>ed_death</th>\n",
       "      <th>before_ed_mortality</th>\n",
       "      <th>ed_los</th>\n",
       "      <th>intime_icu</th>\n",
       "      <th>time_to_icu_transfer</th>\n",
       "      <th>outcome_icu_transfer_12h</th>\n",
       "      <th>outcome_hospitalization</th>\n",
       "      <th>outcome_critical</th>\n",
       "      <th>n_ed_30d</th>\n",
       "      <th>n_ed_90d</th>\n",
       "      <th>n_ed_365d</th>\n",
       "      <th>next_ed_visit_time</th>\n",
       "      <th>next_ed_visit_time_diff</th>\n",
       "      <th>outcome_ed_revisit_3d</th>\n",
       "      <th>n_hosp_30d</th>\n",
       "      <th>n_hosp_90d</th>\n",
       "      <th>n_hosp_365d</th>\n",
       "      <th>n_icu_30d</th>\n",
       "      <th>n_icu_90d</th>\n",
       "      <th>n_icu_365d</th>\n",
       "      <th>ed_los_hours</th>\n",
       "      <th>time_to_icu_transfer_hours</th>\n",
       "      <th>next_ed_visit_time_diff_days</th>\n",
       "      <th>triage_temperature</th>\n",
       "      <th>triage_heartrate</th>\n",
       "      <th>triage_resprate</th>\n",
       "      <th>triage_o2sat</th>\n",
       "      <th>triage_sbp</th>\n",
       "      <th>triage_dbp</th>\n",
       "      <th>triage_pain</th>\n",
       "      <th>...</th>\n",
       "      <th>eci_CHF</th>\n",
       "      <th>eci_Arrhythmia</th>\n",
       "      <th>eci_Valvular</th>\n",
       "      <th>eci_PHTN</th>\n",
       "      <th>eci_PVD</th>\n",
       "      <th>eci_HTN1</th>\n",
       "      <th>eci_HTN2</th>\n",
       "      <th>eci_Paralysis</th>\n",
       "      <th>eci_NeuroOther</th>\n",
       "      <th>eci_Pulmonary</th>\n",
       "      <th>eci_DM1</th>\n",
       "      <th>eci_DM2</th>\n",
       "      <th>eci_Hypothyroid</th>\n",
       "      <th>eci_Renal</th>\n",
       "      <th>eci_Liver</th>\n",
       "      <th>eci_PUD</th>\n",
       "      <th>eci_HIV</th>\n",
       "      <th>eci_Lymphoma</th>\n",
       "      <th>eci_Tumor2</th>\n",
       "      <th>eci_Tumor1</th>\n",
       "      <th>eci_Rheumatic</th>\n",
       "      <th>eci_Coagulopathy</th>\n",
       "      <th>eci_Obesity</th>\n",
       "      <th>eci_WeightLoss</th>\n",
       "      <th>eci_FluidsLytes</th>\n",
       "      <th>eci_BloodLoss</th>\n",
       "      <th>eci_Anemia</th>\n",
       "      <th>eci_Alcohol</th>\n",
       "      <th>eci_Drugs</th>\n",
       "      <th>eci_Psychoses</th>\n",
       "      <th>eci_Depression</th>\n",
       "      <th>ed_temperature_last</th>\n",
       "      <th>ed_heartrate_last</th>\n",
       "      <th>ed_resprate_last</th>\n",
       "      <th>ed_o2sat_last</th>\n",
       "      <th>ed_sbp_last</th>\n",
       "      <th>ed_dbp_last</th>\n",
       "      <th>ed_pain_last</th>\n",
       "      <th>n_med</th>\n",
       "      <th>n_medrecon</th>\n",
       "      <th>triage_MAP</th>\n",
       "      <th>score_CCI</th>\n",
       "      <th>score_CART</th>\n",
       "      <th>score_REMS</th>\n",
       "      <th>score_NEWS</th>\n",
       "      <th>score_NEWS2</th>\n",
       "      <th>score_MEWS</th>\n",
       "      <th>score_SERP2d</th>\n",
       "      <th>score_SERP7d</th>\n",
       "      <th>score_SERP30d</th>\n",
       "    </tr>\n",
       "  </thead>\n",
       "  <tbody>\n",
       "    <tr>\n",
       "      <th>0</th>\n",
       "      <td>215414</td>\n",
       "      <td>18566742</td>\n",
       "      <td>27103162.0</td>\n",
       "      <td>38538786</td>\n",
       "      <td>2135-07-16 16:08:00</td>\n",
       "      <td>2135-07-17 01:49:00</td>\n",
       "      <td>58</td>\n",
       "      <td>F</td>\n",
       "      <td>2132</td>\n",
       "      <td>NaN</td>\n",
       "      <td>2135-07-17 00:20:00</td>\n",
       "      <td>2135-07-18 18:20:00</td>\n",
       "      <td>NaN</td>\n",
       "      <td>HISPANIC/LATINO</td>\n",
       "      <td>2135-07-16 16:08:00</td>\n",
       "      <td>2135-07-17 01:49:00</td>\n",
       "      <td>Other</td>\n",
       "      <td>2135</td>\n",
       "      <td>61</td>\n",
       "      <td>False</td>\n",
       "      <td>False</td>\n",
       "      <td>False</td>\n",
       "      <td>0 days 09:41:00</td>\n",
       "      <td>NaN</td>\n",
       "      <td>NaN</td>\n",
       "      <td>False</td>\n",
       "      <td>True</td>\n",
       "      <td>False</td>\n",
       "      <td>0</td>\n",
       "      <td>0</td>\n",
       "      <td>0</td>\n",
       "      <td>2136-07-30 17:08:00</td>\n",
       "      <td>379 days 15:19:00</td>\n",
       "      <td>False</td>\n",
       "      <td>0</td>\n",
       "      <td>0</td>\n",
       "      <td>0</td>\n",
       "      <td>0</td>\n",
       "      <td>0</td>\n",
       "      <td>0</td>\n",
       "      <td>9.68</td>\n",
       "      <td>NaN</td>\n",
       "      <td>379.64</td>\n",
       "      <td>37.166667</td>\n",
       "      <td>93.0</td>\n",
       "      <td>16.0</td>\n",
       "      <td>100.0</td>\n",
       "      <td>160.0</td>\n",
       "      <td>66.0</td>\n",
       "      <td>4.167576</td>\n",
       "      <td>...</td>\n",
       "      <td>0</td>\n",
       "      <td>0</td>\n",
       "      <td>0</td>\n",
       "      <td>0</td>\n",
       "      <td>0</td>\n",
       "      <td>0</td>\n",
       "      <td>1</td>\n",
       "      <td>0</td>\n",
       "      <td>0</td>\n",
       "      <td>0</td>\n",
       "      <td>0</td>\n",
       "      <td>0</td>\n",
       "      <td>0</td>\n",
       "      <td>0</td>\n",
       "      <td>0</td>\n",
       "      <td>0</td>\n",
       "      <td>0</td>\n",
       "      <td>0</td>\n",
       "      <td>0</td>\n",
       "      <td>0</td>\n",
       "      <td>0</td>\n",
       "      <td>0</td>\n",
       "      <td>0</td>\n",
       "      <td>0</td>\n",
       "      <td>0</td>\n",
       "      <td>0</td>\n",
       "      <td>0</td>\n",
       "      <td>0</td>\n",
       "      <td>0</td>\n",
       "      <td>0</td>\n",
       "      <td>0</td>\n",
       "      <td>36.760621</td>\n",
       "      <td>78.220568</td>\n",
       "      <td>17.260731</td>\n",
       "      <td>98.141378</td>\n",
       "      <td>127.427849</td>\n",
       "      <td>73.556876</td>\n",
       "      <td>2.127651</td>\n",
       "      <td>5.0</td>\n",
       "      <td>2.0</td>\n",
       "      <td>97.333333</td>\n",
       "      <td>2</td>\n",
       "      <td>4</td>\n",
       "      <td>3</td>\n",
       "      <td>1</td>\n",
       "      <td>1</td>\n",
       "      <td>1</td>\n",
       "      <td>16</td>\n",
       "      <td>21</td>\n",
       "      <td>16</td>\n",
       "    </tr>\n",
       "    <tr>\n",
       "      <th>1</th>\n",
       "      <td>205452</td>\n",
       "      <td>16853729</td>\n",
       "      <td>NaN</td>\n",
       "      <td>30043998</td>\n",
       "      <td>2178-01-25 05:09:00</td>\n",
       "      <td>2178-01-25 07:05:00</td>\n",
       "      <td>91</td>\n",
       "      <td>F</td>\n",
       "      <td>2169</td>\n",
       "      <td>NaN</td>\n",
       "      <td>NaN</td>\n",
       "      <td>NaN</td>\n",
       "      <td>NaN</td>\n",
       "      <td>OTHER</td>\n",
       "      <td>NaN</td>\n",
       "      <td>NaN</td>\n",
       "      <td>NaN</td>\n",
       "      <td>2178</td>\n",
       "      <td>100</td>\n",
       "      <td>False</td>\n",
       "      <td>False</td>\n",
       "      <td>False</td>\n",
       "      <td>0 days 01:56:00</td>\n",
       "      <td>NaN</td>\n",
       "      <td>NaN</td>\n",
       "      <td>False</td>\n",
       "      <td>False</td>\n",
       "      <td>False</td>\n",
       "      <td>0</td>\n",
       "      <td>1</td>\n",
       "      <td>7</td>\n",
       "      <td>2178-03-11 09:43:00</td>\n",
       "      <td>45 days 02:38:00</td>\n",
       "      <td>False</td>\n",
       "      <td>0</td>\n",
       "      <td>0</td>\n",
       "      <td>5</td>\n",
       "      <td>0</td>\n",
       "      <td>0</td>\n",
       "      <td>0</td>\n",
       "      <td>1.93</td>\n",
       "      <td>NaN</td>\n",
       "      <td>45.11</td>\n",
       "      <td>36.666667</td>\n",
       "      <td>76.0</td>\n",
       "      <td>20.0</td>\n",
       "      <td>95.0</td>\n",
       "      <td>165.0</td>\n",
       "      <td>95.0</td>\n",
       "      <td>4.167576</td>\n",
       "      <td>...</td>\n",
       "      <td>0</td>\n",
       "      <td>0</td>\n",
       "      <td>0</td>\n",
       "      <td>0</td>\n",
       "      <td>0</td>\n",
       "      <td>1</td>\n",
       "      <td>1</td>\n",
       "      <td>0</td>\n",
       "      <td>1</td>\n",
       "      <td>0</td>\n",
       "      <td>1</td>\n",
       "      <td>1</td>\n",
       "      <td>0</td>\n",
       "      <td>0</td>\n",
       "      <td>0</td>\n",
       "      <td>0</td>\n",
       "      <td>0</td>\n",
       "      <td>0</td>\n",
       "      <td>0</td>\n",
       "      <td>0</td>\n",
       "      <td>0</td>\n",
       "      <td>0</td>\n",
       "      <td>0</td>\n",
       "      <td>0</td>\n",
       "      <td>1</td>\n",
       "      <td>0</td>\n",
       "      <td>0</td>\n",
       "      <td>0</td>\n",
       "      <td>0</td>\n",
       "      <td>0</td>\n",
       "      <td>0</td>\n",
       "      <td>36.777778</td>\n",
       "      <td>75.000000</td>\n",
       "      <td>18.000000</td>\n",
       "      <td>97.000000</td>\n",
       "      <td>133.000000</td>\n",
       "      <td>80.000000</td>\n",
       "      <td>2.127651</td>\n",
       "      <td>2.0</td>\n",
       "      <td>3.0</td>\n",
       "      <td>118.333333</td>\n",
       "      <td>7</td>\n",
       "      <td>9</td>\n",
       "      <td>8</td>\n",
       "      <td>1</td>\n",
       "      <td>0</td>\n",
       "      <td>1</td>\n",
       "      <td>28</td>\n",
       "      <td>33</td>\n",
       "      <td>29</td>\n",
       "    </tr>\n",
       "    <tr>\n",
       "      <th>2</th>\n",
       "      <td>200705</td>\n",
       "      <td>16026698</td>\n",
       "      <td>NaN</td>\n",
       "      <td>39475313</td>\n",
       "      <td>2128-10-19 20:01:00</td>\n",
       "      <td>2128-10-19 20:16:00</td>\n",
       "      <td>23</td>\n",
       "      <td>M</td>\n",
       "      <td>2128</td>\n",
       "      <td>NaN</td>\n",
       "      <td>NaN</td>\n",
       "      <td>NaN</td>\n",
       "      <td>NaN</td>\n",
       "      <td>NaN</td>\n",
       "      <td>NaN</td>\n",
       "      <td>NaN</td>\n",
       "      <td>NaN</td>\n",
       "      <td>2128</td>\n",
       "      <td>23</td>\n",
       "      <td>False</td>\n",
       "      <td>False</td>\n",
       "      <td>False</td>\n",
       "      <td>0 days 00:15:00</td>\n",
       "      <td>NaN</td>\n",
       "      <td>NaN</td>\n",
       "      <td>False</td>\n",
       "      <td>False</td>\n",
       "      <td>False</td>\n",
       "      <td>0</td>\n",
       "      <td>0</td>\n",
       "      <td>1</td>\n",
       "      <td>2129-01-05 21:12:00</td>\n",
       "      <td>78 days 00:56:00</td>\n",
       "      <td>False</td>\n",
       "      <td>0</td>\n",
       "      <td>0</td>\n",
       "      <td>0</td>\n",
       "      <td>0</td>\n",
       "      <td>0</td>\n",
       "      <td>0</td>\n",
       "      <td>0.25</td>\n",
       "      <td>NaN</td>\n",
       "      <td>78.04</td>\n",
       "      <td>37.222222</td>\n",
       "      <td>125.0</td>\n",
       "      <td>22.0</td>\n",
       "      <td>99.0</td>\n",
       "      <td>156.0</td>\n",
       "      <td>96.0</td>\n",
       "      <td>7.000000</td>\n",
       "      <td>...</td>\n",
       "      <td>0</td>\n",
       "      <td>0</td>\n",
       "      <td>0</td>\n",
       "      <td>0</td>\n",
       "      <td>0</td>\n",
       "      <td>0</td>\n",
       "      <td>0</td>\n",
       "      <td>0</td>\n",
       "      <td>0</td>\n",
       "      <td>0</td>\n",
       "      <td>0</td>\n",
       "      <td>0</td>\n",
       "      <td>0</td>\n",
       "      <td>0</td>\n",
       "      <td>0</td>\n",
       "      <td>0</td>\n",
       "      <td>0</td>\n",
       "      <td>0</td>\n",
       "      <td>0</td>\n",
       "      <td>0</td>\n",
       "      <td>0</td>\n",
       "      <td>0</td>\n",
       "      <td>0</td>\n",
       "      <td>0</td>\n",
       "      <td>0</td>\n",
       "      <td>0</td>\n",
       "      <td>0</td>\n",
       "      <td>0</td>\n",
       "      <td>0</td>\n",
       "      <td>0</td>\n",
       "      <td>0</td>\n",
       "      <td>36.833333</td>\n",
       "      <td>95.000000</td>\n",
       "      <td>18.000000</td>\n",
       "      <td>100.000000</td>\n",
       "      <td>143.000000</td>\n",
       "      <td>82.000000</td>\n",
       "      <td>7.000000</td>\n",
       "      <td>1.0</td>\n",
       "      <td>1.0</td>\n",
       "      <td>116.000000</td>\n",
       "      <td>0</td>\n",
       "      <td>12</td>\n",
       "      <td>4</td>\n",
       "      <td>4</td>\n",
       "      <td>4</td>\n",
       "      <td>4</td>\n",
       "      <td>18</td>\n",
       "      <td>20</td>\n",
       "      <td>17</td>\n",
       "    </tr>\n",
       "    <tr>\n",
       "      <th>3</th>\n",
       "      <td>87038</td>\n",
       "      <td>15398519</td>\n",
       "      <td>25237915.0</td>\n",
       "      <td>35495155</td>\n",
       "      <td>2147-06-15 09:50:00</td>\n",
       "      <td>2147-06-15 15:55:00</td>\n",
       "      <td>57</td>\n",
       "      <td>M</td>\n",
       "      <td>2136</td>\n",
       "      <td>NaN</td>\n",
       "      <td>2147-06-15 14:00:00</td>\n",
       "      <td>2147-06-16 16:45:00</td>\n",
       "      <td>NaN</td>\n",
       "      <td>BLACK/AFRICAN AMERICAN</td>\n",
       "      <td>2147-06-15 09:50:00</td>\n",
       "      <td>2147-06-15 15:55:00</td>\n",
       "      <td>Medicare</td>\n",
       "      <td>2147</td>\n",
       "      <td>68</td>\n",
       "      <td>False</td>\n",
       "      <td>False</td>\n",
       "      <td>False</td>\n",
       "      <td>0 days 06:05:00</td>\n",
       "      <td>NaN</td>\n",
       "      <td>NaN</td>\n",
       "      <td>False</td>\n",
       "      <td>True</td>\n",
       "      <td>False</td>\n",
       "      <td>0</td>\n",
       "      <td>2</td>\n",
       "      <td>5</td>\n",
       "      <td>2147-07-01 10:46:00</td>\n",
       "      <td>15 days 18:51:00</td>\n",
       "      <td>False</td>\n",
       "      <td>0</td>\n",
       "      <td>2</td>\n",
       "      <td>5</td>\n",
       "      <td>0</td>\n",
       "      <td>0</td>\n",
       "      <td>1</td>\n",
       "      <td>6.08</td>\n",
       "      <td>NaN</td>\n",
       "      <td>15.79</td>\n",
       "      <td>37.166667</td>\n",
       "      <td>110.0</td>\n",
       "      <td>22.0</td>\n",
       "      <td>92.0</td>\n",
       "      <td>122.0</td>\n",
       "      <td>89.0</td>\n",
       "      <td>7.000000</td>\n",
       "      <td>...</td>\n",
       "      <td>0</td>\n",
       "      <td>1</td>\n",
       "      <td>1</td>\n",
       "      <td>1</td>\n",
       "      <td>0</td>\n",
       "      <td>1</td>\n",
       "      <td>1</td>\n",
       "      <td>0</td>\n",
       "      <td>0</td>\n",
       "      <td>1</td>\n",
       "      <td>0</td>\n",
       "      <td>0</td>\n",
       "      <td>0</td>\n",
       "      <td>1</td>\n",
       "      <td>1</td>\n",
       "      <td>0</td>\n",
       "      <td>1</td>\n",
       "      <td>0</td>\n",
       "      <td>0</td>\n",
       "      <td>0</td>\n",
       "      <td>0</td>\n",
       "      <td>0</td>\n",
       "      <td>0</td>\n",
       "      <td>0</td>\n",
       "      <td>1</td>\n",
       "      <td>0</td>\n",
       "      <td>0</td>\n",
       "      <td>1</td>\n",
       "      <td>1</td>\n",
       "      <td>0</td>\n",
       "      <td>0</td>\n",
       "      <td>36.777778</td>\n",
       "      <td>106.000000</td>\n",
       "      <td>20.000000</td>\n",
       "      <td>92.000000</td>\n",
       "      <td>96.000000</td>\n",
       "      <td>75.000000</td>\n",
       "      <td>0.000000</td>\n",
       "      <td>7.0</td>\n",
       "      <td>10.0</td>\n",
       "      <td>100.000000</td>\n",
       "      <td>12</td>\n",
       "      <td>16</td>\n",
       "      <td>7</td>\n",
       "      <td>5</td>\n",
       "      <td>3</td>\n",
       "      <td>3</td>\n",
       "      <td>36</td>\n",
       "      <td>36</td>\n",
       "      <td>31</td>\n",
       "    </tr>\n",
       "    <tr>\n",
       "      <th>4</th>\n",
       "      <td>373626</td>\n",
       "      <td>16787687</td>\n",
       "      <td>23674090.0</td>\n",
       "      <td>31087259</td>\n",
       "      <td>2181-03-20 10:38:00</td>\n",
       "      <td>2181-03-21 12:55:00</td>\n",
       "      <td>87</td>\n",
       "      <td>F</td>\n",
       "      <td>2176</td>\n",
       "      <td>NaN</td>\n",
       "      <td>2181-03-20 22:01:00</td>\n",
       "      <td>2181-03-21 12:55:00</td>\n",
       "      <td>NaN</td>\n",
       "      <td>BLACK/AFRICAN AMERICAN</td>\n",
       "      <td>2181-03-20 10:38:00</td>\n",
       "      <td>2181-03-21 12:55:00</td>\n",
       "      <td>Medicare</td>\n",
       "      <td>2181</td>\n",
       "      <td>92</td>\n",
       "      <td>False</td>\n",
       "      <td>False</td>\n",
       "      <td>False</td>\n",
       "      <td>1 days 02:17:00</td>\n",
       "      <td>NaN</td>\n",
       "      <td>NaN</td>\n",
       "      <td>False</td>\n",
       "      <td>True</td>\n",
       "      <td>False</td>\n",
       "      <td>0</td>\n",
       "      <td>0</td>\n",
       "      <td>2</td>\n",
       "      <td>2181-04-06 09:43:00</td>\n",
       "      <td>15 days 20:48:00</td>\n",
       "      <td>False</td>\n",
       "      <td>0</td>\n",
       "      <td>0</td>\n",
       "      <td>2</td>\n",
       "      <td>0</td>\n",
       "      <td>0</td>\n",
       "      <td>0</td>\n",
       "      <td>26.28</td>\n",
       "      <td>NaN</td>\n",
       "      <td>15.87</td>\n",
       "      <td>37.111111</td>\n",
       "      <td>90.0</td>\n",
       "      <td>14.0</td>\n",
       "      <td>99.0</td>\n",
       "      <td>125.0</td>\n",
       "      <td>68.0</td>\n",
       "      <td>3.000000</td>\n",
       "      <td>...</td>\n",
       "      <td>1</td>\n",
       "      <td>0</td>\n",
       "      <td>0</td>\n",
       "      <td>0</td>\n",
       "      <td>0</td>\n",
       "      <td>1</td>\n",
       "      <td>0</td>\n",
       "      <td>0</td>\n",
       "      <td>1</td>\n",
       "      <td>1</td>\n",
       "      <td>1</td>\n",
       "      <td>1</td>\n",
       "      <td>0</td>\n",
       "      <td>1</td>\n",
       "      <td>0</td>\n",
       "      <td>0</td>\n",
       "      <td>0</td>\n",
       "      <td>0</td>\n",
       "      <td>0</td>\n",
       "      <td>0</td>\n",
       "      <td>0</td>\n",
       "      <td>1</td>\n",
       "      <td>1</td>\n",
       "      <td>0</td>\n",
       "      <td>1</td>\n",
       "      <td>0</td>\n",
       "      <td>1</td>\n",
       "      <td>0</td>\n",
       "      <td>0</td>\n",
       "      <td>0</td>\n",
       "      <td>0</td>\n",
       "      <td>36.666667</td>\n",
       "      <td>74.000000</td>\n",
       "      <td>18.000000</td>\n",
       "      <td>98.000000</td>\n",
       "      <td>100.000000</td>\n",
       "      <td>59.000000</td>\n",
       "      <td>0.000000</td>\n",
       "      <td>6.0</td>\n",
       "      <td>13.0</td>\n",
       "      <td>87.000000</td>\n",
       "      <td>11</td>\n",
       "      <td>9</td>\n",
       "      <td>6</td>\n",
       "      <td>0</td>\n",
       "      <td>0</td>\n",
       "      <td>0</td>\n",
       "      <td>32</td>\n",
       "      <td>36</td>\n",
       "      <td>31</td>\n",
       "    </tr>\n",
       "  </tbody>\n",
       "</table>\n",
       "<p>5 rows × 129 columns</p>\n",
       "</div>"
      ],
      "text/plain": [
       "    index  subject_id     hadm_id   stay_id               intime  \\\n",
       "0  215414    18566742  27103162.0  38538786  2135-07-16 16:08:00   \n",
       "1  205452    16853729         NaN  30043998  2178-01-25 05:09:00   \n",
       "2  200705    16026698         NaN  39475313  2128-10-19 20:01:00   \n",
       "3   87038    15398519  25237915.0  35495155  2147-06-15 09:50:00   \n",
       "4  373626    16787687  23674090.0  31087259  2181-03-20 10:38:00   \n",
       "\n",
       "               outtime  anchor_age gender  anchor_year  dod  \\\n",
       "0  2135-07-17 01:49:00          58      F         2132  NaN   \n",
       "1  2178-01-25 07:05:00          91      F         2169  NaN   \n",
       "2  2128-10-19 20:16:00          23      M         2128  NaN   \n",
       "3  2147-06-15 15:55:00          57      M         2136  NaN   \n",
       "4  2181-03-21 12:55:00          87      F         2176  NaN   \n",
       "\n",
       "             admittime            dischtime deathtime               ethnicity  \\\n",
       "0  2135-07-17 00:20:00  2135-07-18 18:20:00       NaN         HISPANIC/LATINO   \n",
       "1                  NaN                  NaN       NaN                   OTHER   \n",
       "2                  NaN                  NaN       NaN                     NaN   \n",
       "3  2147-06-15 14:00:00  2147-06-16 16:45:00       NaN  BLACK/AFRICAN AMERICAN   \n",
       "4  2181-03-20 22:01:00  2181-03-21 12:55:00       NaN  BLACK/AFRICAN AMERICAN   \n",
       "\n",
       "             edregtime            edouttime insurance  in_year  age  \\\n",
       "0  2135-07-16 16:08:00  2135-07-17 01:49:00     Other     2135   61   \n",
       "1                  NaN                  NaN       NaN     2178  100   \n",
       "2                  NaN                  NaN       NaN     2128   23   \n",
       "3  2147-06-15 09:50:00  2147-06-15 15:55:00  Medicare     2147   68   \n",
       "4  2181-03-20 10:38:00  2181-03-21 12:55:00  Medicare     2181   92   \n",
       "\n",
       "   outcome_inhospital_mortality  ed_death  before_ed_mortality  \\\n",
       "0                         False     False                False   \n",
       "1                         False     False                False   \n",
       "2                         False     False                False   \n",
       "3                         False     False                False   \n",
       "4                         False     False                False   \n",
       "\n",
       "            ed_los intime_icu time_to_icu_transfer  outcome_icu_transfer_12h  \\\n",
       "0  0 days 09:41:00        NaN                  NaN                     False   \n",
       "1  0 days 01:56:00        NaN                  NaN                     False   \n",
       "2  0 days 00:15:00        NaN                  NaN                     False   \n",
       "3  0 days 06:05:00        NaN                  NaN                     False   \n",
       "4  1 days 02:17:00        NaN                  NaN                     False   \n",
       "\n",
       "   outcome_hospitalization  outcome_critical  n_ed_30d  n_ed_90d  n_ed_365d  \\\n",
       "0                     True             False         0         0          0   \n",
       "1                    False             False         0         1          7   \n",
       "2                    False             False         0         0          1   \n",
       "3                     True             False         0         2          5   \n",
       "4                     True             False         0         0          2   \n",
       "\n",
       "    next_ed_visit_time next_ed_visit_time_diff  outcome_ed_revisit_3d  \\\n",
       "0  2136-07-30 17:08:00       379 days 15:19:00                  False   \n",
       "1  2178-03-11 09:43:00        45 days 02:38:00                  False   \n",
       "2  2129-01-05 21:12:00        78 days 00:56:00                  False   \n",
       "3  2147-07-01 10:46:00        15 days 18:51:00                  False   \n",
       "4  2181-04-06 09:43:00        15 days 20:48:00                  False   \n",
       "\n",
       "   n_hosp_30d  n_hosp_90d  n_hosp_365d  n_icu_30d  n_icu_90d  n_icu_365d  \\\n",
       "0           0           0            0          0          0           0   \n",
       "1           0           0            5          0          0           0   \n",
       "2           0           0            0          0          0           0   \n",
       "3           0           2            5          0          0           1   \n",
       "4           0           0            2          0          0           0   \n",
       "\n",
       "   ed_los_hours  time_to_icu_transfer_hours  next_ed_visit_time_diff_days  \\\n",
       "0          9.68                         NaN                        379.64   \n",
       "1          1.93                         NaN                         45.11   \n",
       "2          0.25                         NaN                         78.04   \n",
       "3          6.08                         NaN                         15.79   \n",
       "4         26.28                         NaN                         15.87   \n",
       "\n",
       "   triage_temperature  triage_heartrate  triage_resprate  triage_o2sat  \\\n",
       "0           37.166667              93.0             16.0         100.0   \n",
       "1           36.666667              76.0             20.0          95.0   \n",
       "2           37.222222             125.0             22.0          99.0   \n",
       "3           37.166667             110.0             22.0          92.0   \n",
       "4           37.111111              90.0             14.0          99.0   \n",
       "\n",
       "   triage_sbp  triage_dbp  triage_pain  ...  eci_CHF eci_Arrhythmia  \\\n",
       "0       160.0        66.0     4.167576  ...        0              0   \n",
       "1       165.0        95.0     4.167576  ...        0              0   \n",
       "2       156.0        96.0     7.000000  ...        0              0   \n",
       "3       122.0        89.0     7.000000  ...        0              1   \n",
       "4       125.0        68.0     3.000000  ...        1              0   \n",
       "\n",
       "   eci_Valvular  eci_PHTN  eci_PVD  eci_HTN1  eci_HTN2  eci_Paralysis  \\\n",
       "0             0         0        0         0         1              0   \n",
       "1             0         0        0         1         1              0   \n",
       "2             0         0        0         0         0              0   \n",
       "3             1         1        0         1         1              0   \n",
       "4             0         0        0         1         0              0   \n",
       "\n",
       "   eci_NeuroOther  eci_Pulmonary  eci_DM1  eci_DM2  eci_Hypothyroid  \\\n",
       "0               0              0        0        0                0   \n",
       "1               1              0        1        1                0   \n",
       "2               0              0        0        0                0   \n",
       "3               0              1        0        0                0   \n",
       "4               1              1        1        1                0   \n",
       "\n",
       "   eci_Renal  eci_Liver  eci_PUD  eci_HIV  eci_Lymphoma  eci_Tumor2  \\\n",
       "0          0          0        0        0             0           0   \n",
       "1          0          0        0        0             0           0   \n",
       "2          0          0        0        0             0           0   \n",
       "3          1          1        0        1             0           0   \n",
       "4          1          0        0        0             0           0   \n",
       "\n",
       "   eci_Tumor1  eci_Rheumatic  eci_Coagulopathy  eci_Obesity  eci_WeightLoss  \\\n",
       "0           0              0                 0            0               0   \n",
       "1           0              0                 0            0               0   \n",
       "2           0              0                 0            0               0   \n",
       "3           0              0                 0            0               0   \n",
       "4           0              0                 1            1               0   \n",
       "\n",
       "   eci_FluidsLytes  eci_BloodLoss  eci_Anemia  eci_Alcohol  eci_Drugs  \\\n",
       "0                0              0           0            0          0   \n",
       "1                1              0           0            0          0   \n",
       "2                0              0           0            0          0   \n",
       "3                1              0           0            1          1   \n",
       "4                1              0           1            0          0   \n",
       "\n",
       "   eci_Psychoses  eci_Depression  ed_temperature_last  ed_heartrate_last  \\\n",
       "0              0               0            36.760621          78.220568   \n",
       "1              0               0            36.777778          75.000000   \n",
       "2              0               0            36.833333          95.000000   \n",
       "3              0               0            36.777778         106.000000   \n",
       "4              0               0            36.666667          74.000000   \n",
       "\n",
       "   ed_resprate_last  ed_o2sat_last  ed_sbp_last  ed_dbp_last  ed_pain_last  \\\n",
       "0         17.260731      98.141378   127.427849    73.556876      2.127651   \n",
       "1         18.000000      97.000000   133.000000    80.000000      2.127651   \n",
       "2         18.000000     100.000000   143.000000    82.000000      7.000000   \n",
       "3         20.000000      92.000000    96.000000    75.000000      0.000000   \n",
       "4         18.000000      98.000000   100.000000    59.000000      0.000000   \n",
       "\n",
       "   n_med  n_medrecon  triage_MAP  score_CCI  score_CART  score_REMS  \\\n",
       "0    5.0         2.0   97.333333          2           4           3   \n",
       "1    2.0         3.0  118.333333          7           9           8   \n",
       "2    1.0         1.0  116.000000          0          12           4   \n",
       "3    7.0        10.0  100.000000         12          16           7   \n",
       "4    6.0        13.0   87.000000         11           9           6   \n",
       "\n",
       "   score_NEWS  score_NEWS2  score_MEWS  score_SERP2d  score_SERP7d  \\\n",
       "0           1            1           1            16            21   \n",
       "1           1            0           1            28            33   \n",
       "2           4            4           4            18            20   \n",
       "3           5            3           3            36            36   \n",
       "4           0            0           0            32            36   \n",
       "\n",
       "   score_SERP30d  \n",
       "0             16  \n",
       "1             29  \n",
       "2             17  \n",
       "3             31  \n",
       "4             31  \n",
       "\n",
       "[5 rows x 129 columns]"
      ]
     },
     "execution_count": 2,
     "metadata": {},
     "output_type": "execute_result"
    }
   ],
   "source": [
    "pd.set_option('display.max_columns', 100) \n",
    "pd.set_option('display.max_rows', 100) \n",
    "df_train.head()"
   ]
  },
  {
   "cell_type": "code",
   "execution_count": 3,
   "metadata": {},
   "outputs": [],
   "source": [
    "#revise time range + function name"
   ]
  },
  {
   "cell_type": "markdown",
   "metadata": {},
   "source": [
    "### 1. task-specific filter: exclude ED death cases for train and test"
   ]
  },
  {
   "cell_type": "code",
   "execution_count": 4,
   "metadata": {},
   "outputs": [],
   "source": [
    "df_train = df_train[df_train['ed_death'] == False]\n",
    "df_test = df_test[df_test['ed_death'] == False]"
   ]
  },
  {
   "cell_type": "markdown",
   "metadata": {},
   "source": [
    "### 2. Variable Selection"
   ]
  },
  {
   "cell_type": "code",
   "execution_count": 5,
   "metadata": {},
   "outputs": [],
   "source": [
    "variable = [\"age\", \"gender\", \n",
    "            \n",
    "            \"n_ed_30d\", \"n_ed_90d\", \"n_ed_365d\", \"n_hosp_30d\", \"n_hosp_90d\", \n",
    "            \"n_hosp_365d\", \"n_icu_30d\", \"n_icu_90d\", \"n_icu_365d\", \n",
    "            \n",
    "            \"triage_temperature\", \"triage_heartrate\", \"triage_resprate\", \n",
    "            \"triage_o2sat\", \"triage_sbp\", \"triage_dbp\", \"triage_pain\", \"triage_acuity\",\n",
    "            \n",
    "            \"chiefcom_chest_pain\", \"chiefcom_abdominal_pain\", \"chiefcom_headache\",\n",
    "            \"chiefcom_shortness_of_breath\", \"chiefcom_back_pain\", \"chiefcom_cough\", \n",
    "            \"chiefcom_nausea_vomiting\", \"chiefcom_fever_chills\", \"chiefcom_syncope\", \n",
    "            \"chiefcom_dizziness\", \n",
    "            \n",
    "            \"cci_MI\", \"cci_CHF\", \"cci_PVD\", \"cci_Stroke\", \"cci_Dementia\", \n",
    "            \"cci_Pulmonary\", \"cci_Rheumatic\", \"cci_PUD\", \"cci_Liver1\", \"cci_DM1\", \n",
    "            \"cci_DM2\", \"cci_Paralysis\", \"cci_Renal\", \"cci_Cancer1\", \"cci_Liver2\", \n",
    "            \"cci_Cancer2\", \"cci_HIV\", \n",
    "            \n",
    "            \"eci_Arrhythmia\", \"eci_Valvular\", \"eci_PHTN\",  \"eci_HTN1\", \"eci_HTN2\", \n",
    "            \"eci_NeuroOther\", \"eci_Hypothyroid\", \"eci_Lymphoma\", \"eci_Coagulopathy\", \n",
    "            \"eci_Obesity\", \"eci_WeightLoss\", \"eci_FluidsLytes\", \"eci_BloodLoss\",\n",
    "            \"eci_Anemia\", \"eci_Alcohol\", \"eci_Drugs\",\"eci_Psychoses\", \"eci_Depression\"]\n",
    "\n",
    "outcome = \"outcome_hospitalization\""
   ]
  },
  {
   "cell_type": "code",
   "execution_count": 6,
   "metadata": {},
   "outputs": [],
   "source": [
    "X_train = df_train[variable].copy()\n",
    "y_train = df_train[outcome].copy()\n",
    "X_test = df_test[variable].copy()\n",
    "y_test = df_test[outcome].copy()"
   ]
  },
  {
   "cell_type": "code",
   "execution_count": 7,
   "metadata": {},
   "outputs": [
    {
     "data": {
      "text/html": [
       "<div>\n",
       "<style scoped>\n",
       "    .dataframe tbody tr th:only-of-type {\n",
       "        vertical-align: middle;\n",
       "    }\n",
       "\n",
       "    .dataframe tbody tr th {\n",
       "        vertical-align: top;\n",
       "    }\n",
       "\n",
       "    .dataframe thead th {\n",
       "        text-align: right;\n",
       "    }\n",
       "</style>\n",
       "<table border=\"1\" class=\"dataframe\">\n",
       "  <thead>\n",
       "    <tr style=\"text-align: right;\">\n",
       "      <th></th>\n",
       "      <th>age</th>\n",
       "      <th>gender</th>\n",
       "      <th>n_ed_30d</th>\n",
       "      <th>n_ed_90d</th>\n",
       "      <th>n_ed_365d</th>\n",
       "      <th>n_hosp_30d</th>\n",
       "      <th>n_hosp_90d</th>\n",
       "      <th>n_hosp_365d</th>\n",
       "      <th>n_icu_30d</th>\n",
       "      <th>n_icu_90d</th>\n",
       "      <th>n_icu_365d</th>\n",
       "      <th>triage_temperature</th>\n",
       "      <th>triage_heartrate</th>\n",
       "      <th>triage_resprate</th>\n",
       "      <th>triage_o2sat</th>\n",
       "      <th>triage_sbp</th>\n",
       "      <th>triage_dbp</th>\n",
       "      <th>triage_pain</th>\n",
       "      <th>triage_acuity</th>\n",
       "      <th>chiefcom_chest_pain</th>\n",
       "      <th>chiefcom_abdominal_pain</th>\n",
       "      <th>chiefcom_headache</th>\n",
       "      <th>chiefcom_shortness_of_breath</th>\n",
       "      <th>chiefcom_back_pain</th>\n",
       "      <th>chiefcom_cough</th>\n",
       "      <th>chiefcom_nausea_vomiting</th>\n",
       "      <th>chiefcom_fever_chills</th>\n",
       "      <th>chiefcom_syncope</th>\n",
       "      <th>chiefcom_dizziness</th>\n",
       "      <th>cci_MI</th>\n",
       "      <th>cci_CHF</th>\n",
       "      <th>cci_PVD</th>\n",
       "      <th>cci_Stroke</th>\n",
       "      <th>cci_Dementia</th>\n",
       "      <th>cci_Pulmonary</th>\n",
       "      <th>cci_Rheumatic</th>\n",
       "      <th>cci_PUD</th>\n",
       "      <th>cci_Liver1</th>\n",
       "      <th>cci_DM1</th>\n",
       "      <th>cci_DM2</th>\n",
       "      <th>cci_Paralysis</th>\n",
       "      <th>cci_Renal</th>\n",
       "      <th>cci_Cancer1</th>\n",
       "      <th>cci_Liver2</th>\n",
       "      <th>cci_Cancer2</th>\n",
       "      <th>cci_HIV</th>\n",
       "      <th>eci_Arrhythmia</th>\n",
       "      <th>eci_Valvular</th>\n",
       "      <th>eci_PHTN</th>\n",
       "      <th>eci_HTN1</th>\n",
       "      <th>eci_HTN2</th>\n",
       "      <th>eci_NeuroOther</th>\n",
       "      <th>eci_Hypothyroid</th>\n",
       "      <th>eci_Lymphoma</th>\n",
       "      <th>eci_Coagulopathy</th>\n",
       "      <th>eci_Obesity</th>\n",
       "      <th>eci_WeightLoss</th>\n",
       "      <th>eci_FluidsLytes</th>\n",
       "      <th>eci_BloodLoss</th>\n",
       "      <th>eci_Anemia</th>\n",
       "      <th>eci_Alcohol</th>\n",
       "      <th>eci_Drugs</th>\n",
       "      <th>eci_Psychoses</th>\n",
       "      <th>eci_Depression</th>\n",
       "    </tr>\n",
       "  </thead>\n",
       "  <tbody>\n",
       "    <tr>\n",
       "      <th>0</th>\n",
       "      <td>int64</td>\n",
       "      <td>object</td>\n",
       "      <td>int64</td>\n",
       "      <td>int64</td>\n",
       "      <td>int64</td>\n",
       "      <td>int64</td>\n",
       "      <td>int64</td>\n",
       "      <td>int64</td>\n",
       "      <td>int64</td>\n",
       "      <td>int64</td>\n",
       "      <td>int64</td>\n",
       "      <td>float64</td>\n",
       "      <td>float64</td>\n",
       "      <td>float64</td>\n",
       "      <td>float64</td>\n",
       "      <td>float64</td>\n",
       "      <td>float64</td>\n",
       "      <td>float64</td>\n",
       "      <td>float64</td>\n",
       "      <td>bool</td>\n",
       "      <td>bool</td>\n",
       "      <td>bool</td>\n",
       "      <td>bool</td>\n",
       "      <td>bool</td>\n",
       "      <td>bool</td>\n",
       "      <td>bool</td>\n",
       "      <td>bool</td>\n",
       "      <td>bool</td>\n",
       "      <td>bool</td>\n",
       "      <td>int64</td>\n",
       "      <td>int64</td>\n",
       "      <td>int64</td>\n",
       "      <td>int64</td>\n",
       "      <td>int64</td>\n",
       "      <td>int64</td>\n",
       "      <td>int64</td>\n",
       "      <td>int64</td>\n",
       "      <td>int64</td>\n",
       "      <td>int64</td>\n",
       "      <td>int64</td>\n",
       "      <td>int64</td>\n",
       "      <td>int64</td>\n",
       "      <td>int64</td>\n",
       "      <td>int64</td>\n",
       "      <td>int64</td>\n",
       "      <td>int64</td>\n",
       "      <td>int64</td>\n",
       "      <td>int64</td>\n",
       "      <td>int64</td>\n",
       "      <td>int64</td>\n",
       "      <td>int64</td>\n",
       "      <td>int64</td>\n",
       "      <td>int64</td>\n",
       "      <td>int64</td>\n",
       "      <td>int64</td>\n",
       "      <td>int64</td>\n",
       "      <td>int64</td>\n",
       "      <td>int64</td>\n",
       "      <td>int64</td>\n",
       "      <td>int64</td>\n",
       "      <td>int64</td>\n",
       "      <td>int64</td>\n",
       "      <td>int64</td>\n",
       "      <td>int64</td>\n",
       "    </tr>\n",
       "  </tbody>\n",
       "</table>\n",
       "</div>"
      ],
      "text/plain": [
       "     age  gender n_ed_30d n_ed_90d n_ed_365d n_hosp_30d n_hosp_90d  \\\n",
       "0  int64  object    int64    int64     int64      int64      int64   \n",
       "\n",
       "  n_hosp_365d n_icu_30d n_icu_90d n_icu_365d triage_temperature  \\\n",
       "0       int64     int64     int64      int64            float64   \n",
       "\n",
       "  triage_heartrate triage_resprate triage_o2sat triage_sbp triage_dbp  \\\n",
       "0          float64         float64      float64    float64    float64   \n",
       "\n",
       "  triage_pain triage_acuity chiefcom_chest_pain chiefcom_abdominal_pain  \\\n",
       "0     float64       float64                bool                    bool   \n",
       "\n",
       "  chiefcom_headache chiefcom_shortness_of_breath chiefcom_back_pain  \\\n",
       "0              bool                         bool               bool   \n",
       "\n",
       "  chiefcom_cough chiefcom_nausea_vomiting chiefcom_fever_chills  \\\n",
       "0           bool                     bool                  bool   \n",
       "\n",
       "  chiefcom_syncope chiefcom_dizziness cci_MI cci_CHF cci_PVD cci_Stroke  \\\n",
       "0             bool               bool  int64   int64   int64      int64   \n",
       "\n",
       "  cci_Dementia cci_Pulmonary cci_Rheumatic cci_PUD cci_Liver1 cci_DM1 cci_DM2  \\\n",
       "0        int64         int64         int64   int64      int64   int64   int64   \n",
       "\n",
       "  cci_Paralysis cci_Renal cci_Cancer1 cci_Liver2 cci_Cancer2 cci_HIV  \\\n",
       "0         int64     int64       int64      int64       int64   int64   \n",
       "\n",
       "  eci_Arrhythmia eci_Valvular eci_PHTN eci_HTN1 eci_HTN2 eci_NeuroOther  \\\n",
       "0          int64        int64    int64    int64    int64          int64   \n",
       "\n",
       "  eci_Hypothyroid eci_Lymphoma eci_Coagulopathy eci_Obesity eci_WeightLoss  \\\n",
       "0           int64        int64            int64       int64          int64   \n",
       "\n",
       "  eci_FluidsLytes eci_BloodLoss eci_Anemia eci_Alcohol eci_Drugs  \\\n",
       "0           int64         int64      int64       int64     int64   \n",
       "\n",
       "  eci_Psychoses eci_Depression  \n",
       "0         int64          int64  "
      ]
     },
     "execution_count": 7,
     "metadata": {},
     "output_type": "execute_result"
    }
   ],
   "source": [
    "X_train.dtypes.to_frame().T"
   ]
  },
  {
   "cell_type": "code",
   "execution_count": 8,
   "metadata": {},
   "outputs": [],
   "source": [
    "encoder = LabelEncoder()\n",
    "X_train['gender'] = encoder.fit_transform(X_train['gender'])\n",
    "X_test['gender'] = encoder.transform(X_test['gender'])"
   ]
  },
  {
   "cell_type": "code",
   "execution_count": 9,
   "metadata": {},
   "outputs": [
    {
     "name": "stdout",
     "output_type": "stream",
     "text": [
      "class ratio\n",
      "positive : negative = 0.9157284785879691 : 1\n"
     ]
    }
   ],
   "source": [
    "print('class ratio')\n",
    "ratio = y_train.sum()/(~y_train).sum()\n",
    "print('positive : negative =', ratio, ': 1')"
   ]
  },
  {
   "cell_type": "markdown",
   "metadata": {},
   "source": [
    "### 3.  Modeling script"
   ]
  },
  {
   "cell_type": "code",
   "execution_count": 10,
   "metadata": {},
   "outputs": [],
   "source": [
    "# Containers for all results\n",
    "result_list = []"
   ]
  },
  {
   "cell_type": "code",
   "execution_count": 11,
   "metadata": {},
   "outputs": [
    {
     "name": "stdout",
     "output_type": "stream",
     "text": [
      "Logistic Regression:\n"
     ]
    },
    {
     "name": "stderr",
     "output_type": "stream",
     "text": [
      "/Library/Python/3.7/site-packages/sklearn/linear_model/_logistic.py:765: ConvergenceWarning: lbfgs failed to converge (status=1):\n",
      "STOP: TOTAL NO. of ITERATIONS REACHED LIMIT.\n",
      "\n",
      "Increase the number of iterations (max_iter) or scale the data as shown in:\n",
      "    https://scikit-learn.org/stable/modules/preprocessing.html\n",
      "Please also refer to the documentation for alternative solver options:\n",
      "    https://scikit-learn.org/stable/modules/linear_model.html#logistic-regression\n",
      "  extra_warning_msg=_LOGISTIC_SOLVER_CONVERGENCE_MSG)\n"
     ]
    },
    {
     "name": "stdout",
     "output_type": "stream",
     "text": [
      "Training time: 6.348400115966797 seconds\n",
      "AUC: 0.8068070768094628\n",
      "AUPRC: 0.7747148396667385\n",
      "Sensitivity: 0.7430914060127544\n",
      "Specificity: 0.7195373900449404\n",
      "Score thresold: 0.45305795151141903\n",
      "2.5 97.5\n"
     ]
    },
    {
     "data": {
      "image/png": "[encoded data removed]",
      "text/plain": [
       "<Figure size 432x288 with 1 Axes>"
      ]
     },
     "metadata": {
      "needs_background": "light"
     },
     "output_type": "display_data"
    },
    {
     "data": {
      "image/png": "[encoded data removed]",
      "text/plain": [
       "<Figure size 432x288 with 1 Axes>"
      ]
     },
     "metadata": {
      "needs_background": "light"
     },
     "output_type": "display_data"
    }
   ],
   "source": [
    "print(\"Logistic Regression:\")\n",
    "from sklearn.linear_model import LogisticRegression\n",
    "logreg=LogisticRegression()\n",
    "start = time.time()\n",
    "logreg.fit(X_train,y_train)\n",
    "runtime = time.time()-start\n",
    "print('Training time:', runtime, 'seconds')\n",
    "probs = logreg.predict_proba(X_test)\n",
    "result = PlotROCCurve(probs[:,1],y_test, ci=confidence_interval)\n",
    "\n",
    "results = [\"LR\"]\n",
    "results.extend(result)\n",
    "results.append(runtime)\n",
    "result_list.append(results)\n",
    "\n"
   ]
  },
  {
   "cell_type": "code",
   "execution_count": 12,
   "metadata": {},
   "outputs": [
    {
     "name": "stdout",
     "output_type": "stream",
     "text": [
      "MLP:\n",
      "Training time: 469.98032093048096 seconds\n",
      "AUC: 0.8216189935140771\n",
      "AUPRC: 0.7974904144191475\n",
      "Sensitivity: 0.7505197505197505\n",
      "Specificity: 0.7316990053459991\n",
      "Score thresold: 0.4966014847967425\n",
      "2.5 97.5\n"
     ]
    },
    {
     "data": {
      "image/png": "[encoded data removed]",
      "text/plain": [
       "<Figure size 432x288 with 1 Axes>"
      ]
     },
     "metadata": {
      "needs_background": "light"
     },
     "output_type": "display_data"
    },
    {
     "data": {
      "image/png": "[encoded data removed]",
      "text/plain": [
       "<Figure size 432x288 with 1 Axes>"
      ]
     },
     "metadata": {
      "needs_background": "light"
     },
     "output_type": "display_data"
    }
   ],
   "source": [
    "print(\"MLP:\")\n",
    "from sklearn.neural_network import MLPClassifier\n",
    "mlp = MLPClassifier()\n",
    "start = time.time()\n",
    "mlp.fit(X_train,y_train)\n",
    "runtime = time.time()-start\n",
    "print('Training time:', runtime, 'seconds')\n",
    "probs = mlp.predict_proba(X_test)\n",
    "result = PlotROCCurve(probs[:,1],y_test, ci=confidence_interval)\n",
    "\n",
    "results = [\"MLP\"]\n",
    "results.extend(result)\n",
    "results.append(runtime)\n",
    "result_list.append(results)\n"
   ]
  },
  {
   "cell_type": "code",
   "execution_count": 13,
   "metadata": {},
   "outputs": [
    {
     "name": "stdout",
     "output_type": "stream",
     "text": [
      "RandomForest:\n",
      "Training time: 127.34177613258362 seconds\n",
      "AUC: 0.8196952056566393\n",
      "AUPRC: 0.7860678925534027\n",
      "Sensitivity: 0.762363054497886\n",
      "Specificity: 0.7277800259845371\n",
      "Score thresold: 0.486\n",
      "2.5 97.5\n"
     ]
    },
    {
     "data": {
      "image/png": "[encoded data removed]",
      "text/plain": [
       "<Figure size 432x288 with 1 Axes>"
      ]
     },
     "metadata": {
      "needs_background": "light"
     },
     "output_type": "display_data"
    },
    {
     "data": {
      "image/png": "[encoded data removed]",
      "text/plain": [
       "<Figure size 432x288 with 1 Axes>"
      ]
     },
     "metadata": {
      "needs_background": "light"
     },
     "output_type": "display_data"
    },
    {
     "name": "stdout",
     "output_type": "stream",
     "text": [
      "[0.12497684 0.01297476 0.00767213 0.01139664 0.02209541 0.007385\n",
      " 0.01538877 0.0238015  0.00075527 0.00153215 0.00516098 0.07758084\n",
      " 0.08399787 0.04014304 0.04821913 0.08566066 0.0815205  0.04856794\n",
      " 0.1157907  0.00697256 0.00877182 0.00498774 0.00055359 0.00428421\n",
      " 0.00279544 0.00378498 0.0041621  0.00340536 0.00411852 0.00293084\n",
      " 0.00485596 0.00298415 0.00300253 0.00143651 0.00610443 0.00219277\n",
      " 0.00150429 0.00368663 0.00612355 0.00358791 0.0012121  0.00509717\n",
      " 0.00445065 0.00138594 0.00197475 0.00108207 0.00809373 0.00295499\n",
      " 0.0025761  0.00482626 0.00910934 0.0045463  0.00430861 0.00097772\n",
      " 0.0042683  0.00482009 0.0034931  0.0142793  0.0011297  0.00333218\n",
      " 0.0050438  0.00408053 0.00281669 0.00727454]\n"
     ]
    }
   ],
   "source": [
    "print(\"RandomForest:\")\n",
    "from sklearn.ensemble import RandomForestClassifier\n",
    "rf= RandomForestClassifier()\n",
    "start = time.time()\n",
    "rf.fit(X_train,y_train)\n",
    "runtime = time.time()-start\n",
    "print('Training time:', runtime, 'seconds')\n",
    "probs = rf.predict_proba(X_test)\n",
    "result = PlotROCCurve(probs[:,1],y_test, ci=confidence_interval)\n",
    "importances = rf.feature_importances_\n",
    "print(importances)\n",
    "\n",
    "results = [\"RF\"]\n",
    "results.extend(result)\n",
    "results.append(runtime)\n",
    "result_list.append(results)"
   ]
  },
  {
   "cell_type": "code",
   "execution_count": 14,
   "metadata": {},
   "outputs": [
    {
     "name": "stdout",
     "output_type": "stream",
     "text": [
      "GradientBoosting:\n",
      "Training time: 86.71944308280945 seconds\n",
      "AUC: 0.8201969954347942\n",
      "AUPRC: 0.7957131364850815\n",
      "Sensitivity: 0.7389801210025929\n",
      "Specificity: 0.7435837362356499\n",
      "Score thresold: 0.4940206167731962\n",
      "2.5 97.5\n"
     ]
    },
    {
     "data": {
      "image/png": "[encoded data removed]",
      "text/plain": [
       "<Figure size 432x288 with 1 Axes>"
      ]
     },
     "metadata": {
      "needs_background": "light"
     },
     "output_type": "display_data"
    },
    {
     "data": {
      "image/png": "[encoded data removed]",
      "text/plain": [
       "<Figure size 432x288 with 1 Axes>"
      ]
     },
     "metadata": {
      "needs_background": "light"
     },
     "output_type": "display_data"
    }
   ],
   "source": [
    "print(\"GradientBoosting:\")\n",
    "from sklearn.ensemble import GradientBoostingClassifier\n",
    "gb = GradientBoostingClassifier()\n",
    "start = time.time()\n",
    "gb.fit(X_train, y_train)\n",
    "runtime = time.time()-start\n",
    "print('Training time:', runtime, 'seconds')\n",
    "probs = gb.predict_proba(X_test)\n",
    "result = PlotROCCurve(probs[:,1],y_test, ci=confidence_interval)\n",
    "\n",
    "results = [\"GB\"]\n",
    "results.extend(result)\n",
    "results.append(runtime)\n",
    "result_list.append(results)"
   ]
  },
  {
   "cell_type": "code",
   "execution_count": 15,
   "metadata": {},
   "outputs": [
    {
     "data": {
      "text/plain": [
       "'\\nprint(\"Support Vector Machine:\")\\nfrom sklearn.svm import SVC\\nsvc=SVC()\\nstart = time.time()\\nsvc.fit(X_train,y_train)\\nruntime = time.time()-start\\nprint(\\'Training time:\\', runtime, \\'seconds\\')\\nprobs = svc.predict_proba(X_test)\\nresult = PlotROCCurve(probs[:,1],y_test, ci=confidence_interval)\\n\\nresults = [\"SVM\"]\\nresults.extend(result)\\nresults.append(runtime)\\nresult_list.append(results)\\n'"
      ]
     },
     "execution_count": 15,
     "metadata": {},
     "output_type": "execute_result"
    }
   ],
   "source": [
    "# Temporal skip\n",
    "'''\n",
    "print(\"Support Vector Machine:\")\n",
    "from sklearn.svm import SVC\n",
    "svc=SVC()\n",
    "start = time.time()\n",
    "svc.fit(X_train,y_train)\n",
    "runtime = time.time()-start\n",
    "print('Training time:', runtime, 'seconds')\n",
    "probs = svc.predict_proba(X_test)\n",
    "result = PlotROCCurve(probs[:,1],y_test, ci=confidence_interval)\n",
    "\n",
    "results = [\"SVM\"]\n",
    "results.extend(result)\n",
    "results.append(runtime)\n",
    "result_list.append(results)\n",
    "'''"
   ]
  },
  {
   "cell_type": "code",
   "execution_count": 1,
   "metadata": {
    "scrolled": true
   },
   "outputs": [],
   "source": [
    "def get_score_performance(s, random_seed=0):\n",
    "    print(s)\n",
    "    score = np.array(df_test[s])\n",
    "    result = PlotROCCurve(score,y_test, ci=confidence_interval, random_seed=random_seed)\n",
    "    runtime = 0\n",
    "    results = [s]\n",
    "    results.extend(result)\n",
    "    results.append(runtime)\n",
    "    result_list.append(results)\n"
   ]
  },
  {
   "cell_type": "code",
   "execution_count": 17,
   "metadata": {},
   "outputs": [
    {
     "name": "stdout",
     "output_type": "stream",
     "text": [
      "esi\n",
      "AUC: 0.7122183722345881\n",
      "AUPRC: 0.6340355405931188\n",
      "Sensitivity: 0.5952720222383143\n",
      "Specificity: 0.774914272326468\n",
      "Score thresold: -2.6248987751080204\n",
      "2.5 97.5\n"
     ]
    },
    {
     "data": {
      "image/png": "[encoded data removed]",
      "text/plain": [
       "<Figure size 432x288 with 1 Axes>"
      ]
     },
     "metadata": {
      "needs_background": "light"
     },
     "output_type": "display_data"
    },
    {
     "data": {
      "image/png": "[encoded data removed]",
      "text/plain": [
       "<Figure size 432x288 with 1 Axes>"
      ]
     },
     "metadata": {
      "needs_background": "light"
     },
     "output_type": "display_data"
    }
   ],
   "source": [
    "df_test[\"esi\"] = -df_test[\"triage_acuity\"]\n",
    "get_score_performance(\"esi\")"
   ]
  },
  {
   "cell_type": "code",
   "execution_count": null,
   "metadata": {},
   "outputs": [],
   "source": [
    "## input AutoScore result from csv (implemented by R, detail: https://github.com/nliulab/AutoScore)\n",
    "AutoScore_pred = pd.read_csv((os.path.join(path, 'AutoScore_Hospitalization.csv')))\n",
    "df_test[\"AutoScore\"] = AutoScore_pred[\"pred_score\"]"
   ]
  },
  {
   "cell_type": "code",
   "execution_count": null,
   "metadata": {},
   "outputs": [],
   "source": [
    "get_score_performance(\"AutoScore\", random_seed=random_seed) "
   ]
  },
  {
   "cell_type": "code",
   "execution_count": 18,
   "metadata": {
    "scrolled": true
   },
   "outputs": [
    {
     "name": "stdout",
     "output_type": "stream",
     "text": [
      "score_NEWS\n",
      "AUC: 0.5743951007088118\n",
      "AUPRC: 0.5551390217473994\n",
      "Sensitivity: 0.5493237403349763\n",
      "Specificity: 0.5455900832783114\n",
      "Score thresold: 1\n",
      "2.5 97.5\n"
     ]
    },
    {
     "data": {
      "image/png": "[encoded data removed]",
      "text/plain": [
       "<Figure size 432x288 with 1 Axes>"
      ]
     },
     "metadata": {
      "needs_background": "light"
     },
     "output_type": "display_data"
    },
    {
     "data": {
      "image/png": "[encoded data removed]",
      "text/plain": [
       "<Figure size 432x288 with 1 Axes>"
      ]
     },
     "metadata": {
      "needs_background": "light"
     },
     "output_type": "display_data"
    }
   ],
   "source": [
    "get_score_performance(\"score_NEWS\")"
   ]
  },
  {
   "cell_type": "code",
   "execution_count": 19,
   "metadata": {},
   "outputs": [
    {
     "name": "stdout",
     "output_type": "stream",
     "text": [
      "score_NEWS2\n",
      "AUC: 0.5567351357051066\n",
      "AUPRC: 0.5382689853343715\n",
      "Sensitivity: 0.502791469083604\n",
      "Specificity: 0.5680816170049626\n",
      "Score thresold: 1\n",
      "2.5 97.5\n"
     ]
    },
    {
     "data": {
      "image/png": "[encoded data removed]",
      "text/plain": [
       "<Figure size 432x288 with 1 Axes>"
      ]
     },
     "metadata": {
      "needs_background": "light"
     },
     "output_type": "display_data"
    },
    {
     "data": {
      "image/png": "[encoded data removed]",
      "text/plain": [
       "<Figure size 432x288 with 1 Axes>"
      ]
     },
     "metadata": {
      "needs_background": "light"
     },
     "output_type": "display_data"
    }
   ],
   "source": [
    "get_score_performance(\"score_NEWS2\")"
   ]
  },
  {
   "cell_type": "code",
   "execution_count": 20,
   "metadata": {},
   "outputs": [
    {
     "name": "stdout",
     "output_type": "stream",
     "text": [
      "score_REMS\n",
      "AUC: 0.6715001298214877\n",
      "AUPRC: 0.6122906627833825\n",
      "Sensitivity: 0.7118596556798804\n",
      "Specificity: 0.5650997848821111\n",
      "Score thresold: 3\n",
      "2.5 97.5\n"
     ]
    },
    {
     "data": {
      "image/png": "[encoded data removed]",
      "text/plain": [
       "<Figure size 432x288 with 1 Axes>"
      ]
     },
     "metadata": {
      "needs_background": "light"
     },
     "output_type": "display_data"
    },
    {
     "data": {
      "image/png": "[encoded data removed]",
      "text/plain": [
       "<Figure size 432x288 with 1 Axes>"
      ]
     },
     "metadata": {
      "needs_background": "light"
     },
     "output_type": "display_data"
    }
   ],
   "source": [
    "get_score_performance(\"score_REMS\")"
   ]
  },
  {
   "cell_type": "code",
   "execution_count": 21,
   "metadata": {},
   "outputs": [
    {
     "name": "stdout",
     "output_type": "stream",
     "text": [
      "score_MEWS\n",
      "AUC: 0.5573054456894385\n",
      "AUPRC: 0.5246811307761181\n",
      "Sensitivity: 0.290242705973043\n",
      "Specificity: 0.8138271815296798\n",
      "Score thresold: 2\n",
      "2.5 97.5\n"
     ]
    },
    {
     "data": {
      "image/png": "[encoded data removed]",
      "text/plain": [
       "<Figure size 432x288 with 1 Axes>"
      ]
     },
     "metadata": {
      "needs_background": "light"
     },
     "output_type": "display_data"
    },
    {
     "data": {
      "image/png": "[encoded data removed]",
      "text/plain": [
       "<Figure size 432x288 with 1 Axes>"
      ]
     },
     "metadata": {
      "needs_background": "light"
     },
     "output_type": "display_data"
    }
   ],
   "source": [
    "get_score_performance(\"score_MEWS\")"
   ]
  },
  {
   "cell_type": "code",
   "execution_count": 22,
   "metadata": {},
   "outputs": [
    {
     "name": "stdout",
     "output_type": "stream",
     "text": [
      "score_CART\n",
      "AUC: 0.6740959981091517\n",
      "AUPRC: 0.6199567036795708\n",
      "Sensitivity: 0.6985914176925413\n",
      "Specificity: 0.589827692700901\n",
      "Score thresold: 4\n",
      "2.5 97.5\n"
     ]
    },
    {
     "data": {
      "image/png": "[encoded data removed]",
      "text/plain": [
       "<Figure size 432x288 with 1 Axes>"
      ]
     },
     "metadata": {
      "needs_background": "light"
     },
     "output_type": "display_data"
    },
    {
     "data": {
      "image/png": "[encoded data removed]",
      "text/plain": [
       "<Figure size 432x288 with 1 Axes>"
      ]
     },
     "metadata": {
      "needs_background": "light"
     },
     "output_type": "display_data"
    }
   ],
   "source": [
    "get_score_performance(\"score_CART\")"
   ]
  },
  {
   "cell_type": "markdown",
   "metadata": {},
   "source": [
    "### 4. Performance output"
   ]
  },
  {
   "cell_type": "code",
   "execution_count": 23,
   "metadata": {},
   "outputs": [
    {
     "data": {
      "text/html": [
       "<div>\n",
       "<style scoped>\n",
       "    .dataframe tbody tr th:only-of-type {\n",
       "        vertical-align: middle;\n",
       "    }\n",
       "\n",
       "    .dataframe tbody tr th {\n",
       "        vertical-align: top;\n",
       "    }\n",
       "\n",
       "    .dataframe thead th {\n",
       "        text-align: right;\n",
       "    }\n",
       "</style>\n",
       "<table border=\"1\" class=\"dataframe\">\n",
       "  <thead>\n",
       "    <tr style=\"text-align: right;\">\n",
       "      <th></th>\n",
       "      <th>Model</th>\n",
       "      <th>auroc</th>\n",
       "      <th>ap</th>\n",
       "      <th>sensitivity</th>\n",
       "      <th>specificity</th>\n",
       "      <th>threshold</th>\n",
       "      <th>lower_auroc</th>\n",
       "      <th>upper_auroc</th>\n",
       "      <th>std_auroc</th>\n",
       "      <th>lower_ap</th>\n",
       "      <th>upper_ap</th>\n",
       "      <th>std_ap</th>\n",
       "      <th>lower_sensitivity</th>\n",
       "      <th>upper_sensitivity</th>\n",
       "      <th>std_sensitivity</th>\n",
       "      <th>lower_specificity</th>\n",
       "      <th>upper_specificity</th>\n",
       "      <th>std_specificity</th>\n",
       "      <th>runtime</th>\n",
       "    </tr>\n",
       "  </thead>\n",
       "  <tbody>\n",
       "    <tr>\n",
       "      <th>0</th>\n",
       "      <td>LR</td>\n",
       "      <td>0.806807</td>\n",
       "      <td>0.774715</td>\n",
       "      <td>0.743091</td>\n",
       "      <td>0.719537</td>\n",
       "      <td>0.453058</td>\n",
       "      <td>0.803894</td>\n",
       "      <td>0.809640</td>\n",
       "      <td>0.001515</td>\n",
       "      <td>0.770590</td>\n",
       "      <td>0.779011</td>\n",
       "      <td>0.002279</td>\n",
       "      <td>0.739687</td>\n",
       "      <td>0.766551</td>\n",
       "      <td>0.009401</td>\n",
       "      <td>0.699679</td>\n",
       "      <td>0.724154</td>\n",
       "      <td>0.008464</td>\n",
       "      <td>6.348400</td>\n",
       "    </tr>\n",
       "    <tr>\n",
       "      <th>1</th>\n",
       "      <td>MLP</td>\n",
       "      <td>0.821619</td>\n",
       "      <td>0.797490</td>\n",
       "      <td>0.750520</td>\n",
       "      <td>0.731699</td>\n",
       "      <td>0.496601</td>\n",
       "      <td>0.818673</td>\n",
       "      <td>0.824137</td>\n",
       "      <td>0.001446</td>\n",
       "      <td>0.793797</td>\n",
       "      <td>0.801450</td>\n",
       "      <td>0.001962</td>\n",
       "      <td>0.741596</td>\n",
       "      <td>0.767827</td>\n",
       "      <td>0.006800</td>\n",
       "      <td>0.716260</td>\n",
       "      <td>0.741544</td>\n",
       "      <td>0.006655</td>\n",
       "      <td>469.980321</td>\n",
       "    </tr>\n",
       "    <tr>\n",
       "      <th>2</th>\n",
       "      <td>RF</td>\n",
       "      <td>0.819695</td>\n",
       "      <td>0.786068</td>\n",
       "      <td>0.762363</td>\n",
       "      <td>0.727780</td>\n",
       "      <td>0.486000</td>\n",
       "      <td>0.817064</td>\n",
       "      <td>0.822455</td>\n",
       "      <td>0.001415</td>\n",
       "      <td>0.782223</td>\n",
       "      <td>0.790741</td>\n",
       "      <td>0.002151</td>\n",
       "      <td>0.739993</td>\n",
       "      <td>0.765597</td>\n",
       "      <td>0.007326</td>\n",
       "      <td>0.725258</td>\n",
       "      <td>0.749047</td>\n",
       "      <td>0.006663</td>\n",
       "      <td>127.341776</td>\n",
       "    </tr>\n",
       "    <tr>\n",
       "      <th>3</th>\n",
       "      <td>GB</td>\n",
       "      <td>0.820197</td>\n",
       "      <td>0.795713</td>\n",
       "      <td>0.738980</td>\n",
       "      <td>0.743584</td>\n",
       "      <td>0.494021</td>\n",
       "      <td>0.817485</td>\n",
       "      <td>0.822639</td>\n",
       "      <td>0.001375</td>\n",
       "      <td>0.792083</td>\n",
       "      <td>0.800057</td>\n",
       "      <td>0.001962</td>\n",
       "      <td>0.735052</td>\n",
       "      <td>0.762255</td>\n",
       "      <td>0.008201</td>\n",
       "      <td>0.721363</td>\n",
       "      <td>0.748220</td>\n",
       "      <td>0.008128</td>\n",
       "      <td>86.719443</td>\n",
       "    </tr>\n",
       "    <tr>\n",
       "      <th>4</th>\n",
       "      <td>esi</td>\n",
       "      <td>0.712218</td>\n",
       "      <td>0.634036</td>\n",
       "      <td>0.595272</td>\n",
       "      <td>0.774914</td>\n",
       "      <td>-2.624899</td>\n",
       "      <td>0.709384</td>\n",
       "      <td>0.714958</td>\n",
       "      <td>0.001562</td>\n",
       "      <td>0.629978</td>\n",
       "      <td>0.638367</td>\n",
       "      <td>0.002115</td>\n",
       "      <td>0.590210</td>\n",
       "      <td>0.599355</td>\n",
       "      <td>0.002299</td>\n",
       "      <td>0.771788</td>\n",
       "      <td>0.778294</td>\n",
       "      <td>0.001833</td>\n",
       "      <td>0.000000</td>\n",
       "    </tr>\n",
       "    <tr>\n",
       "      <th>5</th>\n",
       "      <td>score_NEWS</td>\n",
       "      <td>0.574395</td>\n",
       "      <td>0.555139</td>\n",
       "      <td>0.549324</td>\n",
       "      <td>0.545590</td>\n",
       "      <td>1.000000</td>\n",
       "      <td>0.570561</td>\n",
       "      <td>0.577984</td>\n",
       "      <td>0.001855</td>\n",
       "      <td>0.550620</td>\n",
       "      <td>0.559481</td>\n",
       "      <td>0.002300</td>\n",
       "      <td>0.545109</td>\n",
       "      <td>0.553523</td>\n",
       "      <td>0.002417</td>\n",
       "      <td>0.540721</td>\n",
       "      <td>0.550225</td>\n",
       "      <td>0.002403</td>\n",
       "      <td>0.000000</td>\n",
       "    </tr>\n",
       "    <tr>\n",
       "      <th>6</th>\n",
       "      <td>score_NEWS2</td>\n",
       "      <td>0.556735</td>\n",
       "      <td>0.538269</td>\n",
       "      <td>0.502791</td>\n",
       "      <td>0.568082</td>\n",
       "      <td>1.000000</td>\n",
       "      <td>0.553045</td>\n",
       "      <td>0.560331</td>\n",
       "      <td>0.001827</td>\n",
       "      <td>0.533922</td>\n",
       "      <td>0.542783</td>\n",
       "      <td>0.002219</td>\n",
       "      <td>0.498547</td>\n",
       "      <td>0.507696</td>\n",
       "      <td>0.002367</td>\n",
       "      <td>0.562623</td>\n",
       "      <td>0.572600</td>\n",
       "      <td>0.002391</td>\n",
       "      <td>0.000000</td>\n",
       "    </tr>\n",
       "    <tr>\n",
       "      <th>7</th>\n",
       "      <td>score_REMS</td>\n",
       "      <td>0.671500</td>\n",
       "      <td>0.612291</td>\n",
       "      <td>0.711860</td>\n",
       "      <td>0.565100</td>\n",
       "      <td>3.000000</td>\n",
       "      <td>0.668328</td>\n",
       "      <td>0.675802</td>\n",
       "      <td>0.001914</td>\n",
       "      <td>0.607214</td>\n",
       "      <td>0.617042</td>\n",
       "      <td>0.002486</td>\n",
       "      <td>0.707848</td>\n",
       "      <td>0.716610</td>\n",
       "      <td>0.002383</td>\n",
       "      <td>0.560821</td>\n",
       "      <td>0.570238</td>\n",
       "      <td>0.002411</td>\n",
       "      <td>0.000000</td>\n",
       "    </tr>\n",
       "    <tr>\n",
       "      <th>8</th>\n",
       "      <td>score_MEWS</td>\n",
       "      <td>0.557305</td>\n",
       "      <td>0.524681</td>\n",
       "      <td>0.290243</td>\n",
       "      <td>0.813827</td>\n",
       "      <td>2.000000</td>\n",
       "      <td>0.554379</td>\n",
       "      <td>0.560270</td>\n",
       "      <td>0.001511</td>\n",
       "      <td>0.521189</td>\n",
       "      <td>0.528652</td>\n",
       "      <td>0.002056</td>\n",
       "      <td>0.285681</td>\n",
       "      <td>0.294123</td>\n",
       "      <td>0.002219</td>\n",
       "      <td>0.810444</td>\n",
       "      <td>0.817235</td>\n",
       "      <td>0.001731</td>\n",
       "      <td>0.000000</td>\n",
       "    </tr>\n",
       "    <tr>\n",
       "      <th>9</th>\n",
       "      <td>score_CART</td>\n",
       "      <td>0.674096</td>\n",
       "      <td>0.619957</td>\n",
       "      <td>0.698591</td>\n",
       "      <td>0.589828</td>\n",
       "      <td>4.000000</td>\n",
       "      <td>0.671343</td>\n",
       "      <td>0.678082</td>\n",
       "      <td>0.001817</td>\n",
       "      <td>0.615139</td>\n",
       "      <td>0.624356</td>\n",
       "      <td>0.002284</td>\n",
       "      <td>0.694166</td>\n",
       "      <td>0.703942</td>\n",
       "      <td>0.002375</td>\n",
       "      <td>0.585626</td>\n",
       "      <td>0.594231</td>\n",
       "      <td>0.002242</td>\n",
       "      <td>0.000000</td>\n",
       "    </tr>\n",
       "  </tbody>\n",
       "</table>\n",
       "</div>"
      ],
      "text/plain": [
       "         Model     auroc        ap  sensitivity  specificity  threshold  \\\n",
       "0           LR  0.806807  0.774715     0.743091     0.719537   0.453058   \n",
       "1          MLP  0.821619  0.797490     0.750520     0.731699   0.496601   \n",
       "2           RF  0.819695  0.786068     0.762363     0.727780   0.486000   \n",
       "3           GB  0.820197  0.795713     0.738980     0.743584   0.494021   \n",
       "4          esi  0.712218  0.634036     0.595272     0.774914  -2.624899   \n",
       "5   score_NEWS  0.574395  0.555139     0.549324     0.545590   1.000000   \n",
       "6  score_NEWS2  0.556735  0.538269     0.502791     0.568082   1.000000   \n",
       "7   score_REMS  0.671500  0.612291     0.711860     0.565100   3.000000   \n",
       "8   score_MEWS  0.557305  0.524681     0.290243     0.813827   2.000000   \n",
       "9   score_CART  0.674096  0.619957     0.698591     0.589828   4.000000   \n",
       "\n",
       "   lower_auroc  upper_auroc  std_auroc  lower_ap  upper_ap    std_ap  \\\n",
       "0     0.803894     0.809640   0.001515  0.770590  0.779011  0.002279   \n",
       "1     0.818673     0.824137   0.001446  0.793797  0.801450  0.001962   \n",
       "2     0.817064     0.822455   0.001415  0.782223  0.790741  0.002151   \n",
       "3     0.817485     0.822639   0.001375  0.792083  0.800057  0.001962   \n",
       "4     0.709384     0.714958   0.001562  0.629978  0.638367  0.002115   \n",
       "5     0.570561     0.577984   0.001855  0.550620  0.559481  0.002300   \n",
       "6     0.553045     0.560331   0.001827  0.533922  0.542783  0.002219   \n",
       "7     0.668328     0.675802   0.001914  0.607214  0.617042  0.002486   \n",
       "8     0.554379     0.560270   0.001511  0.521189  0.528652  0.002056   \n",
       "9     0.671343     0.678082   0.001817  0.615139  0.624356  0.002284   \n",
       "\n",
       "   lower_sensitivity  upper_sensitivity  std_sensitivity  lower_specificity  \\\n",
       "0           0.739687           0.766551         0.009401           0.699679   \n",
       "1           0.741596           0.767827         0.006800           0.716260   \n",
       "2           0.739993           0.765597         0.007326           0.725258   \n",
       "3           0.735052           0.762255         0.008201           0.721363   \n",
       "4           0.590210           0.599355         0.002299           0.771788   \n",
       "5           0.545109           0.553523         0.002417           0.540721   \n",
       "6           0.498547           0.507696         0.002367           0.562623   \n",
       "7           0.707848           0.716610         0.002383           0.560821   \n",
       "8           0.285681           0.294123         0.002219           0.810444   \n",
       "9           0.694166           0.703942         0.002375           0.585626   \n",
       "\n",
       "   upper_specificity  std_specificity     runtime  \n",
       "0           0.724154         0.008464    6.348400  \n",
       "1           0.741544         0.006655  469.980321  \n",
       "2           0.749047         0.006663  127.341776  \n",
       "3           0.748220         0.008128   86.719443  \n",
       "4           0.778294         0.001833    0.000000  \n",
       "5           0.550225         0.002403    0.000000  \n",
       "6           0.572600         0.002391    0.000000  \n",
       "7           0.570238         0.002411    0.000000  \n",
       "8           0.817235         0.001731    0.000000  \n",
       "9           0.594231         0.002242    0.000000  "
      ]
     },
     "execution_count": 23,
     "metadata": {},
     "output_type": "execute_result"
    }
   ],
   "source": [
    "#result_df = pd.read_csv(os.path.join(path, 'result_hospitalization_triage.csv'))\n",
    "result_df = pd.DataFrame(result_list, columns=['Model', 'auroc', 'ap', 'sensitivity', 'specificity', 'threshold', 'lower_auroc', 'upper_auroc', 'std_auroc', 'lower_ap', 'upper_ap', 'std_ap', 'lower_sensitivity', 'upper_sensitivity', 'std_sensitivity', 'lower_specificity', 'upper_specificity', 'std_specificity', 'runtime'])\n",
    "result_df.to_csv(os.path.join(path, 'result_hospitalization_triage.csv'), index=False)\n",
    "result_df"
   ]
  },
  {
   "cell_type": "code",
   "execution_count": 24,
   "metadata": {},
   "outputs": [
    {
     "data": {
      "image/png": "[encoded data removed]",
      "text/plain": [
       "<Figure size 432x288 with 1 Axes>"
      ]
     },
     "metadata": {
      "needs_background": "light"
     },
     "output_type": "display_data"
    }
   ],
   "source": [
    "from helpers import plot_confidence_interval\n",
    "plot_confidence_interval(result_df, metric='auroc', ci=confidence_interval, name = \"AUROC\", \n",
    "                         my_file = 'AUROC_hosp.eps', my_path = output_path) "
   ]
  },
  {
   "cell_type": "code",
   "execution_count": 25,
   "metadata": {},
   "outputs": [
    {
     "ename": "FileNotFoundError",
     "evalue": "[Errno 2] No such file or directory: 'my_path/AUROC_hosp.eps'",
     "output_type": "error",
     "traceback": [
      "\u001b[0;31m---------------------------------------------------------------------------\u001b[0m",
      "\u001b[0;31mFileNotFoundError\u001b[0m                         Traceback (most recent call last)",
      "\u001b[0;32m/var/folders/91/hc9rgdk178v5dx40zlf9ltjh0000gn/T/ipykernel_18322/3352621885.py\u001b[0m in \u001b[0;36m<module>\u001b[0;34m\u001b[0m\n\u001b[0;32m----> 1\u001b[0;31m \u001b[0mplot_confidence_interval\u001b[0m\u001b[0;34m(\u001b[0m\u001b[0mresult_df\u001b[0m\u001b[0;34m,\u001b[0m \u001b[0mmetric\u001b[0m\u001b[0;34m=\u001b[0m\u001b[0;34m'ap'\u001b[0m\u001b[0;34m,\u001b[0m \u001b[0mci\u001b[0m\u001b[0;34m=\u001b[0m\u001b[0mconfidence_interval\u001b[0m\u001b[0;34m,\u001b[0m \u001b[0mname\u001b[0m \u001b[0;34m=\u001b[0m \u001b[0;34m\"AUPRC\"\u001b[0m \u001b[0;34m)\u001b[0m\u001b[0;34m\u001b[0m\u001b[0;34m\u001b[0m\u001b[0m\n\u001b[0m\u001b[1;32m      2\u001b[0m plot_confidence_interval(result_df, metric='ap', ci=confidence_interval, name = \"AUPRC\", \n\u001b[1;32m      3\u001b[0m                          my_file = 'AUPRC_hosp.eps', my_path = output_path)\n",
      "\u001b[0;32m~/Desktop/Duke-Nus/research/mimicbenchmark/mimic4ed-benchmark/Benchmark_scripts/helpers.py\u001b[0m in \u001b[0;36mplot_confidence_interval\u001b[0;34m(dataset, metric, ci, name, my_file, my_path)\u001b[0m\n\u001b[1;32m    877\u001b[0m     \u001b[0mplt\u001b[0m\u001b[0;34m.\u001b[0m\u001b[0mxlabel\u001b[0m\u001b[0;34m(\u001b[0m\u001b[0mname\u001b[0m\u001b[0;34m)\u001b[0m\u001b[0;34m\u001b[0m\u001b[0;34m\u001b[0m\u001b[0m\n\u001b[1;32m    878\u001b[0m     \u001b[0mplt\u001b[0m\u001b[0;34m.\u001b[0m\u001b[0myticks\u001b[0m\u001b[0;34m(\u001b[0m\u001b[0mrange\u001b[0m\u001b[0;34m(\u001b[0m\u001b[0mlen\u001b[0m\u001b[0;34m(\u001b[0m\u001b[0mdataset\u001b[0m\u001b[0;34m)\u001b[0m\u001b[0;34m)\u001b[0m\u001b[0;34m,\u001b[0m\u001b[0mlist\u001b[0m\u001b[0;34m(\u001b[0m\u001b[0mdataset\u001b[0m\u001b[0;34m[\u001b[0m\u001b[0;34m'Model'\u001b[0m\u001b[0;34m]\u001b[0m\u001b[0;34m)\u001b[0m\u001b[0;34m)\u001b[0m\u001b[0;34m\u001b[0m\u001b[0;34m\u001b[0m\u001b[0m\n\u001b[0;32m--> 879\u001b[0;31m     \u001b[0mplt\u001b[0m\u001b[0;34m.\u001b[0m\u001b[0msavefig\u001b[0m\u001b[0;34m(\u001b[0m\u001b[0mos\u001b[0m\u001b[0;34m.\u001b[0m\u001b[0mpath\u001b[0m\u001b[0;34m.\u001b[0m\u001b[0mjoin\u001b[0m\u001b[0;34m(\u001b[0m\u001b[0mmy_path\u001b[0m\u001b[0;34m,\u001b[0m \u001b[0mmy_file\u001b[0m\u001b[0;34m)\u001b[0m\u001b[0;34m,\u001b[0m \u001b[0mformat\u001b[0m\u001b[0;34m=\u001b[0m\u001b[0;34m'eps'\u001b[0m\u001b[0;34m)\u001b[0m\u001b[0;34m\u001b[0m\u001b[0;34m\u001b[0m\u001b[0m\n\u001b[0m\u001b[1;32m    880\u001b[0m \u001b[0;34m\u001b[0m\u001b[0m\n\u001b[1;32m    881\u001b[0m     \u001b[0mplt\u001b[0m\u001b[0;34m.\u001b[0m\u001b[0mshow\u001b[0m\u001b[0;34m(\u001b[0m\u001b[0;34m)\u001b[0m\u001b[0;34m\u001b[0m\u001b[0;34m\u001b[0m\u001b[0m\n",
      "\u001b[0;32m~/Library/Python/3.7/lib/python/site-packages/matplotlib/pyplot.py\u001b[0m in \u001b[0;36msavefig\u001b[0;34m(*args, **kwargs)\u001b[0m\n\u001b[1;32m    964\u001b[0m \u001b[0;32mdef\u001b[0m \u001b[0msavefig\u001b[0m\u001b[0;34m(\u001b[0m\u001b[0;34m*\u001b[0m\u001b[0margs\u001b[0m\u001b[0;34m,\u001b[0m \u001b[0;34m**\u001b[0m\u001b[0mkwargs\u001b[0m\u001b[0;34m)\u001b[0m\u001b[0;34m:\u001b[0m\u001b[0;34m\u001b[0m\u001b[0;34m\u001b[0m\u001b[0m\n\u001b[1;32m    965\u001b[0m     \u001b[0mfig\u001b[0m \u001b[0;34m=\u001b[0m \u001b[0mgcf\u001b[0m\u001b[0;34m(\u001b[0m\u001b[0;34m)\u001b[0m\u001b[0;34m\u001b[0m\u001b[0;34m\u001b[0m\u001b[0m\n\u001b[0;32m--> 966\u001b[0;31m     \u001b[0mres\u001b[0m \u001b[0;34m=\u001b[0m \u001b[0mfig\u001b[0m\u001b[0;34m.\u001b[0m\u001b[0msavefig\u001b[0m\u001b[0;34m(\u001b[0m\u001b[0;34m*\u001b[0m\u001b[0margs\u001b[0m\u001b[0;34m,\u001b[0m \u001b[0;34m**\u001b[0m\u001b[0mkwargs\u001b[0m\u001b[0;34m)\u001b[0m\u001b[0;34m\u001b[0m\u001b[0;34m\u001b[0m\u001b[0m\n\u001b[0m\u001b[1;32m    967\u001b[0m     \u001b[0mfig\u001b[0m\u001b[0;34m.\u001b[0m\u001b[0mcanvas\u001b[0m\u001b[0;34m.\u001b[0m\u001b[0mdraw_idle\u001b[0m\u001b[0;34m(\u001b[0m\u001b[0;34m)\u001b[0m   \u001b[0;31m# need this if 'transparent=True' to reset colors\u001b[0m\u001b[0;34m\u001b[0m\u001b[0;34m\u001b[0m\u001b[0m\n\u001b[1;32m    968\u001b[0m     \u001b[0;32mreturn\u001b[0m \u001b[0mres\u001b[0m\u001b[0;34m\u001b[0m\u001b[0;34m\u001b[0m\u001b[0m\n",
      "\u001b[0;32m~/Library/Python/3.7/lib/python/site-packages/matplotlib/figure.py\u001b[0m in \u001b[0;36msavefig\u001b[0;34m(self, fname, transparent, **kwargs)\u001b[0m\n\u001b[1;32m   3013\u001b[0m                 \u001b[0mpatch\u001b[0m\u001b[0;34m.\u001b[0m\u001b[0mset_edgecolor\u001b[0m\u001b[0;34m(\u001b[0m\u001b[0;34m'none'\u001b[0m\u001b[0;34m)\u001b[0m\u001b[0;34m\u001b[0m\u001b[0;34m\u001b[0m\u001b[0m\n\u001b[1;32m   3014\u001b[0m \u001b[0;34m\u001b[0m\u001b[0m\n\u001b[0;32m-> 3015\u001b[0;31m         \u001b[0mself\u001b[0m\u001b[0;34m.\u001b[0m\u001b[0mcanvas\u001b[0m\u001b[0;34m.\u001b[0m\u001b[0mprint_figure\u001b[0m\u001b[0;34m(\u001b[0m\u001b[0mfname\u001b[0m\u001b[0;34m,\u001b[0m \u001b[0;34m**\u001b[0m\u001b[0mkwargs\u001b[0m\u001b[0;34m)\u001b[0m\u001b[0;34m\u001b[0m\u001b[0;34m\u001b[0m\u001b[0m\n\u001b[0m\u001b[1;32m   3016\u001b[0m \u001b[0;34m\u001b[0m\u001b[0m\n\u001b[1;32m   3017\u001b[0m         \u001b[0;32mif\u001b[0m \u001b[0mtransparent\u001b[0m\u001b[0;34m:\u001b[0m\u001b[0;34m\u001b[0m\u001b[0;34m\u001b[0m\u001b[0m\n",
      "\u001b[0;32m~/Library/Python/3.7/lib/python/site-packages/matplotlib/backend_bases.py\u001b[0m in \u001b[0;36mprint_figure\u001b[0;34m(self, filename, dpi, facecolor, edgecolor, orientation, format, bbox_inches, pad_inches, bbox_extra_artists, backend, **kwargs)\u001b[0m\n\u001b[1;32m   2259\u001b[0m                         \u001b[0morientation\u001b[0m\u001b[0;34m=\u001b[0m\u001b[0morientation\u001b[0m\u001b[0;34m,\u001b[0m\u001b[0;34m\u001b[0m\u001b[0;34m\u001b[0m\u001b[0m\n\u001b[1;32m   2260\u001b[0m                         \u001b[0mbbox_inches_restore\u001b[0m\u001b[0;34m=\u001b[0m\u001b[0m_bbox_inches_restore\u001b[0m\u001b[0;34m,\u001b[0m\u001b[0;34m\u001b[0m\u001b[0;34m\u001b[0m\u001b[0m\n\u001b[0;32m-> 2261\u001b[0;31m                         **kwargs)\n\u001b[0m\u001b[1;32m   2262\u001b[0m             \u001b[0;32mfinally\u001b[0m\u001b[0;34m:\u001b[0m\u001b[0;34m\u001b[0m\u001b[0;34m\u001b[0m\u001b[0m\n\u001b[1;32m   2263\u001b[0m                 \u001b[0;32mif\u001b[0m \u001b[0mbbox_inches\u001b[0m \u001b[0;32mand\u001b[0m \u001b[0mrestore_bbox\u001b[0m\u001b[0;34m:\u001b[0m\u001b[0;34m\u001b[0m\u001b[0;34m\u001b[0m\u001b[0m\n",
      "\u001b[0;32m~/Library/Python/3.7/lib/python/site-packages/matplotlib/backends/backend_ps.py\u001b[0m in \u001b[0;36mprint_eps\u001b[0;34m(self, outfile, *args, **kwargs)\u001b[0m\n\u001b[1;32m    828\u001b[0m \u001b[0;34m\u001b[0m\u001b[0m\n\u001b[1;32m    829\u001b[0m     \u001b[0;32mdef\u001b[0m \u001b[0mprint_eps\u001b[0m\u001b[0;34m(\u001b[0m\u001b[0mself\u001b[0m\u001b[0;34m,\u001b[0m \u001b[0moutfile\u001b[0m\u001b[0;34m,\u001b[0m \u001b[0;34m*\u001b[0m\u001b[0margs\u001b[0m\u001b[0;34m,\u001b[0m \u001b[0;34m**\u001b[0m\u001b[0mkwargs\u001b[0m\u001b[0;34m)\u001b[0m\u001b[0;34m:\u001b[0m\u001b[0;34m\u001b[0m\u001b[0;34m\u001b[0m\u001b[0m\n\u001b[0;32m--> 830\u001b[0;31m         \u001b[0;32mreturn\u001b[0m \u001b[0mself\u001b[0m\u001b[0;34m.\u001b[0m\u001b[0m_print_ps\u001b[0m\u001b[0;34m(\u001b[0m\u001b[0moutfile\u001b[0m\u001b[0;34m,\u001b[0m \u001b[0;34m'eps'\u001b[0m\u001b[0;34m,\u001b[0m \u001b[0;34m*\u001b[0m\u001b[0margs\u001b[0m\u001b[0;34m,\u001b[0m \u001b[0;34m**\u001b[0m\u001b[0mkwargs\u001b[0m\u001b[0;34m)\u001b[0m\u001b[0;34m\u001b[0m\u001b[0;34m\u001b[0m\u001b[0m\n\u001b[0m\u001b[1;32m    831\u001b[0m \u001b[0;34m\u001b[0m\u001b[0m\n\u001b[1;32m    832\u001b[0m     \u001b[0;34m@\u001b[0m\u001b[0m_api\u001b[0m\u001b[0;34m.\u001b[0m\u001b[0mdelete_parameter\u001b[0m\u001b[0;34m(\u001b[0m\u001b[0;34m\"3.4\"\u001b[0m\u001b[0;34m,\u001b[0m \u001b[0;34m\"dpi\"\u001b[0m\u001b[0;34m)\u001b[0m\u001b[0;34m\u001b[0m\u001b[0;34m\u001b[0m\u001b[0m\n",
      "\u001b[0;32m~/Library/Python/3.7/lib/python/site-packages/matplotlib/_api/deprecation.py\u001b[0m in \u001b[0;36mwrapper\u001b[0;34m(*inner_args, **inner_kwargs)\u001b[0m\n\u001b[1;32m    429\u001b[0m                          \u001b[0;32melse\u001b[0m \u001b[0mdeprecation_addendum\u001b[0m\u001b[0;34m,\u001b[0m\u001b[0;34m\u001b[0m\u001b[0;34m\u001b[0m\u001b[0m\n\u001b[1;32m    430\u001b[0m                 **kwargs)\n\u001b[0;32m--> 431\u001b[0;31m         \u001b[0;32mreturn\u001b[0m \u001b[0mfunc\u001b[0m\u001b[0;34m(\u001b[0m\u001b[0;34m*\u001b[0m\u001b[0minner_args\u001b[0m\u001b[0;34m,\u001b[0m \u001b[0;34m**\u001b[0m\u001b[0minner_kwargs\u001b[0m\u001b[0;34m)\u001b[0m\u001b[0;34m\u001b[0m\u001b[0;34m\u001b[0m\u001b[0m\n\u001b[0m\u001b[1;32m    432\u001b[0m \u001b[0;34m\u001b[0m\u001b[0m\n\u001b[1;32m    433\u001b[0m     \u001b[0;32mreturn\u001b[0m \u001b[0mwrapper\u001b[0m\u001b[0;34m\u001b[0m\u001b[0;34m\u001b[0m\u001b[0m\n",
      "\u001b[0;32m~/Library/Python/3.7/lib/python/site-packages/matplotlib/backends/backend_ps.py\u001b[0m in \u001b[0;36m_print_ps\u001b[0;34m(self, outfile, format, dpi, metadata, papertype, orientation, *args, **kwargs)\u001b[0m\n\u001b[1;32m    870\u001b[0m                    self._print_figure)\n\u001b[1;32m    871\u001b[0m         printer(outfile, format, dpi=dpi, dsc_comments=dsc_comments,\n\u001b[0;32m--> 872\u001b[0;31m                 orientation=orientation, papertype=papertype, **kwargs)\n\u001b[0m\u001b[1;32m    873\u001b[0m \u001b[0;34m\u001b[0m\u001b[0m\n\u001b[1;32m    874\u001b[0m     \u001b[0;34m@\u001b[0m\u001b[0m_check_savefig_extra_args\u001b[0m\u001b[0;34m\u001b[0m\u001b[0;34m\u001b[0m\u001b[0m\n",
      "\u001b[0;32m~/Library/Python/3.7/lib/python/site-packages/matplotlib/backend_bases.py\u001b[0m in \u001b[0;36mwrapper\u001b[0;34m(*args, **kwargs)\u001b[0m\n\u001b[1;32m   1667\u001b[0m             \u001b[0mkwargs\u001b[0m\u001b[0;34m.\u001b[0m\u001b[0mpop\u001b[0m\u001b[0;34m(\u001b[0m\u001b[0marg\u001b[0m\u001b[0;34m)\u001b[0m\u001b[0;34m\u001b[0m\u001b[0;34m\u001b[0m\u001b[0m\n\u001b[1;32m   1668\u001b[0m \u001b[0;34m\u001b[0m\u001b[0m\n\u001b[0;32m-> 1669\u001b[0;31m         \u001b[0;32mreturn\u001b[0m \u001b[0mfunc\u001b[0m\u001b[0;34m(\u001b[0m\u001b[0;34m*\u001b[0m\u001b[0margs\u001b[0m\u001b[0;34m,\u001b[0m \u001b[0;34m**\u001b[0m\u001b[0mkwargs\u001b[0m\u001b[0;34m)\u001b[0m\u001b[0;34m\u001b[0m\u001b[0;34m\u001b[0m\u001b[0m\n\u001b[0m\u001b[1;32m   1670\u001b[0m \u001b[0;34m\u001b[0m\u001b[0m\n\u001b[1;32m   1671\u001b[0m     \u001b[0;32mreturn\u001b[0m \u001b[0mwrapper\u001b[0m\u001b[0;34m\u001b[0m\u001b[0;34m\u001b[0m\u001b[0m\n",
      "\u001b[0;32m~/Library/Python/3.7/lib/python/site-packages/matplotlib/backends/backend_ps.py\u001b[0m in \u001b[0;36m_print_figure\u001b[0;34m(self, outfile, format, dpi, dsc_comments, orientation, papertype, bbox_inches_restore)\u001b[0m\n\u001b[1;32m   1032\u001b[0m                 \u001b[0mprint_figure_impl\u001b[0m\u001b[0;34m(\u001b[0m\u001b[0mfh\u001b[0m\u001b[0;34m)\u001b[0m\u001b[0;34m\u001b[0m\u001b[0;34m\u001b[0m\u001b[0m\n\u001b[1;32m   1033\u001b[0m             \u001b[0;32melse\u001b[0m\u001b[0;34m:\u001b[0m\u001b[0;34m\u001b[0m\u001b[0;34m\u001b[0m\u001b[0m\n\u001b[0;32m-> 1034\u001b[0;31m                 \u001b[0;32mwith\u001b[0m \u001b[0mopen\u001b[0m\u001b[0;34m(\u001b[0m\u001b[0moutfile\u001b[0m\u001b[0;34m,\u001b[0m \u001b[0;34m'w'\u001b[0m\u001b[0;34m,\u001b[0m \u001b[0mencoding\u001b[0m\u001b[0;34m=\u001b[0m\u001b[0;34m'latin-1'\u001b[0m\u001b[0;34m)\u001b[0m \u001b[0;32mas\u001b[0m \u001b[0mfh\u001b[0m\u001b[0;34m:\u001b[0m\u001b[0;34m\u001b[0m\u001b[0;34m\u001b[0m\u001b[0m\n\u001b[0m\u001b[1;32m   1035\u001b[0m                     \u001b[0mprint_figure_impl\u001b[0m\u001b[0;34m(\u001b[0m\u001b[0mfh\u001b[0m\u001b[0;34m)\u001b[0m\u001b[0;34m\u001b[0m\u001b[0;34m\u001b[0m\u001b[0m\n\u001b[1;32m   1036\u001b[0m \u001b[0;34m\u001b[0m\u001b[0m\n",
      "\u001b[0;31mFileNotFoundError\u001b[0m: [Errno 2] No such file or directory: 'my_path/AUROC_hosp.eps'"
     ]
    },
    {
     "data": {
      "image/png": "[encoded data removed]",
      "text/plain": [
       "<Figure size 432x288 with 1 Axes>"
      ]
     },
     "metadata": {
      "needs_background": "light"
     },
     "output_type": "display_data"
    }
   ],
   "source": [
    "plot_confidence_interval(result_df, metric='ap', ci=confidence_interval, name = \"AUPRC\" )\n",
    "plot_confidence_interval(result_df, metric='ap', ci=confidence_interval, name = \"AUPRC\", \n",
    "                         my_file = 'AUPRC_hosp.eps', my_path = output_path)"
   ]
  },
  {
   "cell_type": "code",
   "execution_count": null,
   "metadata": {},
   "outputs": [],
   "source": [
    "importance_df = pd.DataFrame(zip(variable, importances), columns=['Variable','Importance'])\n",
    "importance_df.to_csv(os.path.join(path, 'importances_hospitalization_triage.csv'))\n",
    "importance_df.sort_values(by='Importance', axis=0,ascending=False)"
   ]
  },
  {
   "cell_type": "code",
   "execution_count": null,
   "metadata": {},
   "outputs": [],
   "source": []
  }
 ],
 "metadata": {
  "interpreter": {
   "hash": "cf9f7c42999d1346969e890247ad220cd768e54a9022ee81cbe62d07cccdebca"
  },
  "kernelspec": {
   "display_name": "Python 3",
   "language": "python",
   "name": "python3"
  },
  "language_info": {
   "codemirror_mode": {
    "name": "ipython",
    "version": 3
   },
   "file_extension": ".py",
   "mimetype": "text/x-python",
   "name": "python",
   "nbconvert_exporter": "python",
   "pygments_lexer": "ipython3",
   "version": "3.8.5"
  }
 },
 "nbformat": 4,
 "nbformat_minor": 4
}
