{
 "cells": [
  {
   "cell_type": "markdown",
   "metadata": {},
   "source": [
    "## Modeling for predicting hospitalization at ED triage"
   ]
  },
  {
   "cell_type": "markdown",
   "metadata": {},
   "source": [
    "Work Flow:\n",
    "1. Task-specific filter\n",
    "2. Variable selection\n",
    "3. Modeling script\n",
    "4. Performance output\n"
   ]
  },
  {
   "cell_type": "markdown",
   "metadata": {},
   "source": [
    "### Load train and test"
   ]
  },
  {
   "cell_type": "code",
   "execution_count": 26,
   "metadata": {
    "scrolled": true
   },
   "outputs": [],
   "source": [
    "import os\n",
    "import time\n",
    "import random\n",
    "import tensorflow as tf\n",
    "import numpy as np\n",
    "import pandas as pd\n",
    "from matplotlib import pyplot as plt\n",
    "from sklearn.preprocessing import LabelEncoder\n",
    "# from tensorflow.keras import optimizers, metrics\n",
    "# from tensorflow.keras.layers import Dense\n",
    "# from tensorflow.keras.models import load_model\n",
    "from keras import optimizers, metrics\n",
    "from keras.layers import Dense\n",
    "from keras.models import load_model\n",
    "from helpers import PlotROCCurve\n",
    "\n",
    "from dataset_path import output_path\n",
    "\n",
    "path = output_path\n",
    "output_path = os.path.join(path, \"Figure3\")\n",
    "df_train = pd.read_csv((os.path.join(path, 'train.csv')))\n",
    "df_test = pd.read_csv((os.path.join(path, 'test.csv')))\n",
    "confidence_interval = 95\n",
    "random_seed=0"
   ]
  },
  {
   "cell_type": "code",
   "execution_count": 2,
   "metadata": {},
   "outputs": [],
   "source": [
    "random.seed(random_seed)\n",
    "np.random.seed(random_seed)"
   ]
  },
  {
   "cell_type": "code",
   "execution_count": 3,
   "metadata": {},
   "outputs": [
    {
     "data": {
      "application/vnd.microsoft.datawrangler.viewer.v0+json": {
       "columns": [
        {
         "name": "index",
         "rawType": "int64",
         "type": "integer"
        },
        {
         "name": "index",
         "rawType": "int64",
         "type": "integer"
        },
        {
         "name": "subject_id",
         "rawType": "int64",
         "type": "integer"
        },
        {
         "name": "hadm_id",
         "rawType": "float64",
         "type": "float"
        },
        {
         "name": "stay_id",
         "rawType": "int64",
         "type": "integer"
        },
        {
         "name": "intime",
         "rawType": "object",
         "type": "string"
        },
        {
         "name": "outtime",
         "rawType": "object",
         "type": "string"
        },
        {
         "name": "gender",
         "rawType": "object",
         "type": "string"
        },
        {
         "name": "race",
         "rawType": "object",
         "type": "string"
        },
        {
         "name": "arrival_transport",
         "rawType": "object",
         "type": "string"
        },
        {
         "name": "disposition",
         "rawType": "object",
         "type": "string"
        },
        {
         "name": "anchor_age",
         "rawType": "float64",
         "type": "float"
        },
        {
         "name": "anchor_year",
         "rawType": "float64",
         "type": "float"
        },
        {
         "name": "dod",
         "rawType": "object",
         "type": "unknown"
        },
        {
         "name": "admittime",
         "rawType": "object",
         "type": "unknown"
        },
        {
         "name": "dischtime",
         "rawType": "object",
         "type": "unknown"
        },
        {
         "name": "deathtime",
         "rawType": "object",
         "type": "unknown"
        },
        {
         "name": "ethnicity",
         "rawType": "object",
         "type": "unknown"
        },
        {
         "name": "edregtime",
         "rawType": "object",
         "type": "unknown"
        },
        {
         "name": "edouttime",
         "rawType": "object",
         "type": "unknown"
        },
        {
         "name": "insurance",
         "rawType": "object",
         "type": "unknown"
        },
        {
         "name": "in_year",
         "rawType": "int64",
         "type": "integer"
        },
        {
         "name": "age",
         "rawType": "float64",
         "type": "float"
        },
        {
         "name": "outcome_inhospital_mortality",
         "rawType": "bool",
         "type": "boolean"
        },
        {
         "name": "ed_los",
         "rawType": "object",
         "type": "string"
        },
        {
         "name": "intime_icu",
         "rawType": "object",
         "type": "unknown"
        },
        {
         "name": "time_to_icu_transfer",
         "rawType": "object",
         "type": "unknown"
        },
        {
         "name": "outcome_icu_transfer_12h",
         "rawType": "bool",
         "type": "boolean"
        },
        {
         "name": "outcome_hospitalization",
         "rawType": "bool",
         "type": "boolean"
        },
        {
         "name": "outcome_critical",
         "rawType": "bool",
         "type": "boolean"
        },
        {
         "name": "n_ed_30d",
         "rawType": "int64",
         "type": "integer"
        },
        {
         "name": "n_ed_90d",
         "rawType": "int64",
         "type": "integer"
        },
        {
         "name": "n_ed_365d",
         "rawType": "int64",
         "type": "integer"
        },
        {
         "name": "next_ed_visit_time",
         "rawType": "object",
         "type": "unknown"
        },
        {
         "name": "next_ed_visit_time_diff",
         "rawType": "object",
         "type": "unknown"
        },
        {
         "name": "outcome_ed_revisit_3d",
         "rawType": "bool",
         "type": "boolean"
        },
        {
         "name": "n_hosp_30d",
         "rawType": "int64",
         "type": "integer"
        },
        {
         "name": "n_hosp_90d",
         "rawType": "int64",
         "type": "integer"
        },
        {
         "name": "n_hosp_365d",
         "rawType": "int64",
         "type": "integer"
        },
        {
         "name": "n_icu_30d",
         "rawType": "int64",
         "type": "integer"
        },
        {
         "name": "n_icu_90d",
         "rawType": "int64",
         "type": "integer"
        },
        {
         "name": "n_icu_365d",
         "rawType": "int64",
         "type": "integer"
        },
        {
         "name": "ed_los_hours",
         "rawType": "float64",
         "type": "float"
        },
        {
         "name": "time_to_icu_transfer_hours",
         "rawType": "float64",
         "type": "float"
        },
        {
         "name": "next_ed_visit_time_diff_days",
         "rawType": "float64",
         "type": "float"
        },
        {
         "name": "triage_temperature",
         "rawType": "float64",
         "type": "float"
        },
        {
         "name": "triage_heartrate",
         "rawType": "float64",
         "type": "float"
        },
        {
         "name": "triage_resprate",
         "rawType": "float64",
         "type": "float"
        },
        {
         "name": "triage_o2sat",
         "rawType": "float64",
         "type": "float"
        },
        {
         "name": "triage_sbp",
         "rawType": "float64",
         "type": "float"
        },
        {
         "name": "triage_dbp",
         "rawType": "float64",
         "type": "float"
        },
        {
         "name": "triage_pain",
         "rawType": "float64",
         "type": "float"
        },
        {
         "name": "triage_acuity",
         "rawType": "float64",
         "type": "float"
        },
        {
         "name": "chiefcomplaint",
         "rawType": "object",
         "type": "string"
        },
        {
         "name": "chiefcom_chest_pain",
         "rawType": "bool",
         "type": "boolean"
        },
        {
         "name": "chiefcom_abdominal_pain",
         "rawType": "bool",
         "type": "boolean"
        },
        {
         "name": "chiefcom_headache",
         "rawType": "bool",
         "type": "boolean"
        },
        {
         "name": "chiefcom_shortness_of_breath",
         "rawType": "bool",
         "type": "boolean"
        },
        {
         "name": "chiefcom_back_pain",
         "rawType": "bool",
         "type": "boolean"
        },
        {
         "name": "chiefcom_cough",
         "rawType": "bool",
         "type": "boolean"
        },
        {
         "name": "chiefcom_nausea_vomiting",
         "rawType": "bool",
         "type": "boolean"
        },
        {
         "name": "chiefcom_fever_chills",
         "rawType": "bool",
         "type": "boolean"
        },
        {
         "name": "chiefcom_syncope",
         "rawType": "bool",
         "type": "boolean"
        },
        {
         "name": "chiefcom_dizziness",
         "rawType": "bool",
         "type": "boolean"
        },
        {
         "name": "cci_MI",
         "rawType": "int64",
         "type": "integer"
        },
        {
         "name": "cci_CHF",
         "rawType": "int64",
         "type": "integer"
        },
        {
         "name": "cci_PVD",
         "rawType": "int64",
         "type": "integer"
        },
        {
         "name": "cci_Stroke",
         "rawType": "int64",
         "type": "integer"
        },
        {
         "name": "cci_Dementia",
         "rawType": "int64",
         "type": "integer"
        },
        {
         "name": "cci_Pulmonary",
         "rawType": "int64",
         "type": "integer"
        },
        {
         "name": "cci_Rheumatic",
         "rawType": "int64",
         "type": "integer"
        },
        {
         "name": "cci_PUD",
         "rawType": "int64",
         "type": "integer"
        },
        {
         "name": "cci_Liver1",
         "rawType": "int64",
         "type": "integer"
        },
        {
         "name": "cci_DM1",
         "rawType": "int64",
         "type": "integer"
        },
        {
         "name": "cci_DM2",
         "rawType": "int64",
         "type": "integer"
        },
        {
         "name": "cci_Paralysis",
         "rawType": "int64",
         "type": "integer"
        },
        {
         "name": "cci_Renal",
         "rawType": "int64",
         "type": "integer"
        },
        {
         "name": "cci_Cancer1",
         "rawType": "int64",
         "type": "integer"
        },
        {
         "name": "cci_Liver2",
         "rawType": "int64",
         "type": "integer"
        },
        {
         "name": "cci_Cancer2",
         "rawType": "int64",
         "type": "integer"
        },
        {
         "name": "cci_HIV",
         "rawType": "int64",
         "type": "integer"
        },
        {
         "name": "eci_CHF",
         "rawType": "int64",
         "type": "integer"
        },
        {
         "name": "eci_Arrhythmia",
         "rawType": "int64",
         "type": "integer"
        },
        {
         "name": "eci_Valvular",
         "rawType": "int64",
         "type": "integer"
        },
        {
         "name": "eci_PHTN",
         "rawType": "int64",
         "type": "integer"
        },
        {
         "name": "eci_PVD",
         "rawType": "int64",
         "type": "integer"
        },
        {
         "name": "eci_HTN1",
         "rawType": "int64",
         "type": "integer"
        },
        {
         "name": "eci_HTN2",
         "rawType": "int64",
         "type": "integer"
        },
        {
         "name": "eci_Paralysis",
         "rawType": "int64",
         "type": "integer"
        },
        {
         "name": "eci_NeuroOther",
         "rawType": "int64",
         "type": "integer"
        },
        {
         "name": "eci_Pulmonary",
         "rawType": "int64",
         "type": "integer"
        },
        {
         "name": "eci_DM1",
         "rawType": "int64",
         "type": "integer"
        },
        {
         "name": "eci_DM2",
         "rawType": "int64",
         "type": "integer"
        },
        {
         "name": "eci_Hypothyroid",
         "rawType": "int64",
         "type": "integer"
        },
        {
         "name": "eci_Renal",
         "rawType": "int64",
         "type": "integer"
        },
        {
         "name": "eci_Liver",
         "rawType": "int64",
         "type": "integer"
        },
        {
         "name": "eci_PUD",
         "rawType": "int64",
         "type": "integer"
        },
        {
         "name": "eci_HIV",
         "rawType": "int64",
         "type": "integer"
        },
        {
         "name": "eci_Lymphoma",
         "rawType": "int64",
         "type": "integer"
        },
        {
         "name": "eci_Tumor2",
         "rawType": "int64",
         "type": "integer"
        },
        {
         "name": "eci_Tumor1",
         "rawType": "int64",
         "type": "integer"
        },
        {
         "name": "eci_Rheumatic",
         "rawType": "int64",
         "type": "integer"
        },
        {
         "name": "eci_Coagulopathy",
         "rawType": "int64",
         "type": "integer"
        },
        {
         "name": "eci_Obesity",
         "rawType": "int64",
         "type": "integer"
        },
        {
         "name": "eci_WeightLoss",
         "rawType": "int64",
         "type": "integer"
        },
        {
         "name": "eci_FluidsLytes",
         "rawType": "int64",
         "type": "integer"
        },
        {
         "name": "eci_BloodLoss",
         "rawType": "int64",
         "type": "integer"
        },
        {
         "name": "eci_Anemia",
         "rawType": "int64",
         "type": "integer"
        },
        {
         "name": "eci_Alcohol",
         "rawType": "int64",
         "type": "integer"
        },
        {
         "name": "eci_Drugs",
         "rawType": "int64",
         "type": "integer"
        },
        {
         "name": "eci_Psychoses",
         "rawType": "int64",
         "type": "integer"
        },
        {
         "name": "eci_Depression",
         "rawType": "int64",
         "type": "integer"
        },
        {
         "name": "ed_temperature_last",
         "rawType": "float64",
         "type": "float"
        },
        {
         "name": "ed_heartrate_last",
         "rawType": "float64",
         "type": "float"
        },
        {
         "name": "ed_resprate_last",
         "rawType": "float64",
         "type": "float"
        },
        {
         "name": "ed_o2sat_last",
         "rawType": "float64",
         "type": "float"
        },
        {
         "name": "ed_sbp_last",
         "rawType": "float64",
         "type": "float"
        },
        {
         "name": "ed_dbp_last",
         "rawType": "float64",
         "type": "float"
        },
        {
         "name": "ed_pain_last",
         "rawType": "float64",
         "type": "float"
        },
        {
         "name": "n_med",
         "rawType": "float64",
         "type": "float"
        },
        {
         "name": "n_medrecon",
         "rawType": "float64",
         "type": "float"
        },
        {
         "name": "triage_MAP",
         "rawType": "float64",
         "type": "float"
        },
        {
         "name": "score_CCI",
         "rawType": "int64",
         "type": "integer"
        },
        {
         "name": "score_CART",
         "rawType": "int64",
         "type": "integer"
        },
        {
         "name": "score_REMS",
         "rawType": "int64",
         "type": "integer"
        },
        {
         "name": "score_NEWS",
         "rawType": "int64",
         "type": "integer"
        },
        {
         "name": "score_NEWS2",
         "rawType": "int64",
         "type": "integer"
        },
        {
         "name": "score_MEWS",
         "rawType": "int64",
         "type": "integer"
        }
       ],
       "ref": "69a3700f-9575-403e-a882-3185e46e183b",
       "rows": [
        [
         "0",
         "90728",
         "12155170",
         null,
         "30810678",
         "2157-10-18 07:58:00",
         "2157-10-18 13:35:00",
         "M",
         "WHITE",
         "AMBULANCE",
         "HOME",
         "47.0",
         "2157.0",
         null,
         null,
         null,
         null,
         null,
         null,
         null,
         null,
         "2157",
         "47.0",
         "False",
         "0 days 05:37:00",
         null,
         null,
         "False",
         "False",
         "False",
         "0",
         "0",
         "0",
         null,
         null,
         "False",
         "0",
         "0",
         "0",
         "0",
         "0",
         "0",
         "5.62",
         null,
         null,
         "36.55555555555556",
         "87.0",
         "18.0",
         "97.0",
         "119.0",
         "83.0",
         "5.0",
         "3.0",
         "L Rib pain, SI",
         "False",
         "False",
         "False",
         "False",
         "False",
         "False",
         "False",
         "False",
         "False",
         "False",
         "0",
         "0",
         "0",
         "0",
         "0",
         "0",
         "0",
         "0",
         "0",
         "0",
         "0",
         "0",
         "0",
         "0",
         "0",
         "0",
         "0",
         "0",
         "0",
         "0",
         "0",
         "0",
         "0",
         "0",
         "0",
         "0",
         "0",
         "0",
         "0",
         "0",
         "0",
         "0",
         "0",
         "0",
         "0",
         "0",
         "0",
         "0",
         "0",
         "0",
         "0",
         "0",
         "0",
         "0",
         "0",
         "0",
         "0",
         "0",
         "36.55555555555556",
         "94.0",
         "18.0",
         "97.0",
         "139.0",
         "93.0",
         "5.0",
         "2.0",
         "12.0",
         "95.0",
         "0",
         "0",
         "2",
         "0",
         "0",
         "1"
        ],
        [
         "1",
         "84908",
         "12020576",
         null,
         "33335111",
         "2149-11-30 19:15:00",
         "2149-11-30 21:49:00",
         "M",
         "OTHER",
         "WALK IN",
         "HOME",
         "44.0",
         "2149.0",
         null,
         null,
         null,
         null,
         null,
         null,
         null,
         null,
         "2149",
         "44.0",
         "False",
         "0 days 02:34:00",
         null,
         null,
         "False",
         "False",
         "False",
         "0",
         "0",
         "0",
         "2149-12-19 19:58:00",
         "18 days 22:09:00",
         "False",
         "0",
         "0",
         "0",
         "0",
         "0",
         "0",
         "2.57",
         null,
         "18.92",
         "36.55555555555556",
         "64.0",
         "18.0",
         "100.0",
         "151.0",
         "93.0",
         "5.0",
         "3.0",
         "ABD PAIN",
         "False",
         "True",
         "False",
         "False",
         "False",
         "False",
         "False",
         "False",
         "False",
         "False",
         "0",
         "0",
         "0",
         "0",
         "0",
         "0",
         "0",
         "0",
         "0",
         "0",
         "0",
         "0",
         "0",
         "0",
         "0",
         "0",
         "0",
         "0",
         "0",
         "0",
         "0",
         "0",
         "0",
         "0",
         "0",
         "0",
         "0",
         "0",
         "0",
         "0",
         "0",
         "0",
         "0",
         "0",
         "0",
         "0",
         "0",
         "0",
         "0",
         "0",
         "0",
         "0",
         "0",
         "0",
         "0",
         "0",
         "0",
         "0",
         "36.11111111111112",
         "84.0",
         "13.0",
         "100.0",
         "127.0",
         "70.0",
         "0.0",
         "4.0",
         "0.0",
         "112.33333333333334",
         "0",
         "0",
         "4",
         "0",
         "0",
         "1"
        ],
        [
         "2",
         "375094",
         "18818507",
         null,
         "39510756",
         "2205-01-05 11:34:00",
         "2205-01-05 16:54:00",
         "M",
         "BLACK/AFRICAN AMERICAN",
         "WALK IN",
         "ELOPED",
         "44.0",
         "2198.0",
         null,
         null,
         null,
         null,
         "BLACK/AFRICAN AMERICAN",
         null,
         null,
         null,
         "2205",
         "51.0",
         "False",
         "0 days 05:20:00",
         null,
         null,
         "False",
         "False",
         "False",
         "0",
         "0",
         "2",
         "2205-09-24 07:27:00",
         "261 days 14:33:00",
         "False",
         "0",
         "0",
         "1",
         "0",
         "0",
         "0",
         "5.33",
         null,
         "261.61",
         "37.11111111111112",
         "74.0",
         "18.0",
         "98.0",
         "178.0",
         "103.0",
         "10.0",
         "3.0",
         "Headache",
         "False",
         "False",
         "True",
         "False",
         "False",
         "False",
         "False",
         "False",
         "False",
         "False",
         "0",
         "0",
         "0",
         "0",
         "0",
         "0",
         "0",
         "0",
         "0",
         "0",
         "0",
         "0",
         "0",
         "0",
         "0",
         "0",
         "0",
         "0",
         "1",
         "0",
         "0",
         "0",
         "0",
         "1",
         "0",
         "0",
         "0",
         "0",
         "0",
         "0",
         "0",
         "0",
         "0",
         "0",
         "0",
         "0",
         "0",
         "0",
         "0",
         "0",
         "0",
         "0",
         "0",
         "0",
         "1",
         "1",
         "0",
         "0",
         "36.66666666666667",
         "75.0",
         "16.0",
         "99.0",
         "146.0",
         "100.0",
         "0.0",
         "4.0",
         "6.0",
         "128.0",
         "1",
         "0",
         "4",
         "0",
         "0",
         "1"
        ],
        [
         "3",
         "211628",
         "14995724",
         "26467950.0",
         "34723899",
         "2123-12-06 11:51:00",
         "2123-12-06 17:56:00",
         "M",
         "WHITE",
         "AMBULANCE",
         "ADMITTED",
         "91.0",
         "2123.0",
         "2128-11-22",
         "2123-12-06 16:00:00",
         "2123-12-09 18:01:00",
         null,
         "WHITE",
         "2123-12-06 11:51:00",
         "2123-12-06 17:56:00",
         "Medicare",
         "2123",
         "91.0",
         "False",
         "0 days 06:05:00",
         null,
         null,
         "False",
         "True",
         "False",
         "0",
         "0",
         "0",
         "2126-03-14 12:24:00",
         "828 days 18:28:00",
         "False",
         "0",
         "0",
         "0",
         "0",
         "0",
         "0",
         "6.08",
         null,
         "828.77",
         "36.27777777777778",
         "66.0",
         "14.0",
         "96.0",
         "129.0",
         "53.0",
         "0.0",
         "3.0",
         "UNWITNESSED FALL ",
         "False",
         "False",
         "False",
         "False",
         "False",
         "False",
         "False",
         "False",
         "False",
         "False",
         "0",
         "0",
         "0",
         "0",
         "0",
         "0",
         "0",
         "0",
         "0",
         "0",
         "0",
         "0",
         "0",
         "0",
         "0",
         "0",
         "0",
         "0",
         "0",
         "0",
         "0",
         "0",
         "0",
         "0",
         "0",
         "0",
         "0",
         "0",
         "0",
         "0",
         "0",
         "0",
         "0",
         "0",
         "0",
         "0",
         "0",
         "0",
         "0",
         "0",
         "0",
         "0",
         "0",
         "0",
         "0",
         "0",
         "0",
         "0",
         "36.61111111111112",
         "60.0",
         "18.0",
         "94.0",
         "122.0",
         "66.0",
         "0.0",
         "2.0",
         "10.0",
         "78.33333333333334",
         "4",
         "9",
         "8",
         "0",
         "0",
         "0"
        ],
        [
         "4",
         "101301",
         "12406461",
         "23331394.0",
         "36115826",
         "2131-01-18 21:17:00",
         "2131-01-19 03:20:00",
         "F",
         "WHITE",
         "WALK IN",
         "ADMITTED",
         "23.0",
         "2125.0",
         null,
         "2131-01-19 01:40:00",
         "2131-02-13 18:30:00",
         null,
         "WHITE",
         "2131-01-18 21:17:00",
         "2131-01-19 03:20:00",
         "Medicare",
         "2131",
         "29.0",
         "False",
         "0 days 06:03:00",
         null,
         null,
         "False",
         "True",
         "False",
         "1",
         "3",
         "12",
         "2131-03-02 20:56:00",
         "42 days 17:36:00",
         "False",
         "1",
         "3",
         "10",
         "0",
         "0",
         "0",
         "6.05",
         null,
         "42.73",
         "38.16666666666667",
         "133.0",
         "18.0",
         "100.0",
         "136.0",
         "89.0",
         "7.0",
         "2.0",
         "Fever",
         "False",
         "False",
         "False",
         "False",
         "False",
         "False",
         "False",
         "True",
         "False",
         "False",
         "0",
         "0",
         "0",
         "0",
         "0",
         "0",
         "0",
         "1",
         "0",
         "0",
         "0",
         "0",
         "0",
         "0",
         "0",
         "0",
         "0",
         "0",
         "1",
         "1",
         "0",
         "0",
         "0",
         "0",
         "0",
         "0",
         "0",
         "0",
         "0",
         "0",
         "0",
         "0",
         "1",
         "0",
         "0",
         "0",
         "0",
         "0",
         "1",
         "0",
         "1",
         "1",
         "1",
         "1",
         "0",
         "0",
         "0",
         "0",
         "37.11111111111112",
         "86.0",
         "18.0",
         "100.0",
         "127.0",
         "79.0",
         "0.0",
         "2.0",
         "13.0",
         "104.66666666666669",
         "1",
         "4",
         "2",
         "4",
         "4",
         "4"
        ]
       ],
       "shape": {
        "columns": 127,
        "rows": 5
       }
      },
      "text/html": [
       "<div>\n",
       "<style scoped>\n",
       "    .dataframe tbody tr th:only-of-type {\n",
       "        vertical-align: middle;\n",
       "    }\n",
       "\n",
       "    .dataframe tbody tr th {\n",
       "        vertical-align: top;\n",
       "    }\n",
       "\n",
       "    .dataframe thead th {\n",
       "        text-align: right;\n",
       "    }\n",
       "</style>\n",
       "<table border=\"1\" class=\"dataframe\">\n",
       "  <thead>\n",
       "    <tr style=\"text-align: right;\">\n",
       "      <th></th>\n",
       "      <th>index</th>\n",
       "      <th>subject_id</th>\n",
       "      <th>hadm_id</th>\n",
       "      <th>stay_id</th>\n",
       "      <th>intime</th>\n",
       "      <th>outtime</th>\n",
       "      <th>gender</th>\n",
       "      <th>race</th>\n",
       "      <th>arrival_transport</th>\n",
       "      <th>disposition</th>\n",
       "      <th>anchor_age</th>\n",
       "      <th>anchor_year</th>\n",
       "      <th>dod</th>\n",
       "      <th>admittime</th>\n",
       "      <th>dischtime</th>\n",
       "      <th>deathtime</th>\n",
       "      <th>ethnicity</th>\n",
       "      <th>edregtime</th>\n",
       "      <th>edouttime</th>\n",
       "      <th>insurance</th>\n",
       "      <th>in_year</th>\n",
       "      <th>age</th>\n",
       "      <th>outcome_inhospital_mortality</th>\n",
       "      <th>ed_los</th>\n",
       "      <th>intime_icu</th>\n",
       "      <th>time_to_icu_transfer</th>\n",
       "      <th>outcome_icu_transfer_12h</th>\n",
       "      <th>outcome_hospitalization</th>\n",
       "      <th>outcome_critical</th>\n",
       "      <th>n_ed_30d</th>\n",
       "      <th>n_ed_90d</th>\n",
       "      <th>n_ed_365d</th>\n",
       "      <th>next_ed_visit_time</th>\n",
       "      <th>next_ed_visit_time_diff</th>\n",
       "      <th>outcome_ed_revisit_3d</th>\n",
       "      <th>n_hosp_30d</th>\n",
       "      <th>n_hosp_90d</th>\n",
       "      <th>n_hosp_365d</th>\n",
       "      <th>n_icu_30d</th>\n",
       "      <th>n_icu_90d</th>\n",
       "      <th>n_icu_365d</th>\n",
       "      <th>ed_los_hours</th>\n",
       "      <th>time_to_icu_transfer_hours</th>\n",
       "      <th>next_ed_visit_time_diff_days</th>\n",
       "      <th>triage_temperature</th>\n",
       "      <th>triage_heartrate</th>\n",
       "      <th>triage_resprate</th>\n",
       "      <th>triage_o2sat</th>\n",
       "      <th>triage_sbp</th>\n",
       "      <th>triage_dbp</th>\n",
       "      <th>...</th>\n",
       "      <th>cci_Liver2</th>\n",
       "      <th>cci_Cancer2</th>\n",
       "      <th>cci_HIV</th>\n",
       "      <th>eci_CHF</th>\n",
       "      <th>eci_Arrhythmia</th>\n",
       "      <th>eci_Valvular</th>\n",
       "      <th>eci_PHTN</th>\n",
       "      <th>eci_PVD</th>\n",
       "      <th>eci_HTN1</th>\n",
       "      <th>eci_HTN2</th>\n",
       "      <th>eci_Paralysis</th>\n",
       "      <th>eci_NeuroOther</th>\n",
       "      <th>eci_Pulmonary</th>\n",
       "      <th>eci_DM1</th>\n",
       "      <th>eci_DM2</th>\n",
       "      <th>eci_Hypothyroid</th>\n",
       "      <th>eci_Renal</th>\n",
       "      <th>eci_Liver</th>\n",
       "      <th>eci_PUD</th>\n",
       "      <th>eci_HIV</th>\n",
       "      <th>eci_Lymphoma</th>\n",
       "      <th>eci_Tumor2</th>\n",
       "      <th>eci_Tumor1</th>\n",
       "      <th>eci_Rheumatic</th>\n",
       "      <th>eci_Coagulopathy</th>\n",
       "      <th>eci_Obesity</th>\n",
       "      <th>eci_WeightLoss</th>\n",
       "      <th>eci_FluidsLytes</th>\n",
       "      <th>eci_BloodLoss</th>\n",
       "      <th>eci_Anemia</th>\n",
       "      <th>eci_Alcohol</th>\n",
       "      <th>eci_Drugs</th>\n",
       "      <th>eci_Psychoses</th>\n",
       "      <th>eci_Depression</th>\n",
       "      <th>ed_temperature_last</th>\n",
       "      <th>ed_heartrate_last</th>\n",
       "      <th>ed_resprate_last</th>\n",
       "      <th>ed_o2sat_last</th>\n",
       "      <th>ed_sbp_last</th>\n",
       "      <th>ed_dbp_last</th>\n",
       "      <th>ed_pain_last</th>\n",
       "      <th>n_med</th>\n",
       "      <th>n_medrecon</th>\n",
       "      <th>triage_MAP</th>\n",
       "      <th>score_CCI</th>\n",
       "      <th>score_CART</th>\n",
       "      <th>score_REMS</th>\n",
       "      <th>score_NEWS</th>\n",
       "      <th>score_NEWS2</th>\n",
       "      <th>score_MEWS</th>\n",
       "    </tr>\n",
       "  </thead>\n",
       "  <tbody>\n",
       "    <tr>\n",
       "      <th>0</th>\n",
       "      <td>90728</td>\n",
       "      <td>12155170</td>\n",
       "      <td>NaN</td>\n",
       "      <td>30810678</td>\n",
       "      <td>2157-10-18 07:58:00</td>\n",
       "      <td>2157-10-18 13:35:00</td>\n",
       "      <td>M</td>\n",
       "      <td>WHITE</td>\n",
       "      <td>AMBULANCE</td>\n",
       "      <td>HOME</td>\n",
       "      <td>47.0</td>\n",
       "      <td>2157.0</td>\n",
       "      <td>NaN</td>\n",
       "      <td>NaN</td>\n",
       "      <td>NaN</td>\n",
       "      <td>NaN</td>\n",
       "      <td>NaN</td>\n",
       "      <td>NaN</td>\n",
       "      <td>NaN</td>\n",
       "      <td>NaN</td>\n",
       "      <td>2157</td>\n",
       "      <td>47.0</td>\n",
       "      <td>False</td>\n",
       "      <td>0 days 05:37:00</td>\n",
       "      <td>NaN</td>\n",
       "      <td>NaN</td>\n",
       "      <td>False</td>\n",
       "      <td>False</td>\n",
       "      <td>False</td>\n",
       "      <td>0</td>\n",
       "      <td>0</td>\n",
       "      <td>0</td>\n",
       "      <td>NaN</td>\n",
       "      <td>NaN</td>\n",
       "      <td>False</td>\n",
       "      <td>0</td>\n",
       "      <td>0</td>\n",
       "      <td>0</td>\n",
       "      <td>0</td>\n",
       "      <td>0</td>\n",
       "      <td>0</td>\n",
       "      <td>5.62</td>\n",
       "      <td>NaN</td>\n",
       "      <td>NaN</td>\n",
       "      <td>36.555556</td>\n",
       "      <td>87.0</td>\n",
       "      <td>18.0</td>\n",
       "      <td>97.0</td>\n",
       "      <td>119.0</td>\n",
       "      <td>83.0</td>\n",
       "      <td>...</td>\n",
       "      <td>0</td>\n",
       "      <td>0</td>\n",
       "      <td>0</td>\n",
       "      <td>0</td>\n",
       "      <td>0</td>\n",
       "      <td>0</td>\n",
       "      <td>0</td>\n",
       "      <td>0</td>\n",
       "      <td>0</td>\n",
       "      <td>0</td>\n",
       "      <td>0</td>\n",
       "      <td>0</td>\n",
       "      <td>0</td>\n",
       "      <td>0</td>\n",
       "      <td>0</td>\n",
       "      <td>0</td>\n",
       "      <td>0</td>\n",
       "      <td>0</td>\n",
       "      <td>0</td>\n",
       "      <td>0</td>\n",
       "      <td>0</td>\n",
       "      <td>0</td>\n",
       "      <td>0</td>\n",
       "      <td>0</td>\n",
       "      <td>0</td>\n",
       "      <td>0</td>\n",
       "      <td>0</td>\n",
       "      <td>0</td>\n",
       "      <td>0</td>\n",
       "      <td>0</td>\n",
       "      <td>0</td>\n",
       "      <td>0</td>\n",
       "      <td>0</td>\n",
       "      <td>0</td>\n",
       "      <td>36.555556</td>\n",
       "      <td>94.0</td>\n",
       "      <td>18.0</td>\n",
       "      <td>97.0</td>\n",
       "      <td>139.0</td>\n",
       "      <td>93.0</td>\n",
       "      <td>5.0</td>\n",
       "      <td>2.0</td>\n",
       "      <td>12.0</td>\n",
       "      <td>95.000000</td>\n",
       "      <td>0</td>\n",
       "      <td>0</td>\n",
       "      <td>2</td>\n",
       "      <td>0</td>\n",
       "      <td>0</td>\n",
       "      <td>1</td>\n",
       "    </tr>\n",
       "    <tr>\n",
       "      <th>1</th>\n",
       "      <td>84908</td>\n",
       "      <td>12020576</td>\n",
       "      <td>NaN</td>\n",
       "      <td>33335111</td>\n",
       "      <td>2149-11-30 19:15:00</td>\n",
       "      <td>2149-11-30 21:49:00</td>\n",
       "      <td>M</td>\n",
       "      <td>OTHER</td>\n",
       "      <td>WALK IN</td>\n",
       "      <td>HOME</td>\n",
       "      <td>44.0</td>\n",
       "      <td>2149.0</td>\n",
       "      <td>NaN</td>\n",
       "      <td>NaN</td>\n",
       "      <td>NaN</td>\n",
       "      <td>NaN</td>\n",
       "      <td>NaN</td>\n",
       "      <td>NaN</td>\n",
       "      <td>NaN</td>\n",
       "      <td>NaN</td>\n",
       "      <td>2149</td>\n",
       "      <td>44.0</td>\n",
       "      <td>False</td>\n",
       "      <td>0 days 02:34:00</td>\n",
       "      <td>NaN</td>\n",
       "      <td>NaN</td>\n",
       "      <td>False</td>\n",
       "      <td>False</td>\n",
       "      <td>False</td>\n",
       "      <td>0</td>\n",
       "      <td>0</td>\n",
       "      <td>0</td>\n",
       "      <td>2149-12-19 19:58:00</td>\n",
       "      <td>18 days 22:09:00</td>\n",
       "      <td>False</td>\n",
       "      <td>0</td>\n",
       "      <td>0</td>\n",
       "      <td>0</td>\n",
       "      <td>0</td>\n",
       "      <td>0</td>\n",
       "      <td>0</td>\n",
       "      <td>2.57</td>\n",
       "      <td>NaN</td>\n",
       "      <td>18.92</td>\n",
       "      <td>36.555556</td>\n",
       "      <td>64.0</td>\n",
       "      <td>18.0</td>\n",
       "      <td>100.0</td>\n",
       "      <td>151.0</td>\n",
       "      <td>93.0</td>\n",
       "      <td>...</td>\n",
       "      <td>0</td>\n",
       "      <td>0</td>\n",
       "      <td>0</td>\n",
       "      <td>0</td>\n",
       "      <td>0</td>\n",
       "      <td>0</td>\n",
       "      <td>0</td>\n",
       "      <td>0</td>\n",
       "      <td>0</td>\n",
       "      <td>0</td>\n",
       "      <td>0</td>\n",
       "      <td>0</td>\n",
       "      <td>0</td>\n",
       "      <td>0</td>\n",
       "      <td>0</td>\n",
       "      <td>0</td>\n",
       "      <td>0</td>\n",
       "      <td>0</td>\n",
       "      <td>0</td>\n",
       "      <td>0</td>\n",
       "      <td>0</td>\n",
       "      <td>0</td>\n",
       "      <td>0</td>\n",
       "      <td>0</td>\n",
       "      <td>0</td>\n",
       "      <td>0</td>\n",
       "      <td>0</td>\n",
       "      <td>0</td>\n",
       "      <td>0</td>\n",
       "      <td>0</td>\n",
       "      <td>0</td>\n",
       "      <td>0</td>\n",
       "      <td>0</td>\n",
       "      <td>0</td>\n",
       "      <td>36.111111</td>\n",
       "      <td>84.0</td>\n",
       "      <td>13.0</td>\n",
       "      <td>100.0</td>\n",
       "      <td>127.0</td>\n",
       "      <td>70.0</td>\n",
       "      <td>0.0</td>\n",
       "      <td>4.0</td>\n",
       "      <td>0.0</td>\n",
       "      <td>112.333333</td>\n",
       "      <td>0</td>\n",
       "      <td>0</td>\n",
       "      <td>4</td>\n",
       "      <td>0</td>\n",
       "      <td>0</td>\n",
       "      <td>1</td>\n",
       "    </tr>\n",
       "    <tr>\n",
       "      <th>2</th>\n",
       "      <td>375094</td>\n",
       "      <td>18818507</td>\n",
       "      <td>NaN</td>\n",
       "      <td>39510756</td>\n",
       "      <td>2205-01-05 11:34:00</td>\n",
       "      <td>2205-01-05 16:54:00</td>\n",
       "      <td>M</td>\n",
       "      <td>BLACK/AFRICAN AMERICAN</td>\n",
       "      <td>WALK IN</td>\n",
       "      <td>ELOPED</td>\n",
       "      <td>44.0</td>\n",
       "      <td>2198.0</td>\n",
       "      <td>NaN</td>\n",
       "      <td>NaN</td>\n",
       "      <td>NaN</td>\n",
       "      <td>NaN</td>\n",
       "      <td>BLACK/AFRICAN AMERICAN</td>\n",
       "      <td>NaN</td>\n",
       "      <td>NaN</td>\n",
       "      <td>NaN</td>\n",
       "      <td>2205</td>\n",
       "      <td>51.0</td>\n",
       "      <td>False</td>\n",
       "      <td>0 days 05:20:00</td>\n",
       "      <td>NaN</td>\n",
       "      <td>NaN</td>\n",
       "      <td>False</td>\n",
       "      <td>False</td>\n",
       "      <td>False</td>\n",
       "      <td>0</td>\n",
       "      <td>0</td>\n",
       "      <td>2</td>\n",
       "      <td>2205-09-24 07:27:00</td>\n",
       "      <td>261 days 14:33:00</td>\n",
       "      <td>False</td>\n",
       "      <td>0</td>\n",
       "      <td>0</td>\n",
       "      <td>1</td>\n",
       "      <td>0</td>\n",
       "      <td>0</td>\n",
       "      <td>0</td>\n",
       "      <td>5.33</td>\n",
       "      <td>NaN</td>\n",
       "      <td>261.61</td>\n",
       "      <td>37.111111</td>\n",
       "      <td>74.0</td>\n",
       "      <td>18.0</td>\n",
       "      <td>98.0</td>\n",
       "      <td>178.0</td>\n",
       "      <td>103.0</td>\n",
       "      <td>...</td>\n",
       "      <td>0</td>\n",
       "      <td>0</td>\n",
       "      <td>0</td>\n",
       "      <td>0</td>\n",
       "      <td>1</td>\n",
       "      <td>0</td>\n",
       "      <td>0</td>\n",
       "      <td>0</td>\n",
       "      <td>0</td>\n",
       "      <td>1</td>\n",
       "      <td>0</td>\n",
       "      <td>0</td>\n",
       "      <td>0</td>\n",
       "      <td>0</td>\n",
       "      <td>0</td>\n",
       "      <td>0</td>\n",
       "      <td>0</td>\n",
       "      <td>0</td>\n",
       "      <td>0</td>\n",
       "      <td>0</td>\n",
       "      <td>0</td>\n",
       "      <td>0</td>\n",
       "      <td>0</td>\n",
       "      <td>0</td>\n",
       "      <td>0</td>\n",
       "      <td>0</td>\n",
       "      <td>0</td>\n",
       "      <td>0</td>\n",
       "      <td>0</td>\n",
       "      <td>0</td>\n",
       "      <td>1</td>\n",
       "      <td>1</td>\n",
       "      <td>0</td>\n",
       "      <td>0</td>\n",
       "      <td>36.666667</td>\n",
       "      <td>75.0</td>\n",
       "      <td>16.0</td>\n",
       "      <td>99.0</td>\n",
       "      <td>146.0</td>\n",
       "      <td>100.0</td>\n",
       "      <td>0.0</td>\n",
       "      <td>4.0</td>\n",
       "      <td>6.0</td>\n",
       "      <td>128.000000</td>\n",
       "      <td>1</td>\n",
       "      <td>0</td>\n",
       "      <td>4</td>\n",
       "      <td>0</td>\n",
       "      <td>0</td>\n",
       "      <td>1</td>\n",
       "    </tr>\n",
       "    <tr>\n",
       "      <th>3</th>\n",
       "      <td>211628</td>\n",
       "      <td>14995724</td>\n",
       "      <td>26467950.0</td>\n",
       "      <td>34723899</td>\n",
       "      <td>2123-12-06 11:51:00</td>\n",
       "      <td>2123-12-06 17:56:00</td>\n",
       "      <td>M</td>\n",
       "      <td>WHITE</td>\n",
       "      <td>AMBULANCE</td>\n",
       "      <td>ADMITTED</td>\n",
       "      <td>91.0</td>\n",
       "      <td>2123.0</td>\n",
       "      <td>2128-11-22</td>\n",
       "      <td>2123-12-06 16:00:00</td>\n",
       "      <td>2123-12-09 18:01:00</td>\n",
       "      <td>NaN</td>\n",
       "      <td>WHITE</td>\n",
       "      <td>2123-12-06 11:51:00</td>\n",
       "      <td>2123-12-06 17:56:00</td>\n",
       "      <td>Medicare</td>\n",
       "      <td>2123</td>\n",
       "      <td>91.0</td>\n",
       "      <td>False</td>\n",
       "      <td>0 days 06:05:00</td>\n",
       "      <td>NaN</td>\n",
       "      <td>NaN</td>\n",
       "      <td>False</td>\n",
       "      <td>True</td>\n",
       "      <td>False</td>\n",
       "      <td>0</td>\n",
       "      <td>0</td>\n",
       "      <td>0</td>\n",
       "      <td>2126-03-14 12:24:00</td>\n",
       "      <td>828 days 18:28:00</td>\n",
       "      <td>False</td>\n",
       "      <td>0</td>\n",
       "      <td>0</td>\n",
       "      <td>0</td>\n",
       "      <td>0</td>\n",
       "      <td>0</td>\n",
       "      <td>0</td>\n",
       "      <td>6.08</td>\n",
       "      <td>NaN</td>\n",
       "      <td>828.77</td>\n",
       "      <td>36.277778</td>\n",
       "      <td>66.0</td>\n",
       "      <td>14.0</td>\n",
       "      <td>96.0</td>\n",
       "      <td>129.0</td>\n",
       "      <td>53.0</td>\n",
       "      <td>...</td>\n",
       "      <td>0</td>\n",
       "      <td>0</td>\n",
       "      <td>0</td>\n",
       "      <td>0</td>\n",
       "      <td>0</td>\n",
       "      <td>0</td>\n",
       "      <td>0</td>\n",
       "      <td>0</td>\n",
       "      <td>0</td>\n",
       "      <td>0</td>\n",
       "      <td>0</td>\n",
       "      <td>0</td>\n",
       "      <td>0</td>\n",
       "      <td>0</td>\n",
       "      <td>0</td>\n",
       "      <td>0</td>\n",
       "      <td>0</td>\n",
       "      <td>0</td>\n",
       "      <td>0</td>\n",
       "      <td>0</td>\n",
       "      <td>0</td>\n",
       "      <td>0</td>\n",
       "      <td>0</td>\n",
       "      <td>0</td>\n",
       "      <td>0</td>\n",
       "      <td>0</td>\n",
       "      <td>0</td>\n",
       "      <td>0</td>\n",
       "      <td>0</td>\n",
       "      <td>0</td>\n",
       "      <td>0</td>\n",
       "      <td>0</td>\n",
       "      <td>0</td>\n",
       "      <td>0</td>\n",
       "      <td>36.611111</td>\n",
       "      <td>60.0</td>\n",
       "      <td>18.0</td>\n",
       "      <td>94.0</td>\n",
       "      <td>122.0</td>\n",
       "      <td>66.0</td>\n",
       "      <td>0.0</td>\n",
       "      <td>2.0</td>\n",
       "      <td>10.0</td>\n",
       "      <td>78.333333</td>\n",
       "      <td>4</td>\n",
       "      <td>9</td>\n",
       "      <td>8</td>\n",
       "      <td>0</td>\n",
       "      <td>0</td>\n",
       "      <td>0</td>\n",
       "    </tr>\n",
       "    <tr>\n",
       "      <th>4</th>\n",
       "      <td>101301</td>\n",
       "      <td>12406461</td>\n",
       "      <td>23331394.0</td>\n",
       "      <td>36115826</td>\n",
       "      <td>2131-01-18 21:17:00</td>\n",
       "      <td>2131-01-19 03:20:00</td>\n",
       "      <td>F</td>\n",
       "      <td>WHITE</td>\n",
       "      <td>WALK IN</td>\n",
       "      <td>ADMITTED</td>\n",
       "      <td>23.0</td>\n",
       "      <td>2125.0</td>\n",
       "      <td>NaN</td>\n",
       "      <td>2131-01-19 01:40:00</td>\n",
       "      <td>2131-02-13 18:30:00</td>\n",
       "      <td>NaN</td>\n",
       "      <td>WHITE</td>\n",
       "      <td>2131-01-18 21:17:00</td>\n",
       "      <td>2131-01-19 03:20:00</td>\n",
       "      <td>Medicare</td>\n",
       "      <td>2131</td>\n",
       "      <td>29.0</td>\n",
       "      <td>False</td>\n",
       "      <td>0 days 06:03:00</td>\n",
       "      <td>NaN</td>\n",
       "      <td>NaN</td>\n",
       "      <td>False</td>\n",
       "      <td>True</td>\n",
       "      <td>False</td>\n",
       "      <td>1</td>\n",
       "      <td>3</td>\n",
       "      <td>12</td>\n",
       "      <td>2131-03-02 20:56:00</td>\n",
       "      <td>42 days 17:36:00</td>\n",
       "      <td>False</td>\n",
       "      <td>1</td>\n",
       "      <td>3</td>\n",
       "      <td>10</td>\n",
       "      <td>0</td>\n",
       "      <td>0</td>\n",
       "      <td>0</td>\n",
       "      <td>6.05</td>\n",
       "      <td>NaN</td>\n",
       "      <td>42.73</td>\n",
       "      <td>38.166667</td>\n",
       "      <td>133.0</td>\n",
       "      <td>18.0</td>\n",
       "      <td>100.0</td>\n",
       "      <td>136.0</td>\n",
       "      <td>89.0</td>\n",
       "      <td>...</td>\n",
       "      <td>0</td>\n",
       "      <td>0</td>\n",
       "      <td>0</td>\n",
       "      <td>0</td>\n",
       "      <td>1</td>\n",
       "      <td>1</td>\n",
       "      <td>0</td>\n",
       "      <td>0</td>\n",
       "      <td>0</td>\n",
       "      <td>0</td>\n",
       "      <td>0</td>\n",
       "      <td>0</td>\n",
       "      <td>0</td>\n",
       "      <td>0</td>\n",
       "      <td>0</td>\n",
       "      <td>0</td>\n",
       "      <td>0</td>\n",
       "      <td>0</td>\n",
       "      <td>1</td>\n",
       "      <td>0</td>\n",
       "      <td>0</td>\n",
       "      <td>0</td>\n",
       "      <td>0</td>\n",
       "      <td>0</td>\n",
       "      <td>1</td>\n",
       "      <td>0</td>\n",
       "      <td>1</td>\n",
       "      <td>1</td>\n",
       "      <td>1</td>\n",
       "      <td>1</td>\n",
       "      <td>0</td>\n",
       "      <td>0</td>\n",
       "      <td>0</td>\n",
       "      <td>0</td>\n",
       "      <td>37.111111</td>\n",
       "      <td>86.0</td>\n",
       "      <td>18.0</td>\n",
       "      <td>100.0</td>\n",
       "      <td>127.0</td>\n",
       "      <td>79.0</td>\n",
       "      <td>0.0</td>\n",
       "      <td>2.0</td>\n",
       "      <td>13.0</td>\n",
       "      <td>104.666667</td>\n",
       "      <td>1</td>\n",
       "      <td>4</td>\n",
       "      <td>2</td>\n",
       "      <td>4</td>\n",
       "      <td>4</td>\n",
       "      <td>4</td>\n",
       "    </tr>\n",
       "  </tbody>\n",
       "</table>\n",
       "<p>5 rows × 127 columns</p>\n",
       "</div>"
      ],
      "text/plain": [
       "    index  subject_id     hadm_id   stay_id               intime  \\\n",
       "0   90728    12155170         NaN  30810678  2157-10-18 07:58:00   \n",
       "1   84908    12020576         NaN  33335111  2149-11-30 19:15:00   \n",
       "2  375094    18818507         NaN  39510756  2205-01-05 11:34:00   \n",
       "3  211628    14995724  26467950.0  34723899  2123-12-06 11:51:00   \n",
       "4  101301    12406461  23331394.0  36115826  2131-01-18 21:17:00   \n",
       "\n",
       "               outtime gender                    race arrival_transport  \\\n",
       "0  2157-10-18 13:35:00      M                   WHITE         AMBULANCE   \n",
       "1  2149-11-30 21:49:00      M                   OTHER           WALK IN   \n",
       "2  2205-01-05 16:54:00      M  BLACK/AFRICAN AMERICAN           WALK IN   \n",
       "3  2123-12-06 17:56:00      M                   WHITE         AMBULANCE   \n",
       "4  2131-01-19 03:20:00      F                   WHITE           WALK IN   \n",
       "\n",
       "  disposition  anchor_age  anchor_year         dod            admittime  \\\n",
       "0        HOME        47.0       2157.0         NaN                  NaN   \n",
       "1        HOME        44.0       2149.0         NaN                  NaN   \n",
       "2      ELOPED        44.0       2198.0         NaN                  NaN   \n",
       "3    ADMITTED        91.0       2123.0  2128-11-22  2123-12-06 16:00:00   \n",
       "4    ADMITTED        23.0       2125.0         NaN  2131-01-19 01:40:00   \n",
       "\n",
       "             dischtime deathtime               ethnicity            edregtime  \\\n",
       "0                  NaN       NaN                     NaN                  NaN   \n",
       "1                  NaN       NaN                     NaN                  NaN   \n",
       "2                  NaN       NaN  BLACK/AFRICAN AMERICAN                  NaN   \n",
       "3  2123-12-09 18:01:00       NaN                   WHITE  2123-12-06 11:51:00   \n",
       "4  2131-02-13 18:30:00       NaN                   WHITE  2131-01-18 21:17:00   \n",
       "\n",
       "             edouttime insurance  in_year   age  outcome_inhospital_mortality  \\\n",
       "0                  NaN       NaN     2157  47.0                         False   \n",
       "1                  NaN       NaN     2149  44.0                         False   \n",
       "2                  NaN       NaN     2205  51.0                         False   \n",
       "3  2123-12-06 17:56:00  Medicare     2123  91.0                         False   \n",
       "4  2131-01-19 03:20:00  Medicare     2131  29.0                         False   \n",
       "\n",
       "            ed_los intime_icu time_to_icu_transfer  outcome_icu_transfer_12h  \\\n",
       "0  0 days 05:37:00        NaN                  NaN                     False   \n",
       "1  0 days 02:34:00        NaN                  NaN                     False   \n",
       "2  0 days 05:20:00        NaN                  NaN                     False   \n",
       "3  0 days 06:05:00        NaN                  NaN                     False   \n",
       "4  0 days 06:03:00        NaN                  NaN                     False   \n",
       "\n",
       "   outcome_hospitalization  outcome_critical  n_ed_30d  n_ed_90d  n_ed_365d  \\\n",
       "0                    False             False         0         0          0   \n",
       "1                    False             False         0         0          0   \n",
       "2                    False             False         0         0          2   \n",
       "3                     True             False         0         0          0   \n",
       "4                     True             False         1         3         12   \n",
       "\n",
       "    next_ed_visit_time next_ed_visit_time_diff  outcome_ed_revisit_3d  \\\n",
       "0                  NaN                     NaN                  False   \n",
       "1  2149-12-19 19:58:00        18 days 22:09:00                  False   \n",
       "2  2205-09-24 07:27:00       261 days 14:33:00                  False   \n",
       "3  2126-03-14 12:24:00       828 days 18:28:00                  False   \n",
       "4  2131-03-02 20:56:00        42 days 17:36:00                  False   \n",
       "\n",
       "   n_hosp_30d  n_hosp_90d  n_hosp_365d  n_icu_30d  n_icu_90d  n_icu_365d  \\\n",
       "0           0           0            0          0          0           0   \n",
       "1           0           0            0          0          0           0   \n",
       "2           0           0            1          0          0           0   \n",
       "3           0           0            0          0          0           0   \n",
       "4           1           3           10          0          0           0   \n",
       "\n",
       "   ed_los_hours  time_to_icu_transfer_hours  next_ed_visit_time_diff_days  \\\n",
       "0          5.62                         NaN                           NaN   \n",
       "1          2.57                         NaN                         18.92   \n",
       "2          5.33                         NaN                        261.61   \n",
       "3          6.08                         NaN                        828.77   \n",
       "4          6.05                         NaN                         42.73   \n",
       "\n",
       "   triage_temperature  triage_heartrate  triage_resprate  triage_o2sat  \\\n",
       "0           36.555556              87.0             18.0          97.0   \n",
       "1           36.555556              64.0             18.0         100.0   \n",
       "2           37.111111              74.0             18.0          98.0   \n",
       "3           36.277778              66.0             14.0          96.0   \n",
       "4           38.166667             133.0             18.0         100.0   \n",
       "\n",
       "   triage_sbp  triage_dbp  ...  cci_Liver2  cci_Cancer2 cci_HIV  eci_CHF  \\\n",
       "0       119.0        83.0  ...           0            0       0        0   \n",
       "1       151.0        93.0  ...           0            0       0        0   \n",
       "2       178.0       103.0  ...           0            0       0        0   \n",
       "3       129.0        53.0  ...           0            0       0        0   \n",
       "4       136.0        89.0  ...           0            0       0        0   \n",
       "\n",
       "   eci_Arrhythmia  eci_Valvular  eci_PHTN  eci_PVD  eci_HTN1  eci_HTN2  \\\n",
       "0               0             0         0        0         0         0   \n",
       "1               0             0         0        0         0         0   \n",
       "2               1             0         0        0         0         1   \n",
       "3               0             0         0        0         0         0   \n",
       "4               1             1         0        0         0         0   \n",
       "\n",
       "   eci_Paralysis  eci_NeuroOther  eci_Pulmonary  eci_DM1  eci_DM2  \\\n",
       "0              0               0              0        0        0   \n",
       "1              0               0              0        0        0   \n",
       "2              0               0              0        0        0   \n",
       "3              0               0              0        0        0   \n",
       "4              0               0              0        0        0   \n",
       "\n",
       "   eci_Hypothyroid  eci_Renal  eci_Liver  eci_PUD  eci_HIV  eci_Lymphoma  \\\n",
       "0                0          0          0        0        0             0   \n",
       "1                0          0          0        0        0             0   \n",
       "2                0          0          0        0        0             0   \n",
       "3                0          0          0        0        0             0   \n",
       "4                0          0          0        1        0             0   \n",
       "\n",
       "   eci_Tumor2  eci_Tumor1  eci_Rheumatic  eci_Coagulopathy  eci_Obesity  \\\n",
       "0           0           0              0                 0            0   \n",
       "1           0           0              0                 0            0   \n",
       "2           0           0              0                 0            0   \n",
       "3           0           0              0                 0            0   \n",
       "4           0           0              0                 1            0   \n",
       "\n",
       "   eci_WeightLoss  eci_FluidsLytes  eci_BloodLoss  eci_Anemia  eci_Alcohol  \\\n",
       "0               0                0              0           0            0   \n",
       "1               0                0              0           0            0   \n",
       "2               0                0              0           0            1   \n",
       "3               0                0              0           0            0   \n",
       "4               1                1              1           1            0   \n",
       "\n",
       "   eci_Drugs  eci_Psychoses  eci_Depression  ed_temperature_last  \\\n",
       "0          0              0               0            36.555556   \n",
       "1          0              0               0            36.111111   \n",
       "2          1              0               0            36.666667   \n",
       "3          0              0               0            36.611111   \n",
       "4          0              0               0            37.111111   \n",
       "\n",
       "   ed_heartrate_last  ed_resprate_last  ed_o2sat_last  ed_sbp_last  \\\n",
       "0               94.0              18.0           97.0        139.0   \n",
       "1               84.0              13.0          100.0        127.0   \n",
       "2               75.0              16.0           99.0        146.0   \n",
       "3               60.0              18.0           94.0        122.0   \n",
       "4               86.0              18.0          100.0        127.0   \n",
       "\n",
       "   ed_dbp_last  ed_pain_last  n_med  n_medrecon  triage_MAP  score_CCI  \\\n",
       "0         93.0           5.0    2.0        12.0   95.000000          0   \n",
       "1         70.0           0.0    4.0         0.0  112.333333          0   \n",
       "2        100.0           0.0    4.0         6.0  128.000000          1   \n",
       "3         66.0           0.0    2.0        10.0   78.333333          4   \n",
       "4         79.0           0.0    2.0        13.0  104.666667          1   \n",
       "\n",
       "   score_CART  score_REMS  score_NEWS  score_NEWS2  score_MEWS  \n",
       "0           0           2           0            0           1  \n",
       "1           0           4           0            0           1  \n",
       "2           0           4           0            0           1  \n",
       "3           9           8           0            0           0  \n",
       "4           4           2           4            4           4  \n",
       "\n",
       "[5 rows x 127 columns]"
      ]
     },
     "execution_count": 3,
     "metadata": {},
     "output_type": "execute_result"
    }
   ],
   "source": [
    "pd.set_option('display.max_columns', 100) \n",
    "pd.set_option('display.max_rows', 100) \n",
    "df_train.head()"
   ]
  },
  {
   "cell_type": "code",
   "execution_count": 12,
   "metadata": {},
   "outputs": [
    {
     "ename": "KeyError",
     "evalue": "'outcome'",
     "output_type": "error",
     "traceback": [
      "\u001b[31m---------------------------------------------------------------------------\u001b[39m",
      "\u001b[31mKeyError\u001b[39m                                  Traceback (most recent call last)",
      "\u001b[36mFile \u001b[39m\u001b[32m~/gpt_ed_assistant/.venv/lib/python3.11/site-packages/pandas/core/indexes/base.py:3805\u001b[39m, in \u001b[36mIndex.get_loc\u001b[39m\u001b[34m(self, key)\u001b[39m\n\u001b[32m   3804\u001b[39m \u001b[38;5;28;01mtry\u001b[39;00m:\n\u001b[32m-> \u001b[39m\u001b[32m3805\u001b[39m     \u001b[38;5;28;01mreturn\u001b[39;00m \u001b[38;5;28;43mself\u001b[39;49m\u001b[43m.\u001b[49m\u001b[43m_engine\u001b[49m\u001b[43m.\u001b[49m\u001b[43mget_loc\u001b[49m\u001b[43m(\u001b[49m\u001b[43mcasted_key\u001b[49m\u001b[43m)\u001b[49m\n\u001b[32m   3806\u001b[39m \u001b[38;5;28;01mexcept\u001b[39;00m \u001b[38;5;167;01mKeyError\u001b[39;00m \u001b[38;5;28;01mas\u001b[39;00m err:\n",
      "\u001b[36mFile \u001b[39m\u001b[32mindex.pyx:167\u001b[39m, in \u001b[36mpandas._libs.index.IndexEngine.get_loc\u001b[39m\u001b[34m()\u001b[39m\n",
      "\u001b[36mFile \u001b[39m\u001b[32mindex.pyx:196\u001b[39m, in \u001b[36mpandas._libs.index.IndexEngine.get_loc\u001b[39m\u001b[34m()\u001b[39m\n",
      "\u001b[36mFile \u001b[39m\u001b[32mpandas/_libs/hashtable_class_helper.pxi:7081\u001b[39m, in \u001b[36mpandas._libs.hashtable.PyObjectHashTable.get_item\u001b[39m\u001b[34m()\u001b[39m\n",
      "\u001b[36mFile \u001b[39m\u001b[32mpandas/_libs/hashtable_class_helper.pxi:7089\u001b[39m, in \u001b[36mpandas._libs.hashtable.PyObjectHashTable.get_item\u001b[39m\u001b[34m()\u001b[39m\n",
      "\u001b[31mKeyError\u001b[39m: 'outcome'",
      "\nThe above exception was the direct cause of the following exception:\n",
      "\u001b[31mKeyError\u001b[39m                                  Traceback (most recent call last)",
      "\u001b[36mCell\u001b[39m\u001b[36m \u001b[39m\u001b[32mIn[12]\u001b[39m\u001b[32m, line 1\u001b[39m\n\u001b[32m----> \u001b[39m\u001b[32m1\u001b[39m \u001b[43mdf_train\u001b[49m\u001b[43m[\u001b[49m\u001b[33;43m\"\u001b[39;49m\u001b[33;43moutcome\u001b[39;49m\u001b[33;43m\"\u001b[39;49m\u001b[43m]\u001b[49m.head()\n",
      "\u001b[36mFile \u001b[39m\u001b[32m~/gpt_ed_assistant/.venv/lib/python3.11/site-packages/pandas/core/frame.py:4102\u001b[39m, in \u001b[36mDataFrame.__getitem__\u001b[39m\u001b[34m(self, key)\u001b[39m\n\u001b[32m   4100\u001b[39m \u001b[38;5;28;01mif\u001b[39;00m \u001b[38;5;28mself\u001b[39m.columns.nlevels > \u001b[32m1\u001b[39m:\n\u001b[32m   4101\u001b[39m     \u001b[38;5;28;01mreturn\u001b[39;00m \u001b[38;5;28mself\u001b[39m._getitem_multilevel(key)\n\u001b[32m-> \u001b[39m\u001b[32m4102\u001b[39m indexer = \u001b[38;5;28;43mself\u001b[39;49m\u001b[43m.\u001b[49m\u001b[43mcolumns\u001b[49m\u001b[43m.\u001b[49m\u001b[43mget_loc\u001b[49m\u001b[43m(\u001b[49m\u001b[43mkey\u001b[49m\u001b[43m)\u001b[49m\n\u001b[32m   4103\u001b[39m \u001b[38;5;28;01mif\u001b[39;00m is_integer(indexer):\n\u001b[32m   4104\u001b[39m     indexer = [indexer]\n",
      "\u001b[36mFile \u001b[39m\u001b[32m~/gpt_ed_assistant/.venv/lib/python3.11/site-packages/pandas/core/indexes/base.py:3812\u001b[39m, in \u001b[36mIndex.get_loc\u001b[39m\u001b[34m(self, key)\u001b[39m\n\u001b[32m   3807\u001b[39m     \u001b[38;5;28;01mif\u001b[39;00m \u001b[38;5;28misinstance\u001b[39m(casted_key, \u001b[38;5;28mslice\u001b[39m) \u001b[38;5;129;01mor\u001b[39;00m (\n\u001b[32m   3808\u001b[39m         \u001b[38;5;28misinstance\u001b[39m(casted_key, abc.Iterable)\n\u001b[32m   3809\u001b[39m         \u001b[38;5;129;01mand\u001b[39;00m \u001b[38;5;28many\u001b[39m(\u001b[38;5;28misinstance\u001b[39m(x, \u001b[38;5;28mslice\u001b[39m) \u001b[38;5;28;01mfor\u001b[39;00m x \u001b[38;5;129;01min\u001b[39;00m casted_key)\n\u001b[32m   3810\u001b[39m     ):\n\u001b[32m   3811\u001b[39m         \u001b[38;5;28;01mraise\u001b[39;00m InvalidIndexError(key)\n\u001b[32m-> \u001b[39m\u001b[32m3812\u001b[39m     \u001b[38;5;28;01mraise\u001b[39;00m \u001b[38;5;167;01mKeyError\u001b[39;00m(key) \u001b[38;5;28;01mfrom\u001b[39;00m\u001b[38;5;250m \u001b[39m\u001b[34;01merr\u001b[39;00m\n\u001b[32m   3813\u001b[39m \u001b[38;5;28;01mexcept\u001b[39;00m \u001b[38;5;167;01mTypeError\u001b[39;00m:\n\u001b[32m   3814\u001b[39m     \u001b[38;5;66;03m# If we have a listlike key, _check_indexing_error will raise\u001b[39;00m\n\u001b[32m   3815\u001b[39m     \u001b[38;5;66;03m#  InvalidIndexError. Otherwise we fall through and re-raise\u001b[39;00m\n\u001b[32m   3816\u001b[39m     \u001b[38;5;66;03m#  the TypeError.\u001b[39;00m\n\u001b[32m   3817\u001b[39m     \u001b[38;5;28mself\u001b[39m._check_indexing_error(key)\n",
      "\u001b[31mKeyError\u001b[39m: 'outcome'"
     ]
    }
   ],
   "source": [
    "df_train[\"outcome\"].head()"
   ]
  },
  {
   "cell_type": "markdown",
   "metadata": {},
   "source": [
    "### 1. Task-specific filter: No task-specific exclusion needed"
   ]
  },
  {
   "cell_type": "code",
   "execution_count": 4,
   "metadata": {},
   "outputs": [
    {
     "name": "stdout",
     "output_type": "stream",
     "text": [
      "training size = 334420 , testing size = 83605\n"
     ]
    }
   ],
   "source": [
    "print('training size =', len(df_train), ', testing size =', len(df_test))"
   ]
  },
  {
   "cell_type": "markdown",
   "metadata": {},
   "source": [
    "### 2. Variable Selection"
   ]
  },
  {
   "cell_type": "code",
   "execution_count": 5,
   "metadata": {},
   "outputs": [],
   "source": [
    "variable = [\"age\", \"gender\", \n",
    "            \n",
    "            \"n_ed_30d\", \"n_ed_90d\", \"n_ed_365d\", \"n_hosp_30d\", \"n_hosp_90d\", \n",
    "            \"n_hosp_365d\", \"n_icu_30d\", \"n_icu_90d\", \"n_icu_365d\", \n",
    "            \n",
    "            \"triage_temperature\", \"triage_heartrate\", \"triage_resprate\", \n",
    "            \"triage_o2sat\", \"triage_sbp\", \"triage_dbp\", \"triage_pain\", \"triage_acuity\",\n",
    "            \n",
    "            \"chiefcom_chest_pain\", \"chiefcom_abdominal_pain\", \"chiefcom_headache\",\n",
    "            \"chiefcom_shortness_of_breath\", \"chiefcom_back_pain\", \"chiefcom_cough\", \n",
    "            \"chiefcom_nausea_vomiting\", \"chiefcom_fever_chills\", \"chiefcom_syncope\", \n",
    "            \"chiefcom_dizziness\", \n",
    "            \n",
    "            \"cci_MI\", \"cci_CHF\", \"cci_PVD\", \"cci_Stroke\", \"cci_Dementia\", \n",
    "            \"cci_Pulmonary\", \"cci_Rheumatic\", \"cci_PUD\", \"cci_Liver1\", \"cci_DM1\", \n",
    "            \"cci_DM2\", \"cci_Paralysis\", \"cci_Renal\", \"cci_Cancer1\", \"cci_Liver2\", \n",
    "            \"cci_Cancer2\", \"cci_HIV\", \n",
    "            \n",
    "            \"eci_Arrhythmia\", \"eci_Valvular\", \"eci_PHTN\",  \"eci_HTN1\", \"eci_HTN2\", \n",
    "            \"eci_NeuroOther\", \"eci_Hypothyroid\", \"eci_Lymphoma\", \"eci_Coagulopathy\", \n",
    "            \"eci_Obesity\", \"eci_WeightLoss\", \"eci_FluidsLytes\", \"eci_BloodLoss\",\n",
    "            \"eci_Anemia\", \"eci_Alcohol\", \"eci_Drugs\",\"eci_Psychoses\", \"eci_Depression\"]\n",
    "\n",
    "outcome = \"outcome_hospitalization\""
   ]
  },
  {
   "cell_type": "code",
   "execution_count": null,
   "metadata": {},
   "outputs": [],
   "source": []
  },
  {
   "cell_type": "code",
   "execution_count": 6,
   "metadata": {},
   "outputs": [],
   "source": [
    "X_train = df_train[variable].copy()\n",
    "y_train = df_train[outcome].copy()\n",
    "X_test = df_test[variable].copy()\n",
    "y_test = df_test[outcome].copy()"
   ]
  },
  {
   "cell_type": "code",
   "execution_count": 13,
   "metadata": {},
   "outputs": [
    {
     "data": {
      "application/vnd.microsoft.datawrangler.viewer.v0+json": {
       "columns": [
        {
         "name": "index",
         "rawType": "int64",
         "type": "integer"
        },
        {
         "name": "outcome_hospitalization",
         "rawType": "bool",
         "type": "boolean"
        }
       ],
       "ref": "b346d463-b7f7-457d-bba5-ee43150dfc5a",
       "rows": [
        [
         "0",
         "False"
        ],
        [
         "1",
         "False"
        ],
        [
         "2",
         "False"
        ],
        [
         "3",
         "True"
        ],
        [
         "4",
         "True"
        ]
       ],
       "shape": {
        "columns": 1,
        "rows": 5
       }
      },
      "text/plain": [
       "0    False\n",
       "1    False\n",
       "2    False\n",
       "3     True\n",
       "4     True\n",
       "Name: outcome_hospitalization, dtype: bool"
      ]
     },
     "execution_count": 13,
     "metadata": {},
     "output_type": "execute_result"
    }
   ],
   "source": [
    "y_train.head()"
   ]
  },
  {
   "cell_type": "code",
   "execution_count": 7,
   "metadata": {},
   "outputs": [
    {
     "data": {
      "application/vnd.microsoft.datawrangler.viewer.v0+json": {
       "columns": [
        {
         "name": "index",
         "rawType": "int64",
         "type": "integer"
        },
        {
         "name": "age",
         "rawType": "object",
         "type": "unknown"
        },
        {
         "name": "gender",
         "rawType": "object",
         "type": "unknown"
        },
        {
         "name": "n_ed_30d",
         "rawType": "object",
         "type": "unknown"
        },
        {
         "name": "n_ed_90d",
         "rawType": "object",
         "type": "unknown"
        },
        {
         "name": "n_ed_365d",
         "rawType": "object",
         "type": "unknown"
        },
        {
         "name": "n_hosp_30d",
         "rawType": "object",
         "type": "unknown"
        },
        {
         "name": "n_hosp_90d",
         "rawType": "object",
         "type": "unknown"
        },
        {
         "name": "n_hosp_365d",
         "rawType": "object",
         "type": "unknown"
        },
        {
         "name": "n_icu_30d",
         "rawType": "object",
         "type": "unknown"
        },
        {
         "name": "n_icu_90d",
         "rawType": "object",
         "type": "unknown"
        },
        {
         "name": "n_icu_365d",
         "rawType": "object",
         "type": "unknown"
        },
        {
         "name": "triage_temperature",
         "rawType": "object",
         "type": "unknown"
        },
        {
         "name": "triage_heartrate",
         "rawType": "object",
         "type": "unknown"
        },
        {
         "name": "triage_resprate",
         "rawType": "object",
         "type": "unknown"
        },
        {
         "name": "triage_o2sat",
         "rawType": "object",
         "type": "unknown"
        },
        {
         "name": "triage_sbp",
         "rawType": "object",
         "type": "unknown"
        },
        {
         "name": "triage_dbp",
         "rawType": "object",
         "type": "unknown"
        },
        {
         "name": "triage_pain",
         "rawType": "object",
         "type": "unknown"
        },
        {
         "name": "triage_acuity",
         "rawType": "object",
         "type": "unknown"
        },
        {
         "name": "chiefcom_chest_pain",
         "rawType": "object",
         "type": "unknown"
        },
        {
         "name": "chiefcom_abdominal_pain",
         "rawType": "object",
         "type": "unknown"
        },
        {
         "name": "chiefcom_headache",
         "rawType": "object",
         "type": "unknown"
        },
        {
         "name": "chiefcom_shortness_of_breath",
         "rawType": "object",
         "type": "unknown"
        },
        {
         "name": "chiefcom_back_pain",
         "rawType": "object",
         "type": "unknown"
        },
        {
         "name": "chiefcom_cough",
         "rawType": "object",
         "type": "unknown"
        },
        {
         "name": "chiefcom_nausea_vomiting",
         "rawType": "object",
         "type": "unknown"
        },
        {
         "name": "chiefcom_fever_chills",
         "rawType": "object",
         "type": "unknown"
        },
        {
         "name": "chiefcom_syncope",
         "rawType": "object",
         "type": "unknown"
        },
        {
         "name": "chiefcom_dizziness",
         "rawType": "object",
         "type": "unknown"
        },
        {
         "name": "cci_MI",
         "rawType": "object",
         "type": "unknown"
        },
        {
         "name": "cci_CHF",
         "rawType": "object",
         "type": "unknown"
        },
        {
         "name": "cci_PVD",
         "rawType": "object",
         "type": "unknown"
        },
        {
         "name": "cci_Stroke",
         "rawType": "object",
         "type": "unknown"
        },
        {
         "name": "cci_Dementia",
         "rawType": "object",
         "type": "unknown"
        },
        {
         "name": "cci_Pulmonary",
         "rawType": "object",
         "type": "unknown"
        },
        {
         "name": "cci_Rheumatic",
         "rawType": "object",
         "type": "unknown"
        },
        {
         "name": "cci_PUD",
         "rawType": "object",
         "type": "unknown"
        },
        {
         "name": "cci_Liver1",
         "rawType": "object",
         "type": "unknown"
        },
        {
         "name": "cci_DM1",
         "rawType": "object",
         "type": "unknown"
        },
        {
         "name": "cci_DM2",
         "rawType": "object",
         "type": "unknown"
        },
        {
         "name": "cci_Paralysis",
         "rawType": "object",
         "type": "unknown"
        },
        {
         "name": "cci_Renal",
         "rawType": "object",
         "type": "unknown"
        },
        {
         "name": "cci_Cancer1",
         "rawType": "object",
         "type": "unknown"
        },
        {
         "name": "cci_Liver2",
         "rawType": "object",
         "type": "unknown"
        },
        {
         "name": "cci_Cancer2",
         "rawType": "object",
         "type": "unknown"
        },
        {
         "name": "cci_HIV",
         "rawType": "object",
         "type": "unknown"
        },
        {
         "name": "eci_Arrhythmia",
         "rawType": "object",
         "type": "unknown"
        },
        {
         "name": "eci_Valvular",
         "rawType": "object",
         "type": "unknown"
        },
        {
         "name": "eci_PHTN",
         "rawType": "object",
         "type": "unknown"
        },
        {
         "name": "eci_HTN1",
         "rawType": "object",
         "type": "unknown"
        },
        {
         "name": "eci_HTN2",
         "rawType": "object",
         "type": "unknown"
        },
        {
         "name": "eci_NeuroOther",
         "rawType": "object",
         "type": "unknown"
        },
        {
         "name": "eci_Hypothyroid",
         "rawType": "object",
         "type": "unknown"
        },
        {
         "name": "eci_Lymphoma",
         "rawType": "object",
         "type": "unknown"
        },
        {
         "name": "eci_Coagulopathy",
         "rawType": "object",
         "type": "unknown"
        },
        {
         "name": "eci_Obesity",
         "rawType": "object",
         "type": "unknown"
        },
        {
         "name": "eci_WeightLoss",
         "rawType": "object",
         "type": "unknown"
        },
        {
         "name": "eci_FluidsLytes",
         "rawType": "object",
         "type": "unknown"
        },
        {
         "name": "eci_BloodLoss",
         "rawType": "object",
         "type": "unknown"
        },
        {
         "name": "eci_Anemia",
         "rawType": "object",
         "type": "unknown"
        },
        {
         "name": "eci_Alcohol",
         "rawType": "object",
         "type": "unknown"
        },
        {
         "name": "eci_Drugs",
         "rawType": "object",
         "type": "unknown"
        },
        {
         "name": "eci_Psychoses",
         "rawType": "object",
         "type": "unknown"
        },
        {
         "name": "eci_Depression",
         "rawType": "object",
         "type": "unknown"
        }
       ],
       "ref": "4f4a8a3e-0135-41f3-99e0-2a44f67733af",
       "rows": [
        [
         "0",
         "float64",
         "object",
         "int64",
         "int64",
         "int64",
         "int64",
         "int64",
         "int64",
         "int64",
         "int64",
         "int64",
         "float64",
         "float64",
         "float64",
         "float64",
         "float64",
         "float64",
         "float64",
         "float64",
         "bool",
         "bool",
         "bool",
         "bool",
         "bool",
         "bool",
         "bool",
         "bool",
         "bool",
         "bool",
         "int64",
         "int64",
         "int64",
         "int64",
         "int64",
         "int64",
         "int64",
         "int64",
         "int64",
         "int64",
         "int64",
         "int64",
         "int64",
         "int64",
         "int64",
         "int64",
         "int64",
         "int64",
         "int64",
         "int64",
         "int64",
         "int64",
         "int64",
         "int64",
         "int64",
         "int64",
         "int64",
         "int64",
         "int64",
         "int64",
         "int64",
         "int64",
         "int64",
         "int64",
         "int64"
        ]
       ],
       "shape": {
        "columns": 64,
        "rows": 1
       }
      },
      "text/html": [
       "<div>\n",
       "<style scoped>\n",
       "    .dataframe tbody tr th:only-of-type {\n",
       "        vertical-align: middle;\n",
       "    }\n",
       "\n",
       "    .dataframe tbody tr th {\n",
       "        vertical-align: top;\n",
       "    }\n",
       "\n",
       "    .dataframe thead th {\n",
       "        text-align: right;\n",
       "    }\n",
       "</style>\n",
       "<table border=\"1\" class=\"dataframe\">\n",
       "  <thead>\n",
       "    <tr style=\"text-align: right;\">\n",
       "      <th></th>\n",
       "      <th>age</th>\n",
       "      <th>gender</th>\n",
       "      <th>n_ed_30d</th>\n",
       "      <th>n_ed_90d</th>\n",
       "      <th>n_ed_365d</th>\n",
       "      <th>n_hosp_30d</th>\n",
       "      <th>n_hosp_90d</th>\n",
       "      <th>n_hosp_365d</th>\n",
       "      <th>n_icu_30d</th>\n",
       "      <th>n_icu_90d</th>\n",
       "      <th>n_icu_365d</th>\n",
       "      <th>triage_temperature</th>\n",
       "      <th>triage_heartrate</th>\n",
       "      <th>triage_resprate</th>\n",
       "      <th>triage_o2sat</th>\n",
       "      <th>triage_sbp</th>\n",
       "      <th>triage_dbp</th>\n",
       "      <th>triage_pain</th>\n",
       "      <th>triage_acuity</th>\n",
       "      <th>chiefcom_chest_pain</th>\n",
       "      <th>chiefcom_abdominal_pain</th>\n",
       "      <th>chiefcom_headache</th>\n",
       "      <th>chiefcom_shortness_of_breath</th>\n",
       "      <th>chiefcom_back_pain</th>\n",
       "      <th>chiefcom_cough</th>\n",
       "      <th>chiefcom_nausea_vomiting</th>\n",
       "      <th>chiefcom_fever_chills</th>\n",
       "      <th>chiefcom_syncope</th>\n",
       "      <th>chiefcom_dizziness</th>\n",
       "      <th>cci_MI</th>\n",
       "      <th>cci_CHF</th>\n",
       "      <th>cci_PVD</th>\n",
       "      <th>cci_Stroke</th>\n",
       "      <th>cci_Dementia</th>\n",
       "      <th>cci_Pulmonary</th>\n",
       "      <th>cci_Rheumatic</th>\n",
       "      <th>cci_PUD</th>\n",
       "      <th>cci_Liver1</th>\n",
       "      <th>cci_DM1</th>\n",
       "      <th>cci_DM2</th>\n",
       "      <th>cci_Paralysis</th>\n",
       "      <th>cci_Renal</th>\n",
       "      <th>cci_Cancer1</th>\n",
       "      <th>cci_Liver2</th>\n",
       "      <th>cci_Cancer2</th>\n",
       "      <th>cci_HIV</th>\n",
       "      <th>eci_Arrhythmia</th>\n",
       "      <th>eci_Valvular</th>\n",
       "      <th>eci_PHTN</th>\n",
       "      <th>eci_HTN1</th>\n",
       "      <th>eci_HTN2</th>\n",
       "      <th>eci_NeuroOther</th>\n",
       "      <th>eci_Hypothyroid</th>\n",
       "      <th>eci_Lymphoma</th>\n",
       "      <th>eci_Coagulopathy</th>\n",
       "      <th>eci_Obesity</th>\n",
       "      <th>eci_WeightLoss</th>\n",
       "      <th>eci_FluidsLytes</th>\n",
       "      <th>eci_BloodLoss</th>\n",
       "      <th>eci_Anemia</th>\n",
       "      <th>eci_Alcohol</th>\n",
       "      <th>eci_Drugs</th>\n",
       "      <th>eci_Psychoses</th>\n",
       "      <th>eci_Depression</th>\n",
       "    </tr>\n",
       "  </thead>\n",
       "  <tbody>\n",
       "    <tr>\n",
       "      <th>0</th>\n",
       "      <td>float64</td>\n",
       "      <td>object</td>\n",
       "      <td>int64</td>\n",
       "      <td>int64</td>\n",
       "      <td>int64</td>\n",
       "      <td>int64</td>\n",
       "      <td>int64</td>\n",
       "      <td>int64</td>\n",
       "      <td>int64</td>\n",
       "      <td>int64</td>\n",
       "      <td>int64</td>\n",
       "      <td>float64</td>\n",
       "      <td>float64</td>\n",
       "      <td>float64</td>\n",
       "      <td>float64</td>\n",
       "      <td>float64</td>\n",
       "      <td>float64</td>\n",
       "      <td>float64</td>\n",
       "      <td>float64</td>\n",
       "      <td>bool</td>\n",
       "      <td>bool</td>\n",
       "      <td>bool</td>\n",
       "      <td>bool</td>\n",
       "      <td>bool</td>\n",
       "      <td>bool</td>\n",
       "      <td>bool</td>\n",
       "      <td>bool</td>\n",
       "      <td>bool</td>\n",
       "      <td>bool</td>\n",
       "      <td>int64</td>\n",
       "      <td>int64</td>\n",
       "      <td>int64</td>\n",
       "      <td>int64</td>\n",
       "      <td>int64</td>\n",
       "      <td>int64</td>\n",
       "      <td>int64</td>\n",
       "      <td>int64</td>\n",
       "      <td>int64</td>\n",
       "      <td>int64</td>\n",
       "      <td>int64</td>\n",
       "      <td>int64</td>\n",
       "      <td>int64</td>\n",
       "      <td>int64</td>\n",
       "      <td>int64</td>\n",
       "      <td>int64</td>\n",
       "      <td>int64</td>\n",
       "      <td>int64</td>\n",
       "      <td>int64</td>\n",
       "      <td>int64</td>\n",
       "      <td>int64</td>\n",
       "      <td>int64</td>\n",
       "      <td>int64</td>\n",
       "      <td>int64</td>\n",
       "      <td>int64</td>\n",
       "      <td>int64</td>\n",
       "      <td>int64</td>\n",
       "      <td>int64</td>\n",
       "      <td>int64</td>\n",
       "      <td>int64</td>\n",
       "      <td>int64</td>\n",
       "      <td>int64</td>\n",
       "      <td>int64</td>\n",
       "      <td>int64</td>\n",
       "      <td>int64</td>\n",
       "    </tr>\n",
       "  </tbody>\n",
       "</table>\n",
       "</div>"
      ],
      "text/plain": [
       "       age  gender n_ed_30d n_ed_90d n_ed_365d n_hosp_30d n_hosp_90d  \\\n",
       "0  float64  object    int64    int64     int64      int64      int64   \n",
       "\n",
       "  n_hosp_365d n_icu_30d n_icu_90d n_icu_365d triage_temperature  \\\n",
       "0       int64     int64     int64      int64            float64   \n",
       "\n",
       "  triage_heartrate triage_resprate triage_o2sat triage_sbp triage_dbp  \\\n",
       "0          float64         float64      float64    float64    float64   \n",
       "\n",
       "  triage_pain triage_acuity chiefcom_chest_pain chiefcom_abdominal_pain  \\\n",
       "0     float64       float64                bool                    bool   \n",
       "\n",
       "  chiefcom_headache chiefcom_shortness_of_breath chiefcom_back_pain  \\\n",
       "0              bool                         bool               bool   \n",
       "\n",
       "  chiefcom_cough chiefcom_nausea_vomiting chiefcom_fever_chills  \\\n",
       "0           bool                     bool                  bool   \n",
       "\n",
       "  chiefcom_syncope chiefcom_dizziness cci_MI cci_CHF cci_PVD cci_Stroke  \\\n",
       "0             bool               bool  int64   int64   int64      int64   \n",
       "\n",
       "  cci_Dementia cci_Pulmonary cci_Rheumatic cci_PUD cci_Liver1 cci_DM1 cci_DM2  \\\n",
       "0        int64         int64         int64   int64      int64   int64   int64   \n",
       "\n",
       "  cci_Paralysis cci_Renal cci_Cancer1 cci_Liver2 cci_Cancer2 cci_HIV  \\\n",
       "0         int64     int64       int64      int64       int64   int64   \n",
       "\n",
       "  eci_Arrhythmia eci_Valvular eci_PHTN eci_HTN1 eci_HTN2 eci_NeuroOther  \\\n",
       "0          int64        int64    int64    int64    int64          int64   \n",
       "\n",
       "  eci_Hypothyroid eci_Lymphoma eci_Coagulopathy eci_Obesity eci_WeightLoss  \\\n",
       "0           int64        int64            int64       int64          int64   \n",
       "\n",
       "  eci_FluidsLytes eci_BloodLoss eci_Anemia eci_Alcohol eci_Drugs  \\\n",
       "0           int64         int64      int64       int64     int64   \n",
       "\n",
       "  eci_Psychoses eci_Depression  \n",
       "0         int64          int64  "
      ]
     },
     "execution_count": 7,
     "metadata": {},
     "output_type": "execute_result"
    }
   ],
   "source": [
    "X_train.dtypes.to_frame().T"
   ]
  },
  {
   "cell_type": "code",
   "execution_count": 8,
   "metadata": {},
   "outputs": [],
   "source": [
    "encoder = LabelEncoder()\n",
    "X_train['gender'] = encoder.fit_transform(X_train['gender'])\n",
    "X_test['gender'] = encoder.transform(X_test['gender'])"
   ]
  },
  {
   "cell_type": "code",
   "execution_count": 9,
   "metadata": {},
   "outputs": [
    {
     "name": "stdout",
     "output_type": "stream",
     "text": [
      "class ratio\n",
      "positive : negative = 0.8972139173649365 : 1\n"
     ]
    }
   ],
   "source": [
    "print('class ratio')\n",
    "ratio = y_train.sum()/(~y_train).sum()\n",
    "print('positive : negative =', ratio, ': 1')"
   ]
  },
  {
   "cell_type": "markdown",
   "metadata": {},
   "source": [
    "### 3.  Modeling script"
   ]
  },
  {
   "cell_type": "code",
   "execution_count": 10,
   "metadata": {},
   "outputs": [],
   "source": [
    "# Containers for all results\n",
    "result_list = []"
   ]
  },
  {
   "cell_type": "code",
   "execution_count": 14,
   "metadata": {},
   "outputs": [
    {
     "data": {
      "application/vnd.microsoft.datawrangler.viewer.v0+json": {
       "columns": [
        {
         "name": "outcome_hospitalization",
         "rawType": "bool",
         "type": "boolean"
        },
        {
         "name": "count",
         "rawType": "int64",
         "type": "integer"
        }
       ],
       "ref": "07479434-7808-4269-bcb5-683651519a8c",
       "rows": [
        [
         "False",
         "176269"
        ],
        [
         "True",
         "158151"
        ]
       ],
       "shape": {
        "columns": 1,
        "rows": 2
       }
      },
      "text/plain": [
       "outcome_hospitalization\n",
       "False    176269\n",
       "True     158151\n",
       "Name: count, dtype: int64"
      ]
     },
     "execution_count": 14,
     "metadata": {},
     "output_type": "execute_result"
    }
   ],
   "source": [
    "y_train.value_counts()"
   ]
  },
  {
   "cell_type": "code",
   "execution_count": 11,
   "metadata": {},
   "outputs": [
    {
     "name": "stdout",
     "output_type": "stream",
     "text": [
      "Logistic Regression:\n"
     ]
    },
    {
     "name": "stderr",
     "output_type": "stream",
     "text": [
      "/home/olavo-dalberto/gpt_ed_assistant/.venv/lib/python3.11/site-packages/sklearn/linear_model/_logistic.py:469: ConvergenceWarning: lbfgs failed to converge (status=1):\n",
      "STOP: TOTAL NO. OF ITERATIONS REACHED LIMIT.\n",
      "\n",
      "Increase the number of iterations (max_iter) or scale the data as shown in:\n",
      "    https://scikit-learn.org/stable/modules/preprocessing.html\n",
      "Please also refer to the documentation for alternative solver options:\n",
      "    https://scikit-learn.org/stable/modules/linear_model.html#logistic-regression\n",
      "  n_iter_i = _check_optimize_result(\n"
     ]
    },
    {
     "name": "stdout",
     "output_type": "stream",
     "text": [
      "Training time: 8.946414709091187 seconds\n",
      "AUC: 0.805232931407965\n",
      "AUPRC: 0.7671005764631651\n",
      "Sensitivity: 0.7548426150121066\n",
      "Specificity: 0.7129239939031327\n",
      "Score thresold: 0.4365935490818854\n",
      "2.5 97.5\n"
     ]
    },
    {
     "data": {
      "image/png": "[encoded data removed]",
      "text/plain": [
       "<Figure size 640x480 with 1 Axes>"
      ]
     },
     "metadata": {},
     "output_type": "display_data"
    },
    {
     "data": {
      "image/png": "[encoded data removed]",
      "text/plain": [
       "<Figure size 640x480 with 1 Axes>"
      ]
     },
     "metadata": {},
     "output_type": "display_data"
    }
   ],
   "source": [
    "print(\"Logistic Regression:\")\n",
    "from sklearn.linear_model import LogisticRegression\n",
    "logreg=LogisticRegression(random_state=random_seed)\n",
    "start = time.time()\n",
    "logreg.fit(X_train,y_train)\n",
    "runtime = time.time()-start\n",
    "import pickle\n",
    "with open('task1_logreg.pickle', 'wb') as model_dump:\n",
    "    pickle.dump(logreg, model_dump)\n",
    "print('Training time:', runtime, 'seconds')\n",
    "probs = logreg.predict_proba(X_test)\n",
    "result = PlotROCCurve(probs[:,1],y_test, ci=confidence_interval, random_seed=random_seed)\n",
    "\n",
    "results = [\"LR\"]\n",
    "results.extend(result)\n",
    "results.append(runtime)\n",
    "result_list.append(results)\n",
    "\n"
   ]
  },
  {
   "cell_type": "code",
   "execution_count": 15,
   "metadata": {},
   "outputs": [
    {
     "name": "stdout",
     "output_type": "stream",
     "text": [
      "RandomForest:\n",
      "Training time: 58.86539626121521 seconds\n",
      "AUC: 0.8186111317368394\n",
      "AUPRC: 0.7852771378272476\n",
      "Sensitivity: 0.7568603712671509\n",
      "Specificity: 0.7276201742612098\n",
      "Score thresold: 0.4864444444444444\n",
      "2.5 97.5\n"
     ]
    },
    {
     "data": {
      "image/png": "[encoded data removed]",
      "text/plain": [
       "<Figure size 640x480 with 1 Axes>"
      ]
     },
     "metadata": {},
     "output_type": "display_data"
    },
    {
     "data": {
      "image/png": "[encoded data removed]",
      "text/plain": [
       "<Figure size 640x480 with 1 Axes>"
      ]
     },
     "metadata": {},
     "output_type": "display_data"
    },
    {
     "name": "stdout",
     "output_type": "stream",
     "text": [
      "[0.1269717  0.01287127 0.00774949 0.01150576 0.02225346 0.00593039\n",
      " 0.01479605 0.026903   0.00074059 0.00188665 0.00538353 0.07805504\n",
      " 0.08533282 0.04018058 0.04232435 0.08698597 0.08254188 0.04777831\n",
      " 0.11210409 0.00694249 0.00889325 0.00511579 0.00052202 0.00424721\n",
      " 0.00279628 0.0038554  0.00421395 0.00344978 0.00412876 0.00344715\n",
      " 0.00547499 0.00283584 0.00303017 0.00140519 0.00621392 0.00216508\n",
      " 0.00152288 0.00378268 0.0058562  0.00346972 0.00124656 0.00553542\n",
      " 0.00447091 0.00142471 0.00194697 0.00104943 0.00846853 0.00281406\n",
      " 0.00245006 0.00541909 0.01021427 0.00455732 0.00427287 0.0009002\n",
      " 0.00392461 0.0047874  0.00355221 0.01317001 0.00116201 0.00339781\n",
      " 0.00485694 0.00402917 0.00278305 0.00790273]\n"
     ]
    }
   ],
   "source": [
    "print(\"RandomForest:\")\n",
    "from sklearn.ensemble import RandomForestClassifier\n",
    "rf= RandomForestClassifier(random_state=random_seed)\n",
    "start = time.time()\n",
    "rf.fit(X_train,y_train)\n",
    "runtime = time.time()-start\n",
    "print('Training time:', runtime, 'seconds')\n",
    "probs = rf.predict_proba(X_test)\n",
    "result = PlotROCCurve(probs[:,1],y_test, ci=confidence_interval, random_seed=random_seed)\n",
    "importances = rf.feature_importances_\n",
    "print(importances)\n",
    "\n",
    "results = [\"RF\"]\n",
    "results.extend(result)\n",
    "results.append(runtime)\n",
    "result_list.append(results)"
   ]
  },
  {
   "cell_type": "code",
   "execution_count": 16,
   "metadata": {},
   "outputs": [
    {
     "name": "stdout",
     "output_type": "stream",
     "text": [
      "GradientBoosting:\n",
      "Training time: 56.10325217247009 seconds\n",
      "AUC: 0.8186500715016581\n",
      "AUPRC: 0.7921709062646642\n",
      "Sensitivity: 0.754161622276029\n",
      "Specificity: 0.7276429237664082\n",
      "Score thresold: 0.4759241352590424\n",
      "2.5 97.5\n"
     ]
    },
    {
     "data": {
      "image/png": "[encoded data removed]",
      "text/plain": [
       "<Figure size 640x480 with 1 Axes>"
      ]
     },
     "metadata": {},
     "output_type": "display_data"
    },
    {
     "data": {
      "image/png": "[encoded data removed]",
      "text/plain": [
       "<Figure size 640x480 with 1 Axes>"
      ]
     },
     "metadata": {},
     "output_type": "display_data"
    }
   ],
   "source": [
    "print(\"GradientBoosting:\")\n",
    "from sklearn.ensemble import GradientBoostingClassifier\n",
    "gb = GradientBoostingClassifier(random_state=random_seed)\n",
    "start = time.time()\n",
    "gb.fit(X_train, y_train)\n",
    "runtime = time.time()-start\n",
    "print('Training time:', runtime, 'seconds')\n",
    "probs = gb.predict_proba(X_test)\n",
    "result = PlotROCCurve(probs[:,1],y_test, ci=confidence_interval, random_seed=random_seed)\n",
    "\n",
    "results = [\"GB\"]\n",
    "results.extend(result)\n",
    "results.append(runtime)\n",
    "result_list.append(results)"
   ]
  },
  {
   "cell_type": "code",
   "execution_count": 30,
   "metadata": {},
   "outputs": [],
   "source": [
    "import keras\n",
    "from keras.saving import register_keras_serializable\n",
    "\n",
    "@register_keras_serializable(package=\"custom\", name=\"MLP\")\n",
    "class MLP(keras.Model):\n",
    "    def __init__(self, **kwargs):\n",
    "        super().__init__(**kwargs)   # passa name, trainable, dtype...\n",
    "        self.dense_1 = keras.layers.Dense(128, activation='relu')\n",
    "        self.dense_2 = keras.layers.Dense(64, activation='relu')\n",
    "        self.classifier = keras.layers.Dense(1, activation='sigmoid')\n",
    "\n",
    "    def call(self, x):\n",
    "        x = self.dense_1(x)\n",
    "        x = self.dense_2(x)\n",
    "        return self.classifier(x)\n",
    "\n",
    "    def get_config(self):\n",
    "        config = super().get_config()\n",
    "        # aqui você pode adicionar hiperparâmetros próprios, se tivesse\n",
    "        return config"
   ]
  },
  {
   "cell_type": "code",
   "execution_count": 31,
   "metadata": {},
   "outputs": [
    {
     "name": "stdout",
     "output_type": "stream",
     "text": [
      "Epoch 1/20\n",
      "\u001b[1m1673/1673\u001b[0m \u001b[32m━━━━━━━━━━━━━━━━━━━━\u001b[0m\u001b[37m\u001b[0m \u001b[1m4s\u001b[0m 1ms/step - AUC: 0.7724 - accuracy: 0.7070 - auprc: 0.7299 - loss: 0.5983 - precision_4: 0.7006 - recall_4: 0.6642 - true_negatives_4: 131391.0000 - true_positives_4: 105040.0000\n",
      "Epoch 2/20\n",
      "\u001b[1m1673/1673\u001b[0m \u001b[32m━━━━━━━━━━━━━━━━━━━━\u001b[0m\u001b[37m\u001b[0m \u001b[1m2s\u001b[0m 1ms/step - AUC: 0.8022 - accuracy: 0.7273 - auprc: 0.7729 - loss: 0.5409 - precision_4: 0.7172 - recall_4: 0.6990 - true_negatives_4: 132679.0000 - true_positives_4: 110547.0000\n",
      "Epoch 3/20\n",
      "\u001b[1m1673/1673\u001b[0m \u001b[32m━━━━━━━━━━━━━━━━━━━━\u001b[0m\u001b[37m\u001b[0m \u001b[1m2s\u001b[0m 1ms/step - AUC: 0.8055 - accuracy: 0.7305 - auprc: 0.7765 - loss: 0.5364 - precision_4: 0.7182 - recall_4: 0.7078 - true_negatives_4: 132343.0000 - true_positives_4: 111938.0000\n",
      "Epoch 4/20\n",
      "\u001b[1m1673/1673\u001b[0m \u001b[32m━━━━━━━━━━━━━━━━━━━━\u001b[0m\u001b[37m\u001b[0m \u001b[1m2s\u001b[0m 1ms/step - AUC: 0.8094 - accuracy: 0.7332 - auprc: 0.7804 - loss: 0.5313 - precision_4: 0.7195 - recall_4: 0.7142 - true_negatives_4: 132235.0000 - true_positives_4: 112957.0000\n",
      "Epoch 5/20\n",
      "\u001b[1m1673/1673\u001b[0m \u001b[32m━━━━━━━━━━━━━━━━━━━━\u001b[0m\u001b[37m\u001b[0m \u001b[1m2s\u001b[0m 1ms/step - AUC: 0.8115 - accuracy: 0.7350 - auprc: 0.7825 - loss: 0.5285 - precision_4: 0.7200 - recall_4: 0.7196 - true_negatives_4: 132006.0000 - true_positives_4: 113802.0000\n",
      "Epoch 6/20\n",
      "\u001b[1m1673/1673\u001b[0m \u001b[32m━━━━━━━━━━━━━━━━━━━━\u001b[0m\u001b[37m\u001b[0m \u001b[1m2s\u001b[0m 1ms/step - AUC: 0.8130 - accuracy: 0.7362 - auprc: 0.7845 - loss: 0.5264 - precision_4: 0.7203 - recall_4: 0.7229 - true_negatives_4: 131869.0000 - true_positives_4: 114332.0000\n",
      "Epoch 7/20\n",
      "\u001b[1m1673/1673\u001b[0m \u001b[32m━━━━━━━━━━━━━━━━━━━━\u001b[0m\u001b[37m\u001b[0m \u001b[1m2s\u001b[0m 1ms/step - AUC: 0.8139 - accuracy: 0.7373 - auprc: 0.7861 - loss: 0.5251 - precision_4: 0.7205 - recall_4: 0.7262 - true_negatives_4: 131716.0000 - true_positives_4: 114843.0000\n",
      "Epoch 8/20\n",
      "\u001b[1m1673/1673\u001b[0m \u001b[32m━━━━━━━━━━━━━━━━━━━━\u001b[0m\u001b[37m\u001b[0m \u001b[1m2s\u001b[0m 1ms/step - AUC: 0.8148 - accuracy: 0.7376 - auprc: 0.7871 - loss: 0.5239 - precision_4: 0.7202 - recall_4: 0.7278 - true_negatives_4: 131557.0000 - true_positives_4: 115109.0000\n",
      "Epoch 9/20\n",
      "\u001b[1m1673/1673\u001b[0m \u001b[32m━━━━━━━━━━━━━━━━━━━━\u001b[0m\u001b[37m\u001b[0m \u001b[1m2s\u001b[0m 1ms/step - AUC: 0.8157 - accuracy: 0.7385 - auprc: 0.7886 - loss: 0.5229 - precision_4: 0.7210 - recall_4: 0.7293 - true_negatives_4: 131626.0000 - true_positives_4: 115346.0000\n",
      "Epoch 10/20\n",
      "\u001b[1m1673/1673\u001b[0m \u001b[32m━━━━━━━━━━━━━━━━━━━━\u001b[0m\u001b[37m\u001b[0m \u001b[1m2s\u001b[0m 1ms/step - AUC: 0.8173 - accuracy: 0.7397 - auprc: 0.7903 - loss: 0.5208 - precision_4: 0.7213 - recall_4: 0.7326 - true_negatives_4: 131506.0000 - true_positives_4: 115863.0000\n",
      "Epoch 11/20\n",
      "\u001b[1m1673/1673\u001b[0m \u001b[32m━━━━━━━━━━━━━━━━━━━━\u001b[0m\u001b[37m\u001b[0m \u001b[1m2s\u001b[0m 1ms/step - AUC: 0.8172 - accuracy: 0.7398 - auprc: 0.7903 - loss: 0.5209 - precision_4: 0.7225 - recall_4: 0.7304 - true_negatives_4: 131906.0000 - true_positives_4: 115514.0000\n",
      "Epoch 12/20\n",
      "\u001b[1m1673/1673\u001b[0m \u001b[32m━━━━━━━━━━━━━━━━━━━━\u001b[0m\u001b[37m\u001b[0m \u001b[1m2s\u001b[0m 1ms/step - AUC: 0.8181 - accuracy: 0.7404 - auprc: 0.7915 - loss: 0.5197 - precision_4: 0.7226 - recall_4: 0.7323 - true_negatives_4: 131811.0000 - true_positives_4: 115810.0000\n",
      "Epoch 13/20\n",
      "\u001b[1m1673/1673\u001b[0m \u001b[32m━━━━━━━━━━━━━━━━━━━━\u001b[0m\u001b[37m\u001b[0m \u001b[1m2s\u001b[0m 1ms/step - AUC: 0.8189 - accuracy: 0.7411 - auprc: 0.7926 - loss: 0.5188 - precision_4: 0.7234 - recall_4: 0.7327 - true_negatives_4: 131970.0000 - true_positives_4: 115876.0000\n",
      "Epoch 14/20\n",
      "\u001b[1m1673/1673\u001b[0m \u001b[32m━━━━━━━━━━━━━━━━━━━━\u001b[0m\u001b[37m\u001b[0m \u001b[1m2s\u001b[0m 1ms/step - AUC: 0.8197 - accuracy: 0.7416 - auprc: 0.7933 - loss: 0.5178 - precision_4: 0.7236 - recall_4: 0.7340 - true_negatives_4: 131937.0000 - true_positives_4: 116084.0000\n",
      "Epoch 15/20\n",
      "\u001b[1m1673/1673\u001b[0m \u001b[32m━━━━━━━━━━━━━━━━━━━━\u001b[0m\u001b[37m\u001b[0m \u001b[1m2s\u001b[0m 1ms/step - AUC: 0.8198 - accuracy: 0.7417 - auprc: 0.7935 - loss: 0.5176 - precision_4: 0.7233 - recall_4: 0.7348 - true_negatives_4: 131816.0000 - true_positives_4: 116212.0000\n",
      "Epoch 16/20\n",
      "\u001b[1m1673/1673\u001b[0m \u001b[32m━━━━━━━━━━━━━━━━━━━━\u001b[0m\u001b[37m\u001b[0m \u001b[1m2s\u001b[0m 1ms/step - AUC: 0.8204 - accuracy: 0.7420 - auprc: 0.7945 - loss: 0.5168 - precision_4: 0.7237 - recall_4: 0.7350 - true_negatives_4: 131886.0000 - true_positives_4: 116243.0000\n",
      "Epoch 17/20\n",
      "\u001b[1m1673/1673\u001b[0m \u001b[32m━━━━━━━━━━━━━━━━━━━━\u001b[0m\u001b[37m\u001b[0m \u001b[1m2s\u001b[0m 1ms/step - AUC: 0.8206 - accuracy: 0.7424 - auprc: 0.7945 - loss: 0.5167 - precision_4: 0.7238 - recall_4: 0.7362 - true_negatives_4: 131839.0000 - true_positives_4: 116427.0000\n",
      "Epoch 18/20\n",
      "\u001b[1m1673/1673\u001b[0m \u001b[32m━━━━━━━━━━━━━━━━━━━━\u001b[0m\u001b[37m\u001b[0m \u001b[1m3s\u001b[0m 2ms/step - AUC: 0.8207 - accuracy: 0.7423 - auprc: 0.7951 - loss: 0.5164 - precision_4: 0.7236 - recall_4: 0.7363 - true_negatives_4: 131797.0000 - true_positives_4: 116440.0000\n",
      "Epoch 19/20\n",
      "\u001b[1m1673/1673\u001b[0m \u001b[32m━━━━━━━━━━━━━━━━━━━━\u001b[0m\u001b[37m\u001b[0m \u001b[1m2s\u001b[0m 1ms/step - AUC: 0.8214 - accuracy: 0.7428 - auprc: 0.7957 - loss: 0.5156 - precision_4: 0.7243 - recall_4: 0.7366 - true_negatives_4: 131920.0000 - true_positives_4: 116496.0000\n",
      "Epoch 20/20\n",
      "\u001b[1m1673/1673\u001b[0m \u001b[32m━━━━━━━━━━━━━━━━━━━━\u001b[0m\u001b[37m\u001b[0m \u001b[1m2s\u001b[0m 1ms/step - AUC: 0.8212 - accuracy: 0.7428 - auprc: 0.7957 - loss: 0.5158 - precision_4: 0.7240 - recall_4: 0.7370 - true_negatives_4: 131838.0000 - true_positives_4: 116565.0000\n",
      "Training time: 47.179983377456665 seconds\n"
     ]
    }
   ],
   "source": [
    "# skip this cell if not retraining\n",
    "mlp = MLP()\n",
    "mlp.compile(loss='binary_crossentropy', \n",
    "              optimizer=optimizers.Adam(learning_rate=0.001), \n",
    "              metrics=['accuracy', metrics.AUC(name='AUC'), metrics.AUC(name='auprc', curve='PR'), \n",
    "                       metrics.TruePositives(), metrics.TrueNegatives(), metrics.Precision(), metrics.Recall()])\n",
    "start = time.time()\n",
    "mlp.fit(X_train.astype(np.float32), y_train, batch_size=200, epochs=20)\n",
    "runtime = time.time() - start\n",
    "print('Training time:', runtime, 'seconds')\n",
    "mlp.save('hospitalization_triage_mlp.keras')"
   ]
  },
  {
   "cell_type": "code",
   "execution_count": 32,
   "metadata": {},
   "outputs": [
    {
     "name": "stdout",
     "output_type": "stream",
     "text": [
      "MLP:\n",
      "\u001b[1m2613/2613\u001b[0m \u001b[32m━━━━━━━━━━━━━━━━━━━━\u001b[0m\u001b[37m\u001b[0m \u001b[1m1s\u001b[0m 448us/step\n",
      "AUC: 0.8222300358999678\n",
      "AUPRC: 0.7956815847470299\n",
      "Sensitivity: 0.7551200564971752\n",
      "Specificity: 0.734149282253111\n",
      "Score thresold: 0.560907\n",
      "2.5 97.5\n"
     ]
    },
    {
     "data": {
      "image/png": "[encoded data removed]",
      "text/plain": [
       "<Figure size 640x480 with 1 Axes>"
      ]
     },
     "metadata": {},
     "output_type": "display_data"
    },
    {
     "data": {
      "image/png": "[encoded data removed]",
      "text/plain": [
       "<Figure size 640x480 with 1 Axes>"
      ]
     },
     "metadata": {},
     "output_type": "display_data"
    }
   ],
   "source": [
    "print(\"MLP:\")\n",
    "mlp = load_model('hospitalization_triage_mlp.keras')\n",
    "probs = mlp.predict(X_test.astype(np.float32))\n",
    "result = PlotROCCurve(probs,y_test, ci=confidence_interval, random_seed=random_seed)\n",
    "results = [\"MLP\"]\n",
    "results.extend(result)\n",
    "results.append(runtime)\n",
    "result_list.append(results)"
   ]
  },
  {
   "cell_type": "code",
   "execution_count": 33,
   "metadata": {
    "scrolled": true
   },
   "outputs": [],
   "source": [
    "def get_score_performance(s, random_seed=0):\n",
    "    print(s)\n",
    "    score = np.array(df_test[s])\n",
    "    result = PlotROCCurve(score,y_test, ci=confidence_interval, random_seed=random_seed)\n",
    "    runtime = 0\n",
    "    results = [s]\n",
    "    results.extend(result)\n",
    "    results.append(runtime)\n",
    "    result_list.append(results)\n"
   ]
  },
  {
   "cell_type": "code",
   "execution_count": 34,
   "metadata": {},
   "outputs": [
    {
     "name": "stdout",
     "output_type": "stream",
     "text": [
      "esi\n",
      "AUC: 0.7102458587821618\n",
      "AUPRC: 0.6309947465538657\n",
      "Sensitivity: 0.5828541162227603\n",
      "Specificity: 0.7818777441590645\n",
      "Score thresold: -2.0\n",
      "2.5 97.5\n"
     ]
    },
    {
     "data": {
      "image/png": "[encoded data removed]",
      "text/plain": [
       "<Figure size 640x480 with 1 Axes>"
      ]
     },
     "metadata": {},
     "output_type": "display_data"
    },
    {
     "data": {
      "image/png": "[encoded data removed]",
      "text/plain": [
       "<Figure size 640x480 with 1 Axes>"
      ]
     },
     "metadata": {},
     "output_type": "display_data"
    }
   ],
   "source": [
    "df_test[\"esi\"] = -df_test[\"triage_acuity\"]\n",
    "get_score_performance(\"esi\", random_seed=random_seed)"
   ]
  },
  {
   "cell_type": "code",
   "execution_count": 36,
   "metadata": {
    "scrolled": true
   },
   "outputs": [
    {
     "name": "stdout",
     "output_type": "stream",
     "text": [
      "score_NEWS\n",
      "AUC: 0.582425578271215\n",
      "AUPRC: 0.5580058453993274\n",
      "Sensitivity: 0.5673426150121066\n",
      "Specificity: 0.541779466296608\n",
      "Score thresold: 1.0\n",
      "2.5 97.5\n"
     ]
    },
    {
     "data": {
      "image/png": "[encoded data removed]",
      "text/plain": [
       "<Figure size 640x480 with 1 Axes>"
      ]
     },
     "metadata": {},
     "output_type": "display_data"
    },
    {
     "data": {
      "image/png": "[encoded data removed]",
      "text/plain": [
       "<Figure size 640x480 with 1 Axes>"
      ]
     },
     "metadata": {},
     "output_type": "display_data"
    }
   ],
   "source": [
    "get_score_performance(\"score_NEWS\", random_seed=random_seed)"
   ]
  },
  {
   "cell_type": "code",
   "execution_count": 37,
   "metadata": {},
   "outputs": [
    {
     "name": "stdout",
     "output_type": "stream",
     "text": [
      "score_NEWS2\n",
      "AUC: 0.5643522789661105\n",
      "AUPRC: 0.5407322747843148\n",
      "Sensitivity: 0.5199757869249395\n",
      "Specificity: 0.5641649794116979\n",
      "Score thresold: 1.0\n",
      "2.5 97.5\n"
     ]
    },
    {
     "data": {
      "image/png": "[encoded data removed]",
      "text/plain": [
       "<Figure size 640x480 with 1 Axes>"
      ]
     },
     "metadata": {},
     "output_type": "display_data"
    },
    {
     "data": {
      "image/png": "[encoded data removed]",
      "text/plain": [
       "<Figure size 640x480 with 1 Axes>"
      ]
     },
     "metadata": {},
     "output_type": "display_data"
    }
   ],
   "source": [
    "get_score_performance(\"score_NEWS2\", random_seed=random_seed)"
   ]
  },
  {
   "cell_type": "code",
   "execution_count": 38,
   "metadata": {},
   "outputs": [
    {
     "name": "stdout",
     "output_type": "stream",
     "text": [
      "score_REMS\n",
      "AUC: 0.6712545277299118\n",
      "AUPRC: 0.6098651467928164\n",
      "Sensitivity: 0.7166817998385795\n",
      "Specificity: 0.556111654571513\n",
      "Score thresold: 3.0\n",
      "2.5 97.5\n"
     ]
    },
    {
     "data": {
      "image/png": "[encoded data removed]",
      "text/plain": [
       "<Figure size 640x480 with 1 Axes>"
      ]
     },
     "metadata": {},
     "output_type": "display_data"
    },
    {
     "data": {
      "image/png": "[encoded data removed]",
      "text/plain": [
       "<Figure size 640x480 with 1 Axes>"
      ]
     },
     "metadata": {},
     "output_type": "display_data"
    }
   ],
   "source": [
    "get_score_performance(\"score_REMS\", random_seed=random_seed)"
   ]
  },
  {
   "cell_type": "code",
   "execution_count": 39,
   "metadata": {},
   "outputs": [
    {
     "name": "stdout",
     "output_type": "stream",
     "text": [
      "score_MEWS\n",
      "AUC: 0.5614306599327581\n",
      "AUPRC: 0.5256156404482384\n",
      "Sensitivity: 0.30130145278450365\n",
      "Specificity: 0.8127715722183042\n",
      "Score thresold: 2.0\n",
      "2.5 97.5\n"
     ]
    },
    {
     "data": {
      "image/png": "[encoded data removed]",
      "text/plain": [
       "<Figure size 640x480 with 1 Axes>"
      ]
     },
     "metadata": {},
     "output_type": "display_data"
    },
    {
     "data": {
      "image/png": "[encoded data removed]",
      "text/plain": [
       "<Figure size 640x480 with 1 Axes>"
      ]
     },
     "metadata": {},
     "output_type": "display_data"
    }
   ],
   "source": [
    "get_score_performance(\"score_MEWS\", random_seed=random_seed)"
   ]
  },
  {
   "cell_type": "code",
   "execution_count": 40,
   "metadata": {},
   "outputs": [
    {
     "name": "stdout",
     "output_type": "stream",
     "text": [
      "score_CART\n",
      "AUC: 0.6743324282555612\n",
      "AUPRC: 0.618467362754646\n",
      "Sensitivity: 0.7036420500403551\n",
      "Specificity: 0.582501080601497\n",
      "Score thresold: 4.0\n",
      "2.5 97.5\n"
     ]
    },
    {
     "data": {
      "image/png": "[encoded data removed]",
      "text/plain": [
       "<Figure size 640x480 with 1 Axes>"
      ]
     },
     "metadata": {},
     "output_type": "display_data"
    },
    {
     "data": {
      "image/png": "[encoded data removed]",
      "text/plain": [
       "<Figure size 640x480 with 1 Axes>"
      ]
     },
     "metadata": {},
     "output_type": "display_data"
    }
   ],
   "source": [
    "get_score_performance(\"score_CART\", random_seed=random_seed)"
   ]
  },
  {
   "cell_type": "code",
   "execution_count": 42,
   "metadata": {},
   "outputs": [],
   "source": [
    "import keras\n",
    "from keras import optimizers, metrics, layers, Model\n",
    "from embedding import *"
   ]
  },
  {
   "cell_type": "code",
   "execution_count": 43,
   "metadata": {},
   "outputs": [
    {
     "name": "stdout",
     "output_type": "stream",
     "text": [
      "Med2Vec:\n"
     ]
    },
    {
     "ename": "FileNotFoundError",
     "evalue": "[Errno 2] Arquivo ou diretório inexistente: '/home/olavo-dalberto/gpt_ed_assistant/data/raw/processed/icd_list_dataset_v10.csv'",
     "output_type": "error",
     "traceback": [
      "\u001b[31m---------------------------------------------------------------------------\u001b[39m",
      "\u001b[31mFileNotFoundError\u001b[39m                         Traceback (most recent call last)",
      "\u001b[36mCell\u001b[39m\u001b[36m \u001b[39m\u001b[32mIn[43]\u001b[39m\u001b[32m, line 5\u001b[39m\n\u001b[32m      3\u001b[39m batch_size=\u001b[32m200\u001b[39m\n\u001b[32m      4\u001b[39m vocabulary = vocabulary_map[version]\n\u001b[32m----> \u001b[39m\u001b[32m5\u001b[39m df_icd_encode = \u001b[43mpd\u001b[49m\u001b[43m.\u001b[49m\u001b[43mread_csv\u001b[49m\u001b[43m(\u001b[49m\u001b[43mos\u001b[49m\u001b[43m.\u001b[49m\u001b[43mpath\u001b[49m\u001b[43m.\u001b[49m\u001b[43mjoin\u001b[49m\u001b[43m(\u001b[49m\u001b[43mpath\u001b[49m\u001b[43m,\u001b[49m\u001b[43m \u001b[49m\u001b[33;43m'\u001b[39;49m\u001b[33;43micd_list_dataset_\u001b[39;49m\u001b[33;43m'\u001b[39;49m\u001b[43m+\u001b[49m\u001b[43mversion\u001b[49m\u001b[43m+\u001b[49m\u001b[33;43m'\u001b[39;49m\u001b[33;43m.csv\u001b[39;49m\u001b[33;43m'\u001b[39;49m\u001b[43m)\u001b[49m\u001b[43m)\u001b[49m\n\u001b[32m      6\u001b[39m df_train_embed = pd.merge(df_train, df_icd_encode[[\u001b[33m'\u001b[39m\u001b[33mstay_id\u001b[39m\u001b[33m'\u001b[39m, \u001b[33m'\u001b[39m\u001b[33micd_encoded_list\u001b[39m\u001b[33m'\u001b[39m]], how=\u001b[33m'\u001b[39m\u001b[33mleft\u001b[39m\u001b[33m'\u001b[39m, on=\u001b[33m'\u001b[39m\u001b[33mstay_id\u001b[39m\u001b[33m'\u001b[39m)\n\u001b[32m      7\u001b[39m df_test_embed = pd.merge(df_test, df_icd_encode[[\u001b[33m'\u001b[39m\u001b[33mstay_id\u001b[39m\u001b[33m'\u001b[39m, \u001b[33m'\u001b[39m\u001b[33micd_encoded_list\u001b[39m\u001b[33m'\u001b[39m]], how=\u001b[33m'\u001b[39m\u001b[33mleft\u001b[39m\u001b[33m'\u001b[39m, on=\u001b[33m'\u001b[39m\u001b[33mstay_id\u001b[39m\u001b[33m'\u001b[39m)\n",
      "\u001b[36mFile \u001b[39m\u001b[32m~/gpt_ed_assistant/.venv/lib/python3.11/site-packages/pandas/io/parsers/readers.py:1026\u001b[39m, in \u001b[36mread_csv\u001b[39m\u001b[34m(filepath_or_buffer, sep, delimiter, header, names, index_col, usecols, dtype, engine, converters, true_values, false_values, skipinitialspace, skiprows, skipfooter, nrows, na_values, keep_default_na, na_filter, verbose, skip_blank_lines, parse_dates, infer_datetime_format, keep_date_col, date_parser, date_format, dayfirst, cache_dates, iterator, chunksize, compression, thousands, decimal, lineterminator, quotechar, quoting, doublequote, escapechar, comment, encoding, encoding_errors, dialect, on_bad_lines, delim_whitespace, low_memory, memory_map, float_precision, storage_options, dtype_backend)\u001b[39m\n\u001b[32m   1013\u001b[39m kwds_defaults = _refine_defaults_read(\n\u001b[32m   1014\u001b[39m     dialect,\n\u001b[32m   1015\u001b[39m     delimiter,\n\u001b[32m   (...)\u001b[39m\u001b[32m   1022\u001b[39m     dtype_backend=dtype_backend,\n\u001b[32m   1023\u001b[39m )\n\u001b[32m   1024\u001b[39m kwds.update(kwds_defaults)\n\u001b[32m-> \u001b[39m\u001b[32m1026\u001b[39m \u001b[38;5;28;01mreturn\u001b[39;00m \u001b[43m_read\u001b[49m\u001b[43m(\u001b[49m\u001b[43mfilepath_or_buffer\u001b[49m\u001b[43m,\u001b[49m\u001b[43m \u001b[49m\u001b[43mkwds\u001b[49m\u001b[43m)\u001b[49m\n",
      "\u001b[36mFile \u001b[39m\u001b[32m~/gpt_ed_assistant/.venv/lib/python3.11/site-packages/pandas/io/parsers/readers.py:620\u001b[39m, in \u001b[36m_read\u001b[39m\u001b[34m(filepath_or_buffer, kwds)\u001b[39m\n\u001b[32m    617\u001b[39m _validate_names(kwds.get(\u001b[33m\"\u001b[39m\u001b[33mnames\u001b[39m\u001b[33m\"\u001b[39m, \u001b[38;5;28;01mNone\u001b[39;00m))\n\u001b[32m    619\u001b[39m \u001b[38;5;66;03m# Create the parser.\u001b[39;00m\n\u001b[32m--> \u001b[39m\u001b[32m620\u001b[39m parser = \u001b[43mTextFileReader\u001b[49m\u001b[43m(\u001b[49m\u001b[43mfilepath_or_buffer\u001b[49m\u001b[43m,\u001b[49m\u001b[43m \u001b[49m\u001b[43m*\u001b[49m\u001b[43m*\u001b[49m\u001b[43mkwds\u001b[49m\u001b[43m)\u001b[49m\n\u001b[32m    622\u001b[39m \u001b[38;5;28;01mif\u001b[39;00m chunksize \u001b[38;5;129;01mor\u001b[39;00m iterator:\n\u001b[32m    623\u001b[39m     \u001b[38;5;28;01mreturn\u001b[39;00m parser\n",
      "\u001b[36mFile \u001b[39m\u001b[32m~/gpt_ed_assistant/.venv/lib/python3.11/site-packages/pandas/io/parsers/readers.py:1620\u001b[39m, in \u001b[36mTextFileReader.__init__\u001b[39m\u001b[34m(self, f, engine, **kwds)\u001b[39m\n\u001b[32m   1617\u001b[39m     \u001b[38;5;28mself\u001b[39m.options[\u001b[33m\"\u001b[39m\u001b[33mhas_index_names\u001b[39m\u001b[33m\"\u001b[39m] = kwds[\u001b[33m\"\u001b[39m\u001b[33mhas_index_names\u001b[39m\u001b[33m\"\u001b[39m]\n\u001b[32m   1619\u001b[39m \u001b[38;5;28mself\u001b[39m.handles: IOHandles | \u001b[38;5;28;01mNone\u001b[39;00m = \u001b[38;5;28;01mNone\u001b[39;00m\n\u001b[32m-> \u001b[39m\u001b[32m1620\u001b[39m \u001b[38;5;28mself\u001b[39m._engine = \u001b[38;5;28;43mself\u001b[39;49m\u001b[43m.\u001b[49m\u001b[43m_make_engine\u001b[49m\u001b[43m(\u001b[49m\u001b[43mf\u001b[49m\u001b[43m,\u001b[49m\u001b[43m \u001b[49m\u001b[38;5;28;43mself\u001b[39;49m\u001b[43m.\u001b[49m\u001b[43mengine\u001b[49m\u001b[43m)\u001b[49m\n",
      "\u001b[36mFile \u001b[39m\u001b[32m~/gpt_ed_assistant/.venv/lib/python3.11/site-packages/pandas/io/parsers/readers.py:1880\u001b[39m, in \u001b[36mTextFileReader._make_engine\u001b[39m\u001b[34m(self, f, engine)\u001b[39m\n\u001b[32m   1878\u001b[39m     \u001b[38;5;28;01mif\u001b[39;00m \u001b[33m\"\u001b[39m\u001b[33mb\u001b[39m\u001b[33m\"\u001b[39m \u001b[38;5;129;01mnot\u001b[39;00m \u001b[38;5;129;01min\u001b[39;00m mode:\n\u001b[32m   1879\u001b[39m         mode += \u001b[33m\"\u001b[39m\u001b[33mb\u001b[39m\u001b[33m\"\u001b[39m\n\u001b[32m-> \u001b[39m\u001b[32m1880\u001b[39m \u001b[38;5;28mself\u001b[39m.handles = \u001b[43mget_handle\u001b[49m\u001b[43m(\u001b[49m\n\u001b[32m   1881\u001b[39m \u001b[43m    \u001b[49m\u001b[43mf\u001b[49m\u001b[43m,\u001b[49m\n\u001b[32m   1882\u001b[39m \u001b[43m    \u001b[49m\u001b[43mmode\u001b[49m\u001b[43m,\u001b[49m\n\u001b[32m   1883\u001b[39m \u001b[43m    \u001b[49m\u001b[43mencoding\u001b[49m\u001b[43m=\u001b[49m\u001b[38;5;28;43mself\u001b[39;49m\u001b[43m.\u001b[49m\u001b[43moptions\u001b[49m\u001b[43m.\u001b[49m\u001b[43mget\u001b[49m\u001b[43m(\u001b[49m\u001b[33;43m\"\u001b[39;49m\u001b[33;43mencoding\u001b[39;49m\u001b[33;43m\"\u001b[39;49m\u001b[43m,\u001b[49m\u001b[43m \u001b[49m\u001b[38;5;28;43;01mNone\u001b[39;49;00m\u001b[43m)\u001b[49m\u001b[43m,\u001b[49m\n\u001b[32m   1884\u001b[39m \u001b[43m    \u001b[49m\u001b[43mcompression\u001b[49m\u001b[43m=\u001b[49m\u001b[38;5;28;43mself\u001b[39;49m\u001b[43m.\u001b[49m\u001b[43moptions\u001b[49m\u001b[43m.\u001b[49m\u001b[43mget\u001b[49m\u001b[43m(\u001b[49m\u001b[33;43m\"\u001b[39;49m\u001b[33;43mcompression\u001b[39;49m\u001b[33;43m\"\u001b[39;49m\u001b[43m,\u001b[49m\u001b[43m \u001b[49m\u001b[38;5;28;43;01mNone\u001b[39;49;00m\u001b[43m)\u001b[49m\u001b[43m,\u001b[49m\n\u001b[32m   1885\u001b[39m \u001b[43m    \u001b[49m\u001b[43mmemory_map\u001b[49m\u001b[43m=\u001b[49m\u001b[38;5;28;43mself\u001b[39;49m\u001b[43m.\u001b[49m\u001b[43moptions\u001b[49m\u001b[43m.\u001b[49m\u001b[43mget\u001b[49m\u001b[43m(\u001b[49m\u001b[33;43m\"\u001b[39;49m\u001b[33;43mmemory_map\u001b[39;49m\u001b[33;43m\"\u001b[39;49m\u001b[43m,\u001b[49m\u001b[43m \u001b[49m\u001b[38;5;28;43;01mFalse\u001b[39;49;00m\u001b[43m)\u001b[49m\u001b[43m,\u001b[49m\n\u001b[32m   1886\u001b[39m \u001b[43m    \u001b[49m\u001b[43mis_text\u001b[49m\u001b[43m=\u001b[49m\u001b[43mis_text\u001b[49m\u001b[43m,\u001b[49m\n\u001b[32m   1887\u001b[39m \u001b[43m    \u001b[49m\u001b[43merrors\u001b[49m\u001b[43m=\u001b[49m\u001b[38;5;28;43mself\u001b[39;49m\u001b[43m.\u001b[49m\u001b[43moptions\u001b[49m\u001b[43m.\u001b[49m\u001b[43mget\u001b[49m\u001b[43m(\u001b[49m\u001b[33;43m\"\u001b[39;49m\u001b[33;43mencoding_errors\u001b[39;49m\u001b[33;43m\"\u001b[39;49m\u001b[43m,\u001b[49m\u001b[43m \u001b[49m\u001b[33;43m\"\u001b[39;49m\u001b[33;43mstrict\u001b[39;49m\u001b[33;43m\"\u001b[39;49m\u001b[43m)\u001b[49m\u001b[43m,\u001b[49m\n\u001b[32m   1888\u001b[39m \u001b[43m    \u001b[49m\u001b[43mstorage_options\u001b[49m\u001b[43m=\u001b[49m\u001b[38;5;28;43mself\u001b[39;49m\u001b[43m.\u001b[49m\u001b[43moptions\u001b[49m\u001b[43m.\u001b[49m\u001b[43mget\u001b[49m\u001b[43m(\u001b[49m\u001b[33;43m\"\u001b[39;49m\u001b[33;43mstorage_options\u001b[39;49m\u001b[33;43m\"\u001b[39;49m\u001b[43m,\u001b[49m\u001b[43m \u001b[49m\u001b[38;5;28;43;01mNone\u001b[39;49;00m\u001b[43m)\u001b[49m\u001b[43m,\u001b[49m\n\u001b[32m   1889\u001b[39m \u001b[43m\u001b[49m\u001b[43m)\u001b[49m\n\u001b[32m   1890\u001b[39m \u001b[38;5;28;01massert\u001b[39;00m \u001b[38;5;28mself\u001b[39m.handles \u001b[38;5;129;01mis\u001b[39;00m \u001b[38;5;129;01mnot\u001b[39;00m \u001b[38;5;28;01mNone\u001b[39;00m\n\u001b[32m   1891\u001b[39m f = \u001b[38;5;28mself\u001b[39m.handles.handle\n",
      "\u001b[36mFile \u001b[39m\u001b[32m~/gpt_ed_assistant/.venv/lib/python3.11/site-packages/pandas/io/common.py:873\u001b[39m, in \u001b[36mget_handle\u001b[39m\u001b[34m(path_or_buf, mode, encoding, compression, memory_map, is_text, errors, storage_options)\u001b[39m\n\u001b[32m    868\u001b[39m \u001b[38;5;28;01melif\u001b[39;00m \u001b[38;5;28misinstance\u001b[39m(handle, \u001b[38;5;28mstr\u001b[39m):\n\u001b[32m    869\u001b[39m     \u001b[38;5;66;03m# Check whether the filename is to be opened in binary mode.\u001b[39;00m\n\u001b[32m    870\u001b[39m     \u001b[38;5;66;03m# Binary mode does not support 'encoding' and 'newline'.\u001b[39;00m\n\u001b[32m    871\u001b[39m     \u001b[38;5;28;01mif\u001b[39;00m ioargs.encoding \u001b[38;5;129;01mand\u001b[39;00m \u001b[33m\"\u001b[39m\u001b[33mb\u001b[39m\u001b[33m\"\u001b[39m \u001b[38;5;129;01mnot\u001b[39;00m \u001b[38;5;129;01min\u001b[39;00m ioargs.mode:\n\u001b[32m    872\u001b[39m         \u001b[38;5;66;03m# Encoding\u001b[39;00m\n\u001b[32m--> \u001b[39m\u001b[32m873\u001b[39m         handle = \u001b[38;5;28;43mopen\u001b[39;49m\u001b[43m(\u001b[49m\n\u001b[32m    874\u001b[39m \u001b[43m            \u001b[49m\u001b[43mhandle\u001b[49m\u001b[43m,\u001b[49m\n\u001b[32m    875\u001b[39m \u001b[43m            \u001b[49m\u001b[43mioargs\u001b[49m\u001b[43m.\u001b[49m\u001b[43mmode\u001b[49m\u001b[43m,\u001b[49m\n\u001b[32m    876\u001b[39m \u001b[43m            \u001b[49m\u001b[43mencoding\u001b[49m\u001b[43m=\u001b[49m\u001b[43mioargs\u001b[49m\u001b[43m.\u001b[49m\u001b[43mencoding\u001b[49m\u001b[43m,\u001b[49m\n\u001b[32m    877\u001b[39m \u001b[43m            \u001b[49m\u001b[43merrors\u001b[49m\u001b[43m=\u001b[49m\u001b[43merrors\u001b[49m\u001b[43m,\u001b[49m\n\u001b[32m    878\u001b[39m \u001b[43m            \u001b[49m\u001b[43mnewline\u001b[49m\u001b[43m=\u001b[49m\u001b[33;43m\"\u001b[39;49m\u001b[33;43m\"\u001b[39;49m\u001b[43m,\u001b[49m\n\u001b[32m    879\u001b[39m \u001b[43m        \u001b[49m\u001b[43m)\u001b[49m\n\u001b[32m    880\u001b[39m     \u001b[38;5;28;01melse\u001b[39;00m:\n\u001b[32m    881\u001b[39m         \u001b[38;5;66;03m# Binary mode\u001b[39;00m\n\u001b[32m    882\u001b[39m         handle = \u001b[38;5;28mopen\u001b[39m(handle, ioargs.mode)\n",
      "\u001b[31mFileNotFoundError\u001b[39m: [Errno 2] Arquivo ou diretório inexistente: '/home/olavo-dalberto/gpt_ed_assistant/data/raw/processed/icd_list_dataset_v10.csv'"
     ]
    }
   ],
   "source": [
    "print(\"Med2Vec:\")\n",
    "version = 'v10'\n",
    "batch_size=200\n",
    "vocabulary = vocabulary_map[version]\n",
    "df_icd_encode = pd.read_csv(os.path.join(path, 'icd_list_dataset_'+version+'.csv'))\n",
    "df_train_embed = pd.merge(df_train, df_icd_encode[['stay_id', 'icd_encoded_list']], how='left', on='stay_id')\n",
    "df_test_embed = pd.merge(df_test, df_icd_encode[['stay_id', 'icd_encoded_list']], how='left', on='stay_id')\n",
    "\n",
    "train_gen, test_gen = setup_embedding_data(df_train_embed, df_test_embed, X_train, y_train, X_test, y_test, batch_size)\n"
   ]
  },
  {
   "cell_type": "code",
   "execution_count": 28,
   "metadata": {},
   "outputs": [
    {
     "name": "stdout",
     "output_type": "stream",
     "text": [
      "Model: \"embedding_model\"\n",
      "__________________________________________________________________________________________________\n",
      " Layer (type)                   Output Shape         Param #     Connected to                     \n",
      "==================================================================================================\n",
      " icd_input (InputLayer)         [(None, 7930)]       0           []                               \n",
      "                                                                                                  \n",
      " embedding (Embedding)          (None, 7930, 1024)   8121344     ['icd_input[0][0]']              \n",
      "                                                                                                  \n",
      " tf.math.reduce_sum (TFOpLambda  (None, 1024)        0           ['embedding[0][0]']              \n",
      " )                                                                                                \n",
      "                                                                                                  \n",
      " dense_3 (Dense)                (None, 256)          262400      ['tf.math.reduce_sum[0][0]']     \n",
      "                                                                                                  \n",
      " demograph_input (InputLayer)   [(None, 64)]         0           []                               \n",
      "                                                                                                  \n",
      " concatenate (Concatenate)      (None, 320)          0           ['dense_3[0][0]',                \n",
      "                                                                  'demograph_input[0][0]']        \n",
      "                                                                                                  \n",
      " dense_4 (Dense)                (None, 128)          41088       ['concatenate[0][0]']            \n",
      "                                                                                                  \n",
      " dense_5 (Dense)                (None, 50)           6450        ['dense_4[0][0]']                \n",
      "                                                                                                  \n",
      " dense_6 (Dense)                (None, 1)            51          ['dense_5[0][0]']                \n",
      "                                                                                                  \n",
      "==================================================================================================\n",
      "Total params: 8,431,333\n",
      "Trainable params: 8,431,333\n",
      "Non-trainable params: 0\n",
      "__________________________________________________________________________________________________\n",
      "Training time: 1043.9630386829376 seconds\n",
      "INFO:tensorflow:Assets written to: embedding_hospitalization_v10/assets\n",
      "442/442 [==============================] - 1s 2ms/step\n",
      "AUC: 0.8133978108456114\n",
      "AUPRC: 0.7816838785000257\n",
      "Sensitivity: 0.7438951472100643\n",
      "Specificity: 0.7310654961700662\n",
      "Score thresold: 0.43057838\n",
      "2.5 97.5\n"
     ]
    },
    {
     "data": {
      "image/png": "[encoded data removed]",
      "text/plain": [
       "<Figure size 432x288 with 1 Axes>"
      ]
     },
     "metadata": {
      "needs_background": "light"
     },
     "output_type": "display_data"
    },
    {
     "data": {
      "image/png": "[encoded data removed]",
      "text/plain": [
       "<Figure size 432x288 with 1 Axes>"
      ]
     },
     "metadata": {
      "needs_background": "light"
     },
     "output_type": "display_data"
    }
   ],
   "source": [
    "# To train from scratch, set load_model to None\n",
    "load_model = None#\"embedding_hospitalization_\"+version \n",
    "save_model = \"embedding_hospitalization_\"+version\n",
    "\n",
    "if load_model:\n",
    "        model = keras.models.load_model(load_model)\n",
    "else:\n",
    "        model = create_embedding_model(vocabulary, len(variable))\n",
    "model.summary()\n",
    "model.compile(loss='binary_crossentropy', \n",
    "        optimizer=optimizers.Adam(learning_rate=0.001, decay=0.01), \n",
    "        metrics=['accuracy', 'AUC', {'aucpr': metrics.AUC(name='aucpr', curve='PR')}, \n",
    "                    'TruePositives', 'TrueNegatives', 'Precision', 'Recall'])\n",
    "runtime = 1063.299 # to be updated\n",
    "if not load_model:\n",
    "        start = time.time()\n",
    "        model.fit(train_gen, epochs=100, class_weight={1:ratio, 0:1}, verbose=0)\n",
    "        runtime = time.time()-start\n",
    "        print('Training time:', runtime, 'seconds')\n",
    "if save_model:\n",
    "        keras.models.save_model(model, save_model)\n",
    "output = model.predict(test_gen)\n",
    "result = PlotROCCurve(output,y_test, ci=confidence_interval, random_seed=random_seed)\n",
    "\n",
    "results = [\"Med2Vec\"]\n",
    "results.extend(result)\n",
    "results.append(runtime)\n",
    "result_list.append(results)"
   ]
  },
  {
   "cell_type": "markdown",
   "metadata": {},
   "source": [
    "### 4. Performance output"
   ]
  },
  {
   "cell_type": "code",
   "execution_count": 44,
   "metadata": {},
   "outputs": [
    {
     "data": {
      "application/vnd.microsoft.datawrangler.viewer.v0+json": {
       "columns": [
        {
         "name": "index",
         "rawType": "int64",
         "type": "integer"
        },
        {
         "name": "Model",
         "rawType": "object",
         "type": "string"
        },
        {
         "name": "Threshold",
         "rawType": "float64",
         "type": "float"
        },
        {
         "name": "AUROC",
         "rawType": "object",
         "type": "string"
        },
        {
         "name": "AUPRC",
         "rawType": "object",
         "type": "string"
        },
        {
         "name": "Sensitivity",
         "rawType": "object",
         "type": "string"
        },
        {
         "name": "Specificity",
         "rawType": "object",
         "type": "string"
        },
        {
         "name": "Runtime",
         "rawType": "float64",
         "type": "float"
        }
       ],
       "ref": "329c014e-a902-4d79-b012-ea2011ba7ac4",
       "rows": [
        [
         "0",
         "LR",
         "0.437",
         "0.805 (0.803-0.808)",
         "0.767 (0.763-0.77)",
         "0.755 (0.737-0.757)",
         "0.713 (0.709-0.729)",
         "8.946"
        ],
        [
         "1",
         "RF",
         "0.486",
         "0.819 (0.817-0.82)",
         "0.785 (0.782-0.788)",
         "0.757 (0.739-0.763)",
         "0.728 (0.721-0.745)",
         "58.865"
        ],
        [
         "2",
         "GB",
         "0.476",
         "0.819 (0.817-0.82)",
         "0.792 (0.789-0.794)",
         "0.754 (0.742-0.763)",
         "0.728 (0.722-0.74)",
         "56.103"
        ],
        [
         "3",
         "MLP",
         "0.561",
         "0.822 (0.821-0.824)",
         "0.796 (0.793-0.799)",
         "0.755 (0.746-0.766)",
         "0.734 (0.726-0.744)",
         "47.18"
        ],
        [
         "4",
         "esi",
         "-2.0",
         "0.71 (0.708-0.712)",
         "0.631 (0.628-0.633)",
         "0.583 (0.579-0.586)",
         "0.782 (0.778-0.786)",
         "0.0"
        ],
        [
         "5",
         "score_NEWS",
         "1.0",
         "0.582 (0.58-0.586)",
         "0.558 (0.554-0.562)",
         "0.567 (0.564-0.571)",
         "0.542 (0.538-0.546)",
         "0.0"
        ],
        [
         "6",
         "score_NEWS2",
         "1.0",
         "0.564 (0.562-0.568)",
         "0.541 (0.536-0.545)",
         "0.52 (0.517-0.525)",
         "0.564 (0.561-0.567)",
         "0.0"
        ],
        [
         "7",
         "score_REMS",
         "3.0",
         "0.671 (0.669-0.675)",
         "0.61 (0.605-0.614)",
         "0.717 (0.654-0.719)",
         "0.556 (0.552-0.608)",
         "0.0"
        ],
        [
         "8",
         "score_MEWS",
         "2.0",
         "0.561 (0.559-0.564)",
         "0.526 (0.521-0.529)",
         "0.301 (0.298-0.305)",
         "0.813 (0.809-0.817)",
         "0.0"
        ],
        [
         "9",
         "score_CART",
         "4.0",
         "0.674 (0.672-0.678)",
         "0.618 (0.615-0.622)",
         "0.704 (0.7-0.707)",
         "0.583 (0.579-0.587)",
         "0.0"
        ]
       ],
       "shape": {
        "columns": 7,
        "rows": 10
       }
      },
      "text/html": [
       "<div>\n",
       "<style scoped>\n",
       "    .dataframe tbody tr th:only-of-type {\n",
       "        vertical-align: middle;\n",
       "    }\n",
       "\n",
       "    .dataframe tbody tr th {\n",
       "        vertical-align: top;\n",
       "    }\n",
       "\n",
       "    .dataframe thead th {\n",
       "        text-align: right;\n",
       "    }\n",
       "</style>\n",
       "<table border=\"1\" class=\"dataframe\">\n",
       "  <thead>\n",
       "    <tr style=\"text-align: right;\">\n",
       "      <th></th>\n",
       "      <th>Model</th>\n",
       "      <th>Threshold</th>\n",
       "      <th>AUROC</th>\n",
       "      <th>AUPRC</th>\n",
       "      <th>Sensitivity</th>\n",
       "      <th>Specificity</th>\n",
       "      <th>Runtime</th>\n",
       "    </tr>\n",
       "  </thead>\n",
       "  <tbody>\n",
       "    <tr>\n",
       "      <th>0</th>\n",
       "      <td>LR</td>\n",
       "      <td>0.437</td>\n",
       "      <td>0.805 (0.803-0.808)</td>\n",
       "      <td>0.767 (0.763-0.77)</td>\n",
       "      <td>0.755 (0.737-0.757)</td>\n",
       "      <td>0.713 (0.709-0.729)</td>\n",
       "      <td>8.946</td>\n",
       "    </tr>\n",
       "    <tr>\n",
       "      <th>1</th>\n",
       "      <td>RF</td>\n",
       "      <td>0.486</td>\n",
       "      <td>0.819 (0.817-0.82)</td>\n",
       "      <td>0.785 (0.782-0.788)</td>\n",
       "      <td>0.757 (0.739-0.763)</td>\n",
       "      <td>0.728 (0.721-0.745)</td>\n",
       "      <td>58.865</td>\n",
       "    </tr>\n",
       "    <tr>\n",
       "      <th>2</th>\n",
       "      <td>GB</td>\n",
       "      <td>0.476</td>\n",
       "      <td>0.819 (0.817-0.82)</td>\n",
       "      <td>0.792 (0.789-0.794)</td>\n",
       "      <td>0.754 (0.742-0.763)</td>\n",
       "      <td>0.728 (0.722-0.74)</td>\n",
       "      <td>56.103</td>\n",
       "    </tr>\n",
       "    <tr>\n",
       "      <th>3</th>\n",
       "      <td>MLP</td>\n",
       "      <td>0.561</td>\n",
       "      <td>0.822 (0.821-0.824)</td>\n",
       "      <td>0.796 (0.793-0.799)</td>\n",
       "      <td>0.755 (0.746-0.766)</td>\n",
       "      <td>0.734 (0.726-0.744)</td>\n",
       "      <td>47.180</td>\n",
       "    </tr>\n",
       "    <tr>\n",
       "      <th>4</th>\n",
       "      <td>esi</td>\n",
       "      <td>-2.000</td>\n",
       "      <td>0.71 (0.708-0.712)</td>\n",
       "      <td>0.631 (0.628-0.633)</td>\n",
       "      <td>0.583 (0.579-0.586)</td>\n",
       "      <td>0.782 (0.778-0.786)</td>\n",
       "      <td>0.000</td>\n",
       "    </tr>\n",
       "    <tr>\n",
       "      <th>5</th>\n",
       "      <td>score_NEWS</td>\n",
       "      <td>1.000</td>\n",
       "      <td>0.582 (0.58-0.586)</td>\n",
       "      <td>0.558 (0.554-0.562)</td>\n",
       "      <td>0.567 (0.564-0.571)</td>\n",
       "      <td>0.542 (0.538-0.546)</td>\n",
       "      <td>0.000</td>\n",
       "    </tr>\n",
       "    <tr>\n",
       "      <th>6</th>\n",
       "      <td>score_NEWS2</td>\n",
       "      <td>1.000</td>\n",
       "      <td>0.564 (0.562-0.568)</td>\n",
       "      <td>0.541 (0.536-0.545)</td>\n",
       "      <td>0.52 (0.517-0.525)</td>\n",
       "      <td>0.564 (0.561-0.567)</td>\n",
       "      <td>0.000</td>\n",
       "    </tr>\n",
       "    <tr>\n",
       "      <th>7</th>\n",
       "      <td>score_REMS</td>\n",
       "      <td>3.000</td>\n",
       "      <td>0.671 (0.669-0.675)</td>\n",
       "      <td>0.61 (0.605-0.614)</td>\n",
       "      <td>0.717 (0.654-0.719)</td>\n",
       "      <td>0.556 (0.552-0.608)</td>\n",
       "      <td>0.000</td>\n",
       "    </tr>\n",
       "    <tr>\n",
       "      <th>8</th>\n",
       "      <td>score_MEWS</td>\n",
       "      <td>2.000</td>\n",
       "      <td>0.561 (0.559-0.564)</td>\n",
       "      <td>0.526 (0.521-0.529)</td>\n",
       "      <td>0.301 (0.298-0.305)</td>\n",
       "      <td>0.813 (0.809-0.817)</td>\n",
       "      <td>0.000</td>\n",
       "    </tr>\n",
       "    <tr>\n",
       "      <th>9</th>\n",
       "      <td>score_CART</td>\n",
       "      <td>4.000</td>\n",
       "      <td>0.674 (0.672-0.678)</td>\n",
       "      <td>0.618 (0.615-0.622)</td>\n",
       "      <td>0.704 (0.7-0.707)</td>\n",
       "      <td>0.583 (0.579-0.587)</td>\n",
       "      <td>0.000</td>\n",
       "    </tr>\n",
       "  </tbody>\n",
       "</table>\n",
       "</div>"
      ],
      "text/plain": [
       "         Model  Threshold                AUROC                AUPRC  \\\n",
       "0           LR      0.437  0.805 (0.803-0.808)   0.767 (0.763-0.77)   \n",
       "1           RF      0.486   0.819 (0.817-0.82)  0.785 (0.782-0.788)   \n",
       "2           GB      0.476   0.819 (0.817-0.82)  0.792 (0.789-0.794)   \n",
       "3          MLP      0.561  0.822 (0.821-0.824)  0.796 (0.793-0.799)   \n",
       "4          esi     -2.000   0.71 (0.708-0.712)  0.631 (0.628-0.633)   \n",
       "5   score_NEWS      1.000   0.582 (0.58-0.586)  0.558 (0.554-0.562)   \n",
       "6  score_NEWS2      1.000  0.564 (0.562-0.568)  0.541 (0.536-0.545)   \n",
       "7   score_REMS      3.000  0.671 (0.669-0.675)   0.61 (0.605-0.614)   \n",
       "8   score_MEWS      2.000  0.561 (0.559-0.564)  0.526 (0.521-0.529)   \n",
       "9   score_CART      4.000  0.674 (0.672-0.678)  0.618 (0.615-0.622)   \n",
       "\n",
       "           Sensitivity          Specificity  Runtime  \n",
       "0  0.755 (0.737-0.757)  0.713 (0.709-0.729)    8.946  \n",
       "1  0.757 (0.739-0.763)  0.728 (0.721-0.745)   58.865  \n",
       "2  0.754 (0.742-0.763)   0.728 (0.722-0.74)   56.103  \n",
       "3  0.755 (0.746-0.766)  0.734 (0.726-0.744)   47.180  \n",
       "4  0.583 (0.579-0.586)  0.782 (0.778-0.786)    0.000  \n",
       "5  0.567 (0.564-0.571)  0.542 (0.538-0.546)    0.000  \n",
       "6   0.52 (0.517-0.525)  0.564 (0.561-0.567)    0.000  \n",
       "7  0.717 (0.654-0.719)  0.556 (0.552-0.608)    0.000  \n",
       "8  0.301 (0.298-0.305)  0.813 (0.809-0.817)    0.000  \n",
       "9    0.704 (0.7-0.707)  0.583 (0.579-0.587)    0.000  "
      ]
     },
     "execution_count": 44,
     "metadata": {},
     "output_type": "execute_result"
    }
   ],
   "source": [
    "result_df = pd.DataFrame(result_list, columns=['Model', 'auroc', 'ap', 'sensitivity', 'specificity', 'threshold', \n",
    "                                               'lower_auroc', 'upper_auroc', 'std_auroc', 'lower_ap', 'upper_ap', \n",
    "                                               'std_ap', 'lower_sensitivity', 'upper_sensitivity', 'std_sensitivity',\n",
    "                                               'lower_specificity', 'upper_specificity', 'std_specificity', 'runtime'])\n",
    "result_df.to_csv(os.path.join(path, 'result_hospitalization_triage.csv'), index=False)\n",
    "\n",
    "result_df = result_df.round(3)\n",
    "formatted_result_df = pd.DataFrame()\n",
    "formatted_result_df[['Model', 'Threshold']] = result_df[['Model', 'threshold']]\n",
    "formatted_result_df['AUROC'] = result_df['auroc'].astype(str) + ' (' + result_df['lower_auroc'].astype(str) + \\\n",
    "                               '-' + result_df['upper_auroc'].astype(str) + ')'\n",
    "formatted_result_df['AUPRC'] = result_df['ap'].astype(str) + ' (' + result_df['lower_ap'].astype(str) + \\\n",
    "                               '-' + result_df['upper_ap'].astype(str) + ')'\n",
    "formatted_result_df['Sensitivity'] = result_df['sensitivity'].astype(str) + ' (' + result_df['lower_sensitivity'].astype(str) + \\\n",
    "                                     '-' + result_df['upper_sensitivity'].astype(str) + ')'\n",
    "formatted_result_df['Specificity'] = result_df['specificity'].astype(str) + ' (' + result_df['lower_specificity'].astype(str) + \\\n",
    "                                     '-' + result_df['upper_specificity'].astype(str) + ')'\n",
    "formatted_result_df[['Runtime']] = result_df[['runtime']]\n",
    "formatted_result_df.to_csv(os.path.join(path, 'task1.csv'), index=False)\n",
    "formatted_result_df"
   ]
  },
  {
   "cell_type": "code",
   "execution_count": 46,
   "metadata": {},
   "outputs": [
    {
     "data": {
      "image/png": "[encoded data removed]",
      "text/plain": [
       "<Figure size 640x480 with 1 Axes>"
      ]
     },
     "metadata": {},
     "output_type": "display_data"
    }
   ],
   "source": [
    "from helpers import plot_confidence_interval\n",
    "import os\n",
    "\n",
    "# Ensure the output directory exists\n",
    "os.makedirs(output_path, exist_ok=True)\n",
    "\n",
    "plot_confidence_interval(result_df, metric='auroc', ci=confidence_interval, name = \"AUROC\", \n",
    "                         my_file = 'AUROC_hosp.eps', my_path = output_path) "
   ]
  },
  {
   "cell_type": "code",
   "execution_count": 47,
   "metadata": {},
   "outputs": [
    {
     "data": {
      "image/png": "[encoded data removed]",
      "text/plain": [
       "<Figure size 640x480 with 1 Axes>"
      ]
     },
     "metadata": {},
     "output_type": "display_data"
    }
   ],
   "source": [
    "plot_confidence_interval(result_df, metric='ap', ci=confidence_interval, name = \"AUPRC\", \n",
    "                         my_file = 'AUPRC_hosp.eps', my_path = output_path)"
   ]
  },
  {
   "cell_type": "code",
   "execution_count": 48,
   "metadata": {},
   "outputs": [
    {
     "data": {
      "application/vnd.microsoft.datawrangler.viewer.v0+json": {
       "columns": [
        {
         "name": "index",
         "rawType": "int64",
         "type": "integer"
        },
        {
         "name": "Variable",
         "rawType": "object",
         "type": "string"
        },
        {
         "name": "Importance",
         "rawType": "float64",
         "type": "float"
        }
       ],
       "ref": "5a9eff46-ea23-4b3c-b74a-a5dd087582fb",
       "rows": [
        [
         "0",
         "age",
         "0.12697169550044082"
        ],
        [
         "18",
         "triage_acuity",
         "0.11210408909046475"
        ],
        [
         "15",
         "triage_sbp",
         "0.08698596736314144"
        ],
        [
         "12",
         "triage_heartrate",
         "0.08533281761129903"
        ],
        [
         "16",
         "triage_dbp",
         "0.08254188292673925"
        ],
        [
         "11",
         "triage_temperature",
         "0.07805503943084413"
        ],
        [
         "17",
         "triage_pain",
         "0.047778311481324935"
        ],
        [
         "14",
         "triage_o2sat",
         "0.04232435407859407"
        ],
        [
         "13",
         "triage_resprate",
         "0.040180583485515814"
        ],
        [
         "7",
         "n_hosp_365d",
         "0.026902996278371866"
        ],
        [
         "4",
         "n_ed_365d",
         "0.022253456715413143"
        ],
        [
         "6",
         "n_hosp_90d",
         "0.01479604627796357"
        ],
        [
         "57",
         "eci_FluidsLytes",
         "0.013170008934983202"
        ],
        [
         "1",
         "gender",
         "0.012871268467938918"
        ],
        [
         "3",
         "n_ed_90d",
         "0.011505757969132906"
        ],
        [
         "50",
         "eci_HTN2",
         "0.01021427265775795"
        ],
        [
         "20",
         "chiefcom_abdominal_pain",
         "0.008893251231224144"
        ],
        [
         "46",
         "eci_Arrhythmia",
         "0.008468529359121483"
        ],
        [
         "63",
         "eci_Depression",
         "0.007902730783534366"
        ],
        [
         "2",
         "n_ed_30d",
         "0.007749485656562519"
        ],
        [
         "19",
         "chiefcom_chest_pain",
         "0.006942492822825785"
        ],
        [
         "34",
         "cci_Pulmonary",
         "0.00621392214600234"
        ],
        [
         "5",
         "n_hosp_30d",
         "0.005930387655301593"
        ],
        [
         "38",
         "cci_DM1",
         "0.005856204749787827"
        ],
        [
         "41",
         "cci_Renal",
         "0.005535415225388752"
        ],
        [
         "30",
         "cci_CHF",
         "0.005474994510179105"
        ],
        [
         "49",
         "eci_HTN1",
         "0.005419091241561775"
        ],
        [
         "10",
         "n_icu_365d",
         "0.0053835274527254074"
        ],
        [
         "21",
         "chiefcom_headache",
         "0.005115786460172087"
        ],
        [
         "60",
         "eci_Alcohol",
         "0.004856938940892353"
        ],
        [
         "55",
         "eci_Obesity",
         "0.004787398706680021"
        ],
        [
         "51",
         "eci_NeuroOther",
         "0.004557316176225697"
        ],
        [
         "42",
         "cci_Cancer1",
         "0.004470911201944882"
        ],
        [
         "52",
         "eci_Hypothyroid",
         "0.004272868286985499"
        ],
        [
         "23",
         "chiefcom_back_pain",
         "0.004247209159342776"
        ],
        [
         "26",
         "chiefcom_fever_chills",
         "0.004213948188751021"
        ],
        [
         "28",
         "chiefcom_dizziness",
         "0.004128763000208308"
        ],
        [
         "61",
         "eci_Drugs",
         "0.004029169663244125"
        ],
        [
         "54",
         "eci_Coagulopathy",
         "0.003924606607912034"
        ],
        [
         "25",
         "chiefcom_nausea_vomiting",
         "0.003855400011868146"
        ],
        [
         "37",
         "cci_Liver1",
         "0.0037826767783355007"
        ],
        [
         "56",
         "eci_WeightLoss",
         "0.0035522054511829115"
        ],
        [
         "39",
         "cci_DM2",
         "0.0034697238729641676"
        ],
        [
         "27",
         "chiefcom_syncope",
         "0.0034497812396637752"
        ],
        [
         "29",
         "cci_MI",
         "0.0034471516047828708"
        ],
        [
         "59",
         "eci_Anemia",
         "0.0033978114515838876"
        ],
        [
         "32",
         "cci_Stroke",
         "0.00303017371031461"
        ],
        [
         "31",
         "cci_PVD",
         "0.002835842577851916"
        ],
        [
         "47",
         "eci_Valvular",
         "0.0028140598286110156"
        ],
        [
         "24",
         "chiefcom_cough",
         "0.0027962761246278236"
        ]
       ],
       "shape": {
        "columns": 2,
        "rows": 64
       }
      },
      "text/html": [
       "<div>\n",
       "<style scoped>\n",
       "    .dataframe tbody tr th:only-of-type {\n",
       "        vertical-align: middle;\n",
       "    }\n",
       "\n",
       "    .dataframe tbody tr th {\n",
       "        vertical-align: top;\n",
       "    }\n",
       "\n",
       "    .dataframe thead th {\n",
       "        text-align: right;\n",
       "    }\n",
       "</style>\n",
       "<table border=\"1\" class=\"dataframe\">\n",
       "  <thead>\n",
       "    <tr style=\"text-align: right;\">\n",
       "      <th></th>\n",
       "      <th>Variable</th>\n",
       "      <th>Importance</th>\n",
       "    </tr>\n",
       "  </thead>\n",
       "  <tbody>\n",
       "    <tr>\n",
       "      <th>0</th>\n",
       "      <td>age</td>\n",
       "      <td>0.126972</td>\n",
       "    </tr>\n",
       "    <tr>\n",
       "      <th>18</th>\n",
       "      <td>triage_acuity</td>\n",
       "      <td>0.112104</td>\n",
       "    </tr>\n",
       "    <tr>\n",
       "      <th>15</th>\n",
       "      <td>triage_sbp</td>\n",
       "      <td>0.086986</td>\n",
       "    </tr>\n",
       "    <tr>\n",
       "      <th>12</th>\n",
       "      <td>triage_heartrate</td>\n",
       "      <td>0.085333</td>\n",
       "    </tr>\n",
       "    <tr>\n",
       "      <th>16</th>\n",
       "      <td>triage_dbp</td>\n",
       "      <td>0.082542</td>\n",
       "    </tr>\n",
       "    <tr>\n",
       "      <th>11</th>\n",
       "      <td>triage_temperature</td>\n",
       "      <td>0.078055</td>\n",
       "    </tr>\n",
       "    <tr>\n",
       "      <th>17</th>\n",
       "      <td>triage_pain</td>\n",
       "      <td>0.047778</td>\n",
       "    </tr>\n",
       "    <tr>\n",
       "      <th>14</th>\n",
       "      <td>triage_o2sat</td>\n",
       "      <td>0.042324</td>\n",
       "    </tr>\n",
       "    <tr>\n",
       "      <th>13</th>\n",
       "      <td>triage_resprate</td>\n",
       "      <td>0.040181</td>\n",
       "    </tr>\n",
       "    <tr>\n",
       "      <th>7</th>\n",
       "      <td>n_hosp_365d</td>\n",
       "      <td>0.026903</td>\n",
       "    </tr>\n",
       "    <tr>\n",
       "      <th>4</th>\n",
       "      <td>n_ed_365d</td>\n",
       "      <td>0.022253</td>\n",
       "    </tr>\n",
       "    <tr>\n",
       "      <th>6</th>\n",
       "      <td>n_hosp_90d</td>\n",
       "      <td>0.014796</td>\n",
       "    </tr>\n",
       "    <tr>\n",
       "      <th>57</th>\n",
       "      <td>eci_FluidsLytes</td>\n",
       "      <td>0.013170</td>\n",
       "    </tr>\n",
       "    <tr>\n",
       "      <th>1</th>\n",
       "      <td>gender</td>\n",
       "      <td>0.012871</td>\n",
       "    </tr>\n",
       "    <tr>\n",
       "      <th>3</th>\n",
       "      <td>n_ed_90d</td>\n",
       "      <td>0.011506</td>\n",
       "    </tr>\n",
       "    <tr>\n",
       "      <th>50</th>\n",
       "      <td>eci_HTN2</td>\n",
       "      <td>0.010214</td>\n",
       "    </tr>\n",
       "    <tr>\n",
       "      <th>20</th>\n",
       "      <td>chiefcom_abdominal_pain</td>\n",
       "      <td>0.008893</td>\n",
       "    </tr>\n",
       "    <tr>\n",
       "      <th>46</th>\n",
       "      <td>eci_Arrhythmia</td>\n",
       "      <td>0.008469</td>\n",
       "    </tr>\n",
       "    <tr>\n",
       "      <th>63</th>\n",
       "      <td>eci_Depression</td>\n",
       "      <td>0.007903</td>\n",
       "    </tr>\n",
       "    <tr>\n",
       "      <th>2</th>\n",
       "      <td>n_ed_30d</td>\n",
       "      <td>0.007749</td>\n",
       "    </tr>\n",
       "    <tr>\n",
       "      <th>19</th>\n",
       "      <td>chiefcom_chest_pain</td>\n",
       "      <td>0.006942</td>\n",
       "    </tr>\n",
       "    <tr>\n",
       "      <th>34</th>\n",
       "      <td>cci_Pulmonary</td>\n",
       "      <td>0.006214</td>\n",
       "    </tr>\n",
       "    <tr>\n",
       "      <th>5</th>\n",
       "      <td>n_hosp_30d</td>\n",
       "      <td>0.005930</td>\n",
       "    </tr>\n",
       "    <tr>\n",
       "      <th>38</th>\n",
       "      <td>cci_DM1</td>\n",
       "      <td>0.005856</td>\n",
       "    </tr>\n",
       "    <tr>\n",
       "      <th>41</th>\n",
       "      <td>cci_Renal</td>\n",
       "      <td>0.005535</td>\n",
       "    </tr>\n",
       "    <tr>\n",
       "      <th>30</th>\n",
       "      <td>cci_CHF</td>\n",
       "      <td>0.005475</td>\n",
       "    </tr>\n",
       "    <tr>\n",
       "      <th>49</th>\n",
       "      <td>eci_HTN1</td>\n",
       "      <td>0.005419</td>\n",
       "    </tr>\n",
       "    <tr>\n",
       "      <th>10</th>\n",
       "      <td>n_icu_365d</td>\n",
       "      <td>0.005384</td>\n",
       "    </tr>\n",
       "    <tr>\n",
       "      <th>21</th>\n",
       "      <td>chiefcom_headache</td>\n",
       "      <td>0.005116</td>\n",
       "    </tr>\n",
       "    <tr>\n",
       "      <th>60</th>\n",
       "      <td>eci_Alcohol</td>\n",
       "      <td>0.004857</td>\n",
       "    </tr>\n",
       "    <tr>\n",
       "      <th>55</th>\n",
       "      <td>eci_Obesity</td>\n",
       "      <td>0.004787</td>\n",
       "    </tr>\n",
       "    <tr>\n",
       "      <th>51</th>\n",
       "      <td>eci_NeuroOther</td>\n",
       "      <td>0.004557</td>\n",
       "    </tr>\n",
       "    <tr>\n",
       "      <th>42</th>\n",
       "      <td>cci_Cancer1</td>\n",
       "      <td>0.004471</td>\n",
       "    </tr>\n",
       "    <tr>\n",
       "      <th>52</th>\n",
       "      <td>eci_Hypothyroid</td>\n",
       "      <td>0.004273</td>\n",
       "    </tr>\n",
       "    <tr>\n",
       "      <th>23</th>\n",
       "      <td>chiefcom_back_pain</td>\n",
       "      <td>0.004247</td>\n",
       "    </tr>\n",
       "    <tr>\n",
       "      <th>26</th>\n",
       "      <td>chiefcom_fever_chills</td>\n",
       "      <td>0.004214</td>\n",
       "    </tr>\n",
       "    <tr>\n",
       "      <th>28</th>\n",
       "      <td>chiefcom_dizziness</td>\n",
       "      <td>0.004129</td>\n",
       "    </tr>\n",
       "    <tr>\n",
       "      <th>61</th>\n",
       "      <td>eci_Drugs</td>\n",
       "      <td>0.004029</td>\n",
       "    </tr>\n",
       "    <tr>\n",
       "      <th>54</th>\n",
       "      <td>eci_Coagulopathy</td>\n",
       "      <td>0.003925</td>\n",
       "    </tr>\n",
       "    <tr>\n",
       "      <th>25</th>\n",
       "      <td>chiefcom_nausea_vomiting</td>\n",
       "      <td>0.003855</td>\n",
       "    </tr>\n",
       "    <tr>\n",
       "      <th>37</th>\n",
       "      <td>cci_Liver1</td>\n",
       "      <td>0.003783</td>\n",
       "    </tr>\n",
       "    <tr>\n",
       "      <th>56</th>\n",
       "      <td>eci_WeightLoss</td>\n",
       "      <td>0.003552</td>\n",
       "    </tr>\n",
       "    <tr>\n",
       "      <th>39</th>\n",
       "      <td>cci_DM2</td>\n",
       "      <td>0.003470</td>\n",
       "    </tr>\n",
       "    <tr>\n",
       "      <th>27</th>\n",
       "      <td>chiefcom_syncope</td>\n",
       "      <td>0.003450</td>\n",
       "    </tr>\n",
       "    <tr>\n",
       "      <th>29</th>\n",
       "      <td>cci_MI</td>\n",
       "      <td>0.003447</td>\n",
       "    </tr>\n",
       "    <tr>\n",
       "      <th>59</th>\n",
       "      <td>eci_Anemia</td>\n",
       "      <td>0.003398</td>\n",
       "    </tr>\n",
       "    <tr>\n",
       "      <th>32</th>\n",
       "      <td>cci_Stroke</td>\n",
       "      <td>0.003030</td>\n",
       "    </tr>\n",
       "    <tr>\n",
       "      <th>31</th>\n",
       "      <td>cci_PVD</td>\n",
       "      <td>0.002836</td>\n",
       "    </tr>\n",
       "    <tr>\n",
       "      <th>47</th>\n",
       "      <td>eci_Valvular</td>\n",
       "      <td>0.002814</td>\n",
       "    </tr>\n",
       "    <tr>\n",
       "      <th>24</th>\n",
       "      <td>chiefcom_cough</td>\n",
       "      <td>0.002796</td>\n",
       "    </tr>\n",
       "    <tr>\n",
       "      <th>62</th>\n",
       "      <td>eci_Psychoses</td>\n",
       "      <td>0.002783</td>\n",
       "    </tr>\n",
       "    <tr>\n",
       "      <th>48</th>\n",
       "      <td>eci_PHTN</td>\n",
       "      <td>0.002450</td>\n",
       "    </tr>\n",
       "    <tr>\n",
       "      <th>35</th>\n",
       "      <td>cci_Rheumatic</td>\n",
       "      <td>0.002165</td>\n",
       "    </tr>\n",
       "    <tr>\n",
       "      <th>44</th>\n",
       "      <td>cci_Cancer2</td>\n",
       "      <td>0.001947</td>\n",
       "    </tr>\n",
       "    <tr>\n",
       "      <th>9</th>\n",
       "      <td>n_icu_90d</td>\n",
       "      <td>0.001887</td>\n",
       "    </tr>\n",
       "    <tr>\n",
       "      <th>36</th>\n",
       "      <td>cci_PUD</td>\n",
       "      <td>0.001523</td>\n",
       "    </tr>\n",
       "    <tr>\n",
       "      <th>43</th>\n",
       "      <td>cci_Liver2</td>\n",
       "      <td>0.001425</td>\n",
       "    </tr>\n",
       "    <tr>\n",
       "      <th>33</th>\n",
       "      <td>cci_Dementia</td>\n",
       "      <td>0.001405</td>\n",
       "    </tr>\n",
       "    <tr>\n",
       "      <th>40</th>\n",
       "      <td>cci_Paralysis</td>\n",
       "      <td>0.001247</td>\n",
       "    </tr>\n",
       "    <tr>\n",
       "      <th>58</th>\n",
       "      <td>eci_BloodLoss</td>\n",
       "      <td>0.001162</td>\n",
       "    </tr>\n",
       "    <tr>\n",
       "      <th>45</th>\n",
       "      <td>cci_HIV</td>\n",
       "      <td>0.001049</td>\n",
       "    </tr>\n",
       "    <tr>\n",
       "      <th>53</th>\n",
       "      <td>eci_Lymphoma</td>\n",
       "      <td>0.000900</td>\n",
       "    </tr>\n",
       "    <tr>\n",
       "      <th>8</th>\n",
       "      <td>n_icu_30d</td>\n",
       "      <td>0.000741</td>\n",
       "    </tr>\n",
       "    <tr>\n",
       "      <th>22</th>\n",
       "      <td>chiefcom_shortness_of_breath</td>\n",
       "      <td>0.000522</td>\n",
       "    </tr>\n",
       "  </tbody>\n",
       "</table>\n",
       "</div>"
      ],
      "text/plain": [
       "                        Variable  Importance\n",
       "0                            age    0.126972\n",
       "18                 triage_acuity    0.112104\n",
       "15                    triage_sbp    0.086986\n",
       "12              triage_heartrate    0.085333\n",
       "16                    triage_dbp    0.082542\n",
       "11            triage_temperature    0.078055\n",
       "17                   triage_pain    0.047778\n",
       "14                  triage_o2sat    0.042324\n",
       "13               triage_resprate    0.040181\n",
       "7                    n_hosp_365d    0.026903\n",
       "4                      n_ed_365d    0.022253\n",
       "6                     n_hosp_90d    0.014796\n",
       "57               eci_FluidsLytes    0.013170\n",
       "1                         gender    0.012871\n",
       "3                       n_ed_90d    0.011506\n",
       "50                      eci_HTN2    0.010214\n",
       "20       chiefcom_abdominal_pain    0.008893\n",
       "46                eci_Arrhythmia    0.008469\n",
       "63                eci_Depression    0.007903\n",
       "2                       n_ed_30d    0.007749\n",
       "19           chiefcom_chest_pain    0.006942\n",
       "34                 cci_Pulmonary    0.006214\n",
       "5                     n_hosp_30d    0.005930\n",
       "38                       cci_DM1    0.005856\n",
       "41                     cci_Renal    0.005535\n",
       "30                       cci_CHF    0.005475\n",
       "49                      eci_HTN1    0.005419\n",
       "10                    n_icu_365d    0.005384\n",
       "21             chiefcom_headache    0.005116\n",
       "60                   eci_Alcohol    0.004857\n",
       "55                   eci_Obesity    0.004787\n",
       "51                eci_NeuroOther    0.004557\n",
       "42                   cci_Cancer1    0.004471\n",
       "52               eci_Hypothyroid    0.004273\n",
       "23            chiefcom_back_pain    0.004247\n",
       "26         chiefcom_fever_chills    0.004214\n",
       "28            chiefcom_dizziness    0.004129\n",
       "61                     eci_Drugs    0.004029\n",
       "54              eci_Coagulopathy    0.003925\n",
       "25      chiefcom_nausea_vomiting    0.003855\n",
       "37                    cci_Liver1    0.003783\n",
       "56                eci_WeightLoss    0.003552\n",
       "39                       cci_DM2    0.003470\n",
       "27              chiefcom_syncope    0.003450\n",
       "29                        cci_MI    0.003447\n",
       "59                    eci_Anemia    0.003398\n",
       "32                    cci_Stroke    0.003030\n",
       "31                       cci_PVD    0.002836\n",
       "47                  eci_Valvular    0.002814\n",
       "24                chiefcom_cough    0.002796\n",
       "62                 eci_Psychoses    0.002783\n",
       "48                      eci_PHTN    0.002450\n",
       "35                 cci_Rheumatic    0.002165\n",
       "44                   cci_Cancer2    0.001947\n",
       "9                      n_icu_90d    0.001887\n",
       "36                       cci_PUD    0.001523\n",
       "43                    cci_Liver2    0.001425\n",
       "33                  cci_Dementia    0.001405\n",
       "40                 cci_Paralysis    0.001247\n",
       "58                 eci_BloodLoss    0.001162\n",
       "45                       cci_HIV    0.001049\n",
       "53                  eci_Lymphoma    0.000900\n",
       "8                      n_icu_30d    0.000741\n",
       "22  chiefcom_shortness_of_breath    0.000522"
      ]
     },
     "execution_count": 48,
     "metadata": {},
     "output_type": "execute_result"
    }
   ],
   "source": [
    "importance_df = pd.DataFrame(zip(variable, importances), columns=['Variable','Importance'])\n",
    "importance_df.to_csv(os.path.join(path, 'importances_hospitalization_triage.csv'))\n",
    "importance_df.sort_values(by='Importance', axis=0,ascending=False)"
   ]
  },
  {
   "cell_type": "code",
   "execution_count": null,
   "metadata": {},
   "outputs": [],
   "source": []
  }
 ],
 "metadata": {
  "kernelspec": {
   "display_name": "Python 3",
   "language": "python",
   "name": "python3"
  },
  "language_info": {
   "codemirror_mode": {
    "name": "ipython",
    "version": 3
   },
   "file_extension": ".py",
   "mimetype": "text/x-python",
   "name": "python",
   "nbconvert_exporter": "python",
   "pygments_lexer": "ipython3",
   "version": "3.12.3"
  }
 },
 "nbformat": 4,
 "nbformat_minor": 4
}
