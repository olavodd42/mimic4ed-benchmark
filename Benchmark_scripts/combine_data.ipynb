{
 "cells": [
  {
   "cell_type": "code",
   "execution_count": null,
   "metadata": {},
   "outputs": [],
   "source": [
    "import pandas as pd"
   ]
  },
  {
   "cell_type": "code",
   "execution_count": null,
   "metadata": {},
   "outputs": [],
   "source": [
    "ed_path = '/home/jun/data/MIMIC/mimic-iv-ed/1.0/ed/'\n",
    "\n",
    "ed_filename_dict = {'diagnosis':'diagnosis.csv', 'edstays':'edstays.csv',  'medrecon':'medrecon.csv',  'pyxis':'pyxis.csv',  'triage':'triage.csv',  'vitalsign':'vitalsign.csv'}\n",
    "\n",
    "mimic_iv_path = '/home/jun/data/MIMIC/mimiciv/1.0/'\n",
    "mimic_iv_core = mimic_iv_path + 'core/'\n",
    "mimic_iv_hosp = mimic_iv_path + 'hosp/'\n",
    "mimic_iv_icu = mimic_iv_path + 'icu/'\n",
    "\n",
    "icu_filename_dict = {\"chartevents\":\"chartevents.csv\",\"datetimeevents\":\"datetimeevents.csv\",\"d_items\":\"d_items.csv\",\"icustays\":\"icustays.csv\",\"inputevents\":\"inputevents.csv\",\"outputevents\":\"outputevents.csv\",\"procedureevents\":\"procedureevents.csv\"}\n",
    "core_filename_dict = {\"patients\":\"patients.csv\", \"admissions\":\"admissions.csv\", \"transfers\":\"transfers.csv\"}\n",
    "hosp_filename_dict = {\"d_hcpcs\":\"d_hcpcs.csv\",\"d_icd_diagnoses\":\"d_icd_diagnoses.csv\",\"d_labitems\":\"d_labitems.csv\",\"emar\":\"emar.csv\",\"hcpcsevents\":\"hcpcsevents.csv\",\"microbiologyevents\":\"microbiologyevents.csv\",\"poe\":\"poe.csv\",\"prescriptions\":\"prescriptions.csv\",\"services\":\"services.csv\",\"diagnoses_icd\":\"diagnoses_icd.csv\",\"d_icd_procedures\":\"d_icd_procedures.csv\",\"drgcodes\":\"drgcodes.csv\",\"emar_detail\":\"emar_detail.csv\",\"labevents\":\"labevents.csv\",\"pharmacy\":\"pharmacy.csv\",\"poe_detail\":\"poe_detail.csv\",\"procedures_icd\":\"procedures_icd.csv\"}"
   ]
  },
  {
   "cell_type": "code",
   "execution_count": null,
   "metadata": {},
   "outputs": [],
   "source": [
    "# Uncomment to unzip data\n",
    "# from utils import unzip_files\n",
    "# unzip_files(ed_path)\n",
    "# unzip_files(mimic_iv_core)\n",
    "# unzip_files(mimic_iv_icu)\n",
    "# unzip_files(mimic_iv_hosp)"
   ]
  },
  {
   "cell_type": "code",
   "execution_count": null,
   "metadata": {},
   "outputs": [],
   "source": [
    "df_edstays = pd.read_csv(ed_path+ed_filename_dict['edstays'])\n",
    "df_triage = pd.read_csv(ed_path+ed_filename_dict['triage'])\n",
    "df_vitalsign = pd.read_csv(ed_path+ed_filename_dict['vitalsign'])\n",
    "df_medrecon = pd.read_csv(ed_path+ed_filename_dict['medrecon'])\n",
    "df_pyxis = pd.read_csv(ed_path+ed_filename_dict['pyxis'])\n",
    "df_diagnosis = pd.read_csv(ed_path+ed_filename_dict['diagnosis'])\n",
    "\n",
    "\n"
   ]
  },
  {
   "cell_type": "code",
   "execution_count": null,
   "metadata": {},
   "outputs": [],
   "source": [
    "# vital sign contains multiple measurements, take the max, min and mean\n",
    "gp = df_vitalsign.groupby(['stay_id'])\n",
    "df_vitalsign_max = gp.max(numeric_only=True)#, min_count=1)\n",
    "df_vitalsign_min = gp.min(numeric_only=True)#, min_count=1)\n",
    "df_vitalsign_median = gp.median(numeric_only=True)"
   ]
  },
  {
   "cell_type": "code",
   "execution_count": null,
   "metadata": {},
   "outputs": [],
   "source": [
    "df = pd.merge(df_edstays, df_triage, on = ['subject_id', 'stay_id'], how='left')\n",
    "df = pd.merge(df, df_vitalsign_max, on = ['subject_id', 'stay_id'], how='left', suffixes=(\"_triage\", \"_vitalsign_max\"))\n",
    "df = pd.merge(df, df_vitalsign_min, on = ['subject_id', 'stay_id'], how='left', suffixes=(\"_vitalsign_max\", \"_vitalsign_min\"))\n",
    "df = pd.merge(df, df_vitalsign_median, on = ['subject_id', 'stay_id'], how='left', suffixes=(\"_vitalsign_min\", \"_vitalsign_median\"))\n",
    "\n",
    "# Each stay main contains multiple medrecon, pyxis and diagnosis\n",
    "# df = pd.merge(df, df_vitalsign, on = ['subject_id', 'stay_id'], suffixes=(\"_triage\", \"_vitalsign\"))\n",
    "# df = pd.merge(df, df_medrecon, on = ['subject_id', 'stay_id'])\n",
    "# df = pd.merge(df, df_pyxis, on = ['subject_id', 'stay_id'], suffixes=(\"_medrecon\", \"_pyxis\"))\n",
    "# df = pd.merge(df, df_diagnosis, on = ['subject_id', 'stay_id'])\n",
    "\n",
    "# write to csv\n",
    "#df.to_csv('ed_combined.csv', index=False)"
   ]
  },
  {
   "cell_type": "code",
   "execution_count": null,
   "metadata": {},
   "outputs": [],
   "source": [
    "df['admitted'] = ~(df['hadm_id'].isnull())\n",
    "df_icustays = pd.read_csv(mimic_iv_icu+icu_filename_dict[\"icustays\"])\n",
    "df['icu'] = df['hadm_id'].isin(df_icustays['hadm_id'])"
   ]
  },
  {
   "cell_type": "code",
   "execution_count": null,
   "metadata": {},
   "outputs": [],
   "source": [
    "df_hosp = pd.read_csv(mimic_iv_core+core_filename_dict[\"admissions\"])\n",
    "df_death = df_hosp.loc[df_hosp['hadm_id'].isin(df['hadm_id']), ['hadm_id', 'deathtime']]\n",
    "df = pd.merge(df, df_death, on = ['hadm_id'], how='left')\n",
    "df['death'] = ~(df['deathtime'].isnull())\n"
   ]
  },
  {
   "cell_type": "code",
   "execution_count": null,
   "metadata": {},
   "outputs": [],
   "source": [
    "# read saved csv\n",
    "df = pd.read_csv('ed_combined.csv')"
   ]
  },
  {
   "cell_type": "code",
   "execution_count": null,
   "metadata": {},
   "outputs": [],
   "source": [
    "df['label'] = 0\n",
    "df.loc[df['death'], 'label']=3\n",
    "df.loc[df['icu'] & (df['label']==0), 'label'] = 2\n",
    "df.loc[df['admitted'] & (df['label']==0), 'label'] = 1\n"
   ]
  },
  {
   "cell_type": "code",
   "execution_count": null,
   "metadata": {},
   "outputs": [],
   "source": [
    "import datetime\n",
    "df_patients = pd.read_csv(mimic_iv_core+core_filename_dict[\"patients\"])\n",
    "df_patients['dod'] = pd.to_datetime(df_patients['dod'])\n",
    "df = df.merge(df_patients[['subject_id', 'dod']], on='subject_id', how='left')\n",
    "df['outtime'] = pd.to_datetime(df['outtime'])\n",
    "df['deathtime_distance'] = df['dod'] - df['outtime']\n",
    "df['death30'] = df['deathtime_distance'] < datetime.timedelta(days=30)"
   ]
  },
  {
   "cell_type": "code",
   "execution_count": null,
   "metadata": {},
   "outputs": [],
   "source": [
    "df.to_csv('ed_combined.csv', index=False)"
   ]
  },
  {
   "cell_type": "code",
   "execution_count": null,
   "metadata": {},
   "outputs": [],
   "source": [
    "# convert to numpy array for model\n",
    "arr_stayid = df['stay_id'].to_numpy()\n",
    "label = df['label'].to_numpy()\n",
    "df.drop(['subject_id', 'hadm_id', 'stay_id', 'intime', 'outtime', 'acuity', 'chiefcomplaint', 'admitted', 'icu', 'deathtime', 'death', 'label'], axis=1)\n",
    "data = df.to_numpy()\n",
    "print(arr_stayid.shape)\n",
    "print(label.shape)\n",
    "print(data.shape)\n",
    "import numpy as np\n",
    "np.savez('vitalsign_feature.npz', id = arr_stayid, x = data, y=label)"
   ]
  }
 ],
 "metadata": {
  "interpreter": {
   "hash": "31f2aee4e71d21fbe5cf8b01ff0e069b9275f58929596ceb00d14d90e3e16cd6"
  },
  "kernelspec": {
   "display_name": "Python 3",
   "language": "python",
   "name": "python3"
  },
  "language_info": {
   "codemirror_mode": {
    "name": "ipython",
    "version": 3
   },
   "file_extension": ".py",
   "mimetype": "text/x-python",
   "name": "python",
   "nbconvert_exporter": "python",
   "pygments_lexer": "ipython3",
   "version": "3.8.5"
  }
 },
 "nbformat": 4,
 "nbformat_minor": 2
}
