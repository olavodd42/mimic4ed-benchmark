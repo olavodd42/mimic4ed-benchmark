{
 "cells": [
  {
   "cell_type": "markdown",
   "source": [
    "# Construct Master Dataset by linking different tables in MIMIC-IV-ED\n",
    "\n",
    "Note: \n",
    "\n",
    "1.\n",
    "\n",
    "2.\n",
    "\n",
    "3."
   ],
   "metadata": {}
  },
  {
   "cell_type": "markdown",
   "source": [
    "## Prepare Python library and raw data"
   ],
   "metadata": {}
  },
  {
   "cell_type": "code",
   "execution_count": 1,
   "source": [
    "import argparse\n",
    "from helpers import *"
   ],
   "outputs": [],
   "metadata": {}
  },
  {
   "cell_type": "code",
   "execution_count": 2,
   "source": [
    "## Defining \"argparse\" parameters\n",
    "mimic_iv_path = '/Users/jin/Desktop/Temporal_AutoScore/Data/mimic-iv-1.0'\n",
    "output_path = '/Users/jin/Desktop/Temporal_AutoScore/Output/mimic-iv-1.0'"
   ],
   "outputs": [],
   "metadata": {}
  },
  {
   "cell_type": "code",
   "execution_count": 3,
   "source": [
    "## Defining auxillary parameters\n",
    "## Assume that \"ed\" directory placed under \"mimic_iv_path\"\n",
    "mimic_iv_core_path = os.path.join(mimic_iv_path, 'core')\n",
    "mimic_iv_hosp_path = os.path.join(mimic_iv_path , 'hosp')   \n",
    "mimic_iv_icu_path = os.path.join(mimic_iv_path, 'icu')\n",
    "mimic_iv_ed_path = os.path.join(mimic_iv_path, 'ed')\n",
    "\n",
    "icu_filename_dict = {\"chartevents\":\"chartevents.csv\",\"datetimeevents\":\"datetimeevents.csv\",\"d_items\":\"d_items.csv\",\"icustays\":\"icustays.csv\",\"inputevents\":\"inputevents.csv\",\"outputevents\":\"outputevents.csv\",\"procedureevents\":\"procedureevents.csv\"}\n",
    "core_filename_dict = {\"patients\":\"patients.csv\", \"admissions\":\"admissions.csv\", \"transfers\":\"transfers.csv\"}\n",
    "hosp_filename_dict = {\"d_hcpcs\":\"d_hcpcs.csv\",\"d_icd_diagnoses\":\"d_icd_diagnoses.csv\",\"d_labitems\":\"d_labitems.csv\",\"emar\":\"emar.csv\",\"hcpcsevents\":\"hcpcsevents.csv\",\"microbiologyevents\":\"microbiologyevents.csv\",\"poe\":\"poe.csv\",\"prescriptions\":\"prescriptions.csv\",\"services\":\"services.csv\",\"diagnoses_icd\":\"diagnoses_icd.csv\",\"d_icd_procedures\":\"d_icd_procedures.csv\",\"drgcodes\":\"drgcodes.csv\",\"emar_detail\":\"emar_detail.csv\",\"labevents\":\"labevents.csv\",\"pharmacy\":\"pharmacy.csv\",\"poe_detail\":\"poe_detail.csv\",\"procedures_icd\":\"procedures_icd.csv\"}\n",
    "ed_filename_dict = {'diagnosis':'diagnosis.csv', 'edstays':'edstays.csv',  'medrecon':'medrecon.csv',  'pyxis':'pyxis.csv',  'triage':'triage.csv',  'vitalsign':'vitalsign.csv'}\n",
    "\n",
    "\n",
    "complaint_dict = {\"chiefcom_chest_pain\" : \"chest pain\", \"chiefcom_abdominal_pain\" : \"abdominal pain|abd pain\", \n",
    "\"chiefcom_headache\" : \"headache\", \"chiefcom_shortness_of_breath\" : \"shortness of breath\", \"chiefcom_back_pain\" : \"back pain\", \"chiefcom_cough\" : \"cough\", \n",
    "\"chiefcom_nausea_vomiting\" : \"nausea|vomiting\", \"chiefcom_fever_chills\" : \"fever|chills\", \"chiefcom_syncope\" :\"syncope\", \"chiefcom_dizziness\" : \"dizziness\"}\n",
    "\n",
    "## Defining health utilization timerange parameters in days\n",
    "icu_transfer_timerange = 12 # hours\n",
    "past_ed_visits_timerange = 365\n",
    "past_admissions_timerange = 365 \n",
    "past_icu_visits_timerange = 365\n",
    "next_ed_visit_timerange = 3\n",
    "\n"
   ],
   "outputs": [],
   "metadata": {}
  },
  {
   "cell_type": "markdown",
   "source": [
    "## Load raw data tables through pandas library"
   ],
   "metadata": {}
  },
  {
   "cell_type": "code",
   "execution_count": 4,
   "source": [
    "## Reading main tables\n",
    "df_edstays = read_edstays_table(os.path.join(mimic_iv_ed_path, ed_filename_dict['edstays']))\n",
    "df_patients = read_patients_table(os.path.join(mimic_iv_core_path, core_filename_dict['patients']))\n",
    "df_admissions = read_admissions_table(os.path.join(mimic_iv_core_path, core_filename_dict[\"admissions\"]))\n",
    "df_icustays = read_icustays_table(os.path.join(mimic_iv_icu_path, icu_filename_dict['icustays']))\n",
    "df_triage = read_triage_table(os.path.join(mimic_iv_ed_path, ed_filename_dict['triage']))\n"
   ],
   "outputs": [],
   "metadata": {}
  },
  {
   "cell_type": "markdown",
   "source": [
    "## ED root table, demographic and outcomes"
   ],
   "metadata": {}
  },
  {
   "cell_type": "code",
   "execution_count": 5,
   "source": [
    "## Merging patients -> merging admissions -> merging triage -> master\n",
    "df_edstays = merge_edstays_patients_on_subject(df_edstays ,df_patients)\n",
    "df_master  = merge_edstays_admissions_on_subject(df_edstays ,df_admissions)"
   ],
   "outputs": [],
   "metadata": {}
  },
  {
   "cell_type": "code",
   "execution_count": 6,
   "source": [
    "## Adding age, mortality and ICU transfer outcome\n",
    "df_master = add_age(df_master)\n",
    "df_master = add_inhospital_mortality(df_master)\n",
    "df_master = add_ed_mortality(df_master)\n",
    "df_master = add_before_ed_mortality(df_master)\n",
    "df_master = add_ed_los(df_master)\n",
    "df_master = add_outcome_icu_transfer(df_master, df_icustays, icu_transfer_timerange)\n"
   ],
   "outputs": [],
   "metadata": {}
  },
  {
   "cell_type": "markdown",
   "source": [
    "## Health Utilization"
   ],
   "metadata": {}
  },
  {
   "cell_type": "code",
   "execution_count": 7,
   "source": [
    "## Generate past ED visits\n",
    "df_master = generate_past_ed_visits(df_master, past_ed_visits_timerange)"
   ],
   "outputs": [
    {
     "output_type": "stream",
     "name": "stdout",
     "text": []
    }
   ],
   "metadata": {}
  },
  {
   "cell_type": "code",
   "execution_count": 8,
   "source": [
    "## Generate future ED visit variables\n",
    "\n",
    "df_master = generate_future_ed_visits(df_master, next_ed_visit_timerange)"
   ],
   "outputs": [],
   "metadata": {}
  },
  {
   "cell_type": "code",
   "execution_count": 9,
   "source": [
    "## Generate past admissions\n",
    "df_master = generate_past_admissions(df_master, df_admissions, past_admissions_timerange)"
   ],
   "outputs": [
    {
     "output_type": "stream",
     "name": "stdout",
     "text": []
    }
   ],
   "metadata": {}
  },
  {
   "cell_type": "code",
   "execution_count": 10,
   "source": [
    "## Generate past icu visits\n",
    "df_master  = generate_past_icu_visits(df_master, df_icustays, past_icu_visits_timerange)"
   ],
   "outputs": [
    {
     "output_type": "stream",
     "name": "stdout",
     "text": []
    }
   ],
   "metadata": {}
  },
  {
   "cell_type": "markdown",
   "source": [
    "## Triage Information"
   ],
   "metadata": {}
  },
  {
   "cell_type": "code",
   "execution_count": 11,
   "source": [
    "## Mergining with triage table\n",
    "df_master = merge_edstays_triage_on_subject(df_master, df_triage) ## note change to merge master "
   ],
   "outputs": [],
   "metadata": {}
  },
  {
   "cell_type": "code",
   "execution_count": 12,
   "source": [
    "## Encoding 10 chief complaints\n",
    "df_master = encode_chief_complaints(df_master, complaint_dict)\n"
   ],
   "outputs": [],
   "metadata": {}
  },
  {
   "cell_type": "code",
   "execution_count": 13,
   "source": [
    "df_master.head(100).to_csv(os.path.join(output_path, 'df_encode_complaints.csv'), index=False)"
   ],
   "outputs": [],
   "metadata": {}
  },
  {
   "cell_type": "code",
   "execution_count": 14,
   "source": [
    "## XF comments:\n",
    "## give a paramter: time/days=30/90/365\n",
    "## Process chief complaints\n",
    "## other outcomes\n",
    "## ED revisit/ next revisit time?"
   ],
   "outputs": [],
   "metadata": {}
  },
  {
   "cell_type": "markdown",
   "source": [
    "## Comorbidities from diagnosis ICD"
   ],
   "metadata": {}
  },
  {
   "cell_type": "code",
   "execution_count": null,
   "source": [],
   "outputs": [],
   "metadata": {}
  },
  {
   "cell_type": "markdown",
   "source": [
    "## ED Vital signs"
   ],
   "metadata": {}
  },
  {
   "cell_type": "code",
   "execution_count": null,
   "source": [],
   "outputs": [],
   "metadata": {}
  },
  {
   "cell_type": "markdown",
   "source": [
    "## Medication"
   ],
   "metadata": {}
  },
  {
   "cell_type": "code",
   "execution_count": null,
   "source": [],
   "outputs": [],
   "metadata": {}
  },
  {
   "cell_type": "markdown",
   "source": [
    "## Review the master dataset and output"
   ],
   "metadata": {}
  },
  {
   "cell_type": "code",
   "execution_count": null,
   "source": [],
   "outputs": [],
   "metadata": {}
  }
 ],
 "metadata": {
  "interpreter": {
   "hash": "aee8b7b246df8f9039afb4144a1f6fd8d2ca17a180786b69acc140d282b71a49"
  },
  "kernelspec": {
   "name": "python3",
   "display_name": "Python 3.9.7 64-bit"
  },
  "language_info": {
   "codemirror_mode": {
    "name": "ipython",
    "version": 3
   },
   "file_extension": ".py",
   "mimetype": "text/x-python",
   "name": "python",
   "nbconvert_exporter": "python",
   "pygments_lexer": "ipython3",
   "version": "3.9.7"
  }
 },
 "nbformat": 4,
 "nbformat_minor": 2
}