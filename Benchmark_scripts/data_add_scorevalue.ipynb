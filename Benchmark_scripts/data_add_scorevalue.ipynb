{
 "cells": [
  {
   "cell_type": "markdown",
   "id": "5a323e6d",
   "metadata": {},
   "source": [
    "Add Scorevalue\n",
    "\n",
    "Input: train.csv, test.csv"
   ]
  },
  {
   "cell_type": "code",
   "execution_count": 1,
   "id": "a500483d",
   "metadata": {},
   "outputs": [],
   "source": [
    "%load_ext autoreload\n",
    "%autoreload 2\n",
    "import pandas as pd\n",
    "import os\n",
    "from helpers import *"
   ]
  },
  {
   "cell_type": "code",
   "execution_count": 2,
   "id": "5ccc589f",
   "metadata": {},
   "outputs": [],
   "source": [
    "# Load training and testing data\n",
    "path = '/Users/siqili/Desktop/Duke-Nus/mimicbenchmark'\n",
    "\n",
    "df_train = pd.read_csv(os.path.join(path, 'train.csv'))\n",
    "df_test =  pd.read_csv(os.path.join(path, 'test.csv'))"
   ]
  },
  {
   "cell_type": "code",
   "execution_count": 17,
   "id": "1370c82a",
   "metadata": {},
   "outputs": [],
   "source": [
    "# pd.set_option('display.max_columns', 20) \n",
    "# df_train.head()"
   ]
  },
  {
   "cell_type": "markdown",
   "id": "1536fff5",
   "metadata": {},
   "source": [
    "### NOW ADD Score"
   ]
  },
  {
   "cell_type": "code",
   "execution_count": 23,
   "id": "e1d64f7b",
   "metadata": {},
   "outputs": [
    {
     "name": "stdout",
     "output_type": "stream",
     "text": [
      "Varibale 'add_triage_MAP' succeffully added\n",
      "Varibale 'Score_CART' succeffully added\n",
      "Varibale 'Score_REMS' succeffully added\n",
      "Varibale 'Score_NEWS' succeffully added\n",
      "Varibale 'Score_NEWS2' succeffully added\n",
      "Varibale 'Score_MEWS' succeffully added\n",
      "Varibale 'Score_SERP2d' succeffully added\n",
      "Varibale 'Score_SERP7d' succeffully added\n",
      "Varibale 'Score_SERP30d' succeffully added\n"
     ]
    }
   ],
   "source": [
    "add_triage_MAP(df_test)\n",
    "add_score_CART(df_test)\n",
    "add_score_REMS(df_test)\n",
    "add_score_NEWS(df_test)\n",
    "add_score_NEWS2(df_test)\n",
    "add_score_MEWS(df_test)\n",
    "add_score_SERP2d(df_test)\n",
    "add_score_SERP7d(df_test)\n",
    "add_score_SERP30d(df_test)"
   ]
  },
  {
   "cell_type": "code",
   "execution_count": 29,
   "id": "85c8a751",
   "metadata": {},
   "outputs": [
    {
     "name": "stdout",
     "output_type": "stream",
     "text": [
      "Varibale 'add_triage_MAP' succeffully added\n",
      "Varibale 'Score_CART' succeffully added\n",
      "Varibale 'Score_REMS' succeffully added\n",
      "Varibale 'Score_NEWS' succeffully added\n",
      "Varibale 'Score_NEWS2' succeffully added\n",
      "Varibale 'Score_MEWS' succeffully added\n",
      "Varibale 'Score_SERP2d' succeffully added\n",
      "Varibale 'Score_SERP7d' succeffully added\n",
      "Varibale 'Score_SERP30d' succeffully added\n"
     ]
    }
   ],
   "source": [
    "add_triage_MAP(df_train)\n",
    "add_score_CART(df_train)\n",
    "add_score_REMS(df_train)\n",
    "add_score_NEWS(df_train)\n",
    "add_score_NEWS2(df_train)\n",
    "add_score_MEWS(df_train)\n",
    "add_score_SERP2d(df_train)\n",
    "add_score_SERP7d(df_train)\n",
    "add_score_SERP30d(df_train)"
   ]
  },
  {
   "cell_type": "markdown",
   "id": "3122cf14",
   "metadata": {},
   "source": [
    "## Tests"
   ]
  },
  {
   "cell_type": "code",
   "execution_count": 18,
   "id": "a20c9cfe",
   "metadata": {},
   "outputs": [
    {
     "data": {
      "text/plain": [
       "0         52.333333\n",
       "1         85.000000\n",
       "2         87.333333\n",
       "3        104.666667\n",
       "4         70.000000\n",
       "            ...    \n",
       "89756    104.333333\n",
       "89757     93.000000\n",
       "89758     71.000000\n",
       "89759    134.333333\n",
       "89760     85.666667\n",
       "Name: triage_MAP, Length: 89761, dtype: float64"
      ]
     },
     "execution_count": 18,
     "metadata": {},
     "output_type": "execute_result"
    }
   ],
   "source": [
    "df_test['triage_MAP']"
   ]
  },
  {
   "cell_type": "code",
   "execution_count": 30,
   "id": "d8b5d2c4",
   "metadata": {},
   "outputs": [
    {
     "data": {
      "text/plain": [
       "0          97.333333\n",
       "1         118.333333\n",
       "2         116.000000\n",
       "3         100.000000\n",
       "4          87.000000\n",
       "             ...    \n",
       "359038     98.666667\n",
       "359039    115.333333\n",
       "359040    116.666667\n",
       "359041     85.000000\n",
       "359042     96.622249\n",
       "Name: triage_MAP, Length: 359043, dtype: float64"
      ]
     },
     "execution_count": 30,
     "metadata": {},
     "output_type": "execute_result"
    }
   ],
   "source": [
    "df_train['triage_MAP']"
   ]
  },
  {
   "cell_type": "code",
   "execution_count": 32,
   "id": "3f31a0e5",
   "metadata": {
    "scrolled": true
   },
   "outputs": [
    {
     "data": {
      "text/plain": [
       "array([ 4,  9,  0,  8, 17, 24, 13, 21, 22, 31, 12, 19, 32, 35, 15, 25, 16,\n",
       "       26, 30, 14, 23, 20, 28, 10, 29, 34, 37, 39, 27,  6, 18, 47, 44, 33,\n",
       "       38, 43])"
      ]
     },
     "execution_count": 32,
     "metadata": {},
     "output_type": "execute_result"
    }
   ],
   "source": [
    "df_test['score_CART'].unique()"
   ]
  },
  {
   "cell_type": "code",
   "execution_count": 31,
   "id": "56844955",
   "metadata": {},
   "outputs": [
    {
     "data": {
      "text/plain": [
       "array([ 4,  9, 12, 16, 15,  0, 13, 17, 24, 19, 31,  8, 21, 25, 29, 26, 43,\n",
       "       22, 30, 20, 23, 28, 35, 37, 10,  6, 32, 41, 27, 34, 44, 39, 14, 36,\n",
       "       18, 48, 38])"
      ]
     },
     "execution_count": 31,
     "metadata": {},
     "output_type": "execute_result"
    }
   ],
   "source": [
    "df_train['score_CART'].unique()"
   ]
  },
  {
   "cell_type": "code",
   "execution_count": 20,
   "id": "eac88b36",
   "metadata": {},
   "outputs": [
    {
     "data": {
      "text/plain": [
       "array([ 4,  5,  0,  3,  6,  2,  8,  9,  7, 11, 10, 16, 13, 12,  1, 14, 17,\n",
       "       15])"
      ]
     },
     "execution_count": 20,
     "metadata": {},
     "output_type": "execute_result"
    }
   ],
   "source": [
    "df_test['score_REMS'].unique()"
   ]
  },
  {
   "cell_type": "code",
   "execution_count": 33,
   "id": "ea0f103c",
   "metadata": {},
   "outputs": [
    {
     "data": {
      "text/plain": [
       "array([ 3,  8,  4,  7,  6, 10,  2,  0,  9,  5, 12, 11,  1, 13, 14, 15, 17,\n",
       "       16, 18, 19])"
      ]
     },
     "execution_count": 33,
     "metadata": {},
     "output_type": "execute_result"
    }
   ],
   "source": [
    "df_train['score_REMS'].unique()"
   ]
  },
  {
   "cell_type": "code",
   "execution_count": 21,
   "id": "2d28a995",
   "metadata": {},
   "outputs": [
    {
     "data": {
      "text/plain": [
       "array([ 3,  1,  0,  4,  2,  5,  6,  9,  8,  7, 10, 11, 12])"
      ]
     },
     "execution_count": 21,
     "metadata": {},
     "output_type": "execute_result"
    }
   ],
   "source": [
    "df_test['score_NEWS'].unique()"
   ]
  },
  {
   "cell_type": "code",
   "execution_count": 34,
   "id": "67d2aa47",
   "metadata": {},
   "outputs": [
    {
     "data": {
      "text/plain": [
       "array([ 1,  4,  5,  0,  6,  2,  3,  7,  8, 12,  9, 11, 10])"
      ]
     },
     "execution_count": 34,
     "metadata": {},
     "output_type": "execute_result"
    }
   ],
   "source": [
    "df_train['score_NEWS'].unique()"
   ]
  },
  {
   "cell_type": "code",
   "execution_count": 24,
   "id": "f8d1c235",
   "metadata": {},
   "outputs": [
    {
     "data": {
      "text/plain": [
       "array([ 3,  0,  4,  1,  2,  5,  6,  7,  9,  8, 10])"
      ]
     },
     "execution_count": 24,
     "metadata": {},
     "output_type": "execute_result"
    }
   ],
   "source": [
    "df_test['score_NEWS2'].unique()"
   ]
  },
  {
   "cell_type": "code",
   "execution_count": 35,
   "id": "29bfa23c",
   "metadata": {},
   "outputs": [
    {
     "data": {
      "text/plain": [
       "array([ 1,  0,  4,  3,  2,  5,  6,  7,  9,  8, 10])"
      ]
     },
     "execution_count": 35,
     "metadata": {},
     "output_type": "execute_result"
    }
   ],
   "source": [
    "df_train['score_NEWS2'].unique()"
   ]
  },
  {
   "cell_type": "code",
   "execution_count": 25,
   "id": "2dec2252",
   "metadata": {},
   "outputs": [
    {
     "data": {
      "text/plain": [
       "array([2, 1, 4, 0, 3, 5, 6, 7, 8])"
      ]
     },
     "execution_count": 25,
     "metadata": {},
     "output_type": "execute_result"
    }
   ],
   "source": [
    "df_test['score_MEWS'].unique()"
   ]
  },
  {
   "cell_type": "code",
   "execution_count": 36,
   "id": "d4548656",
   "metadata": {},
   "outputs": [
    {
     "data": {
      "text/plain": [
       "array([1, 4, 3, 0, 2, 5, 6, 8, 7, 9])"
      ]
     },
     "execution_count": 36,
     "metadata": {},
     "output_type": "execute_result"
    }
   ],
   "source": [
    "df_train['score_MEWS'].unique()"
   ]
  },
  {
   "cell_type": "code",
   "execution_count": 26,
   "id": "147dc86a",
   "metadata": {},
   "outputs": [
    {
     "data": {
      "text/plain": [
       "array([42, 20,  4, 17, 27, 16, 13, 28, 24, 21, 12, 18, 30, 26, 10, 22, 31,\n",
       "        1, 33,  7, 23,  3, 34, 19, 15, 14, 35, 29,  8, 36, 11,  9, 25,  6,\n",
       "       37,  0, 45,  5, 46, 32, 40, 38, 41, 44, 39,  2, 49, 43, 51, 54, 48,\n",
       "       50, 47])"
      ]
     },
     "execution_count": 26,
     "metadata": {},
     "output_type": "execute_result"
    }
   ],
   "source": [
    "df_test['score_SERP2d'].unique()"
   ]
  },
  {
   "cell_type": "code",
   "execution_count": 37,
   "id": "cba7f098",
   "metadata": {},
   "outputs": [
    {
     "data": {
      "text/plain": [
       "array([16, 28, 18, 36, 32, 20, 25, 13,  4, 17, 22,  7, 34, 23, 21, 15, 24,\n",
       "       33,  5, 19, 14, 11,  9, 29, 27, 10,  1, 42, 26,  2,  3, 30, 12, 31,\n",
       "       35, 38,  6, 40,  8, 37, 39, 50, 41, 46, 43, 45,  0, 49, 44, 47, 51,\n",
       "       58, 48, 54, 53, 52, 56])"
      ]
     },
     "execution_count": 37,
     "metadata": {},
     "output_type": "execute_result"
    }
   ],
   "source": [
    "df_train['score_SERP2d'].unique()"
   ]
  },
  {
   "cell_type": "code",
   "execution_count": 27,
   "id": "d805b773",
   "metadata": {},
   "outputs": [
    {
     "data": {
      "text/plain": [
       "array([47, 27,  5, 22, 35, 21, 15, 19, 32,  6, 20, 26, 23, 11, 24, 28, 30,\n",
       "       29, 36,  1, 41,  9, 17, 25,  4, 33, 31, 18, 40, 10, 14, 13, 34, 37,\n",
       "        8, 16, 43,  0,  3, 39, 12, 51,  7, 45, 49, 38,  2, 55, 44, 42, 48,\n",
       "       46])"
      ]
     },
     "execution_count": 27,
     "metadata": {},
     "output_type": "execute_result"
    }
   ],
   "source": [
    "df_test['score_SERP7d'].unique()"
   ]
  },
  {
   "cell_type": "code",
   "execution_count": 38,
   "id": "ad3d232b",
   "metadata": {},
   "outputs": [
    {
     "data": {
      "text/plain": [
       "array([21, 33, 20, 36, 25, 29, 16,  5,  6, 26,  9, 22, 34, 17, 19, 27, 24,\n",
       "       15, 18, 28, 32,  7, 13, 31, 41,  8, 10, 11,  1, 43,  3,  4, 37, 14,\n",
       "       23, 35, 47, 40,  2, 30, 39, 12, 51, 45, 38, 49, 44,  0, 55, 42, 59,\n",
       "       48, 46])"
      ]
     },
     "execution_count": 38,
     "metadata": {},
     "output_type": "execute_result"
    }
   ],
   "source": [
    "df_train['score_SERP7d'].unique()"
   ]
  },
  {
   "cell_type": "code",
   "execution_count": 42,
   "id": "aceee741",
   "metadata": {},
   "outputs": [
    {
     "data": {
      "text/plain": [
       "array([35, 21,  4, 18, 28, 16, 12, 29, 17, 20, 10, 24, 22, 26, 23, 25, 37,\n",
       "        2, 31,  8, 14, 33, 27, 19,  5, 15, 36,  7, 11, 30, 34, 39,  6, 13,\n",
       "       41,  0,  3, 40,  9, 43, 46, 49, 47, 32, 45, 52, 38, 42, 44, 51, 48,\n",
       "       54,  1, 56, 55, 58, 53, 50, 60, 57, 59])"
      ]
     },
     "execution_count": 42,
     "metadata": {},
     "output_type": "execute_result"
    }
   ],
   "source": [
    "df_test['score_SERP30d'].unique()"
   ]
  },
  {
   "cell_type": "code",
   "execution_count": 48,
   "id": "9b018a13",
   "metadata": {},
   "outputs": [
    {
     "data": {
      "text/plain": [
       "array([16, 29, 17, 31, 21, 12,  4,  5, 25, 18,  8, 24, 36, 14, 15, 27, 28,\n",
       "       20, 22, 23, 26,  6, 19, 11, 13, 30,  7, 32, 34, 38, 10,  2, 35, 44,\n",
       "       43,  1, 33,  3, 45, 46, 47, 42, 40,  9, 39, 37, 52, 51, 50, 49, 54,\n",
       "       41, 53,  0, 48, 57, 55, 60, 56, 59, 63, 58])"
      ]
     },
     "execution_count": 48,
     "metadata": {},
     "output_type": "execute_result"
    }
   ],
   "source": [
    "df_train['score_SERP30d'].unique()"
   ]
  }
 ],
 "metadata": {
  "kernelspec": {
   "display_name": "Python 3 (ipykernel)",
   "language": "python",
   "name": "python3"
  },
  "language_info": {
   "codemirror_mode": {
    "name": "ipython",
    "version": 3
   },
   "file_extension": ".py",
   "mimetype": "text/x-python",
   "name": "python",
   "nbconvert_exporter": "python",
   "pygments_lexer": "ipython3",
   "version": "3.7.3"
  }
 },
 "nbformat": 4,
 "nbformat_minor": 5
}
