{
 "cells": [
  {
   "cell_type": "code",
   "execution_count": 1,
   "source": [
    "import argparse\n",
    "from helpers import *"
   ],
   "outputs": [],
   "metadata": {}
  },
  {
   "cell_type": "code",
   "execution_count": 2,
   "source": [
    "## Defining \"argparse\" parameters\n",
    "mimic_iv_path = '/Users/jin/Desktop/Temporal_AutoScore/Data/mimic-iv-1.0'\n",
    "output_path = '/Users/jin/Desktop/Temporal_AutoScore/Data/mimic-iv-1.0'"
   ],
   "outputs": [],
   "metadata": {}
  },
  {
   "cell_type": "code",
   "execution_count": 3,
   "source": [
    "## Defining auxillary parameters\n",
    "## Assume that \"ed\" directory placed under \"mimic_iv_path\"\n",
    "mimic_iv_core_path = os.path.join(mimic_iv_path, 'core')\n",
    "mimic_iv_hosp_path = os.path.join(mimic_iv_path , 'hosp')   \n",
    "mimic_iv_icu_path = os.path.join(mimic_iv_path, 'icu')\n",
    "mimic_iv_ed_path = os.path.join(mimic_iv_path, 'ed')\n",
    "\n",
    "icu_filename_dict = {\"chartevents\":\"chartevents.csv\",\"datetimeevents\":\"datetimeevents.csv\",\"d_items\":\"d_items.csv\",\"icustays\":\"icustays.csv\",\"inputevents\":\"inputevents.csv\",\"outputevents\":\"outputevents.csv\",\"procedureevents\":\"procedureevents.csv\"}\n",
    "core_filename_dict = {\"patients\":\"patients.csv\", \"admissions\":\"admissions.csv\", \"transfers\":\"transfers.csv\"}\n",
    "hosp_filename_dict = {\"d_hcpcs\":\"d_hcpcs.csv\",\"d_icd_diagnoses\":\"d_icd_diagnoses.csv\",\"d_labitems\":\"d_labitems.csv\",\"emar\":\"emar.csv\",\"hcpcsevents\":\"hcpcsevents.csv\",\"microbiologyevents\":\"microbiologyevents.csv\",\"poe\":\"poe.csv\",\"prescriptions\":\"prescriptions.csv\",\"services\":\"services.csv\",\"diagnoses_icd\":\"diagnoses_icd.csv\",\"d_icd_procedures\":\"d_icd_procedures.csv\",\"drgcodes\":\"drgcodes.csv\",\"emar_detail\":\"emar_detail.csv\",\"labevents\":\"labevents.csv\",\"pharmacy\":\"pharmacy.csv\",\"poe_detail\":\"poe_detail.csv\",\"procedures_icd\":\"procedures_icd.csv\"}\n",
    "ed_filename_dict = {'diagnosis':'diagnosis.csv', 'edstays':'edstays.csv',  'medrecon':'medrecon.csv',  'pyxis':'pyxis.csv',  'triage':'triage.csv',  'vitalsign':'vitalsign.csv'}\n"
   ],
   "outputs": [],
   "metadata": {}
  },
  {
   "cell_type": "code",
   "execution_count": 4,
   "source": [
    "## Reading main tables\n",
    "df_edstays = read_edstays_table(os.path.join(mimic_iv_ed_path, ed_filename_dict['edstays']))\n",
    "df_patients = read_patients_table(os.path.join(mimic_iv_core_path, core_filename_dict['patients']))\n",
    "df_admissions = read_admissions_table(os.path.join(mimic_iv_core_path, core_filename_dict[\"admissions\"]))\n",
    "df_icustays = read_icustays_table(os.path.join(mimic_iv_icu_path, icu_filename_dict['icustays']))\n",
    "df_triage = read_triage_table(os.path.join(mimic_iv_ed_path, ed_filename_dict['triage']))\n"
   ],
   "outputs": [],
   "metadata": {}
  },
  {
   "cell_type": "code",
   "execution_count": 5,
   "source": [
    "## Merging edstays and patients -> merging admissions \n",
    "df_edstays = merge_edstays_patients_on_subject(df_edstays ,df_patients)\n",
    "df_edstays  = merge_edstays_admissions_on_subject(df_edstays ,df_admissions)"
   ],
   "outputs": [],
   "metadata": {}
  },
  {
   "cell_type": "code",
   "execution_count": 6,
   "source": [
    "## Deriving age and in-patient mortality information\n",
    "df_edstays = add_age(df_edstays)\n",
    "df_edstays = add_inhospital_mortality(df_edstays)"
   ],
   "outputs": [],
   "metadata": {}
  },
  {
   "cell_type": "code",
   "execution_count": 7,
   "source": [
    "## Generate past ED visits\n",
    "df_edstays = generate_past_ed_visits(df_edstays)"
   ],
   "outputs": [
    {
     "output_type": "stream",
     "name": "stdout",
     "text": []
    }
   ],
   "metadata": {}
  },
  {
   "cell_type": "code",
   "execution_count": 8,
   "source": [
    "## Generate past admissions\n",
    "df_edstays = generate_past_admissions(df_edstays, df_admissions)"
   ],
   "outputs": [
    {
     "output_type": "stream",
     "name": "stdout",
     "text": []
    }
   ],
   "metadata": {}
  },
  {
   "cell_type": "code",
   "execution_count": 9,
   "source": [
    "## Generate past icu visits\n",
    "df_edstays = generate_past_icu_visits(df_edstays, df_icustays)"
   ],
   "outputs": [
    {
     "output_type": "stream",
     "name": "stdout",
     "text": []
    }
   ],
   "metadata": {}
  },
  {
   "cell_type": "code",
   "execution_count": 10,
   "source": [
    "## Merging triage vital sign table\n",
    "df_edstays = merge_edstays_triage_on_subject(df_edstays, df_triage)\n",
    "\n",
    "print(df_edstays.columns)\n",
    "print(df_edstays.head())"
   ],
   "outputs": [
    {
     "output_type": "stream",
     "name": "stdout",
     "text": [
      "Index(['index', 'subject_id', 'hadm_id', 'stay_id', 'intime', 'outtime',\n",
      "       'gender', 'dod', 'admittime', 'dischtime', 'deathtime', 'ethnicity',\n",
      "       'edregtime', 'edouttime', 'insurance', 'age', 'inhospital_mortality',\n",
      "       'n_ed', 'n_adm', 'n_icu', 'temperature', 'heartrate', 'resprate',\n",
      "       'o2sat', 'sbp', 'dbp', 'pain', 'acuity', 'chiefcomplaint'],\n",
      "      dtype='object')\n",
      "    index  subject_id     hadm_id   stay_id              intime  \\\n",
      "0  335314    10000032  22595853.0  33258284 2180-05-06 19:17:00   \n",
      "1  335315    10000032  22841357.0  38112554 2180-06-26 15:54:00   \n",
      "2  335316    10000032  29079034.0  32952584 2180-07-22 16:24:00   \n",
      "3  335317    10000032  29079034.0  39399961 2180-07-23 05:54:00   \n",
      "4  335318    10000032  25742920.0  35968195 2180-08-05 20:58:00   \n",
      "\n",
      "              outtime gender dod           admittime           dischtime  ...  \\\n",
      "0 2180-05-06 23:30:00      F NaT 2180-05-06 22:23:00 2180-05-07 17:15:00  ...   \n",
      "1 2180-06-26 21:31:00      F NaT 2180-06-26 18:27:00 2180-06-27 18:49:00  ...   \n",
      "2 2180-07-23 05:54:00      F NaT 2180-07-23 12:35:00 2180-07-25 17:55:00  ...   \n",
      "3 2180-07-23 14:00:00      F NaT 2180-07-23 12:35:00 2180-07-25 17:55:00  ...   \n",
      "4 2180-08-06 01:44:00      F NaT 2180-08-05 23:44:00 2180-08-07 17:50:00  ...   \n",
      "\n",
      "  n_icu temperature heartrate resprate o2sat    sbp   dbp  pain  acuity  \\\n",
      "0     0        98.4      70.0     16.0  97.0  106.0  63.0   0.0     3.0   \n",
      "1     0        98.9      88.0     18.0  97.0  116.0  88.0  10.0     3.0   \n",
      "2     0        97.8      87.0     14.0  97.0   71.0  43.0   7.0     2.0   \n",
      "3     0        98.7      77.0     16.0  98.0   96.0  50.0  13.0     2.0   \n",
      "4     1        99.4     105.0     18.0  96.0  106.0  57.0  10.0     3.0   \n",
      "\n",
      "                             chiefcomplaint  \n",
      "0            Abd pain, Abdominal distention  \n",
      "1                      Abdominal distention  \n",
      "2                               Hypotension  \n",
      "3  Abdominal distention, Abd pain, LETHAGIC  \n",
      "4                           n/v/d, Abd pain  \n",
      "\n",
      "[5 rows x 29 columns]\n"
     ]
    }
   ],
   "metadata": {}
  }
 ],
 "metadata": {
  "orig_nbformat": 4,
  "language_info": {
   "name": "python",
   "version": "3.9.7",
   "mimetype": "text/x-python",
   "codemirror_mode": {
    "name": "ipython",
    "version": 3
   },
   "pygments_lexer": "ipython3",
   "nbconvert_exporter": "python",
   "file_extension": ".py"
  },
  "kernelspec": {
   "name": "python3",
   "display_name": "Python 3.9.7 64-bit"
  },
  "interpreter": {
   "hash": "aee8b7b246df8f9039afb4144a1f6fd8d2ca17a180786b69acc140d282b71a49"
  }
 },
 "nbformat": 4,
 "nbformat_minor": 2
}