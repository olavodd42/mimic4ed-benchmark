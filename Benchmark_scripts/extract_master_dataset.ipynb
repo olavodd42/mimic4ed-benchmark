{
 "cells": [
  {
   "cell_type": "markdown",
   "metadata": {},
   "source": [
    "# Construct Master Dataset by linking different tables in MIMIC-IV-ED\n",
    "\n",
    "Note: \n",
    "\n",
    "1.MIMIC-ED should be downloaded at “data/ed\" folder\n",
    "\n",
    "2.\n",
    "\n",
    "3."
   ]
  },
  {
   "cell_type": "markdown",
   "metadata": {},
   "source": [
    "## Prepare Python library and raw data"
   ]
  },
  {
   "cell_type": "code",
   "execution_count": null,
   "metadata": {},
   "outputs": [],
   "source": [
    "import argparse\n",
    "from helpers import *\n",
    "from medcode_utils import commorbidity"
   ]
  },
  {
   "cell_type": "code",
   "execution_count": null,
   "metadata": {},
   "outputs": [],
   "source": [
    "## Defining \"argparse\" parameters\n",
    "mimic_iv_path = 'C:/Users/XFE/Documents/mimic4ed-benchmark/data/'\n",
    "#mimic_iv_path = '/Users/jin/Desktop/Temporal_AutoScore/Data/mimic-iv-1.0'\n",
    "output_path = 'C:/Users/XFE/Documents/mimic4ed-benchmark/data_processed/'\n",
    "#output_path = '/Users/jin/Desktop/Temporal_AutoScore/Output/mimic-iv-1.0'"
   ]
  },
  {
   "cell_type": "code",
   "execution_count": null,
   "metadata": {},
   "outputs": [],
   "source": [
    "## Defining auxillary parameters\n",
    "## Assume that \"ed\" directory placed under \"mimic_iv_path\"\n",
    "## ZJ: Make this assumption bold\n",
    "mimic_iv_core_path = os.path.join(mimic_iv_path, 'core')\n",
    "mimic_iv_hosp_path = os.path.join(mimic_iv_path , 'hosp')   \n",
    "mimic_iv_icu_path = os.path.join(mimic_iv_path, 'icu')\n",
    "mimic_iv_ed_path = os.path.join(mimic_iv_path, 'ed')\n",
    "\n",
    "icu_filename_dict = {\"chartevents\":\"chartevents.csv\",\"datetimeevents\":\"datetimeevents.csv\",\"d_items\":\"d_items.csv\",\"icustays\":\"icustays.csv\",\"inputevents\":\"inputevents.csv\",\"outputevents\":\"outputevents.csv\",\"procedureevents\":\"procedureevents.csv\"}\n",
    "core_filename_dict = {\"patients\":\"patients.csv\", \"admissions\":\"admissions.csv\", \"transfers\":\"transfers.csv\"}\n",
    "hosp_filename_dict = {\"d_hcpcs\":\"d_hcpcs.csv\",\"d_icd_diagnoses\":\"d_icd_diagnoses.csv\",\"d_labitems\":\"d_labitems.csv\",\"emar\":\"emar.csv\",\"hcpcsevents\":\"hcpcsevents.csv\",\"microbiologyevents\":\"microbiologyevents.csv\",\"poe\":\"poe.csv\",\"prescriptions\":\"prescriptions.csv\",\"services\":\"services.csv\",\"diagnoses_icd\":\"diagnoses_icd.csv\",\"d_icd_procedures\":\"d_icd_procedures.csv\",\"drgcodes\":\"drgcodes.csv\",\"emar_detail\":\"emar_detail.csv\",\"labevents\":\"labevents.csv\",\"pharmacy\":\"pharmacy.csv\",\"poe_detail\":\"poe_detail.csv\",\"procedures_icd\":\"procedures_icd.csv\"}\n",
    "ed_filename_dict = {'diagnosis':'diagnosis.csv', 'edstays':'edstays.csv',  'medrecon':'medrecon.csv',  'pyxis':'pyxis.csv',  'triage':'triage.csv',  'vitalsign':'vitalsign.csv'}\n",
    "\n",
    "\n",
    "complaint_dict = {\"chiefcom_chest_pain\" : \"chest pain\", \"chiefcom_abdominal_pain\" : \"abdominal pain|abd pain\", \n",
    "\"chiefcom_headache\" : \"headache\", \"chiefcom_shortness_of_breath\" : \"shortness of breath\", \"chiefcom_back_pain\" : \"back pain\", \"chiefcom_cough\" : \"cough\", \n",
    "\"chiefcom_nausea_vomiting\" : \"nausea|vomiting\", \"chiefcom_fever_chills\" : \"fever|chills\", \"chiefcom_syncope\" :\"syncope\", \"chiefcom_dizziness\" : \"dizziness\"}\n",
    "\n",
    "## Defining health utilization timerange parameters in days\n",
    "icu_transfer_timerange = 12 # hours\n",
    "# past_ed_visits_timerange = 365\n",
    "# past_admissions_timerange = 365 \n",
    "# past_icu_visits_timerange = 365\n",
    "next_ed_visit_timerange = 3\n",
    "\n"
   ]
  },
  {
   "cell_type": "markdown",
   "metadata": {},
   "source": [
    "## Load raw data tables through pandas library"
   ]
  },
  {
   "cell_type": "code",
   "execution_count": null,
   "metadata": {},
   "outputs": [],
   "source": [
    "## Reading main tables\n",
    "df_edstays = read_edstays_table(os.path.join(mimic_iv_ed_path, ed_filename_dict['edstays']))\n",
    "df_patients = read_patients_table(os.path.join(mimic_iv_core_path, core_filename_dict['patients']))\n",
    "df_admissions = read_admissions_table(os.path.join(mimic_iv_core_path, core_filename_dict[\"admissions\"]))\n",
    "df_icustays = read_icustays_table(os.path.join(mimic_iv_icu_path, icu_filename_dict['icustays']))\n",
    "df_triage = read_triage_table(os.path.join(mimic_iv_ed_path, ed_filename_dict['triage']))\n",
    "df_vitalsign = read_vitalsign_table(os.path.join(mimic_iv_ed_path, ed_filename_dict['vitalsign']))\n",
    "df_pyxis = read_pyxis_table(os.path.join(mimic_iv_ed_path, ed_filename_dict['pyxis']))\n",
    "df_medrecon = read_pyxis_table(os.path.join(mimic_iv_ed_path, ed_filename_dict['medrecon']))\n",
    "\n",
    "## Read data here for ICD.\n",
    "df_diagnoses = read_diagnoses_table(os.path.join(mimic_iv_hosp_path, hosp_filename_dict['diagnoses_icd']))\n"
   ]
  },
  {
   "cell_type": "code",
   "execution_count": null,
   "metadata": {},
   "outputs": [],
   "source": []
  },
  {
   "cell_type": "markdown",
   "metadata": {},
   "source": [
    "## ED root table, demographic and outcomes"
   ]
  },
  {
   "cell_type": "code",
   "execution_count": null,
   "metadata": {},
   "outputs": [],
   "source": [
    "## Merging patients -> merging admissions -> merging triage -> master\n",
    "df_master = merge_edstays_patients_on_subject(df_edstays ,df_patients)\n",
    "df_master = merge_edstays_admissions_on_subject(df_master ,df_admissions)"
   ]
  },
  {
   "cell_type": "code",
   "execution_count": null,
   "metadata": {},
   "outputs": [],
   "source": [
    "## Adding age, mortality and ICU transfer outcome\n",
    "df_master = add_age(df_master)\n",
    "df_master = add_inhospital_mortality(df_master)\n",
    "df_master = add_ed_mortality(df_master)\n",
    "df_master = add_before_ed_mortality(df_master)\n",
    "df_master = add_ed_los(df_master)\n",
    "df_master = add_outcome_icu_transfer(df_master, df_icustays, icu_transfer_timerange)\n",
    "\n",
    "# Sort Master table for further process\n",
    "df_master = df_master.sort_values(['subject_id', 'intime']).reset_index()\n"
   ]
  },
  {
   "cell_type": "markdown",
   "metadata": {},
   "source": [
    "## Health Utilization"
   ]
  },
  {
   "cell_type": "code",
   "execution_count": null,
   "metadata": {},
   "outputs": [],
   "source": [
    "## Generate past ED visits\n",
    "df_master = generate_past_ed_visits(df_master, past_ed_visits_timerange=30)\n",
    "df_master = generate_past_ed_visits(df_master, past_ed_visits_timerange=90)\n",
    "df_master = generate_past_ed_visits(df_master, past_ed_visits_timerange=365)"
   ]
  },
  {
   "cell_type": "code",
   "execution_count": null,
   "metadata": {},
   "outputs": [],
   "source": [
    "## Oucome:  future ED revisit variables\n",
    "df_master = generate_future_ed_visits(df_master, next_ed_visit_timerange)"
   ]
  },
  {
   "cell_type": "code",
   "execution_count": null,
   "metadata": {},
   "outputs": [],
   "source": [
    "## Generate past admissions\n",
    "df_master = generate_past_admissions(df_master, df_admissions, past_admissions_timerange=30)\n",
    "df_master = generate_past_admissions(df_master, df_admissions, past_admissions_timerange=90)\n",
    "df_master = generate_past_admissions(df_master, df_admissions, past_admissions_timerange=365)"
   ]
  },
  {
   "cell_type": "code",
   "execution_count": null,
   "metadata": {},
   "outputs": [],
   "source": [
    "## Generate past icu visits\n",
    "df_master  = generate_past_icu_visits(df_master, df_icustays, past_icu_visits_timerange=30)\n",
    "df_master  = generate_past_icu_visits(df_master, df_icustays, past_icu_visits_timerange=90)\n",
    "df_master  = generate_past_icu_visits(df_master, df_icustays, past_icu_visits_timerange=365)"
   ]
  },
  {
   "cell_type": "markdown",
   "metadata": {},
   "source": [
    "## Triage Information"
   ]
  },
  {
   "cell_type": "code",
   "execution_count": null,
   "metadata": {},
   "outputs": [],
   "source": [
    "## Mergining with triage table, Comment: revise the variable names? triage_*\n",
    "df_master = merge_edstays_triage_on_subject(df_master, df_triage) ## note change to merge master "
   ]
  },
  {
   "cell_type": "code",
   "execution_count": null,
   "metadata": {},
   "outputs": [],
   "source": [
    "## Encoding 10 chief complaints\n",
    "df_master = encode_chief_complaints(df_master, complaint_dict)"
   ]
  },
  {
   "cell_type": "code",
   "execution_count": null,
   "metadata": {},
   "outputs": [],
   "source": [
    "## XF comments:\n",
    "## give a paramter: time/days=30/90/365\n",
    "## Process chief complaints\n",
    "## other outcomes\n",
    "## ED revisit/ next revisit time?"
   ]
  },
  {
   "cell_type": "markdown",
   "metadata": {},
   "source": [
    "## Comorbidities from diagnosis ICD"
   ]
  },
  {
   "cell_type": "code",
   "execution_count": null,
   "metadata": {},
   "outputs": [],
   "source": [
    "# This function takes about 10 min\n",
    "df_master = commorbidity(df_master, df_diagnoses, df_admissions, timerange = 356*5)\n"
   ]
  },
  {
   "cell_type": "markdown",
   "metadata": {},
   "source": [
    "## ED Vital signs"
   ]
  },
  {
   "cell_type": "code",
   "execution_count": null,
   "metadata": {},
   "outputs": [],
   "source": [
    "df_master = merge_vitalsign_info_on_edstay(df_master, df_vitalsign, options=['last'])"
   ]
  },
  {
   "cell_type": "markdown",
   "metadata": {},
   "source": [
    "## Medication"
   ]
  },
  {
   "cell_type": "code",
   "execution_count": null,
   "metadata": {},
   "outputs": [],
   "source": [
    "df_master = merge_med_count_on_edstay(df_master, df_pyxis)"
   ]
  },
  {
   "cell_type": "code",
   "execution_count": null,
   "metadata": {},
   "outputs": [],
   "source": [
    "df_master = merge_medrecon_count_on_edstay(df_master, df_medrecon)"
   ]
  },
  {
   "cell_type": "markdown",
   "metadata": {},
   "source": [
    "## Review the master dataset and output"
   ]
  },
  {
   "cell_type": "code",
   "execution_count": null,
   "metadata": {},
   "outputs": [],
   "source": [
    "#df_master.head(100).to_csv(os.path.join(output_path, 'master_dataset_part.csv'), index=False)\n",
    "# Full dataset:\n",
    "df_master.to_csv(os.path.join(output_path, 'master_dataset.csv'), index=False)"
   ]
  }
 ],
 "metadata": {
  "interpreter": {
   "hash": "c20cc5327012b8238a3424469165d568f59ed061e43b78076e3c6fb75732bd5d"
  },
  "kernelspec": {
   "display_name": "Python 3",
   "language": "python",
   "name": "python3"
  },
  "language_info": {
   "codemirror_mode": {
    "name": "ipython",
    "version": 3
   },
   "file_extension": ".py",
   "mimetype": "text/x-python",
   "name": "python",
   "nbconvert_exporter": "python",
   "pygments_lexer": "ipython3",
   "version": "3.6.9"
  }
 },
 "nbformat": 4,
 "nbformat_minor": 2
}
